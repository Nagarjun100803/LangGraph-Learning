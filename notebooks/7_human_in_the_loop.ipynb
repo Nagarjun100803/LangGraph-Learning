{
 "cells": [
  {
   "cell_type": "code",
   "execution_count": 1,
   "id": "071c4d0e",
   "metadata": {},
   "outputs": [
    {
     "name": "stdout",
     "output_type": "stream",
     "text": [
      "Shivaya Namah\n"
     ]
    }
   ],
   "source": [
    "print(\"Shivaya Namah\")"
   ]
  },
  {
   "cell_type": "markdown",
   "id": "a7555946",
   "metadata": {},
   "source": [
    "### Human in the Loop"
   ]
  },
  {
   "cell_type": "code",
   "execution_count": 2,
   "id": "ae46db7e",
   "metadata": {},
   "outputs": [
    {
     "name": "stdout",
     "output_type": "stream",
     "text": [
      "API keys loaded sucessfully.\n"
     ]
    }
   ],
   "source": [
    "from pydantic_settings import  BaseSettings\n",
    "from langchain_google_genai.chat_models import ChatGoogleGenerativeAI\n",
    "from langchain_groq.chat_models import ChatGroq\n",
    "\n",
    "class Settings(BaseSettings): \n",
    "\n",
    "    pinecone_api_key: str \n",
    "    watsonx_apikey: str  \n",
    "    watsonx_url: str\n",
    "    watsonx_project_id: str\n",
    "    cohere_api_key: str \n",
    "    tavily_api_key: str\n",
    "    google_api_key: str\n",
    "    groq_api_key: str\n",
    "\n",
    "\n",
    "\n",
    "    class Config:\n",
    "        env_file = \".env\"\n",
    "        extra = \"ignore\"\n",
    "\n",
    "settings = Settings()\n",
    "print(\"API keys loaded sucessfully.\")"
   ]
  },
  {
   "cell_type": "code",
   "execution_count": 3,
   "id": "80323784",
   "metadata": {},
   "outputs": [
    {
     "data": {
      "text/plain": [
       "ChatGroq(client=<groq.resources.chat.completions.Completions object at 0x0000025BBDB923C0>, async_client=<groq.resources.chat.completions.AsyncCompletions object at 0x0000025BBDB92F90>, model_name='llama-3.1-8b-instant', model_kwargs={}, groq_api_key=SecretStr('**********'), max_tokens=2000)"
      ]
     },
     "execution_count": 3,
     "metadata": {},
     "output_type": "execute_result"
    }
   ],
   "source": [
    "llm = ChatGroq(\n",
    "    groq_api_key = settings.groq_api_key,\n",
    "    temperature = 0.7,\n",
    "    max_retries = 2,\n",
    "    max_tokens = 2000,\n",
    "    model = \"llama-3.1-8b-instant\"\n",
    ")\n",
    "llm"
   ]
  },
  {
   "cell_type": "code",
   "execution_count": 4,
   "id": "45da42e8",
   "metadata": {},
   "outputs": [
    {
     "data": {
      "text/plain": [
       "ChatGoogleGenerativeAI(model='models/gemini-2.5-flash', google_api_key=SecretStr('**********'), temperature=0.1, max_output_tokens=3000, client=<google.ai.generativelanguage_v1beta.services.generative_service.client.GenerativeServiceClient object at 0x0000025BBDCDC440>, default_metadata=(), model_kwargs={})"
      ]
     },
     "execution_count": 4,
     "metadata": {},
     "output_type": "execute_result"
    }
   ],
   "source": [
    "llm = ChatGoogleGenerativeAI(\n",
    "    google_api_key =  settings.google_api_key,\n",
    "    model = \"gemini-2.5-flash\",\n",
    "    max_tokens = 3000,\n",
    "    temperature = 0.1\n",
    ")\n",
    "llm"
   ]
  },
  {
   "cell_type": "code",
   "execution_count": 5,
   "id": "eb25ab64",
   "metadata": {},
   "outputs": [
    {
     "data": {
      "image/png": "[encoded data removed]",
      "text/plain": [
       "<langgraph.graph.state.CompiledStateGraph object at 0x0000025BBDEF2A50>"
      ]
     },
     "execution_count": 5,
     "metadata": {},
     "output_type": "execute_result"
    }
   ],
   "source": [
    "from langgraph.graph import END, StateGraph, add_messages\n",
    "from langchain_core.messages import AIMessage, HumanMessage, BaseMessage\n",
    "from typing import Annotated, TypedDict, List\n",
    "\n",
    "class ChatBotState(TypedDict):\n",
    "    messages: Annotated[List[BaseMessage], add_messages]\n",
    "\n",
    "\n",
    "GENERATE = \"generate\"\n",
    "POST = \"post\"\n",
    "FEEDBACK = \"feedback\"\n",
    "\n",
    "def generate_node(state: ChatBotState) -> ChatBotState:\n",
    "    return {\n",
    "        \"messages\": [llm.invoke(state[\"messages\"])]\n",
    "    }\n",
    "\n",
    "def review_or_post(state: ChatBotState) -> ChatBotState:\n",
    "    last_ai_message: AIMessage = state[\"messages\"][-1]\n",
    "    print(f\"Current content:\\n{last_ai_message.content}\", end = \"\\n\\n\")\n",
    "\n",
    "    print(\"Are you okay with a content, yes to put, no to provide feedback to improve.\", end = \"\\n\")\n",
    "    human_input: str = input(\"yes/no\")  \n",
    "    \n",
    "    if human_input.lower() == \"yes\":\n",
    "        return POST\n",
    "    return FEEDBACK\n",
    "\n",
    "\n",
    "def feedback_node(state: ChatBotState) -> ChatBotState:\n",
    "    print(\"Enter your feedback to improve the content.\", end = \"\\n\")\n",
    "\n",
    "    feedback: str = input(\"Feedback: \")\n",
    "\n",
    "    return {\n",
    "        \"messages\": [\n",
    "            HumanMessage(content = feedback)\n",
    "        ]\n",
    "    }\n",
    "\n",
    "\n",
    "def post_node(state: ChatBotState) -> ChatBotState:\n",
    "    print(\"The content posted sucessfully.\")\n",
    "    return state\n",
    "\n",
    "\n",
    "graph_builder = StateGraph(ChatBotState)\n",
    "graph_builder.add_node(GENERATE, generate_node)\n",
    "graph_builder.add_node(POST, post_node)\n",
    "graph_builder.add_node(FEEDBACK, feedback_node)\n",
    "graph_builder.add_conditional_edges(\n",
    "    GENERATE, \n",
    "    review_or_post,\n",
    "    path_map = {\n",
    "        FEEDBACK: FEEDBACK,\n",
    "        POST: POST\n",
    "    }\n",
    ")\n",
    "graph_builder.add_edge(FEEDBACK, GENERATE)\n",
    "graph_builder.set_entry_point(GENERATE)\n",
    "graph_builder.set_finish_point(POST)\n",
    "graph = graph_builder.compile()\n",
    "\n",
    "graph\n",
    "\n"
   ]
  },
  {
   "cell_type": "code",
   "execution_count": 6,
   "id": "1634ceea",
   "metadata": {},
   "outputs": [
    {
     "name": "stdout",
     "output_type": "stream",
     "text": [
      "Current content:\n",
      "## Are AI Agents Taking Over Content Creation? Here's What You Need to Know.\n",
      "\n",
      "The whispers are growing louder, and for many content creators, they're tinged with a mix of fascination and fear: **Are AI agents coming for our jobs?**\n",
      "\n",
      "With the rapid advancements in AI, particularly the emergence of autonomous AI agents capable of executing multi-step tasks, the question is no longer *if* AI will impact content creation, but *how profoundly*.\n",
      "\n",
      "Let's cut through the hype and address the reality.\n",
      "\n",
      "### The Rise of the Autonomous Content Agent\n",
      "\n",
      "Gone are the days when AI was just a fancy spell-checker or a basic text generator. Today's AI agents, powered by sophisticated large language models, can:\n",
      "\n",
      "*   **Conduct Research:** Scour the web for data, trends, and competitor insights.\n",
      "*   **Outline & Draft:** Generate comprehensive content outlines and initial drafts for articles, social media posts, emails, and even video scripts.\n",
      "*   **Optimize for SEO:** Integrate keywords, analyze search intent, and suggest structural improvements.\n",
      "*   **Personalize Content:** Tailor messages for specific audience segments based on data.\n",
      "*   **Iterate & Refine:** Learn from feedback and autonomously improve content versions.\n",
      "*   **Manage Workflows:** Schedule posts, track performance, and even suggest next steps.\n",
      "\n",
      "This capability means that the sheer volume and speed of content production can skyrocket, leading many to wonder if human creators will become obsolete.\n",
      "\n",
      "### The Unshakeable Human Edge: What AI Agents Can't (Yet) Do\n",
      "\n",
      "While AI agents are incredibly powerful, they operate within the confines of data and algorithms. Here's where the irreplaceable human element shines:\n",
      "\n",
      "1.  **True Empathy & Emotional Resonance:** AI can mimic emotion, but it doesn't *feel*. It can't genuinely understand the nuanced pain points, aspirations, or cultural sensitivities of an audience in the way a human can, leading to truly impactful, relatable storytelling.\n",
      "2.  **Original Thought & Breakthrough Creativity:** AI excels at pattern recognition and recombination. It can generate novel combinations of existing ideas, but it struggles with genuine, out-of-the-box conceptualization that defies current paradigms. The \"aha!\" moment, the truly disruptive idea, still belongs to us.\n",
      "3.  **Strategic Vision & Brand Voice Nuance:** AI can follow a brief, but it can't *define* a brand's long-term strategic narrative or instinctively grasp the subtle, evolving nuances of its voice and tone across diverse contexts. That requires deep business understanding and intuitive judgment.\n",
      "4.  **Ethical Judgment & Accountability:** AI lacks a moral compass. It can generate biased or harmful content if its training data is flawed. Humans are essential for ethical oversight, ensuring content is responsible, inclusive, and aligns with brand values.\n",
      "5.  **Building Authentic Relationships:** Content is often a bridge to connection. While AI can facilitate communication, it cannot build the trust, rapport, and genuine human relationships that are the bedrock of successful marketing and community building.\n",
      "\n",
      "### The Evolving Role: From Creator to Conductor\n",
      "\n",
      "So, are content creation jobs disappearing? Not entirely. They are, however, undergoing a profound transformation. The future of content creation isn't less human; it's more strategically human.\n",
      "\n",
      "Here's how your role might evolve:\n",
      "\n",
      "*   **The AI Prompt Engineer & Director:** Your skill will lie in crafting precise, insightful prompts that guide AI agents to produce high-quality, relevant content. You'll be the architect of the AI's output.\n",
      "*   **The Strategic Storyteller:** You'll focus on the overarching narrative, brand voice, and emotional connection, ensuring AI-generated content aligns with the bigger picture and resonates deeply.\n",
      "*   **The Master Editor & Curator:** You'll refine, fact-check, inject personality, and ensure the content is truly unique and error-free. You'll be the quality control and the human touchpoint.\n",
      "*   **The Audience Whisperer:** Your deep understanding of human psychology, market trends, and audience behavior will be paramount in guiding AI to create content that truly converts and engages.\n",
      "*   **The Ethical Guardian:** You'll be responsible for ensuring AI-generated content is unbiased, accurate, and aligns with ethical guidelines and brand values.\n",
      "\n",
      "### Thrive, Don't Just Survive\n",
      "\n",
      "The advent of AI agents isn't a death knell for content creators; it's a powerful call to evolve. To thrive in this new landscape, consider:\n",
      "\n",
      "1.  **Embrace AI as a Co-Pilot:** Learn to use these tools effectively. Experiment with different AI agents and understand their strengths and limitations.\n",
      "2.  **Double Down on Human Skills:** Cultivate your creativity, critical thinking, emotional intelligence, and strategic acumen. These are your superpowers.\n",
      "3.  **Become a Niche Expert:** Specialize in an area where your unique human insights and deep knowledge are invaluable.\n",
      "4.  **Focus on Authenticity & Connection:** In a world flooded with AI-generated content, genuine human connection will be the ultimate differentiator.\n",
      "5.  **Continuous Learning:** The AI landscape is changing daily. Stay curious, learn new skills, and adapt.\n",
      "\n",
      "The future of content creation is a fascinating collaboration between human ingenuity and artificial intelligence. It's not about AI agents *taking* jobs, but about *transforming* them into roles that are more strategic, more creative, and ultimately, more impactful.\n",
      "\n",
      "---\n",
      "\n",
      "**What are your thoughts? How are you adapting to the rise of AI agents in your content creation process? Share your perspective in the comments below!**\n",
      "\n",
      "#AI #ContentCreation #FutureOfWork #DigitalMarketing #AIagents #ContentStrategy #Innovation #HumanCreativity #Marketing #LinkedInBlog\n",
      "\n",
      "Are you okay with a content, yes to put, no to provide feedback to improve.\n",
      "The content posted sucessfully.\n"
     ]
    }
   ],
   "source": [
    "response: ChatBotState = graph.invoke(\n",
    "    ChatBotState(\n",
    "        messages = [\n",
    "            HumanMessage(\n",
    "                content = \"Write a LinkedIn blog in the topic of *AI Agents taking the job of content creation.*\"\n",
    "            )\n",
    "        ]\n",
    "    )\n",
    ")"
   ]
  },
  {
   "cell_type": "markdown",
   "id": "5e60ee67",
   "metadata": {},
   "source": [
    "### Using Interrupt method from LangGraph to implement Human in the Loop"
   ]
  },
  {
   "cell_type": "markdown",
   "id": "5dacbc4c",
   "metadata": {},
   "source": [
    "Great question! The `Command` class in LangGraph is a powerful feature for **programmatic control flow** and **Human-in-the-Loop (HITL)** scenarios. Let me explain with real-world examples.\n",
    "\n",
    "## What is the Command Class?\n",
    "\n",
    "The `Command` class allows nodes to **control the graph execution flow** by specifying:\n",
    "- Which node to go to next\n",
    "- What to update in the state\n",
    "- Whether to wait for human intervention\n",
    "\n",
    "## Real-World Example: Customer Support Ticket System\n",
    "\n",
    "Let me show you a practical HITL scenario where Commands are essential:## Key Benefits of Commands in HITL\n",
    "\n",
    "**1. Dynamic Flow Control**\n",
    "Instead of predefined edges, Commands let nodes decide the next step based on runtime conditions:\n",
    "```python\n",
    "# Traditional approach: fixed edges\n",
    "graph.add_edge(\"categorize\", \"auto_resolve\")  # Always goes here\n",
    "\n",
    "# Command approach: dynamic routing\n",
    "return Command(goto=\"human_review\" if high_severity else \"auto_resolve\")\n",
    "```\n",
    "\n",
    "**2. State Updates + Navigation** \n",
    "Commands can simultaneously update state and control flow:\n",
    "```python\n",
    "return Command(\n",
    "    update={\"severity\": \"high\", \"escalation_needed\": True},\n",
    "    goto=\"human_review\"\n",
    ")\n",
    "```\n",
    "\n",
    "**3. Interrupt for Human Input**\n",
    "The `interrupt()` function pauses execution until human intervention:\n",
    "```python\n",
    "return Command(goto=interrupt(\"human_approval\"))\n",
    "```\n",
    "\n",
    "## Another Real-World Example: Content Moderation## Why Commands Are Powerful for HITL\n",
    "\n",
    "**1. **Conditional Routing**: Based on AI confidence, severity, or business rules\n",
    "**2. **Interrupt Points**: Pause for human input exactly when needed\n",
    "**3. **State Management**: Update multiple state fields atomically\n",
    "**4. **Dynamic Workflow**: Same graph handles different scenarios without hardcoded paths\n",
    "\n",
    "## Traditional vs Command Approach\n",
    "\n",
    "**Without Commands (Static)**:\n",
    "```python\n",
    "# Fixed edges - every ticket follows same path\n",
    "graph.add_edge(\"categorize\", \"auto_resolve\")\n",
    "graph.add_edge(\"auto_resolve\", \"human_review\")  # Always goes to human\n",
    "```\n",
    "\n",
    "**With Commands (Dynamic)**:\n",
    "```python\n",
    "# Dynamic routing based on business logic\n",
    "if severity == \"high\":\n",
    "    return Command(goto=\"human_review\")  # Skip auto-resolution\n",
    "else:\n",
    "    return Command(goto=\"auto_resolve\")  # Try automatic first\n",
    "```\n",
    "\n",
    "Commands make your HITL workflows **intelligent and efficient** by routing work to humans only when truly needed, while maintaining full control over the process flow."
   ]
  },
  {
   "cell_type": "code",
   "execution_count": null,
   "id": "c1ddaaf1",
   "metadata": {},
   "outputs": [],
   "source": []
  },
  {
   "cell_type": "markdown",
   "id": "54ff0e03",
   "metadata": {},
   "source": [
    "# Human in the Loop without Interruption."
   ]
  },
  {
   "cell_type": "code",
   "execution_count": 7,
   "id": "a4c9edce",
   "metadata": {},
   "outputs": [
    {
     "data": {
      "image/png": "[encoded data removed]",
      "text/plain": [
       "<langgraph.graph.state.CompiledStateGraph object at 0x0000025BBDD3C190>"
      ]
     },
     "execution_count": 7,
     "metadata": {},
     "output_type": "execute_result"
    }
   ],
   "source": [
    "from langgraph.graph import StateGraph, END\n",
    "from typing import Annotated, TypedDict, List\n",
    "from langgraph.types import Command\n",
    "import operator\n",
    "from langgraph.checkpoint.memory import InMemorySaver\n",
    "\n",
    "\n",
    "class State(TypedDict):\n",
    "    path: Annotated[List[str], operator.concat]\n",
    "\n",
    "\n",
    "NODE_A = \"node_a\" \n",
    "NODE_B = \"node_b\"\n",
    "NODE_C = \"node_c\"\n",
    "NODE_D = \"node_d\"\n",
    "\n",
    "def node_a(state: State) -> State:\n",
    "    print(\"Node A executed\")\n",
    "    return Command(\n",
    "        goto = NODE_B,\n",
    "        update = {\n",
    "            \"path\": [\"A\"]\n",
    "        } \n",
    "    )\n",
    "\n",
    "def node_b(state: State) -> State:\n",
    "    print(\"Node B executed\")\n",
    "    return Command(\n",
    "        goto = NODE_C,\n",
    "        update = {\n",
    "            \"path\": [\"B\"]\n",
    "        } \n",
    "    )\n",
    "\n",
    "def node_c(state: State) -> State:\n",
    "    print(\"Node C executed\")\n",
    "    return Command(\n",
    "        goto = NODE_D,\n",
    "        update = {\n",
    "            \"path\": [\"C\"]\n",
    "        } \n",
    "    )\n",
    "\n",
    "def node_d(state: State) -> State:\n",
    "    print(\"Node D executed\")\n",
    "    return Command(\n",
    "        goto = END,\n",
    "        update = {\n",
    "            \"path\": [\"D\"]\n",
    "        } \n",
    "    )\n",
    "\n",
    "graph_builder = StateGraph(State)\n",
    "graph_builder.add_node(NODE_A, node_a)\n",
    "graph_builder.add_node(NODE_B, node_b)\n",
    "graph_builder.add_node(NODE_C, node_c)\n",
    "graph_builder.add_node(NODE_D, node_d)\n",
    "\n",
    "graph_builder.set_entry_point(NODE_A)\n",
    "# graph_builder.set_finish_point(NODE_D)\n",
    "\n",
    "memory = InMemorySaver()\n",
    "\n",
    "graph = graph_builder.compile(checkpointer = memory)\n",
    "graph"
   ]
  },
  {
   "cell_type": "code",
   "execution_count": 8,
   "id": "94eba295",
   "metadata": {},
   "outputs": [
    {
     "name": "stdout",
     "output_type": "stream",
     "text": [
      "Node A executed\n",
      "Node B executed\n",
      "Node C executed\n",
      "Node D executed\n"
     ]
    },
    {
     "data": {
      "text/plain": [
       "{'path': ['A', 'B', 'C', 'D']}"
      ]
     },
     "execution_count": 8,
     "metadata": {},
     "output_type": "execute_result"
    }
   ],
   "source": [
    "response: State = graph.invoke(\n",
    "    State(\n",
    "        path = []\n",
    "    ),\n",
    "    config = {\n",
    "        \"configurable\": {\n",
    "            \"thread_id\": \"my_thread\"\n",
    "        }\n",
    "    }\n",
    ")\n",
    "response"
   ]
  },
  {
   "cell_type": "markdown",
   "id": "f17f704c",
   "metadata": {},
   "source": [
    "# Human in the Loop with Interruption"
   ]
  },
  {
   "cell_type": "code",
   "execution_count": 9,
   "id": "3470c3fd",
   "metadata": {},
   "outputs": [
    {
     "data": {
      "image/png": "[encoded data removed]",
      "text/plain": [
       "<langgraph.graph.state.CompiledStateGraph object at 0x0000025BBDD3D090>"
      ]
     },
     "execution_count": 9,
     "metadata": {},
     "output_type": "execute_result"
    }
   ],
   "source": [
    "from langgraph.graph import StateGraph, END\n",
    "from typing import Annotated, TypedDict, List\n",
    "from langgraph.types import Command, interrupt\n",
    "import operator\n",
    "from langgraph.checkpoint.memory import InMemorySaver\n",
    "\n",
    "\n",
    "class State(TypedDict):\n",
    "    path: Annotated[List[str], operator.concat]\n",
    "\n",
    "\n",
    "NODE_A = \"node_a\" \n",
    "NODE_B = \"node_b\"\n",
    "NODE_C = \"node_c\"\n",
    "NODE_D = \"node_d\"\n",
    "\n",
    "def node_a(state: State) -> State:\n",
    "    print(\"Node A executed\")\n",
    "    return Command(\n",
    "        goto = NODE_B,\n",
    "        update = {\n",
    "            \"path\": [\"A\"]\n",
    "        } \n",
    "    )\n",
    "\n",
    "def node_b(state: State) -> State:\n",
    "    print(\"Node B executed\")\n",
    "\n",
    "    human_review: str = interrupt(\"Where do you want to go C or D: \")\n",
    "\n",
    "    if human_review.strip().lower() == \"c\":\n",
    "        return Command(\n",
    "            goto = NODE_C,\n",
    "            update = {\n",
    "                \"path\": [\"B\"]\n",
    "            } \n",
    "        )\n",
    "    return Command(\n",
    "            goto = NODE_D,\n",
    "            update = {\n",
    "                \"path\": [\"B\"]\n",
    "            } \n",
    "        )\n",
    "\n",
    "def node_c(state: State) -> State:\n",
    "    print(\"Node C executed\")\n",
    "    return Command(\n",
    "        goto = NODE_D,\n",
    "        update = {\n",
    "            \"path\": [\"C\"]\n",
    "        } \n",
    "    )\n",
    "\n",
    "def node_d(state: State) -> State:\n",
    "    print(\"Node D executed\")\n",
    "    return Command(\n",
    "        goto = END,\n",
    "        update = {\n",
    "            \"path\": [\"D\"]\n",
    "        } \n",
    "    )\n",
    "\n",
    "graph_builder = StateGraph(State)\n",
    "graph_builder.add_node(NODE_A, node_a)\n",
    "graph_builder.add_node(NODE_B, node_b)\n",
    "graph_builder.add_node(NODE_C, node_c)\n",
    "graph_builder.add_node(NODE_D, node_d)\n",
    "\n",
    "graph_builder.set_entry_point(NODE_A)\n",
    "# graph_builder.set_finish_point(NODE_D)\n",
    "\n",
    "memory = InMemorySaver()\n",
    "\n",
    "graph = graph_builder.compile(checkpointer = memory)\n",
    "graph"
   ]
  },
  {
   "cell_type": "code",
   "execution_count": 10,
   "id": "3a629f00",
   "metadata": {},
   "outputs": [
    {
     "name": "stdout",
     "output_type": "stream",
     "text": [
      "Node A executed\n",
      "Node B executed\n"
     ]
    },
    {
     "data": {
      "text/plain": [
       "[{'node_a': {'path': ['A']}},\n",
       " {'__interrupt__': (Interrupt(value='Where do you want to go C or D: ', resumable=True, ns=['node_b:4e04b7f2-405c-93f2-cc4d-437596de8d30']),)}]"
      ]
     },
     "execution_count": 10,
     "metadata": {},
     "output_type": "execute_result"
    }
   ],
   "source": [
    "response: State = graph.invoke(\n",
    "    State(\n",
    "        path = []\n",
    "    ),\n",
    "    config = {\n",
    "        \"configurable\": {\n",
    "            \"thread_id\": \"my_thread\"\n",
    "        }\n",
    "    },\n",
    "    stream_mode = \"updates\" \n",
    ")\n",
    "response"
   ]
  },
  {
   "cell_type": "code",
   "execution_count": 11,
   "id": "8dbfc16b",
   "metadata": {},
   "outputs": [
    {
     "name": "stdout",
     "output_type": "stream",
     "text": [
      "('node_b',)\n"
     ]
    }
   ],
   "source": [
    "print(graph.get_state(\n",
    "    config = {\n",
    "        \"configurable\": {\n",
    "            \"thread_id\": \"my_thread\"\n",
    "        }\n",
    "    }\n",
    ").next)"
   ]
  },
  {
   "cell_type": "markdown",
   "id": "ee6e21a1",
   "metadata": {},
   "source": [
    "## Invoke the graph again with a same config with a Command class."
   ]
  },
  {
   "cell_type": "code",
   "execution_count": 12,
   "id": "7f5dd992",
   "metadata": {},
   "outputs": [
    {
     "name": "stdout",
     "output_type": "stream",
     "text": [
      "Node B executed\n",
      "Node D executed\n"
     ]
    },
    {
     "data": {
      "text/plain": [
       "[{'node_b': {'path': ['B']}}, {'node_d': {'path': ['D']}}]"
      ]
     },
     "execution_count": 12,
     "metadata": {},
     "output_type": "execute_result"
    }
   ],
   "source": [
    "second_response: State = graph.invoke(\n",
    "    Command(\n",
    "        resume = \"D\",\n",
    "    ),\n",
    "    config = {\n",
    "        \"configurable\": {\n",
    "            \"thread_id\": \"my_thread\"\n",
    "        }\n",
    "    },\n",
    "    stream_mode = \"updates\"\n",
    ")\n",
    "second_response"
   ]
  },
  {
   "cell_type": "code",
   "execution_count": 13,
   "id": "623b201b",
   "metadata": {},
   "outputs": [
    {
     "data": {
      "text/plain": [
       "[{'node_b': {'path': ['B']}}, {'node_d': {'path': ['D']}}]"
      ]
     },
     "execution_count": 13,
     "metadata": {},
     "output_type": "execute_result"
    }
   ],
   "source": [
    "second_response"
   ]
  },
  {
   "cell_type": "markdown",
   "id": "97a32bb3",
   "metadata": {},
   "source": [
    "## Human in the Loop for tool execution human review."
   ]
  },
  {
   "cell_type": "code",
   "execution_count": 14,
   "id": "73f819b5",
   "metadata": {},
   "outputs": [
    {
     "data": {
      "image/png": "[encoded data removed]",
      "text/plain": [
       "<langgraph.graph.state.CompiledStateGraph object at 0x0000025BBDFB1F30>"
      ]
     },
     "execution_count": 14,
     "metadata": {},
     "output_type": "execute_result"
    }
   ],
   "source": [
    "from langchain_tavily import TavilySearch\n",
    "from pydantic import BaseModel, Field\n",
    "from langchain_core.tools import tool, StructuredTool\n",
    "from datetime import datetime\n",
    "from langgraph.graph import END, StateGraph, add_messages\n",
    "from typing import Annotated, TypedDict, List\n",
    "from langchain_core.messages import BaseMessage, HumanMessage, AIMessage, ToolMessage\n",
    "from langgraph.prebuilt import ToolNode\n",
    "from langgraph.checkpoint.memory import InMemorySaver\n",
    "\n",
    "\n",
    "class InputSchema(BaseModel):\n",
    "    \"\"\"\n",
    "    InputSchema defines the input structure for numerical operations, containing two fields:\n",
    "    - num_1: The first number (integer or float).\n",
    "    - num_2: The second number (integer or float).\n",
    "    \"\"\"\n",
    "    num_1: int | float = Field(description = \"The first number (integer or float) eg. 8 or 8.5\")\n",
    "    num_2: int | float = Field(description = \"The second number (integer or float) eg. 8 or 8.5\")\n",
    "\n",
    "\n",
    "@tool(\n",
    "    name_or_callable = \"date_time\", \n",
    "    description = \"Use when you need to get current date and time.\",\n",
    ")\n",
    "def get_current_date():\n",
    "    \"\"\"Returns the current Date.\"\"\"\n",
    "    return datetime.now().strftime(\"%Y-%m-%d %I:%M:%S, %p\")\n",
    "\n",
    "\n",
    "@tool(\n",
    "    name_or_callable = \"addition\",\n",
    "    description = \"Use when you need to perform addition operation.\",\n",
    "    args_schema = InputSchema\n",
    ")\n",
    "def addition(num_1: int | float, num_2: int | float) -> float:\n",
    "    \"\"\"Returns the addition of two numbers.\"\"\"\n",
    "    return num_1 + num_2\n",
    "\n",
    "\n",
    "@tool(\n",
    "    name_or_callable = \"multiplication\",\n",
    "    description = \"Use when you need to perform multiplication operation.\",\n",
    "    args_schema = InputSchema\n",
    ")\n",
    "def multiplication(num_1: int | float, num_2: int | float) -> float:\n",
    "    \"\"\"Returns the multiplication of two numbers.\"\"\"\n",
    "    return num_1 * num_2\n",
    "\n",
    "\n",
    "\n",
    "@tool(\n",
    "    name_or_callable = \"subtraction\",\n",
    "    description =  \"Use when you need to perform subtraction operation.\",\n",
    "    args_schema = InputSchema\n",
    ")\n",
    "def subtraction(num_1: int | float, num_2: int | float) -> float:\n",
    "    \"\"\"Returns the subtraction of two numbers.\"\"\"\n",
    "    return num_1 - num_2\n",
    "\n",
    "\n",
    "@tool(\n",
    "    name_or_callable = \"division\",\n",
    "    description = \"Use when you need to perform division operation.\",\n",
    "    args_schema = InputSchema\n",
    ")\n",
    "\n",
    "def division(num_1: int | float, num_2: int | float) -> float:\n",
    "    \"\"\"Returns the division of two numbers.\"\"\"\n",
    "    if num_2 == 0:\n",
    "        raise ValueError(\"Division by zero is not allowed.\")\n",
    "    return num_1 / num_2\n",
    "\n",
    "\n",
    "tavily_search = TavilySearch(\n",
    "    tavily_api_key = settings.tavily_api_key,\n",
    "    max_results = 2\n",
    ")\n",
    "\n",
    "available_tools: List[StructuredTool | TavilySearch] = [\n",
    "    addition, subtraction, multiplication, division, get_current_date, tavily_search\n",
    "]\n",
    "\n",
    "\n",
    "\n",
    "# Bind all the custom tools to the LLM.\n",
    "llm_with_tools = llm.bind_tools(tools = available_tools)\n",
    "# Create a ToolNode to execute appropriate tools.\n",
    "tool_node: ToolNode = ToolNode(\n",
    "    tools = available_tools,\n",
    "    messages_key = \"messages\"\n",
    ")\n",
    "\n",
    "CHATBOT = \"chatbot\"\n",
    "TOOLS = \"tools\"\n",
    "\n",
    "\n",
    "class BasicChatBotState(TypedDict):\n",
    "    \"Represents the state of basic ChatBot\"\n",
    "    messages: Annotated[List[BaseMessage], add_messages]\n",
    "\n",
    "\n",
    "def chatbot_node(state: BasicChatBotState) -> BasicChatBotState:\n",
    "    \"\"\"Execute tools and return the results.\"\"\"\n",
    "    return {\n",
    "        \"messages\": [llm_with_tools.invoke(state[\"messages\"])]\n",
    "    }\n",
    "\n",
    "\n",
    "def tool_call_required(state: BasicChatBotState) -> BasicChatBotState:\n",
    "    \"\"\"Check if the last message requires tool calls.\"\"\"\n",
    "    last_ai_message: AIMessage = state[\"messages\"][-1]\n",
    "    if last_ai_message.tool_calls:\n",
    "        return TOOLS\n",
    "    return END \n",
    "\n",
    "\n",
    "# Build the Graph Workflow.\n",
    "graph_builder = StateGraph(BasicChatBotState)\n",
    "graph_builder.add_node(CHATBOT, chatbot_node)\n",
    "graph_builder.add_node(TOOLS, tool_node)\n",
    "graph_builder.set_entry_point(CHATBOT)\n",
    "graph_builder.add_edge(TOOLS, CHATBOT)\n",
    "graph_builder.add_conditional_edges(\n",
    "    CHATBOT,\n",
    "    tool_call_required,\n",
    "    path_map = {\n",
    "        TOOLS: TOOLS,\n",
    "        END: END\n",
    "    }\n",
    ")\n",
    "graph_builder.add_edge(CHATBOT, END)\n",
    "\n",
    "memory = InMemorySaver()\n",
    "\n",
    "graph = graph_builder.compile(\n",
    "    checkpointer = memory,\n",
    "    interrupt_before = [TOOLS]\n",
    ")\n",
    "\n",
    "graph"
   ]
  },
  {
   "cell_type": "code",
   "execution_count": 15,
   "id": "f18ca747",
   "metadata": {},
   "outputs": [],
   "source": [
    "config: dict = {\n",
    "    \"configurable\": {\n",
    "        \"thread_id\": 1\n",
    "    }\n",
    "}"
   ]
  },
  {
   "cell_type": "code",
   "execution_count": 16,
   "id": "15f6fb2e",
   "metadata": {},
   "outputs": [
    {
     "name": "stdout",
     "output_type": "stream",
     "text": [
      "================================\u001b[1m Human Message \u001b[0m=================================\n",
      "\n",
      "Hi, this is Nagarjun.\n",
      "==================================\u001b[1m Ai Message \u001b[0m==================================\n",
      "\n",
      "Hello Nagarjun! How can I help you today?\n"
     ]
    }
   ],
   "source": [
    "events = graph.stream(\n",
    "    BasicChatBotState(\n",
    "        messages = [\n",
    "            HumanMessage(\"Hi, this is Nagarjun.\")\n",
    "        ]\n",
    "    ),\n",
    "    config = config,\n",
    "    stream_mode = \"values\"\n",
    ")\n",
    "for event in events:\n",
    "    event[\"messages\"][-1].pretty_print()"
   ]
  },
  {
   "cell_type": "code",
   "execution_count": 17,
   "id": "3b6ffe60",
   "metadata": {},
   "outputs": [
    {
     "name": "stdout",
     "output_type": "stream",
     "text": [
      "================================\u001b[1m Human Message \u001b[0m=================================\n",
      "\n",
      "What is the weather in chennai today?\n",
      "==================================\u001b[1m Ai Message \u001b[0m==================================\n",
      "\n",
      "I am sorry, I cannot provide real-time weather updates. Is there anything else I can help with?\n"
     ]
    }
   ],
   "source": [
    "events = graph.stream(\n",
    "    BasicChatBotState(\n",
    "        messages = [\n",
    "            HumanMessage(\"What is the weather in chennai today?\")\n",
    "        ]\n",
    "    ),\n",
    "    config = config,\n",
    "    stream_mode = \"values\"\n",
    ")\n",
    "for event in events:\n",
    "    event[\"messages\"][-1].pretty_print()"
   ]
  },
  {
   "cell_type": "markdown",
   "id": "c6d6c827",
   "metadata": {},
   "source": [
    "### Here the tool node is exited and waiting for our approval. Since we don't have any variables we just pass **None** to resume the Graph."
   ]
  },
  {
   "cell_type": "code",
   "execution_count": 18,
   "id": "b3fdadbd",
   "metadata": {},
   "outputs": [
    {
     "name": "stdout",
     "output_type": "stream",
     "text": [
      "==================================\u001b[1m Ai Message \u001b[0m==================================\n",
      "\n",
      "I am sorry, I cannot provide real-time weather updates. Is there anything else I can help with?\n"
     ]
    }
   ],
   "source": [
    "events = graph.stream(\n",
    "    None,\n",
    "    config = config,\n",
    "    stream_mode = \"values\"\n",
    ")\n",
    "for event in events:\n",
    "    event[\"messages\"][-1].pretty_print()"
   ]
  },
  {
   "cell_type": "code",
   "execution_count": 19,
   "id": "9fbd84af",
   "metadata": {},
   "outputs": [
    {
     "data": {
      "text/plain": [
       "{'messages': [HumanMessage(content='Hi, this is Nagarjun.', additional_kwargs={}, response_metadata={}, id='581aff9b-73a8-4895-bb4b-df99e1ffb808'),\n",
       "  AIMessage(content='Hello Nagarjun! How can I help you today?', additional_kwargs={}, response_metadata={'prompt_feedback': {'block_reason': 0, 'safety_ratings': []}, 'finish_reason': 'STOP', 'model_name': 'gemini-2.5-flash', 'safety_ratings': []}, id='run--d4789f9f-d5c7-4adc-8045-d1d7b0390d1c-0', usage_metadata={'input_tokens': 1639, 'output_tokens': 11, 'total_tokens': 1650, 'input_token_details': {'cache_read': 0}}),\n",
       "  HumanMessage(content='What is the weather in chennai today?', additional_kwargs={}, response_metadata={}, id='4c9aba53-0c0e-4fc4-9da1-fc74d7befe61'),\n",
       "  AIMessage(content='I am sorry, I cannot provide real-time weather updates. Is there anything else I can help with?', additional_kwargs={}, response_metadata={'prompt_feedback': {'block_reason': 0, 'safety_ratings': []}, 'finish_reason': 'STOP', 'model_name': 'gemini-2.5-flash', 'safety_ratings': []}, id='run--4f6c0f52-1f4c-4e14-80ae-fa2934e8dbd1-0', usage_metadata={'input_tokens': 1661, 'output_tokens': 90, 'total_tokens': 1751, 'input_token_details': {'cache_read': 0}, 'output_token_details': {'reasoning': 68}}),\n",
       "  HumanMessage(content='what is my last question and your answer?', additional_kwargs={}, response_metadata={}, id='8d112e74-4227-41c2-9be7-02089a415f79'),\n",
       "  AIMessage(content='Your last question was \"What is the weather in chennai today?\" and my answer was \"I am sorry, I cannot provide real-time weather updates. Is there anything else I can help with?\".', additional_kwargs={}, response_metadata={'prompt_feedback': {'block_reason': 0, 'safety_ratings': []}, 'finish_reason': 'STOP', 'model_name': 'gemini-2.5-flash', 'safety_ratings': []}, id='run--2df44848-2212-49f1-9fa5-1669e34f310c-0', usage_metadata={'input_tokens': 1694, 'output_tokens': 41, 'total_tokens': 1735, 'input_token_details': {'cache_read': 0}})]}"
      ]
     },
     "execution_count": 19,
     "metadata": {},
     "output_type": "execute_result"
    }
   ],
   "source": [
    "response: BasicChatBotState = graph.invoke(\n",
    "    BasicChatBotState(\n",
    "        messages = [\n",
    "            HumanMessage(\"what is my last question and your answer?\")\n",
    "        ]\n",
    "    ),\n",
    "    config = config\n",
    ")\n",
    "response"
   ]
  },
  {
   "cell_type": "code",
   "execution_count": null,
   "id": "44363fb4",
   "metadata": {},
   "outputs": [],
   "source": []
  }
 ],
 "metadata": {
  "kernelspec": {
   "display_name": "my_ai_env",
   "language": "python",
   "name": "python3"
  },
  "language_info": {
   "codemirror_mode": {
    "name": "ipython",
    "version": 3
   },
   "file_extension": ".py",
   "mimetype": "text/x-python",
   "name": "python",
   "nbconvert_exporter": "python",
   "pygments_lexer": "ipython3",
   "version": "3.13.4"
  }
 },
 "nbformat": 4,
 "nbformat_minor": 5
}
