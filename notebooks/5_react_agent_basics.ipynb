{
 "cells": [
  {
   "cell_type": "code",
   "execution_count": 1,
   "id": "b1f57eb5",
   "metadata": {},
   "outputs": [
    {
     "name": "stdout",
     "output_type": "stream",
     "text": [
      "Shivaya Namah\n"
     ]
    }
   ],
   "source": [
    "print(\"Shivaya Namah\")"
   ]
  },
  {
   "cell_type": "code",
   "execution_count": 2,
   "id": "2a7bef98",
   "metadata": {},
   "outputs": [
    {
     "name": "stdout",
     "output_type": "stream",
     "text": [
      "API Keys loaded succesfully.\n"
     ]
    }
   ],
   "source": [
    "from langchain_core.prompts import PromptTemplate\n",
    "from pydantic_settings import BaseSettings\n",
    "from langchain_google_genai.chat_models import ChatGoogleGenerativeAI\n",
    "from langchain_tavily import TavilySearch\n",
    "from langchain import hub\n",
    "from langchain_cohere.chat_models import ChatCohere\n",
    "from langchain_ibm.chat_models import ChatWatsonx\n",
    "\n",
    "class Settings(BaseSettings): \n",
    "\n",
    "    pinecone_api_key: str \n",
    "    watsonx_apikey: str  \n",
    "    watsonx_url: str\n",
    "    watsonx_project_id: str\n",
    "    cohere_api_key: str \n",
    "    tavily_api_key: str\n",
    "    google_api_key: str\n",
    "\n",
    "    langsmith_api_key: str\n",
    "    langsmith_endpoint: str\n",
    "    langsmith_tracing: bool\n",
    "    langsmith_project: str\n",
    "\n",
    "    class Config:\n",
    "        env_file = \".env\"\n",
    "        extra = \"ignore\"\n",
    "\n",
    "settings = Settings()\n",
    "print(\"API Keys loaded succesfully.\")"
   ]
  },
  {
   "cell_type": "code",
   "execution_count": 3,
   "id": "6f06e2d8",
   "metadata": {},
   "outputs": [
    {
     "data": {
      "text/plain": [
       "TavilySearch(max_results=2, api_wrapper=TavilySearchAPIWrapper(tavily_api_key=SecretStr('**********'), api_base_url=None))"
      ]
     },
     "execution_count": 3,
     "metadata": {},
     "output_type": "execute_result"
    }
   ],
   "source": [
    "tavily_search = TavilySearch(\n",
    "    tavily_api_key = settings.tavily_api_key,\n",
    "    max_results = 2\n",
    ")\n",
    "tavily_search"
   ]
  },
  {
   "cell_type": "code",
   "execution_count": 5,
   "id": "4048191b",
   "metadata": {},
   "outputs": [],
   "source": [
    "from datetime import datetime\n",
    "from langchain_core.tools import tool \n",
    "\n",
    "@tool(\n",
    "    name_or_callable = \"date_time\", \n",
    "    description = \"Use when you need to get current date and time.\",\n",
    "    parse_docstring = True\n",
    ")\n",
    "def get_current_date():\n",
    "    \"\"\"Returns the current Date.\"\"\"\n",
    "    return datetime.now().strftime(\"%Y-%m-%d %I:%M:%S, %p\")\n",
    "\n",
    "@tool(\n",
    "    name_or_callable = \"addition\",\n",
    "    description = \"Use when you need to perform addition operation.\",\n",
    "    # parse_docstring = True\n",
    ")\n",
    "def addition(num_1: int | float, num_2: int | float) -> float:\n",
    "    \"\"\"Returns the addition of two numbers.\"\"\"\n",
    "    return num_1 + num_2"
   ]
  },
  {
   "cell_type": "code",
   "execution_count": 6,
   "id": "ee41703a",
   "metadata": {},
   "outputs": [
    {
     "data": {
      "text/plain": [
       "StructuredTool(name='date_time', description='Use when you need to get current date and time.', args_schema=<class 'langchain_core.utils.pydantic.date_time'>, func=<function get_current_date at 0x000002555B7A51C0>)"
      ]
     },
     "execution_count": 6,
     "metadata": {},
     "output_type": "execute_result"
    }
   ],
   "source": [
    "get_current_date"
   ]
  },
  {
   "cell_type": "code",
   "execution_count": 7,
   "id": "ba755e80",
   "metadata": {},
   "outputs": [
    {
     "data": {
      "text/plain": [
       "StructuredTool(name='addition', description='Use when you need to perform addition operation.', args_schema=<class 'langchain_core.utils.pydantic.addition'>, func=<function addition at 0x000002555B7A5760>)"
      ]
     },
     "execution_count": 7,
     "metadata": {},
     "output_type": "execute_result"
    }
   ],
   "source": [
    "addition"
   ]
  },
  {
   "cell_type": "code",
   "execution_count": 8,
   "id": "8047e438",
   "metadata": {},
   "outputs": [
    {
     "data": {
      "text/plain": [
       "10"
      ]
     },
     "execution_count": 8,
     "metadata": {},
     "output_type": "execute_result"
    }
   ],
   "source": [
    "addition.invoke(input = {\"num_1\": 5, \"num_2\": 5})"
   ]
  },
  {
   "cell_type": "code",
   "execution_count": 11,
   "id": "bf89174c",
   "metadata": {},
   "outputs": [
    {
     "data": {
      "text/plain": [
       "'2025-07-25 02:35:10, PM'"
      ]
     },
     "execution_count": 11,
     "metadata": {},
     "output_type": "execute_result"
    }
   ],
   "source": [
    "get_current_date.invoke(\"\")"
   ]
  },
  {
   "cell_type": "code",
   "execution_count": 10,
   "id": "56749dec",
   "metadata": {},
   "outputs": [
    {
     "name": "stderr",
     "output_type": "stream",
     "text": [
      "C:\\Users\\user\\AppData\\Local\\Temp\\ipykernel_2432\\3314688781.py:1: LangChainDeprecationWarning: The method `BaseTool.__call__` was deprecated in langchain-core 0.1.47 and will be removed in 1.0. Use :meth:`~invoke` instead.\n",
      "  addition(tool_input = {\"num_1\": 5, \"num_2\": 5})\n"
     ]
    },
    {
     "data": {
      "text/plain": [
       "10"
      ]
     },
     "execution_count": 10,
     "metadata": {},
     "output_type": "execute_result"
    }
   ],
   "source": [
    "addition(tool_input = {\"num_1\": 5, \"num_2\": 5})"
   ]
  },
  {
   "cell_type": "code",
   "execution_count": 12,
   "id": "44b6b7a4",
   "metadata": {},
   "outputs": [
    {
     "data": {
      "text/plain": [
       "'2025-07-25 02:35:25, PM'"
      ]
     },
     "execution_count": 12,
     "metadata": {},
     "output_type": "execute_result"
    }
   ],
   "source": [
    "get_current_date({})"
   ]
  },
  {
   "cell_type": "code",
   "execution_count": 13,
   "id": "2cd7795b",
   "metadata": {},
   "outputs": [
    {
     "data": {
      "text/plain": [
       "PromptTemplate(input_variables=['agent_scratchpad', 'input', 'tool_names', 'tools'], input_types={}, partial_variables={}, metadata={'lc_hub_owner': 'hwchase17', 'lc_hub_repo': 'react', 'lc_hub_commit_hash': 'd15fe3c426f1c4b3f37c9198853e4a86e20c425ca7f4752ec0c9b0e97ca7ea4d'}, template='Answer the following questions as best you can. You have access to the following tools:\\n\\n{tools}\\n\\nUse the following format:\\n\\nQuestion: the input question you must answer\\nThought: you should always think about what to do\\nAction: the action to take, should be one of [{tool_names}]\\nAction Input: the input to the action\\nObservation: the result of the action\\n... (this Thought/Action/Action Input/Observation can repeat N times)\\nThought: I now know the final answer\\nFinal Answer: the final answer to the original input question\\n\\nBegin!\\n\\nQuestion: {input}\\nThought:{agent_scratchpad}')"
      ]
     },
     "execution_count": 13,
     "metadata": {},
     "output_type": "execute_result"
    }
   ],
   "source": [
    "react_prompt_template: PromptTemplate = hub.pull(\"hwchase17/react\", api_key = settings.langsmith_api_key)\n",
    "react_prompt_template"
   ]
  },
  {
   "cell_type": "code",
   "execution_count": 14,
   "id": "556e13c4",
   "metadata": {},
   "outputs": [
    {
     "name": "stdout",
     "output_type": "stream",
     "text": [
      "Answer the following questions as best you can. You have access to the following tools:\n",
      "\n",
      "{tools}\n",
      "\n",
      "Use the following format:\n",
      "\n",
      "Question: the input question you must answer\n",
      "Thought: you should always think about what to do\n",
      "Action: the action to take, should be one of [{tool_names}]\n",
      "Action Input: the input to the action\n",
      "Observation: the result of the action\n",
      "... (this Thought/Action/Action Input/Observation can repeat N times)\n",
      "Thought: I now know the final answer\n",
      "Final Answer: the final answer to the original input question\n",
      "\n",
      "Begin!\n",
      "\n",
      "Question: {input}\n",
      "Thought:{agent_scratchpad}\n"
     ]
    }
   ],
   "source": [
    "print(react_prompt_template.template)"
   ]
  },
  {
   "cell_type": "code",
   "execution_count": 15,
   "id": "10cd3141",
   "metadata": {},
   "outputs": [
    {
     "data": {
      "text/plain": [
       "['agent_scratchpad', 'input', 'tool_names', 'tools']"
      ]
     },
     "execution_count": 15,
     "metadata": {},
     "output_type": "execute_result"
    }
   ],
   "source": [
    "react_prompt_template.input_variables"
   ]
  },
  {
   "cell_type": "code",
   "execution_count": 18,
   "id": "6ada4e5e",
   "metadata": {},
   "outputs": [
    {
     "data": {
      "text/plain": [
       "{'ibm': ChatWatsonx(model_id='ibm/granite-3-2-8b-instruct', project_id='25fa768b-a90b-433c-b4a4-66bb407af16b', url=SecretStr('**********'), apikey=SecretStr('**********'), params={'max_tokens': 3000, 'temperature': 0.9}, max_tokens=3000, temperature=0.9, watsonx_model=<ibm_watsonx_ai.foundation_models.inference.model_inference.ModelInference object at 0x000002555D3CCF50>),\n",
       " 'cohere': ChatCohere(client=<cohere.client.Client object at 0x000002555DE2A710>, async_client=<cohere.client.AsyncClient object at 0x000002555DE2B390>, model='command-a-03-2025', temperature=0.9, cohere_api_key=SecretStr('**********')),\n",
       " 'google': ChatGoogleGenerativeAI(model='models/gemini-2.5-flash', google_api_key=SecretStr('**********'), temperature=0.9, max_output_tokens=3000, client=<google.ai.generativelanguage_v1beta.services.generative_service.client.GenerativeServiceClient object at 0x000002555D76A8B0>, default_metadata=(), model_kwargs={})}"
      ]
     },
     "execution_count": 18,
     "metadata": {},
     "output_type": "execute_result"
    }
   ],
   "source": [
    "\n",
    "cohere_llm = ChatCohere(\n",
    "    cohere_api_key = settings.cohere_api_key,\n",
    "    max_tokens = 3000,\n",
    "    temperature = 0.9\n",
    ")\n",
    "\n",
    "google_llm = ChatGoogleGenerativeAI(\n",
    "    google_api_key =  settings.google_api_key,\n",
    "    model = \"gemini-2.5-flash\",\n",
    "    max_tokens = 3000,\n",
    "    temperature = 0.9\n",
    ")\n",
    "\n",
    "ibm_llm = ChatWatsonx(\n",
    "    apikey = settings.watsonx_apikey,\n",
    "    project_id = settings.watsonx_project_id,\n",
    "    url = settings.watsonx_url,\n",
    "    temperature = 0.9,\n",
    "    max_tokens = 3000,\n",
    "    model_id = \"ibm/granite-3-2-8b-instruct\"\n",
    ")\n",
    "\n",
    "llms: dict = {\n",
    "    \"ibm\": ibm_llm,\n",
    "    \"cohere\": cohere_llm,\n",
    "    \"google\": google_llm\n",
    "}\n",
    "\n",
    "llms"
   ]
  },
  {
   "cell_type": "code",
   "execution_count": 89,
   "id": "e8f68842",
   "metadata": {},
   "outputs": [
    {
     "data": {
      "text/plain": [
       "RunnableAssign(mapper={\n",
       "  agent_scratchpad: RunnableLambda(lambda x: format_log_to_str(x['intermediate_steps']))\n",
       "})\n",
       "| PromptTemplate(input_variables=['agent_scratchpad', 'input'], input_types={}, partial_variables={'tools': 'date_time() - Use when you need to get current date and time.\\naddition(num_1: int | float, num_2: int | float) -> float - Use when you need to perform addition operation.\\ntavily_search - A search engine optimized for comprehensive, accurate, and trusted results. Useful for when you need to answer questions about current events. It not only retrieves URLs and snippets, but offers advanced search depths, domain management, time range filters, and image search, this tool delivers real-time, accurate, and citation-backed results.Input should be a search query.', 'tool_names': 'date_time, addition, tavily_search'}, metadata={'lc_hub_owner': 'hwchase17', 'lc_hub_repo': 'react', 'lc_hub_commit_hash': 'd15fe3c426f1c4b3f37c9198853e4a86e20c425ca7f4752ec0c9b0e97ca7ea4d'}, template='Answer the following questions as best you can. You have access to the following tools:\\n\\n{tools}\\n\\nUse the following format:\\n\\nQuestion: the input question you must answer\\nThought: you should always think about what to do\\nAction: the action to take, should be one of [{tool_names}]\\nAction Input: the input to the action\\nObservation: the result of the action\\n... (this Thought/Action/Action Input/Observation can repeat N times)\\nThought: I now know the final answer\\nFinal Answer: the final answer to the original input question\\n\\nBegin!\\n\\nQuestion: {input}\\nThought:{agent_scratchpad}')\n",
       "| RunnableBinding(bound=ChatGoogleGenerativeAI(model='models/gemini-2.5-flash', google_api_key=SecretStr('**********'), temperature=0.9, max_output_tokens=3000, client=<google.ai.generativelanguage_v1beta.services.generative_service.client.GenerativeServiceClient object at 0x000002555D76A8B0>, default_metadata=(), model_kwargs={}), kwargs={'stop': ['\\nObservation']}, config={}, config_factories=[])\n",
       "| ReActSingleInputOutputParser()"
      ]
     },
     "execution_count": 89,
     "metadata": {},
     "output_type": "execute_result"
    }
   ],
   "source": [
    "from langchain.agents import create_react_agent\n",
    "from langchain.schema.runnable import Runnable\n",
    "from typing import List\n",
    "from langchain_core.tools import BaseTool\n",
    "\n",
    "\n",
    "tools: List[BaseTool] = [get_current_date, addition, tavily_search]\n",
    "agent: Runnable = create_react_agent(\n",
    "    llm = llms[\"google\"],\n",
    "    prompt = react_prompt_template,\n",
    "    tools = tools\n",
    ")\n",
    "agent"
   ]
  },
  {
   "cell_type": "code",
   "execution_count": 125,
   "id": "8e101193",
   "metadata": {},
   "outputs": [
    {
     "name": "stdout",
     "output_type": "stream",
     "text": [
      "LLM Resut: I am an AI assistant, a large language model, trained by Google. I do not have feelings or personal experiences, so I am just functioning as designed.\n"
     ]
    }
   ],
   "source": [
    "from langchain_core.exceptions import OutputParserException\n",
    "try:\n",
    "    response = agent.invoke({\"input\": \"how are you?\", \"intermediate_steps\": [], \"agent_outcome\": None})\n",
    "except OutputParserException as e:\n",
    "    print(f\"LLM Resut: {e.llm_output}\")\n"
   ]
  },
  {
   "cell_type": "code",
   "execution_count": 123,
   "id": "23d00511",
   "metadata": {},
   "outputs": [
    {
     "data": {
      "text/plain": [
       "AgentFinish(return_values={'output': 'Hello! How can I help you today?'}, log='Final Answer: Hello! How can I help you today?')"
      ]
     },
     "execution_count": 123,
     "metadata": {},
     "output_type": "execute_result"
    }
   ],
   "source": [
    "response"
   ]
  },
  {
   "cell_type": "code",
   "execution_count": 121,
   "id": "78c91475",
   "metadata": {},
   "outputs": [
    {
     "data": {
      "text/plain": [
       "{'output': 'Hello! How can I help you today?'}"
      ]
     },
     "execution_count": 121,
     "metadata": {},
     "output_type": "execute_result"
    }
   ],
   "source": [
    "response.return_values"
   ]
  },
  {
   "cell_type": "code",
   "execution_count": 93,
   "id": "bc36c3bd",
   "metadata": {},
   "outputs": [
    {
     "name": "stdout",
     "output_type": "stream",
     "text": [
      "Final Answer: Hello! How can I help you today?\n"
     ]
    }
   ],
   "source": [
    "print(response.log)"
   ]
  },
  {
   "cell_type": "code",
   "execution_count": 94,
   "id": "d547a626",
   "metadata": {},
   "outputs": [],
   "source": [
    "response = agent.invoke({\"input\": \"what is capital of China?\", \"intermediate_steps\": [], \"agent_outcome\": None})"
   ]
  },
  {
   "cell_type": "code",
   "execution_count": 95,
   "id": "56fda0d1",
   "metadata": {},
   "outputs": [
    {
     "data": {
      "text/plain": [
       "AgentAction(tool='tavily_search', tool_input='capital of China', log='Action: tavily_search\\nAction Input: capital of China')"
      ]
     },
     "execution_count": 95,
     "metadata": {},
     "output_type": "execute_result"
    }
   ],
   "source": [
    "response"
   ]
  },
  {
   "cell_type": "code",
   "execution_count": 96,
   "id": "b0b6e5b5",
   "metadata": {},
   "outputs": [
    {
     "name": "stdout",
     "output_type": "stream",
     "text": [
      "tool='tavily_search' tool_input='capital of China' log='Action: tavily_search\\nAction Input: capital of China'\n"
     ]
    }
   ],
   "source": [
    "print(response)"
   ]
  },
  {
   "cell_type": "code",
   "execution_count": 98,
   "id": "30df71ca",
   "metadata": {},
   "outputs": [
    {
     "data": {
      "text/plain": [
       "'capital of China'"
      ]
     },
     "execution_count": 98,
     "metadata": {},
     "output_type": "execute_result"
    }
   ],
   "source": [
    "response.tool_input"
   ]
  },
  {
   "cell_type": "code",
   "execution_count": 99,
   "id": "5bad1d20",
   "metadata": {},
   "outputs": [
    {
     "name": "stdout",
     "output_type": "stream",
     "text": [
      "Action: tavily_search\n",
      "Action Input: capital of China\n"
     ]
    }
   ],
   "source": [
    "print(response.log)"
   ]
  },
  {
   "cell_type": "code",
   "execution_count": 100,
   "id": "0ca9df88",
   "metadata": {},
   "outputs": [],
   "source": [
    "response = agent.invoke({\"input\": \"sum of 8 and 17?\", \"intermediate_steps\": [], \"agent_outcome\": None})"
   ]
  },
  {
   "cell_type": "code",
   "execution_count": 101,
   "id": "0dc25c3c",
   "metadata": {},
   "outputs": [
    {
     "data": {
      "text/plain": [
       "AgentAction(tool='addition', tool_input=\"{'num_1': 8, 'num_2': 17}\", log=\"Action: addition\\nAction Input: {'num_1': 8, 'num_2': 17}\")"
      ]
     },
     "execution_count": 101,
     "metadata": {},
     "output_type": "execute_result"
    }
   ],
   "source": [
    "response"
   ]
  },
  {
   "cell_type": "code",
   "execution_count": 102,
   "id": "b7d2c623",
   "metadata": {},
   "outputs": [
    {
     "name": "stdout",
     "output_type": "stream",
     "text": [
      "addition\n",
      "{'num_1': 8, 'num_2': 17}\n",
      "Action: addition\n",
      "Action Input: {'num_1': 8, 'num_2': 17}\n"
     ]
    }
   ],
   "source": [
    "print(response.tool)\n",
    "print(response.tool_input) \n",
    "print(response.log)"
   ]
  },
  {
   "cell_type": "code",
   "execution_count": 103,
   "id": "04571fc9",
   "metadata": {},
   "outputs": [
    {
     "data": {
      "text/plain": [
       "str"
      ]
     },
     "execution_count": 103,
     "metadata": {},
     "output_type": "execute_result"
    }
   ],
   "source": [
    "type(response.tool_input)"
   ]
  },
  {
   "cell_type": "markdown",
   "id": "9167eb8d",
   "metadata": {},
   "source": [
    "### In LangChain We use Something called AgentExecutor to execute the agent, that handle the answering question."
   ]
  },
  {
   "cell_type": "code",
   "execution_count": 104,
   "id": "1c605e33",
   "metadata": {},
   "outputs": [
    {
     "data": {
      "text/plain": [
       "AgentExecutor(verbose=True, agent=RunnableAgent(runnable=RunnableAssign(mapper={\n",
       "  agent_scratchpad: RunnableLambda(lambda x: format_log_to_str(x['intermediate_steps']))\n",
       "})\n",
       "| PromptTemplate(input_variables=['agent_scratchpad', 'input'], input_types={}, partial_variables={'tools': 'date_time() - Use when you need to get current date and time.\\naddition(num_1: int | float, num_2: int | float) -> float - Use when you need to perform addition operation.\\ntavily_search - A search engine optimized for comprehensive, accurate, and trusted results. Useful for when you need to answer questions about current events. It not only retrieves URLs and snippets, but offers advanced search depths, domain management, time range filters, and image search, this tool delivers real-time, accurate, and citation-backed results.Input should be a search query.', 'tool_names': 'date_time, addition, tavily_search'}, metadata={'lc_hub_owner': 'hwchase17', 'lc_hub_repo': 'react', 'lc_hub_commit_hash': 'd15fe3c426f1c4b3f37c9198853e4a86e20c425ca7f4752ec0c9b0e97ca7ea4d'}, template='Answer the following questions as best you can. You have access to the following tools:\\n\\n{tools}\\n\\nUse the following format:\\n\\nQuestion: the input question you must answer\\nThought: you should always think about what to do\\nAction: the action to take, should be one of [{tool_names}]\\nAction Input: the input to the action\\nObservation: the result of the action\\n... (this Thought/Action/Action Input/Observation can repeat N times)\\nThought: I now know the final answer\\nFinal Answer: the final answer to the original input question\\n\\nBegin!\\n\\nQuestion: {input}\\nThought:{agent_scratchpad}')\n",
       "| RunnableBinding(bound=ChatGoogleGenerativeAI(model='models/gemini-2.5-flash', google_api_key=SecretStr('**********'), temperature=0.9, max_output_tokens=3000, client=<google.ai.generativelanguage_v1beta.services.generative_service.client.GenerativeServiceClient object at 0x000002555D76A8B0>, default_metadata=(), model_kwargs={}), kwargs={'stop': ['\\nObservation']}, config={}, config_factories=[])\n",
       "| ReActSingleInputOutputParser(), input_keys_arg=[], return_keys_arg=[], stream_runnable=True), tools=[StructuredTool(name='date_time', description='Use when you need to get current date and time.', args_schema=<class 'langchain_core.utils.pydantic.date_time'>, func=<function get_current_date at 0x000002555B7A51C0>), StructuredTool(name='addition', description='Use when you need to perform addition operation.', args_schema=<class 'langchain_core.utils.pydantic.addition'>, func=<function addition at 0x000002555B7A5760>), TavilySearch(max_results=2, api_wrapper=TavilySearchAPIWrapper(tavily_api_key=SecretStr('**********'), api_base_url=None))], handle_parsing_errors=True)"
      ]
     },
     "execution_count": 104,
     "metadata": {},
     "output_type": "execute_result"
    }
   ],
   "source": [
    "from langchain.agents import AgentExecutor\n",
    "\n",
    "agent_executor = AgentExecutor(\n",
    "    agent = agent,\n",
    "    tools = tools,\n",
    "    handle_parsing_errors = True,\n",
    "    verbose = True   \n",
    ")\n",
    "agent_executor"
   ]
  },
  {
   "cell_type": "code",
   "execution_count": 105,
   "id": "ea82c036",
   "metadata": {},
   "outputs": [
    {
     "name": "stdout",
     "output_type": "stream",
     "text": [
      "\n",
      "\n",
      "\u001b[1m> Entering new AgentExecutor chain...\u001b[0m\n",
      "\u001b[32;1m\u001b[1;3mAction: date_time\n",
      "Action Input: \u001b[0m\u001b[36;1m\u001b[1;3m2025-07-25 02:59:01, PM\u001b[0m\u001b[32;1m\u001b[1;3mI now know the final answer\n",
      "Final Answer: Today's date is 2025-07-25.\u001b[0m\n",
      "\n",
      "\u001b[1m> Finished chain.\u001b[0m\n"
     ]
    },
    {
     "data": {
      "text/plain": [
       "{'input': 'what is the date today?', 'output': \"Today's date is 2025-07-25.\"}"
      ]
     },
     "execution_count": 105,
     "metadata": {},
     "output_type": "execute_result"
    }
   ],
   "source": [
    "result = agent_executor.invoke(\n",
    "    {\n",
    "        \"input\": \"what is the date today?\"\n",
    "    }\n",
    ")\n",
    "result"
   ]
  },
  {
   "cell_type": "code",
   "execution_count": 77,
   "id": "fc47b1c6",
   "metadata": {},
   "outputs": [
    {
     "name": "stdout",
     "output_type": "stream",
     "text": [
      "\n",
      "\n",
      "\u001b[1m> Entering new AgentExecutor chain...\u001b[0m\n",
      "\u001b[32;1m\u001b[1;3mThought: To answer this question, I need to find out the release date of the movie \"Coolie\" and the name of the main actor. I will perform a search to get this information.\n",
      "\n",
      "Action: tavily_search\n",
      "Action Input: \"Coolie movie release date and main actor\"O\u001b[0m\u001b[38;5;200m\u001b[1;3m{'query': 'Coolie movie release date and main actor\"O', 'follow_up_questions': None, 'answer': None, 'images': [], 'results': [{'url': 'https://www.imdb.com/title/tt27441481/', 'title': 'Coolie (2025) - IMDb', 'content': 'Coolie: Directed by Lokesh Kanagaraj. With Aamir Khan, Rajinikanth, Pooja ... Release date · August 14, 2025 (India). Country of origin. India. Official', 'score': 0.82186085, 'raw_content': None}, {'url': 'https://timesofindia.indiatimes.com/entertainment/hindi/bollywood/news/lokesh-kanagaraj-confirms-coolie-trailer-to-release-on-august-2-release-teases-aamir-khans-film-as-biggest-action-movie-yet/articleshow/122480674.cms', 'title': \"Lokesh Kanagaraj confirms 'Coolie' trailer to release on August 2 ...\", 'content': \"Director Lokesh Kanagaraj has officially announced that the trailer for his highly anticipated Rajinikanth starrer Coolie will release on August 2, 2025 , just weeks ahead of the film's theatrical debut on August 14.\", 'score': 0.7724109, 'raw_content': None}], 'response_time': 0.98}\u001b[0m\u001b[32;1m\u001b[1;3mThought: I found information about a movie called \"Coolie\" set to release in 2025, with Aamir Khan and Rajinikanth mentioned as part of the cast. However, I need to confirm if this is the correct \"Coolie\" movie, as there might be an older film with the same title. I will perform another search to verify the release date and main actor of the older \"Coolie\" movie.\n",
      "\n",
      "Action: tavily_search\n",
      "Action Input: \"Coolie movie Amitabh Bachchan release date\"O\u001b[0m\u001b[38;5;200m\u001b[1;3m{'query': 'Coolie movie Amitabh Bachchan release date\"O', 'follow_up_questions': None, 'answer': None, 'images': [], 'results': [{'url': 'https://www.facebook.com/tariq.khan.204447/posts/coolie-1983-is-a-classic-bollywood-action-drama-film-directed-by-manmohan-desai-/2568300700321023/', 'title': 'Coolie (1983) is a classic Bollywood action-drama film directed by ...', 'content': '... Amitabh Bachchan during filming. Movie Details Title: Coolie Release Date: 2 December 1983 Director: Manmohan Desai Producers: Ketan Desai', 'score': 0.82795376, 'raw_content': None}, {'url': 'https://www.imdb.com/title/tt0085361/releaseinfo/', 'title': 'Coolie (1983) - Release info - IMDb', 'content': 'Release date ... India ... December 2, 1983 ... Lebanon ... 1984(theatrical) ... Also known as (AKA) ... original title ... Coolie ... Brazil ... O Homem do Sucesso ... India.', 'score': 0.80442166, 'raw_content': None}], 'response_time': 1.15}\u001b[0m\u001b[32;1m\u001b[1;3mThought: I now have information about two different movies titled \"Coolie.\" The first search provided details about a 2025 release with Aamir Khan and Rajinikanth, while the second search confirmed the existence of an older \"Coolie\" movie released in 1983, starring Amitabh Bachchan. Since the question does not specify which \"Coolie\" movie, I will provide information about both.\n",
      "\n",
      "Final Answer: There are two movies titled \"Coolie.\" The first one, released on December 2, 1983, stars Amitabh Bachchan as the main actor. The second \"Coolie\" movie is set to release on August 14, 2025, and features Aamir Khan and Rajinikanth in prominent roles.\u001b[0m\n",
      "\n",
      "\u001b[1m> Finished chain.\u001b[0m\n"
     ]
    },
    {
     "data": {
      "text/plain": [
       "{'input': 'When Coolie movie release and who is the main actor.',\n",
       " 'output': 'There are two movies titled \"Coolie.\" The first one, released on December 2, 1983, stars Amitabh Bachchan as the main actor. The second \"Coolie\" movie is set to release on August 14, 2025, and features Aamir Khan and Rajinikanth in prominent roles.'}"
      ]
     },
     "execution_count": 77,
     "metadata": {},
     "output_type": "execute_result"
    }
   ],
   "source": [
    "response = agent_executor.invoke(\n",
    "    {\n",
    "        \"input\": \"When Coolie movie release and who is the main actor.\"\n",
    "    }\n",
    ")\n",
    "response"
   ]
  },
  {
   "cell_type": "code",
   "execution_count": 78,
   "id": "d2630638",
   "metadata": {},
   "outputs": [
    {
     "name": "stdout",
     "output_type": "stream",
     "text": [
      "\n",
      "\n",
      "\u001b[1m> Entering new AgentExecutor chain...\u001b[0m\n",
      "\u001b[32;1m\u001b[1;3mTo answer this question, I need to find the capital of India and also determine the current time. I can use the tavily_search tool to find the capital of India and the date_time tool to get the current time.\n",
      "\n",
      "Action: tavily_search\n",
      "Action Input: What is the capital of India?O\u001b[0m\u001b[38;5;200m\u001b[1;3m{'query': 'What is the capital of India?O', 'follow_up_questions': None, 'answer': None, 'images': [], 'results': [{'url': 'https://www.quora.com/What-is-the-capital-of-India-328', 'title': 'What is the capital of India? - Quora', 'content': 'New Delhi is the capital of India, but it was not always NEW DELHI, during Britishers untill 1911, CALCUTTA was the capital of India.', 'score': 0.86080295, 'raw_content': None}, {'url': 'https://en.wikipedia.org/wiki/New_Delhi', 'title': 'New Delhi - Wikipedia', 'content': 'New Delhi is the capital of India and a part of the National Capital Territory of Delhi (NCT). New Delhi is the seat of all three branches of the Government', 'score': 0.80698997, 'raw_content': None}], 'response_time': 1.21}\u001b[0m\u001b[32;1m\u001b[1;3mI have found that the capital of India is New Delhi. Now, I need to find the current time.\n",
      "\n",
      "Action: date_time\n",
      "Action Input: NoneO\u001b[0m\u001b[36;1m\u001b[1;3m2025-07-25 02:54:21, PM\u001b[0m\u001b[32;1m\u001b[1;3mI now know the final answer.\n",
      "\n",
      "Final Answer: The capital of India is New Delhi, and the current time is 2025-07-25 02:54:21 PM.\u001b[0m\n",
      "\n",
      "\u001b[1m> Finished chain.\u001b[0m\n"
     ]
    }
   ],
   "source": [
    "response = agent_executor.invoke({\n",
    "    \"input\": \"What is the capital of India and my current time.\"\n",
    "})"
   ]
  },
  {
   "cell_type": "code",
   "execution_count": 79,
   "id": "7a90f162",
   "metadata": {},
   "outputs": [
    {
     "data": {
      "text/plain": [
       "{'input': 'What is the capital of India and my current time.',\n",
       " 'output': 'The capital of India is New Delhi, and the current time is 2025-07-25 02:54:21 PM.'}"
      ]
     },
     "execution_count": 79,
     "metadata": {},
     "output_type": "execute_result"
    }
   ],
   "source": [
    "response"
   ]
  },
  {
   "cell_type": "markdown",
   "id": "61968554",
   "metadata": {},
   "source": [
    "## Now we are going to build this Agent using LangGraph"
   ]
  },
  {
   "cell_type": "code",
   "execution_count": 106,
   "id": "d05ea847",
   "metadata": {},
   "outputs": [
    {
     "data": {
      "text/plain": [
       "RunnableAssign(mapper={\n",
       "  agent_scratchpad: RunnableLambda(lambda x: format_log_to_str(x['intermediate_steps']))\n",
       "})\n",
       "| PromptTemplate(input_variables=['agent_scratchpad', 'input'], input_types={}, partial_variables={'tools': 'date_time() - Use when you need to get current date and time.\\ntavily_search - A search engine optimized for comprehensive, accurate, and trusted results. Useful for when you need to answer questions about current events. It not only retrieves URLs and snippets, but offers advanced search depths, domain management, time range filters, and image search, this tool delivers real-time, accurate, and citation-backed results.Input should be a search query.\\naddition(num_1: int | float, num_2: int | float) -> float - Use when you need to perform addition operation.', 'tool_names': 'date_time, tavily_search, addition'}, metadata={'lc_hub_owner': 'hwchase17', 'lc_hub_repo': 'react', 'lc_hub_commit_hash': 'd15fe3c426f1c4b3f37c9198853e4a86e20c425ca7f4752ec0c9b0e97ca7ea4d'}, template='Answer the following questions as best you can. You have access to the following tools:\\n\\n{tools}\\n\\nUse the following format:\\n\\nQuestion: the input question you must answer\\nThought: you should always think about what to do\\nAction: the action to take, should be one of [{tool_names}]\\nAction Input: the input to the action\\nObservation: the result of the action\\n... (this Thought/Action/Action Input/Observation can repeat N times)\\nThought: I now know the final answer\\nFinal Answer: the final answer to the original input question\\n\\nBegin!\\n\\nQuestion: {input}\\nThought:{agent_scratchpad}')\n",
       "| RunnableBinding(bound=ChatGoogleGenerativeAI(model='models/gemini-2.5-flash', google_api_key=SecretStr('**********'), temperature=0.9, max_output_tokens=3000, client=<google.ai.generativelanguage_v1beta.services.generative_service.client.GenerativeServiceClient object at 0x000002555D76A8B0>, default_metadata=(), model_kwargs={}), kwargs={'stop': ['\\nObservation']}, config={}, config_factories=[])\n",
       "| ReActSingleInputOutputParser()"
      ]
     },
     "execution_count": 106,
     "metadata": {},
     "output_type": "execute_result"
    }
   ],
   "source": [
    "import operator\n",
    "from typing import List, TypedDict, Annotated, Tuple\n",
    "from langchain_core.agents import AgentAction, AgentFinish\n",
    "from langchain_core.tools import StructuredTool\n",
    "from dotenv import load_dotenv\n",
    "load_dotenv()\n",
    "\n",
    "tools: List[StructuredTool | TavilySearch] = [get_current_date, tavily_search, addition]\n",
    "\n",
    "class AgentState(TypedDict):\n",
    "    input: str\n",
    "    agent_outcome: AgentAction | AgentFinish | None \n",
    "    intermediate_steps: Annotated[List[Tuple[AgentAction, str]], operator.concat]\n",
    "\n",
    "agent: Runnable = create_react_agent(\n",
    "    llm = llms[\"google\"],\n",
    "    prompt = react_prompt_template,\n",
    "    tools = tools\n",
    ")\n",
    "agent"
   ]
  },
  {
   "cell_type": "code",
   "execution_count": 107,
   "id": "012c3479",
   "metadata": {},
   "outputs": [
    {
     "data": {
      "image/png": "[encoded data removed]",
      "text/plain": [
       "<langgraph.graph.state.CompiledStateGraph object at 0x000002556174CCD0>"
      ]
     },
     "execution_count": 107,
     "metadata": {},
     "output_type": "execute_result"
    }
   ],
   "source": [
    "from langgraph.graph import StateGraph, END\n",
    "from dotenv import load_dotenv\n",
    "import json\n",
    "\n",
    "load_dotenv(\".env\")\n",
    "\n",
    "REASON = \"reason\"\n",
    "ACTION = \"action\"\n",
    "\n",
    "def reason_node(state: AgentState) -> AgentState:\n",
    "    agent_outcome: AgentAction | AgentFinish = agent.invoke(state)\n",
    "    print(f\"Current agent outcome {agent_outcome}\", end = \"\\n\")\n",
    "    return {\n",
    "        \"agent_outcome\": agent_outcome\n",
    "    }    \n",
    "\n",
    "def action_node(state: AgentState) -> AgentState:\n",
    "\n",
    "\n",
    "    agent_action: AgentAction = state[\"agent_outcome\"]\n",
    "    print(f\"Current agent_action: {agent_action}\", end = \"\\n\")\n",
    "\n",
    "    # Extract tool name and tool input from AgentAction\n",
    "    tool_name = agent_action.tool\n",
    "    tool_input = agent_action.tool_input\n",
    "\n",
    "    # Find the matching tool function.\n",
    "    tool_function: BaseTool | None = None\n",
    "    for tool in tools:\n",
    "        if tool.name == tool_name:\n",
    "            tool_function = tool\n",
    "            break\n",
    "\n",
    "    # Try to load the tool input, if it is like a JSON.\n",
    "    parsed_input = tool_input\n",
    "    if isinstance(parsed_input, str):\n",
    "        try:\n",
    "            parsed_input = json.loads(tool_input)\n",
    "            print(f\"The parsed input is {parsed_input}\")\n",
    "        except json.JSONDecodeError:\n",
    "            pass # Leave it as string if not a valid JSON\n",
    "\n",
    "    \n",
    "    # Execute the tool function with parsed_input. \n",
    "    if tool_function:\n",
    "        try:\n",
    "            if isinstance(tool_function, StructuredTool):\n",
    "                output = tool_function.invoke(input = parsed_input)\n",
    "            else:\n",
    "                output = tool_function.invoke(parsed_input)\n",
    "\n",
    "        except Exception as e:\n",
    "            print(f\"Unexpected Error occurs {str(e)}\")\n",
    "    else:\n",
    "        output = f\"Tool {tool_name} not found.\"\n",
    "    \n",
    "    return {\n",
    "        \"intermediate_steps\": [(agent_action, output)]\n",
    "    }\n",
    "\n",
    "def should_continue(state: AgentState) -> AgentState:\n",
    "    print(f\"Current agent outcome in should_continue: {state[\"agent_outcome\"]}\")\n",
    "    if isinstance(state[\"agent_outcome\"], AgentFinish):\n",
    "        return END \n",
    "    return ACTION\n",
    "\n",
    "\n",
    "graph_builder = StateGraph(AgentState)\n",
    "graph_builder.add_node(REASON, reason_node)\n",
    "graph_builder.add_node(ACTION, action_node)\n",
    "\n",
    "graph_builder.set_entry_point(REASON)\n",
    "graph_builder.add_edge(ACTION, REASON)\n",
    "graph_builder.add_conditional_edges(\n",
    "    REASON,\n",
    "    should_continue,\n",
    "    path_map = {\n",
    "        ACTION: ACTION,\n",
    "        END: END\n",
    "    }\n",
    ")\n",
    "graph = graph_builder.compile()\n",
    "graph\n"
   ]
  },
  {
   "cell_type": "code",
   "execution_count": 108,
   "id": "c4ede84e",
   "metadata": {},
   "outputs": [
    {
     "name": "stdout",
     "output_type": "stream",
     "text": [
      "Current agent outcome tool='date_time' tool_input='' log='Action: date_time\\nAction Input: '\n",
      "Current agent outcome in should_continue: tool='date_time' tool_input='' log='Action: date_time\\nAction Input: '\n",
      "Current agent_action: tool='date_time' tool_input='' log='Action: date_time\\nAction Input: '\n",
      "Current agent outcome return_values={'output': '02:59:31 PM on 2025-07-25'} log='I now know the final answer\\nFinal Answer: 02:59:31 PM on 2025-07-25'\n",
      "Current agent outcome in should_continue: return_values={'output': '02:59:31 PM on 2025-07-25'} log='I now know the final answer\\nFinal Answer: 02:59:31 PM on 2025-07-25'\n"
     ]
    }
   ],
   "source": [
    "response: AgentState = graph.invoke(\n",
    "    AgentState(\n",
    "        # input = \"when the coolie movie release and the current date, also the capital city of India\",\n",
    "        input = \"what is the current time?\",\n",
    "        agent_outcome = None,\n",
    "        intermediate_steps = []\n",
    "    )\n",
    ")"
   ]
  },
  {
   "cell_type": "code",
   "execution_count": 109,
   "id": "66107de5",
   "metadata": {},
   "outputs": [
    {
     "data": {
      "text/plain": [
       "{'input': 'what is the current time?',\n",
       " 'agent_outcome': AgentFinish(return_values={'output': '02:59:31 PM on 2025-07-25'}, log='I now know the final answer\\nFinal Answer: 02:59:31 PM on 2025-07-25'),\n",
       " 'intermediate_steps': [(AgentAction(tool='date_time', tool_input='', log='Action: date_time\\nAction Input: '),\n",
       "   '2025-07-25 02:59:31, PM')]}"
      ]
     },
     "execution_count": 109,
     "metadata": {},
     "output_type": "execute_result"
    }
   ],
   "source": [
    "response"
   ]
  },
  {
   "cell_type": "code",
   "execution_count": 110,
   "id": "6318e79c",
   "metadata": {},
   "outputs": [
    {
     "name": "stdout",
     "output_type": "stream",
     "text": [
      "Current agent outcome tool='tavily_search' tool_input='capital city of China' log='Action: tavily_search\\nAction Input: capital city of China'\n",
      "Current agent outcome in should_continue: tool='tavily_search' tool_input='capital city of China' log='Action: tavily_search\\nAction Input: capital city of China'\n",
      "Current agent_action: tool='tavily_search' tool_input='capital city of China' log='Action: tavily_search\\nAction Input: capital city of China'\n",
      "Current agent outcome return_values={'output': 'Beijing'} log='I now know the final answer\\nFinal Answer: Beijing'\n",
      "Current agent outcome in should_continue: return_values={'output': 'Beijing'} log='I now know the final answer\\nFinal Answer: Beijing'\n"
     ]
    }
   ],
   "source": [
    "response: AgentState = graph.invoke(\n",
    "    AgentState(\n",
    "        input = \"The capital city of China.\",\n",
    "        # input = \"what is the current time?\",\n",
    "        agent_outcome = None,\n",
    "        intermediate_steps = []\n",
    "    )\n",
    ")"
   ]
  },
  {
   "cell_type": "code",
   "execution_count": 111,
   "id": "02df8b34",
   "metadata": {},
   "outputs": [
    {
     "data": {
      "text/plain": [
       "{'input': 'The capital city of China.',\n",
       " 'agent_outcome': AgentFinish(return_values={'output': 'Beijing'}, log='I now know the final answer\\nFinal Answer: Beijing'),\n",
       " 'intermediate_steps': [(AgentAction(tool='tavily_search', tool_input='capital city of China', log='Action: tavily_search\\nAction Input: capital city of China'),\n",
       "   {'query': 'capital city of China',\n",
       "    'follow_up_questions': None,\n",
       "    'answer': None,\n",
       "    'images': [],\n",
       "    'results': [{'url': 'https://clintonwhitehouse3.archives.gov/WH/New/China/beijing.html',\n",
       "      'title': 'Beijing - The White House',\n",
       "      'content': 'The modern day capital of China is Beijing (literally \"Northern Capital\"), which first served as China\\'s capital city in 1261, when the Mongol ruler Kublai',\n",
       "      'score': 0.8877607,\n",
       "      'raw_content': None},\n",
       "     {'url': 'https://www.britannica.com/place/Beijing',\n",
       "      'title': 'Beijing | Province, City, History, Map, & Facts | Britannica',\n",
       "      'content': 'The Forbidden City is an imperial palace complex at the heart of Beijing, designated a UNESCO World Heritage site in 1987 in recognition of its importance not only as the centre of Chinese power for five centuries but also for its unparalleled architecture and adherence to the practice of feng shui. Beijing, the country’s political and cultural centre for more than 700 years, has more buildings of historical and architectural significance than any other contemporary city in China. Among the historical and religious structures in Beijing, the Temple of Heaven (Tiantan), located south of the palace compound in the old outer city, is unique both for its unusual geometric layout and because it represents the supreme achievement of traditional Chinese architecture.',\n",
       "      'score': 0.54608524,\n",
       "      'raw_content': None}],\n",
       "    'response_time': 0.98})]}"
      ]
     },
     "execution_count": 111,
     "metadata": {},
     "output_type": "execute_result"
    }
   ],
   "source": [
    "response"
   ]
  },
  {
   "cell_type": "code",
   "execution_count": 113,
   "id": "4c4675ba",
   "metadata": {},
   "outputs": [
    {
     "data": {
      "text/plain": [
       "{'output': 'Beijing'}"
      ]
     },
     "execution_count": 113,
     "metadata": {},
     "output_type": "execute_result"
    }
   ],
   "source": [
    "response[\"agent_outcome\"].return_values"
   ]
  },
  {
   "cell_type": "code",
   "execution_count": 114,
   "id": "5dfb33f0",
   "metadata": {},
   "outputs": [
    {
     "name": "stdout",
     "output_type": "stream",
     "text": [
      "Current agent outcome tool='date_time' tool_input='' log='Action: date_time\\nAction Input: '\n",
      "Current agent outcome in should_continue: tool='date_time' tool_input='' log='Action: date_time\\nAction Input: '\n",
      "Current agent_action: tool='date_time' tool_input='' log='Action: date_time\\nAction Input: '\n",
      "Current agent outcome tool='addition' tool_input='{\"num_1\": 25, \"num_2\": 7}' log='I have today\\'s date and time: 2025-07-25 03:00:30, PM.\\nFrom this, the day is 25 and the month is 7.\\nI need to sum these two numbers.\\nAction: addition\\nAction Input: {\"num_1\": 25, \"num_2\": 7}'\n",
      "Current agent outcome in should_continue: tool='addition' tool_input='{\"num_1\": 25, \"num_2\": 7}' log='I have today\\'s date and time: 2025-07-25 03:00:30, PM.\\nFrom this, the day is 25 and the month is 7.\\nI need to sum these two numbers.\\nAction: addition\\nAction Input: {\"num_1\": 25, \"num_2\": 7}'\n",
      "Current agent_action: tool='addition' tool_input='{\"num_1\": 25, \"num_2\": 7}' log='I have today\\'s date and time: 2025-07-25 03:00:30, PM.\\nFrom this, the day is 25 and the month is 7.\\nI need to sum these two numbers.\\nAction: addition\\nAction Input: {\"num_1\": 25, \"num_2\": 7}'\n",
      "The parsed input is {'num_1': 25, 'num_2': 7}\n",
      "Current agent outcome return_values={'output': '32'} log='I now know the final answer\\nFinal Answer: 32'\n",
      "Current agent outcome in should_continue: return_values={'output': '32'} log='I now know the final answer\\nFinal Answer: 32'\n"
     ]
    }
   ],
   "source": [
    "response: AgentState = graph.invoke(\n",
    "    AgentState(\n",
    "        input = \"Get today's date and month and sum it.\",\n",
    "        # input = \"what is the current time?\",\n",
    "        agent_outcome = None,\n",
    "        intermediate_steps = []\n",
    "    )\n",
    ")"
   ]
  },
  {
   "cell_type": "code",
   "execution_count": 115,
   "id": "87717666",
   "metadata": {},
   "outputs": [
    {
     "data": {
      "text/plain": [
       "{'output': '32'}"
      ]
     },
     "execution_count": 115,
     "metadata": {},
     "output_type": "execute_result"
    }
   ],
   "source": [
    "response[\"agent_outcome\"].return_values"
   ]
  },
  {
   "cell_type": "code",
   "execution_count": 116,
   "id": "3bcb534c",
   "metadata": {},
   "outputs": [
    {
     "data": {
      "text/plain": [
       "[(AgentAction(tool='date_time', tool_input='', log='Action: date_time\\nAction Input: '),\n",
       "  '2025-07-25 03:00:30, PM'),\n",
       " (AgentAction(tool='addition', tool_input='{\"num_1\": 25, \"num_2\": 7}', log='I have today\\'s date and time: 2025-07-25 03:00:30, PM.\\nFrom this, the day is 25 and the month is 7.\\nI need to sum these two numbers.\\nAction: addition\\nAction Input: {\"num_1\": 25, \"num_2\": 7}'),\n",
       "  32)]"
      ]
     },
     "execution_count": 116,
     "metadata": {},
     "output_type": "execute_result"
    }
   ],
   "source": [
    "response[\"intermediate_steps\"]"
   ]
  }
 ],
 "metadata": {
  "kernelspec": {
   "display_name": "my_ai_env",
   "language": "python",
   "name": "python3"
  },
  "language_info": {
   "codemirror_mode": {
    "name": "ipython",
    "version": 3
   },
   "file_extension": ".py",
   "mimetype": "text/x-python",
   "name": "python",
   "nbconvert_exporter": "python",
   "pygments_lexer": "ipython3",
   "version": "3.13.4"
  }
 },
 "nbformat": 4,
 "nbformat_minor": 5
}
