{
 "cells": [
  {
   "cell_type": "code",
   "execution_count": 1,
   "id": "6517caff",
   "metadata": {},
   "outputs": [
    {
     "name": "stdout",
     "output_type": "stream",
     "text": [
      "Shivaya Namah\n"
     ]
    }
   ],
   "source": [
    "print(\"Shivaya Namah\")"
   ]
  },
  {
   "cell_type": "code",
   "execution_count": 2,
   "id": "62ed84ab",
   "metadata": {},
   "outputs": [
    {
     "name": "stdout",
     "output_type": "stream",
     "text": [
      "API Keys loaded succesfully.\n"
     ]
    }
   ],
   "source": [
    "from langchain_core.messages import HumanMessage, AIMessage, BaseMessage\n",
    "from langchain_core.prompts import ChatPromptTemplate, MessagesPlaceholder\n",
    "from pydantic_settings import BaseSettings\n",
    "from langchain_ibm import ChatWatsonx\n",
    "\n",
    "\n",
    "class Settings(BaseSettings): \n",
    "\n",
    "    pinecone_api_key: str \n",
    "    watsonx_apikey: str  \n",
    "    watsonx_url: str\n",
    "    watsonx_project_id: str\n",
    "    cohere_api_key: str \n",
    "    tavily_api_key: str\n",
    "    google_api_key: str\n",
    "\n",
    "    langsmith_api_key: str\n",
    "    langsmith_endpoint: str\n",
    "    langsmith_tracing: bool\n",
    "    langsmith_project: str\n",
    "\n",
    "    class Config:\n",
    "        env_file = \".env\"\n",
    "        extra = \"ignore\"\n",
    "\n",
    "settings = Settings()\n",
    "print(\"API Keys loaded succesfully.\")"
   ]
  },
  {
   "cell_type": "code",
   "execution_count": 3,
   "id": "a6dce881",
   "metadata": {},
   "outputs": [
    {
     "data": {
      "text/plain": [
       "ChatWatsonx(model_id='ibm/granite-3-3-8b-instruct', project_id='25fa768b-a90b-433c-b4a4-66bb407af16b', url=SecretStr('**********'), apikey=SecretStr('**********'), params={'temperature': 0.9}, temperature=0.9, watsonx_model=<ibm_watsonx_ai.foundation_models.inference.model_inference.ModelInference object at 0x000002093C75DFD0>)"
      ]
     },
     "execution_count": 3,
     "metadata": {},
     "output_type": "execute_result"
    }
   ],
   "source": [
    "llm = ChatWatsonx(\n",
    "    apikey = settings.watsonx_apikey,\n",
    "    project_id = settings.watsonx_project_id,\n",
    "    url = settings.watsonx_url,\n",
    "    temperature = 0.9,\n",
    "    model_id = \"ibm/granite-3-3-8b-instruct\"\n",
    ")\n",
    "llm"
   ]
  },
  {
   "cell_type": "code",
   "execution_count": 4,
   "id": "ca8258b3",
   "metadata": {},
   "outputs": [
    {
     "data": {
      "text/plain": [
       "ChatPromptTemplate(input_variables=['current_time', 'initial_instruction', 'messages'], input_types={'messages': list[typing.Annotated[typing.Union[typing.Annotated[langchain_core.messages.ai.AIMessage, Tag(tag='ai')], typing.Annotated[langchain_core.messages.human.HumanMessage, Tag(tag='human')], typing.Annotated[langchain_core.messages.chat.ChatMessage, Tag(tag='chat')], typing.Annotated[langchain_core.messages.system.SystemMessage, Tag(tag='system')], typing.Annotated[langchain_core.messages.function.FunctionMessage, Tag(tag='function')], typing.Annotated[langchain_core.messages.tool.ToolMessage, Tag(tag='tool')], typing.Annotated[langchain_core.messages.ai.AIMessageChunk, Tag(tag='AIMessageChunk')], typing.Annotated[langchain_core.messages.human.HumanMessageChunk, Tag(tag='HumanMessageChunk')], typing.Annotated[langchain_core.messages.chat.ChatMessageChunk, Tag(tag='ChatMessageChunk')], typing.Annotated[langchain_core.messages.system.SystemMessageChunk, Tag(tag='SystemMessageChunk')], typing.Annotated[langchain_core.messages.function.FunctionMessageChunk, Tag(tag='FunctionMessageChunk')], typing.Annotated[langchain_core.messages.tool.ToolMessageChunk, Tag(tag='ToolMessageChunk')]], FieldInfo(annotation=NoneType, required=True, discriminator=Discriminator(discriminator=<function _get_type at 0x000002092A1ADF80>, custom_error_type=None, custom_error_message=None, custom_error_context=None))]]}, partial_variables={}, messages=[SystemMessagePromptTemplate(prompt=PromptTemplate(input_variables=['current_time', 'initial_instruction'], input_types={}, partial_variables={}, template='You are an expert AI Researcher. Current Time {current_time} 1, {initial_instruction} 2, Reflect and critique your answer. Be serve to maximize improvement. 3, After the reflection, **list 1-3 search queries separately** for researching improvements. Do not include them inside the reflection. '), additional_kwargs={}), SystemMessagePromptTemplate(prompt=PromptTemplate(input_variables=[], input_types={}, partial_variables={}, template=\"Answer the user's question above usin the required format. You must always return valid JSON fenced by a markdown code block. Do not return any additional text.\"), additional_kwargs={}), MessagesPlaceholder(variable_name='messages')])"
      ]
     },
     "execution_count": 4,
     "metadata": {},
     "output_type": "execute_result"
    }
   ],
   "source": [
    "actor_prompt_template = ChatPromptTemplate.from_messages(\n",
    "    [\n",
    "        (\n",
    "            \"system\",\n",
    "            \"You are an expert AI Researcher. Current Time {current_time} \"\n",
    "            \"1, {initial_instruction} \"\n",
    "            \"2, Reflect and critique your answer. Be serve to maximize improvement. \"\n",
    "            \"3, After the reflection, **list 1-3 search queries separately** for researching improvements. Do not include them inside the reflection. \"\n",
    "        ),\n",
    "        (\n",
    "            \"system\",\n",
    "            \"Answer the user's question above usin the required format. \"\n",
    "            \"You must always return valid JSON fenced by a markdown code block. Do not return any additional text.\"\n",
    "            # We instructing the llm to return the result in a JSON format, but not a actual json object. llm mostly return str object. But we need a\n",
    "            # proper json format even it is a str, that will help us to parse in PydanticToolsParser to get a str result as JSON/Pydantic scheme.\n",
    "        ),\n",
    "        MessagesPlaceholder(variable_name = \"messages\"),\n",
    "\n",
    "    ]\n",
    ")\n",
    "actor_prompt_template"
   ]
  },
  {
   "cell_type": "code",
   "execution_count": 5,
   "id": "f27ad297",
   "metadata": {},
   "outputs": [
    {
     "data": {
      "text/plain": [
       "ChatPromptTemplate(input_variables=['messages'], input_types={'messages': list[typing.Annotated[typing.Union[typing.Annotated[langchain_core.messages.ai.AIMessage, Tag(tag='ai')], typing.Annotated[langchain_core.messages.human.HumanMessage, Tag(tag='human')], typing.Annotated[langchain_core.messages.chat.ChatMessage, Tag(tag='chat')], typing.Annotated[langchain_core.messages.system.SystemMessage, Tag(tag='system')], typing.Annotated[langchain_core.messages.function.FunctionMessage, Tag(tag='function')], typing.Annotated[langchain_core.messages.tool.ToolMessage, Tag(tag='tool')], typing.Annotated[langchain_core.messages.ai.AIMessageChunk, Tag(tag='AIMessageChunk')], typing.Annotated[langchain_core.messages.human.HumanMessageChunk, Tag(tag='HumanMessageChunk')], typing.Annotated[langchain_core.messages.chat.ChatMessageChunk, Tag(tag='ChatMessageChunk')], typing.Annotated[langchain_core.messages.system.SystemMessageChunk, Tag(tag='SystemMessageChunk')], typing.Annotated[langchain_core.messages.function.FunctionMessageChunk, Tag(tag='FunctionMessageChunk')], typing.Annotated[langchain_core.messages.tool.ToolMessageChunk, Tag(tag='ToolMessageChunk')]], FieldInfo(annotation=NoneType, required=True, discriminator=Discriminator(discriminator=<function _get_type at 0x000002092A1ADF80>, custom_error_type=None, custom_error_message=None, custom_error_context=None))]]}, partial_variables={'current_time': 'Time', 'initial_instruction': 'Hi'}, messages=[SystemMessagePromptTemplate(prompt=PromptTemplate(input_variables=['current_time', 'initial_instruction'], input_types={}, partial_variables={}, template='You are an expert AI Researcher. Current Time {current_time} 1, {initial_instruction} 2, Reflect and critique your answer. Be serve to maximize improvement. 3, After the reflection, **list 1-3 search queries separately** for researching improvements. Do not include them inside the reflection. '), additional_kwargs={}), SystemMessagePromptTemplate(prompt=PromptTemplate(input_variables=[], input_types={}, partial_variables={}, template=\"Answer the user's question above usin the required format. You must always return valid JSON fenced by a markdown code block. Do not return any additional text.\"), additional_kwargs={}), MessagesPlaceholder(variable_name='messages')])"
      ]
     },
     "execution_count": 5,
     "metadata": {},
     "output_type": "execute_result"
    }
   ],
   "source": [
    "actor_prompt_template.partial(current_time=\"Time\", initial_instruction=\"Hi\")"
   ]
  },
  {
   "cell_type": "code",
   "execution_count": 6,
   "id": "14ff9949",
   "metadata": {},
   "outputs": [],
   "source": [
    "from pydantic import BaseModel, Field\n",
    "\n",
    "class Reflection(BaseModel):\n",
    "    \"Represents the Reflection\"\n",
    "    missing: str = Field(description = \"Critique of what is missing.\")\n",
    "    superfluous: str = Field(description = \"Critique of what is superfluous.\")\n",
    "\n",
    "\n",
    "class AnswerQuestion(BaseModel):\n",
    "    \"Represents the Answer\"\n",
    "    answer: str = Field(description = \"250 words of detailed answer to this question.\")\n",
    "    search_queries: list[str] = Field(\n",
    "        description = \"1-3 search queries for researching improvements\" \\\n",
    "        \" to address the citique of your current answer.\"\n",
    "    )\n",
    "    reflection: Reflection = Field(description = \"Your reflection to the initial answer.\")"
   ]
  },
  {
   "cell_type": "code",
   "execution_count": 7,
   "id": "1af3f407",
   "metadata": {},
   "outputs": [
    {
     "data": {
      "text/plain": [
       "ChatPromptTemplate(input_variables=['messages'], input_types={'messages': list[typing.Annotated[typing.Union[typing.Annotated[langchain_core.messages.ai.AIMessage, Tag(tag='ai')], typing.Annotated[langchain_core.messages.human.HumanMessage, Tag(tag='human')], typing.Annotated[langchain_core.messages.chat.ChatMessage, Tag(tag='chat')], typing.Annotated[langchain_core.messages.system.SystemMessage, Tag(tag='system')], typing.Annotated[langchain_core.messages.function.FunctionMessage, Tag(tag='function')], typing.Annotated[langchain_core.messages.tool.ToolMessage, Tag(tag='tool')], typing.Annotated[langchain_core.messages.ai.AIMessageChunk, Tag(tag='AIMessageChunk')], typing.Annotated[langchain_core.messages.human.HumanMessageChunk, Tag(tag='HumanMessageChunk')], typing.Annotated[langchain_core.messages.chat.ChatMessageChunk, Tag(tag='ChatMessageChunk')], typing.Annotated[langchain_core.messages.system.SystemMessageChunk, Tag(tag='SystemMessageChunk')], typing.Annotated[langchain_core.messages.function.FunctionMessageChunk, Tag(tag='FunctionMessageChunk')], typing.Annotated[langchain_core.messages.tool.ToolMessageChunk, Tag(tag='ToolMessageChunk')]], FieldInfo(annotation=NoneType, required=True, discriminator=Discriminator(discriminator=<function _get_type at 0x000002092A1ADF80>, custom_error_type=None, custom_error_message=None, custom_error_context=None))]]}, partial_variables={'current_time': '2025-07-18T09:55:30.279219', 'initial_instruction': 'Provide a details 250 words of answer. '}, messages=[SystemMessagePromptTemplate(prompt=PromptTemplate(input_variables=['current_time', 'initial_instruction'], input_types={}, partial_variables={}, template='You are an expert AI Researcher. Current Time {current_time} 1, {initial_instruction} 2, Reflect and critique your answer. Be serve to maximize improvement. 3, After the reflection, **list 1-3 search queries separately** for researching improvements. Do not include them inside the reflection. '), additional_kwargs={}), SystemMessagePromptTemplate(prompt=PromptTemplate(input_variables=[], input_types={}, partial_variables={}, template=\"Answer the user's question above usin the required format. You must always return valid JSON fenced by a markdown code block. Do not return any additional text.\"), additional_kwargs={}), MessagesPlaceholder(variable_name='messages')])\n",
       "| RunnableBinding(bound=ChatWatsonx(model_id='ibm/granite-3-3-8b-instruct', project_id='25fa768b-a90b-433c-b4a4-66bb407af16b', url=SecretStr('**********'), apikey=SecretStr('**********'), params={'temperature': 0.9}, temperature=0.9, watsonx_model=<ibm_watsonx_ai.foundation_models.inference.model_inference.ModelInference object at 0x000002093C75DFD0>), kwargs={'tools': [{'type': 'function', 'function': {'name': 'AnswerQuestion', 'description': 'Represents the Answer', 'parameters': {'properties': {'answer': {'description': '250 words of detailed answer to this question.', 'type': 'string'}, 'search_queries': {'description': '1-3 search queries for researching improvements to address the citique of your current answer.', 'items': {'type': 'string'}, 'type': 'array'}, 'reflection': {'description': 'Represents the Reflection', 'properties': {'missing': {'description': 'Critique of what is missing.', 'type': 'string'}, 'superfluous': {'description': 'Critique of what is superfluous.', 'type': 'string'}}, 'required': ['missing', 'superfluous'], 'type': 'object'}}, 'required': ['answer', 'search_queries', 'reflection'], 'type': 'object'}}}], 'tool_choice': {'type': 'function', 'function': {'name': 'AnswerQuestion'}}}, config={}, config_factories=[])\n",
       "| PydanticToolsParser(tools=[<class '__main__.AnswerQuestion'>])"
      ]
     },
     "execution_count": 7,
     "metadata": {},
     "output_type": "execute_result"
    }
   ],
   "source": [
    "from langchain_core.output_parsers.openai_tools import PydanticToolsParser\n",
    "from datetime import datetime\n",
    "\n",
    "responder_chain = (\n",
    "    actor_prompt_template.partial(current_time = datetime.now().isoformat(), initial_instruction = \"Provide a details 250 words of answer. \") \n",
    "    | llm.bind_tools(tools = [AnswerQuestion], tool_choice = \"AnswerQuestion\")\n",
    "    | PydanticToolsParser(tools = [AnswerQuestion])\n",
    ")\n",
    "\n",
    "responder_chain"
   ]
  },
  {
   "cell_type": "code",
   "execution_count": 8,
   "id": "8ab9462b",
   "metadata": {},
   "outputs": [
    {
     "data": {
      "text/plain": [
       "langchain_core.runnables.base.RunnableSequence"
      ]
     },
     "execution_count": 8,
     "metadata": {},
     "output_type": "execute_result"
    }
   ],
   "source": [
    "type(responder_chain)"
   ]
  },
  {
   "cell_type": "code",
   "execution_count": 11,
   "id": "6aec20bd",
   "metadata": {},
   "outputs": [
    {
     "name": "stdout",
     "output_type": "stream",
     "text": [
      "{\n",
      "\"answer\": \"## How Small Businesses Can Leverage AI for Growth\\n\\nThe integration of Artificial Intelligence (AI) is no longer confined to large corporations and tech-forward companies. Small businesses can and should also harness the power of AI to enhance operations, improve customer experiences, and drive growth. This post explores actionable ways small businesses can leverage AI to foster expansion and stay competitive in an increasingly digital and data-driven marketplace.\\n\\n### 1. Enhancing Customer Service with AI Chatbots\\n\\nSmall businesses can significantly improve customer engagement and satisfaction by implementing AI-driven chatbots on their websites. These chatbots provide 24/7 support, answering frequently asked questions, guiding customers through services, and collecting essential data. This not only ensures a seamless customer experience but also alleviates the workload on human customer service representatives, allowing them to focus on complex issues requiring a human touch.\\n\\n#### Search Queries for Improvement:\\n1. 'Latest AI chatbot platforms for small businesses'\\n2. 'Case studies of small businesses using chatbots effectively'\\n3. 'Regulatory considerations for AI chatbots in customer service'\\n\\n### 2. Personalizing Marketing with AI Analytics\\n\\nAI algorithms can analyze customer data to identify patterns and preferences, enabling small businesses to personalize their marketing efforts. By segmenting audiences based on behavior, demographics, and interests, businesses can tailor content to resonate more effectively. Personalized marketing does not only enhance engagement but can also lead to higher conversion rates.\\n\\n#### Critique:\\n*Missing*: Specific examples of AI tools small businesses could utilize for personalized marketing.\\n*Superfluous*: The explanation of personalization benefits could be more detailed with statistics or case studies.*\\n\\n#### Search Queries for Improvement:\\n1. 'AI tools for personalized marketing on a budget'\\n2. 'Case study: Small business success with AI-driven marketing'\\n3. 'Metrics for measuring the ROI of AI-driven marketing initiatives in small businesses'\\n\\n### 3. Optimizing Operations through Predictive Analytics\\n\\nBy using predictive analytics, small businesses can forecast trends, optimize inventory management, and reduce operational costs. AI models can analyze sales data, seasonal patterns, and external factors to predict future demand accurately. This helps in minimizing overstocking or stockouts, ultimately improving cash flow and customer satisfaction.\\n\\n#### Search Queries for Improvement:\\n1. 'Best AI tools for predictive analytics for small businesses'\\n2. 'Examples of inventory management success with AI'\\n3. 'Data security considerations in AI predictive analytics for SMBs'\\n\\n### 4. Streamlining HR Processes with AI\\n\\nAI can also play a role in human resource management for small businesses. AI-driven applicant tracking systems (ATS) can screen resumes more efficiently than manual methods, reducing bias and saving time. Additionally, AI can aid in workforce planning and talent development by identifying skill gaps and suggesting training programs.\\n\\n#### Critique:\\n*Superfluous*: While discussing AI in HR, mentioning the ethical considerations regarding AI decision-making in recruitment could add depth.*\\n\\n#### Search Queries for Improvement:\\n1. 'Ethical considerations in using AI for recruitment'\\n2. 'Best affordable AI-based ATS for SMBs'\\n3. 'Case studies on AI enhancing workforce development in small companies'\\n\\n### Conclusion\\n\\nSmall businesses have much to gain by strategically incorporating AI into their operations. From enhanced customer service through chatbots to optimizing HR with AI tools, the potential applications are vast. As AI technology becomes more accessible and affordable, small business owners should consider integrating it into their growth strategies. However, it's crucial to approach AI adoption thoughtfully, focusing on solutions that address specific business needs and align with overall goals.\\n\\n###### Reflection:\\n*Missing*: More concrete examples of AI tools tailored for small businesses, including pricing and features. \\n*Superfluous*: The blog post could benefit from more interactive elements such as infographics or a downloadable checklist of AI applications for small businesses.\",\n",
      "\"reflection\": {\n",
      "    \"missing\": \"The response could benefit from specific AI tool recommendations tailored for small businesses, including their pricing and features to make the suggestions more actionable.\",\n",
      "    \"superfluous\": \"While the blog post's content is comprehensive, some sections could be more concrete\n"
     ]
    }
   ],
   "source": [
    "resp = \"{\\n\\\"answer\\\": \\\"## How Small Businesses Can Leverage AI for Growth\\\\n\\\\nThe integration of Artificial Intelligence (AI) is no longer confined to large corporations and tech-forward companies. Small businesses can and should also harness the power of AI to enhance operations, improve customer experiences, and drive growth. This post explores actionable ways small businesses can leverage AI to foster expansion and stay competitive in an increasingly digital and data-driven marketplace.\\\\n\\\\n### 1. Enhancing Customer Service with AI Chatbots\\\\n\\\\nSmall businesses can significantly improve customer engagement and satisfaction by implementing AI-driven chatbots on their websites. These chatbots provide 24/7 support, answering frequently asked questions, guiding customers through services, and collecting essential data. This not only ensures a seamless customer experience but also alleviates the workload on human customer service representatives, allowing them to focus on complex issues requiring a human touch.\\\\n\\\\n#### Search Queries for Improvement:\\\\n1. 'Latest AI chatbot platforms for small businesses'\\\\n2. 'Case studies of small businesses using chatbots effectively'\\\\n3. 'Regulatory considerations for AI chatbots in customer service'\\\\n\\\\n### 2. Personalizing Marketing with AI Analytics\\\\n\\\\nAI algorithms can analyze customer data to identify patterns and preferences, enabling small businesses to personalize their marketing efforts. By segmenting audiences based on behavior, demographics, and interests, businesses can tailor content to resonate more effectively. Personalized marketing does not only enhance engagement but can also lead to higher conversion rates.\\\\n\\\\n#### Critique:\\\\n*Missing*: Specific examples of AI tools small businesses could utilize for personalized marketing.\\\\n*Superfluous*: The explanation of personalization benefits could be more detailed with statistics or case studies.*\\\\n\\\\n#### Search Queries for Improvement:\\\\n1. 'AI tools for personalized marketing on a budget'\\\\n2. 'Case study: Small business success with AI-driven marketing'\\\\n3. 'Metrics for measuring the ROI of AI-driven marketing initiatives in small businesses'\\\\n\\\\n### 3. Optimizing Operations through Predictive Analytics\\\\n\\\\nBy using predictive analytics, small businesses can forecast trends, optimize inventory management, and reduce operational costs. AI models can analyze sales data, seasonal patterns, and external factors to predict future demand accurately. This helps in minimizing overstocking or stockouts, ultimately improving cash flow and customer satisfaction.\\\\n\\\\n#### Search Queries for Improvement:\\\\n1. 'Best AI tools for predictive analytics for small businesses'\\\\n2. 'Examples of inventory management success with AI'\\\\n3. 'Data security considerations in AI predictive analytics for SMBs'\\\\n\\\\n### 4. Streamlining HR Processes with AI\\\\n\\\\nAI can also play a role in human resource management for small businesses. AI-driven applicant tracking systems (ATS) can screen resumes more efficiently than manual methods, reducing bias and saving time. Additionally, AI can aid in workforce planning and talent development by identifying skill gaps and suggesting training programs.\\\\n\\\\n#### Critique:\\\\n*Superfluous*: While discussing AI in HR, mentioning the ethical considerations regarding AI decision-making in recruitment could add depth.*\\\\n\\\\n#### Search Queries for Improvement:\\\\n1. 'Ethical considerations in using AI for recruitment'\\\\n2. 'Best affordable AI-based ATS for SMBs'\\\\n3. 'Case studies on AI enhancing workforce development in small companies'\\\\n\\\\n### Conclusion\\\\n\\\\nSmall businesses have much to gain by strategically incorporating AI into their operations. From enhanced customer service through chatbots to optimizing HR with AI tools, the potential applications are vast. As AI technology becomes more accessible and affordable, small business owners should consider integrating it into their growth strategies. However, it's crucial to approach AI adoption thoughtfully, focusing on solutions that address specific business needs and align with overall goals.\\\\n\\\\n###### Reflection:\\\\n*Missing*: More concrete examples of AI tools tailored for small businesses, including pricing and features. \\\\n*Superfluous*: The blog post could benefit from more interactive elements such as infographics or a downloadable checklist of AI applications for small businesses.\\\",\\n\\\"reflection\\\": {\\n    \\\"missing\\\": \\\"The response could benefit from specific AI tool recommendations tailored for small businesses, including their pricing and features to make the suggestions more actionable.\\\",\\n    \\\"superfluous\\\": \\\"While the blog post's content is comprehensive, some sections could be more concrete\"\n",
    "print(resp)\n"
   ]
  },
  {
   "cell_type": "code",
   "execution_count": 12,
   "id": "2a29db21",
   "metadata": {},
   "outputs": [],
   "source": [
    "response = responder_chain.invoke(\n",
    "    {\"messages\": [HumanMessage(content = \"Write me a blog post on how small business can leverage AI to grow.\")]}\n",
    ")"
   ]
  },
  {
   "cell_type": "code",
   "execution_count": 14,
   "id": "a22aeaa4",
   "metadata": {},
   "outputs": [
    {
     "data": {
      "text/plain": [
       "[AnswerQuestion(answer=\"Title: Harnessing the Power of AI for Small Business Growth\\n\\nArtificial Intelligence (AI) is no longer a futuristic concept; it's a current reality with vast potential for small businesses. Here's how small businesses can leverage AI to fuel their growth.\\n\\n**1. Streamline Operations with AI-Driven Automation**\\nAI can automate routine and time-consuming tasks, allowing small business owners to focus on strategic planning and customer engagement. For instance, AI chatbots can manage customer inquiries 24/7, while AI-powered analytics tools can automate reporting and data analysis.\\n\\n**2. Enhance Customer Experience through Personalization**\\nAI algorithms can analyze customer data and purchasing patterns to offer personalized recommendations and tailored marketing messages. This level of personalization can increase customer satisfaction and loyalty, leading to higher retention rates and sales.\\n\\n**3. Optimize Pricing and Inventory Management**\\nAI-driven pricing tools can analyze real-time market data to help small businesses optimize their pricing strategies. AI can also predict demand for products, helping businesses manage inventory more effectively and avoid overstocking or stockouts.\\n\\n**4. Improve Decision-Making with Insights from Data**\\nSmall businesses often lack the resources for big data analysis. However, AI can bridge this gap by turning complex data into actionable insights. These insights can inform decision-making across various aspects of the business, from marketing strategies to product development.\\n\\n**5. Recruit and Retain Talent with AI-Powered Tools**\\nRecruitment processes can be streamlined with AI tools that sift through resumes, screen candidates, and even predict future job performance. Additionally, AI can help identify training needs and suggest personalized development programs, thereby enhancing employee retention.\\n\\nIn conclusion, AI offers numerous applications for small businesses to drive growth. By automating operations, personalizing customer experiences, optimizing pricing and inventory, providing data-driven insights, and aiding in talent management, small businesses can compete effectively in the modern marketplace.\\n\\n*Reflection*:\\n- The answer provides a broad overview of how AI can benefit small businesses, covering key areas such as automation, personalization, inventory management, decision-making, and talent acquisition. However, it lacks specific examples or case studies that could enrich the discussion and make it more tangible.\\n- Missing: Concrete examples or case studies of small businesses successfully leveraging AI.\\n- Superfluous: The answer could be more engaging with subheadings to break up the text and improve readability.\\n\\n*Search Queries*:\\n1. 'Case studies of small businesses using AI successfully.'\\n2. 'Detailed examples of AI applications in small business operations.'\\n3. 'AI tools specifically designed for small business needs and budgets.'\", search_queries=['case studies of small businesses using AI successfully', 'detailed examples of AI applications in small business operations', 'AI tools for small businesses'], reflection=Reflection(missing='The response lacks concrete case studies or real-world examples demonstrating AI implementation in small businesses. Including such examples could bolster the credibility and practical utility of the advice provided.', superfluous='The blog post format suggestion, while thoughtful, is not actionable within the text-based response format. Future responses could include format recommendations or templates for blog posts if that structuring aid is intended.'))]"
      ]
     },
     "execution_count": 14,
     "metadata": {},
     "output_type": "execute_result"
    }
   ],
   "source": [
    "response"
   ]
  },
  {
   "cell_type": "code",
   "execution_count": 18,
   "id": "91dbd877",
   "metadata": {},
   "outputs": [
    {
     "name": "stdout",
     "output_type": "stream",
     "text": [
      "<class 'list'>\n",
      "<class '__main__.AnswerQuestion'>\n"
     ]
    }
   ],
   "source": [
    "print(type(response)) \n",
    "print(type(response[0]))"
   ]
  },
  {
   "cell_type": "code",
   "execution_count": 22,
   "id": "21a8df66",
   "metadata": {},
   "outputs": [
    {
     "name": "stdout",
     "output_type": "stream",
     "text": [
      "{\n",
      "    \"answer\": \"Title: Harnessing the Power of AI for Small Business Growth\\n\\nArtificial Intelligence (AI) is no longer a futuristic concept; it's a current reality with vast potential for small businesses. Here's how small businesses can leverage AI to fuel their growth.\\n\\n**1. Streamline Operations with AI-Driven Automation**\\nAI can automate routine and time-consuming tasks, allowing small business owners to focus on strategic planning and customer engagement. For instance, AI chatbots can manage customer inquiries 24/7, while AI-powered analytics tools can automate reporting and data analysis.\\n\\n**2. Enhance Customer Experience through Personalization**\\nAI algorithms can analyze customer data and purchasing patterns to offer personalized recommendations and tailored marketing messages. This level of personalization can increase customer satisfaction and loyalty, leading to higher retention rates and sales.\\n\\n**3. Optimize Pricing and Inventory Management**\\nAI-driven pricing tools can analyze real-time market data to help small businesses optimize their pricing strategies. AI can also predict demand for products, helping businesses manage inventory more effectively and avoid overstocking or stockouts.\\n\\n**4. Improve Decision-Making with Insights from Data**\\nSmall businesses often lack the resources for big data analysis. However, AI can bridge this gap by turning complex data into actionable insights. These insights can inform decision-making across various aspects of the business, from marketing strategies to product development.\\n\\n**5. Recruit and Retain Talent with AI-Powered Tools**\\nRecruitment processes can be streamlined with AI tools that sift through resumes, screen candidates, and even predict future job performance. Additionally, AI can help identify training needs and suggest personalized development programs, thereby enhancing employee retention.\\n\\nIn conclusion, AI offers numerous applications for small businesses to drive growth. By automating operations, personalizing customer experiences, optimizing pricing and inventory, providing data-driven insights, and aiding in talent management, small businesses can compete effectively in the modern marketplace.\\n\\n*Reflection*:\\n- The answer provides a broad overview of how AI can benefit small businesses, covering key areas such as automation, personalization, inventory management, decision-making, and talent acquisition. However, it lacks specific examples or case studies that could enrich the discussion and make it more tangible.\\n- Missing: Concrete examples or case studies of small businesses successfully leveraging AI.\\n- Superfluous: The answer could be more engaging with subheadings to break up the text and improve readability.\\n\\n*Search Queries*:\\n1. 'Case studies of small businesses using AI successfully.'\\n2. 'Detailed examples of AI applications in small business operations.'\\n3. 'AI tools specifically designed for small business needs and budgets.'\",\n",
      "    \"search_queries\": [\n",
      "        \"case studies of small businesses using AI successfully\",\n",
      "        \"detailed examples of AI applications in small business operations\",\n",
      "        \"AI tools for small businesses\"\n",
      "    ],\n",
      "    \"reflection\": {\n",
      "        \"missing\": \"The response lacks concrete case studies or real-world examples demonstrating AI implementation in small businesses. Including such examples could bolster the credibility and practical utility of the advice provided.\",\n",
      "        \"superfluous\": \"The blog post format suggestion, while thoughtful, is not actionable within the text-based response format. Future responses could include format recommendations or templates for blog posts if that structuring aid is intended.\"\n",
      "    }\n",
      "}\n"
     ]
    }
   ],
   "source": [
    "print(response[0].model_dump_json(indent = 4))"
   ]
  },
  {
   "cell_type": "code",
   "execution_count": 22,
   "id": "1bc01391",
   "metadata": {},
   "outputs": [],
   "source": [
    "response = responder_chain.invoke(\n",
    "    {\"messages\": [HumanMessage(content = \"Write me a blog post on how LangChain and LangGraph extremly helps to build efficient AI Agents.\")]}\n",
    ")"
   ]
  },
  {
   "cell_type": "code",
   "execution_count": 74,
   "id": "8c3bbaba",
   "metadata": {},
   "outputs": [
    {
     "name": "stdout",
     "output_type": "stream",
     "text": [
      "{\n",
      "    \"answer\": \"Title: Revolutionizing AI Agent Efficiency with LangChain and LangGraph\\n\\nIn the rapidly advancing field of artificial intelligence (AI), the creation of efficient AI agents capable of managing extensive linguistic data has become paramount. LangChain and LangGraph stand out as two pivotal tools driving this transformation.\\n\\n**LangChain and LangGraph: An Overview**\\n\\nLangChain is a progressive framework offering model orchestration, particularly beneficial for sophisticated natural language processing (NLP) tasks. It efficiently directs the interaction and data flow among numerous ML models, forming the backbone of robust AI agents. LangGraph, conversely, introduces a graph-based representation of language, significantly enhancing AI systems' ability to grasp contextual semantics and syntactic relationships within textual information.\\n\\n**Boosting AI Agent Efficiency**\\n\\n1. *Streamlined Workflow with LangChain*: LangChain's prowess in managing intricate model workflows drastically improves linguistic data processing efficiency. By organizing interactions and data exchanges, it minimizes latency and enhances AI agents' performance. Moreover, LangChain's modular and scalable architecture ensures AI agents can evolve alongside escalating data complexity and model sophistication.\\n\\n2. *Contextual Mastery via LangGraph*: LangGraph represents an empowering leap in contextual understanding for AI agents. By modeling language as a graph, it captures nuanced relationships between words and phrases. This capability results in more accurate and relevant responses, elevating the caliber of AI agent interactions.\\n\\n3. *Adaptability and Scalability*: Both LangChain and LangGraph are inherently scalable, accommodating growing needs. Whether integrating new models or expanding existing ones, these tools ensure AI agents' continued performance enhancement without reaching a theoretical limit.\\n\\n**Impact Across Industries**\\n\\nLangChain and LangGraph's potential is vast, with applications spanning numerous sectors. In customer service, context-aware AI agents can deliver highly relevant, personalized responses, significantly enhancing user experience. Content generation benefits from AI agents that produce more coherent, contextually accurate texts. Knowledge management sectors similarly gain from AI agents adept at extracting, synthesizing, and communicating crucial information efficiently.\\n\\n**Conclusion**\\n\\nLangChain and LangGraph are transformative, pushing the boundaries of AI agent efficiency. Through orchestrated model workflows, contextual mastery, and inherent scalability, they're reshaping the landscape of AI capabilities, fostering more seamless human-machine interactions.\\n\\n**Citations**:\\n1. LangChain documentation and community resources.\\n2. Research papers on graph-based NLP approaches.\\n3. Case studies from companies employing LangChain and LangGraph in AI agent development.\",\n",
      "    \"search_queries\": [\n",
      "        \"LangChain AI agent case studies\",\n",
      "        \"LangGraph industry applications\",\n",
      "        \"Efficiency metrics of context-aware AI agents\"\n",
      "    ],\n",
      "    \"reflection\": {\n",
      "        \"missing\": \"The blog post could benefit from concrete case studies or examples detailing AI agents' successful use of LangChain and LangGraph, illustrating their practical value.\",\n",
      "        \"superfluous\": \"While the functionalities of LangChain and LangGraph are explained clearly, some sections could be more concise to maintain a sharper focus on their applications in AI agent development.\"\n",
      "    },\n",
      "    \"citations\": [\n",
      "        \"LangChain documentation and community resources\",\n",
      "        \"Research papers on graph-based NLP approaches\",\n",
      "        \"Case studies from companies employing LangChain and LangGraph in AI agent development\"\n",
      "    ]\n",
      "}\n"
     ]
    }
   ],
   "source": [
    "print(response[0].model_dump_json(indent = 4))"
   ]
  },
  {
   "cell_type": "markdown",
   "id": "4b0645d9",
   "metadata": {},
   "source": [
    "Clear comparison of **PydanticOutputParser** and **PydanticToolsParser**, their advantages, and when to use each:\n",
    "\n",
    "---\n",
    "\n",
    "## 🧩 **PydanticOutputParser**\n",
    "\n",
    "**What it is**:\n",
    "A LangChain **output parser** that transforms LLM-generated JSON-like text into a **Pydantic model** instance (`BaseModel`). It validates and coerces types automatically. ([LangChain][1], [LangChain][2])\n",
    "\n",
    "**Advantages**:\n",
    "\n",
    "* **Structured outputs**: Ensures responses conform to your defined schema.\n",
    "* **Validation logic**: Use Pydantic validators (e.g., check formats, default values).\n",
    "* **Error handling**: Throws clear errors if output fails validation.\n",
    "* **Streaming support**: Can output diffs for real-time parsing. ([LangChain][1])\n",
    "\n",
    "**Use Cases**:\n",
    "\n",
    "* Extracting structured data (dates, numbers, lists) from LLM responses.\n",
    "* Automating data ingestion pipelines.\n",
    "* Wrapping LLMs in type-safe APIs.\n",
    "\n",
    "---\n",
    "\n",
    "## 🔧 **PydanticToolsParser**\n",
    "\n",
    "**What it is**:\n",
    "A specialized **tool-output parser** designed to parse LLM responses that represent a **sequence of tool calls** into Python structures. It expects the LLM to output multiple tools with arguments, then transforms that JSON into Pydantic-style objects. ([LangChain][3])\n",
    "\n",
    "**Advantages**:\n",
    "\n",
    "* **Tool orchestration**: Cleanly parse when LLM suggests multiple tool invocations.\n",
    "* **Schema compliance**: Ensures each tool call and its arguments match expected layout.\n",
    "* **Better integration**: Fits into multi-tool agent workflows.\n",
    "\n",
    "**Use Cases**:\n",
    "\n",
    "* Agents that output actions like `search()`, `get_weather()`, then arguments.\n",
    "* When you want to parse complex, multi-step instruction outputs.\n",
    "\n",
    "---\n",
    "\n",
    "## 📊 Quick Comparison\n",
    "\n",
    "| Feature                | PydanticOutputParser                                                 | PydanticToolsParser                                              |\n",
    "| ---------------------- | -------------------------------------------------------------------- | ---------------------------------------------------------------- |\n",
    "| **Purpose**            | Convert LLM text → one typed model (`BaseModel`)                     | Convert LLM text → sequence of tool call objects                 |\n",
    "| **Schema enforcement** | Validates single structured response                                 | Validates multi-step tool-call structure                         |\n",
    "| **Integrates with**    | Prompt chains, parsing text output to a Pydantic class               | Agent/tool frameworks (OpenAI tool-calling styles)               |\n",
    "| **Streaming support**  | Yes — supports diffs or full models ([LangChain][4], [LangChain][1]) | Not specifically mentioned — focused on parsing completed output |\n",
    "\n",
    "---\n",
    "\n",
    "## ✅ When to Use Which\n",
    "\n",
    "* **Use PydanticOutputParser** when:\n",
    "\n",
    "  * You need to extract structured data (e.g., a JSON report, form input) from the model.\n",
    "  * You want extra validation or defaulting logic in your flow.\n",
    "\n",
    "* **Use PydanticToolsParser** when:\n",
    "\n",
    "  * The model responds with multiple tool calls (e.g., \"tool A with these args, then tool B...\").\n",
    "  * You're building an agent that interprets LLM-generated actions as concrete tool invocation steps.\n",
    "\n",
    "---\n",
    "\n",
    "## ⚙️ Real-World Benefits\n",
    "\n",
    "1. **Reliability**: Forces LLM outputs into strict, expected formats.\n",
    "2. **Maintainsability**: Single source of truth for expected output shapes.\n",
    "3. **Error surface**: Detects many issues (e.g., missing fields, wrong types) early.\n",
    "4. **Integration-friendly**: Fits neatly into pipelines or agent frameworks.\n",
    "5. **Readability**: Downstream code uses `.field_name`, not nested JSON parsing.\n",
    "\n",
    "---\n",
    "\n",
    "**Summary**:\n",
    "\n",
    "* Choose **PydanticOutputParser** to extract a structured object (like a user profile, financial summary, or config).\n",
    "* Choose **PydanticToolsParser** when the LLM output represents a series of **callable instructions or tool invocations**, and you want them parsed cleanly.\n",
    "\n",
    "\n",
    "[1]: https://python.langchain.com/api_reference/core/output_parsers/langchain_core.output_parsers.pydantic.PydanticOutputParser.html?utm_source=chatgpt.com \"PydanticOutputParser — LangChain documentation\"\n",
    "[2]: https://lagnchain.readthedocs.io/en/stable/modules/prompts/output_parsers/examples/pydantic.html?utm_source=chatgpt.com \"PydanticOutputParser — LangChain 0.0.149 - Read the Docs\"\n",
    "[3]: https://python.langchain.com/api_reference/core/output_parsers/langchain_core.output_parsers.openai_tools.PydanticToolsParser.html?utm_source=chatgpt.com \"PydanticToolsParser — LangChain documentation\"\n",
    "[4]: https://python.langchain.com/docs/concepts/output_parsers/?utm_source=chatgpt.com \"Output parsers - ️ LangChain\"\n"
   ]
  },
  {
   "cell_type": "markdown",
   "id": "bee72dbf",
   "metadata": {},
   "source": [
    "## ✅ `llm.with_structured_output(schema=Profile)`\n",
    "\n",
    "### ✅ Internally uses:\n",
    "\n",
    "**`PydanticOutputParser`**\n",
    "\n",
    "* The `Profile` class is treated as the schema for a **single structured output**.\n",
    "* It **expects** the LLM to return a response that matches the `Profile` model directly.\n",
    "* The parsed result will be returned as a `Profile` instance — ready to use.\n",
    "\n",
    "### 💡 Behavior:\n",
    "\n",
    "* Works great for **one-shot** LLM calls where the **entire output** is meant to be parsed into a single Pydantic object.\n",
    "* **Output is single Pydantic object**, not in any nested field.\n",
    "\n",
    "---\n",
    "\n",
    "## ⚠️ `llm.bind_tools(tools=[Profile], tool_choice=\"Profile\")`\n",
    "\n",
    "### Internally designed for:\n",
    "\n",
    "**Tool calling style output**\n",
    "(Like OpenAI function-calling / tool-calling format)\n",
    "\n",
    "* The model returns **tool invocation JSON**, e.g.:\n",
    "\n",
    "  ```json\n",
    "  {\n",
    "    \"tool_calls\": [\n",
    "      {\n",
    "        \"function\": {\n",
    "          \"name\": \"Profile\",\n",
    "          \"arguments\": {\n",
    "            \"name\": \"Alice\",\n",
    "            \"age\": 30\n",
    "          }\n",
    "        }\n",
    "      }\n",
    "    ]\n",
    "  }\n",
    "  ```\n",
    "\n",
    "* This format **does NOT go into `response.content`**, but instead lands in:\n",
    "\n",
    "  ```python\n",
    "  response.additional_kwargs[\"tool_calls\"]\n",
    "  ```\n",
    "\n",
    "---\n",
    "\n",
    "## ❌ Why `PydanticOutputParser` fails here\n",
    "\n",
    "* `PydanticOutputParser` expects raw output like:\n",
    "\n",
    "  ```json\n",
    "  {\n",
    "    \"name\": \"Alice\",\n",
    "    \"age\": 30\n",
    "  }\n",
    "  ```\n",
    "\n",
    "* But `bind_tools()` yields a **wrapped structure** under `tool_calls`, not the plain Pydantic model — so the parser **can’t find the expected fields**.\n",
    "\n",
    "---\n",
    "\n",
    "## ✅ Why `PydanticToolsParser` is correct\n",
    "\n",
    "* `PydanticToolsParser` knows how to parse the OpenAI-style **tool\\_calls** structure.\n",
    "* It locates the correct tool name (`Profile`) and unpacks the arguments into a proper `Profile` instance.\n",
    "\n",
    "---\n",
    "\n",
    "### 🔁 Summary\n",
    "\n",
    "| Method                                | Parser Used              | Expected Output Format        | Response Field                             |\n",
    "| ------------------------------------- | ------------------------ | ----------------------------- | ------------------------------------------ |\n",
    "| `llm.with_structured_output(Profile)` | ✅ `PydanticOutputParser` | Just the Pydantic model       | `response.content`                         |\n",
    "| `llm.bind_tools(tools=[Profile])`     | ✅ `PydanticToolsParser`  | Tool-call JSON (OpenAI-style) | `response.additional_kwargs[\"tool_calls\"]` |\n",
    "\n",
    "---\n",
    "\n",
    "### 🧪 Pro Tip\n",
    "\n",
    "If you want to extract and validate the tool output from `llm.bind_tools(...)`, do:\n",
    "\n",
    "```python\n",
    "from langchain.output_parsers.openai_tools import PydanticToolsParser\n",
    "\n",
    "parser = PydanticToolsParser(tools=[Profile])\n",
    "parsed = parser.parse_result(llm_response)\n",
    "```\n",
    "\n"
   ]
  },
  {
   "cell_type": "code",
   "execution_count": null,
   "id": "3959efed",
   "metadata": {},
   "outputs": [],
   "source": []
  },
  {
   "cell_type": "code",
   "execution_count": null,
   "id": "69af3207",
   "metadata": {},
   "outputs": [],
   "source": []
  },
  {
   "cell_type": "code",
   "execution_count": null,
   "id": "f56ce7d1",
   "metadata": {},
   "outputs": [],
   "source": []
  },
  {
   "cell_type": "markdown",
   "id": "68ae5d36",
   "metadata": {},
   "source": [
    "## Revisor Chain Building"
   ]
  },
  {
   "cell_type": "code",
   "execution_count": 23,
   "id": "665ba234",
   "metadata": {},
   "outputs": [
    {
     "name": "stdout",
     "output_type": "stream",
     "text": [
      "\n",
      "    Revise your previous answer using the new information.\n",
      "    - You should use the previous critique to add important information to your answer.\n",
      "    - Your MUST include numerical citations in your revised answer to measure it can be verified.\n",
      "    - Add a \"References\" section to the bottom of your answer(which does not count towards the word limit). In form of\n",
      "        - [1] https://example1.com\n",
      "        - [2] https://example2.com\n",
      "    -You should use the previous critique to remove superfluous information from your answer and make SURE it is not more than 250 words.\n",
      "\n",
      "\n"
     ]
    }
   ],
   "source": [
    "revise_instructions: str = \"\"\"\n",
    "    Revise your previous answer using the new information.\n",
    "    - You should use the previous critique to add important information to your answer.\n",
    "    - Your MUST include numerical citations in your revised answer to measure it can be verified.\n",
    "    - Add a \"References\" section to the bottom of your answer(which does not count towards the word limit). In form of\n",
    "        - [1] https://example1.com\n",
    "        - [2] https://example2.com\n",
    "    -You should use the previous critique to remove superfluous information from your answer and make SURE it is not more than 250 words.\n",
    "\n",
    "\"\"\"\n",
    "print(revise_instructions)"
   ]
  },
  {
   "cell_type": "code",
   "execution_count": 24,
   "id": "369f2e0c",
   "metadata": {},
   "outputs": [],
   "source": [
    "class ReviseAnswer(AnswerQuestion):\n",
    "    \"Represents the ReviseAnswer schema.\"\n",
    "    citations: list[str] = Field(\n",
    "        description = \"Citations motivating your updated answer.\"\n",
    "    ) "
   ]
  },
  {
   "cell_type": "code",
   "execution_count": 64,
   "id": "3e0bce84",
   "metadata": {},
   "outputs": [
    {
     "data": {
      "text/plain": [
       "ChatPromptTemplate(input_variables=['messages'], input_types={'messages': list[typing.Annotated[typing.Union[typing.Annotated[langchain_core.messages.ai.AIMessage, Tag(tag='ai')], typing.Annotated[langchain_core.messages.human.HumanMessage, Tag(tag='human')], typing.Annotated[langchain_core.messages.chat.ChatMessage, Tag(tag='chat')], typing.Annotated[langchain_core.messages.system.SystemMessage, Tag(tag='system')], typing.Annotated[langchain_core.messages.function.FunctionMessage, Tag(tag='function')], typing.Annotated[langchain_core.messages.tool.ToolMessage, Tag(tag='tool')], typing.Annotated[langchain_core.messages.ai.AIMessageChunk, Tag(tag='AIMessageChunk')], typing.Annotated[langchain_core.messages.human.HumanMessageChunk, Tag(tag='HumanMessageChunk')], typing.Annotated[langchain_core.messages.chat.ChatMessageChunk, Tag(tag='ChatMessageChunk')], typing.Annotated[langchain_core.messages.system.SystemMessageChunk, Tag(tag='SystemMessageChunk')], typing.Annotated[langchain_core.messages.function.FunctionMessageChunk, Tag(tag='FunctionMessageChunk')], typing.Annotated[langchain_core.messages.tool.ToolMessageChunk, Tag(tag='ToolMessageChunk')]], FieldInfo(annotation=NoneType, required=True, discriminator=Discriminator(discriminator=<function _get_type at 0x000002092A1ADF80>, custom_error_type=None, custom_error_message=None, custom_error_context=None))]]}, partial_variables={'current_time': '2025-07-18T10:47:48.521323', 'initial_instruction': '\\n    Revise your previous answer using the new information.\\n    - You should use the previous critique to add important information to your answer.\\n    - Your MUST include numerical citations in your revised answer to measure it can be verified.\\n    - Add a \"References\" section to the bottom of your answer(which does not count towards the word limit). In form of\\n        - [1] https://example1.com\\n        - [2] https://example2.com\\n    -You should use the previous critique to remove superfluous information from your answer and make SURE it is not more than 250 words.\\n\\n'}, messages=[SystemMessagePromptTemplate(prompt=PromptTemplate(input_variables=['current_time', 'initial_instruction'], input_types={}, partial_variables={}, template='You are an expert AI Researcher. Current Time {current_time} 1, {initial_instruction} 2, Reflect and critique your answer. Be serve to maximize improvement. 3, After the reflection, **list 1-3 search queries separately** for researching improvements. Do not include them inside the reflection. '), additional_kwargs={}), SystemMessagePromptTemplate(prompt=PromptTemplate(input_variables=[], input_types={}, partial_variables={}, template=\"Answer the user's question above usin the required format. You must always return valid JSON fenced by a markdown code block. Do not return any additional text.\"), additional_kwargs={}), MessagesPlaceholder(variable_name='messages')])\n",
       "| RunnableBinding(bound=ChatWatsonx(model_id='ibm/granite-3-3-8b-instruct', project_id='25fa768b-a90b-433c-b4a4-66bb407af16b', url=SecretStr('**********'), apikey=SecretStr('**********'), params={'temperature': 0.9}, temperature=0.9, watsonx_model=<ibm_watsonx_ai.foundation_models.inference.model_inference.ModelInference object at 0x000002093C75DFD0>), kwargs={'tools': [{'type': 'function', 'function': {'name': 'ReviseAnswer', 'description': 'Represents the ReviseAnswer schema.', 'parameters': {'properties': {'answer': {'description': '250 words of detailed answer to this question.', 'type': 'string'}, 'search_queries': {'description': '1-3 search queries for researching improvements to address the citique of your current answer.', 'items': {'type': 'string'}, 'type': 'array'}, 'reflection': {'description': 'Represents the Reflection', 'properties': {'missing': {'description': 'Critique of what is missing.', 'type': 'string'}, 'superfluous': {'description': 'Critique of what is superfluous.', 'type': 'string'}}, 'required': ['missing', 'superfluous'], 'type': 'object'}, 'citations': {'description': 'Citations motivating your updated answer.', 'items': {'type': 'string'}, 'type': 'array'}}, 'required': ['answer', 'search_queries', 'reflection', 'citations'], 'type': 'object'}}}], 'tool_choice': {'type': 'function', 'function': {'name': 'ReviseAnswer'}}}, config={}, config_factories=[])"
      ]
     },
     "execution_count": 64,
     "metadata": {},
     "output_type": "execute_result"
    }
   ],
   "source": [
    "revisor_chain = (\n",
    "    actor_prompt_template.partial(\n",
    "        current_time = datetime.now().isoformat(),\n",
    "        initial_instruction = revise_instructions\n",
    "    )\n",
    "    | llm.bind_tools(tools = [ReviseAnswer], tool_choice = \"ReviseAnswer\")\n",
    "    # | PydanticToolsParser(tools = [ReviseAnswer])\n",
    ")\n",
    "revisor_chain"
   ]
  },
  {
   "cell_type": "code",
   "execution_count": 65,
   "id": "5ae273c2",
   "metadata": {},
   "outputs": [
    {
     "data": {
      "text/plain": [
       "AIMessage(content=[{'answer': \"Title: Revolutionizing AI Agent Efficiency with LangChain and LangGraph\\n\\nThe realm of artificial intelligence (AI) is constantly evolving, and recent advancements have placed significant emphasis on building autonomous AI agents capable of efficiently processing and utilizing vast amounts of linguistic data. Two instrumental tools driving this revolution are LangChain and LangGraph.\\n\\n**Understanding LangChain and LangGraph**\\n\\nLangChain, an innovative framework, facilitates the orchestration of machine learning (ML) models, specifically tailored for natural language processing (NLP) tasks. It efficiently handles complex workflows involving multiple NLP models, allowing seamless interaction and data exchange, and thus, paving the way for robust AI agents. On the other hand, LangGraph represents a graph-based representation of language, enabling AI systems to capture the contextual semantics and syntactic relationships within text data more effectively.\\n\\n**Efficiency in AI Agents via LangChain and LangGraph**\\n\\n1. *Orchestration and Workflow Management*: LangChain's ability to manage the intricate workflows of multiple NLP models ensures an organized and efficient processing of linguistic data. This streamlined approach reduces latency and enhances the overall performance of AI agents. By enabling modular and scalable architectures, LangChain ensures that AI agents can adapt and grow with increasing data complexity and model sophistication.\\n\\n2. *Enhanced Contextual Understanding through LangGraph*: LangGraph's capability to model language as a graph allows AI agents to harness contextual information more effectively. This contextual awareness dramatically improves the accuracy and relevance of AI agents' responses, as they can draw upon nuanced relationships between words and phrases within a text. Consequently, this elevates the quality of interactions and the utility of AI agents in various applications.\\n\\n3. *Scalability and Flexibility*: Both LangChain and LangGraph are built with scalability in mind. As an AI agent's requirements grow, these tools can accommodate new models and expand existing ones, ensuring that performance doesn't plateau. This adaptability makes them ideal for developing AI agents capable of handling diverse tasks across varied domains.\\n\\n**Real-world Applications and Impact**\\n\\nThe synergy between LangChain and LangGraph holds immense potential across industries. In customer service, AI agents equipped with these tools can offer nuanced, contextually relevant responses, enhancing user satisfaction. In content generation, such agents can produce more coherent and contextually accurate text. Furthermore, in knowledge management sectors, LangChain and LangGraph can empower AI agents to efficiently extract, synthesize, and communicate critical information.\\n\\n**Conclusion**\\n\\nLangChain and LangGraph are transformative tools that significantly bolster the efficiency of AI agents. By providing robust orchestration, context-aware processing, and exceptional scalability, they unlock new frontiers in AI capability. As research in this space progresses, the seamless integration of these technologies promises even more refined and capable AI agents, further blurring the lines between human-machine interaction.\", 'search_queries': ['LangChain AI agent examples', 'LangGraph use cases', 'Contextual AI agent efficiency benchmarks'], 'reflection': {'missing': 'The blog post lacks real-world case studies or specific examples of AI agents utilizing LangChain and LangGraph, which could better demonstrate their practical application and impact.', 'superfluous': \"The explanation of LangChain and LangGraph's functionalities can be condensed to reduce redundancy and maintain focus on their utility in AI agent development.\"}}], additional_kwargs={}, response_metadata={})"
      ]
     },
     "execution_count": 65,
     "metadata": {},
     "output_type": "execute_result"
    }
   ],
   "source": [
    "previous_response = {\n",
    "    \"answer\": \"Title: Revolutionizing AI Agent Efficiency with LangChain and LangGraph\\n\\nThe realm of artificial intelligence (AI) is constantly evolving, and recent advancements have placed significant emphasis on building autonomous AI agents capable of efficiently processing and utilizing vast amounts of linguistic data. Two instrumental tools driving this revolution are LangChain and LangGraph.\\n\\n**Understanding LangChain and LangGraph**\\n\\nLangChain, an innovative framework, facilitates the orchestration of machine learning (ML) models, specifically tailored for natural language processing (NLP) tasks. It efficiently handles complex workflows involving multiple NLP models, allowing seamless interaction and data exchange, and thus, paving the way for robust AI agents. On the other hand, LangGraph represents a graph-based representation of language, enabling AI systems to capture the contextual semantics and syntactic relationships within text data more effectively.\\n\\n**Efficiency in AI Agents via LangChain and LangGraph**\\n\\n1. *Orchestration and Workflow Management*: LangChain's ability to manage the intricate workflows of multiple NLP models ensures an organized and efficient processing of linguistic data. This streamlined approach reduces latency and enhances the overall performance of AI agents. By enabling modular and scalable architectures, LangChain ensures that AI agents can adapt and grow with increasing data complexity and model sophistication.\\n\\n2. *Enhanced Contextual Understanding through LangGraph*: LangGraph's capability to model language as a graph allows AI agents to harness contextual information more effectively. This contextual awareness dramatically improves the accuracy and relevance of AI agents' responses, as they can draw upon nuanced relationships between words and phrases within a text. Consequently, this elevates the quality of interactions and the utility of AI agents in various applications.\\n\\n3. *Scalability and Flexibility*: Both LangChain and LangGraph are built with scalability in mind. As an AI agent's requirements grow, these tools can accommodate new models and expand existing ones, ensuring that performance doesn't plateau. This adaptability makes them ideal for developing AI agents capable of handling diverse tasks across varied domains.\\n\\n**Real-world Applications and Impact**\\n\\nThe synergy between LangChain and LangGraph holds immense potential across industries. In customer service, AI agents equipped with these tools can offer nuanced, contextually relevant responses, enhancing user satisfaction. In content generation, such agents can produce more coherent and contextually accurate text. Furthermore, in knowledge management sectors, LangChain and LangGraph can empower AI agents to efficiently extract, synthesize, and communicate critical information.\\n\\n**Conclusion**\\n\\nLangChain and LangGraph are transformative tools that significantly bolster the efficiency of AI agents. By providing robust orchestration, context-aware processing, and exceptional scalability, they unlock new frontiers in AI capability. As research in this space progresses, the seamless integration of these technologies promises even more refined and capable AI agents, further blurring the lines between human-machine interaction.\",\n",
    "    \"search_queries\": [\n",
    "        \"LangChain AI agent examples\",\n",
    "        \"LangGraph use cases\",\n",
    "        \"Contextual AI agent efficiency benchmarks\"\n",
    "    ],\n",
    "    \"reflection\": {\n",
    "        \"missing\": \"The blog post lacks real-world case studies or specific examples of AI agents utilizing LangChain and LangGraph, which could better demonstrate their practical application and impact.\",\n",
    "        \"superfluous\": \"The explanation of LangChain and LangGraph's functionalities can be condensed to reduce redundancy and maintain focus on their utility in AI agent development.\"\n",
    "    }\n",
    "}\n",
    "AIMessage([previous_response])"
   ]
  },
  {
   "cell_type": "code",
   "execution_count": 66,
   "id": "a7d5ccd7",
   "metadata": {},
   "outputs": [
    {
     "data": {
      "text/plain": [
       "{'answer': \"Title: Revolutionizing AI Agent Efficiency with LangChain and LangGraph\\n\\nThe realm of artificial intelligence (AI) is constantly evolving, and recent advancements have placed significant emphasis on building autonomous AI agents capable of efficiently processing and utilizing vast amounts of linguistic data. Two instrumental tools driving this revolution are LangChain and LangGraph.\\n\\n**Understanding LangChain and LangGraph**\\n\\nLangChain, an innovative framework, facilitates the orchestration of machine learning (ML) models, specifically tailored for natural language processing (NLP) tasks. It efficiently handles complex workflows involving multiple NLP models, allowing seamless interaction and data exchange, and thus, paving the way for robust AI agents. On the other hand, LangGraph represents a graph-based representation of language, enabling AI systems to capture the contextual semantics and syntactic relationships within text data more effectively.\\n\\n**Efficiency in AI Agents via LangChain and LangGraph**\\n\\n1. *Orchestration and Workflow Management*: LangChain's ability to manage the intricate workflows of multiple NLP models ensures an organized and efficient processing of linguistic data. This streamlined approach reduces latency and enhances the overall performance of AI agents. By enabling modular and scalable architectures, LangChain ensures that AI agents can adapt and grow with increasing data complexity and model sophistication.\\n\\n2. *Enhanced Contextual Understanding through LangGraph*: LangGraph's capability to model language as a graph allows AI agents to harness contextual information more effectively. This contextual awareness dramatically improves the accuracy and relevance of AI agents' responses, as they can draw upon nuanced relationships between words and phrases within a text. Consequently, this elevates the quality of interactions and the utility of AI agents in various applications.\\n\\n3. *Scalability and Flexibility*: Both LangChain and LangGraph are built with scalability in mind. As an AI agent's requirements grow, these tools can accommodate new models and expand existing ones, ensuring that performance doesn't plateau. This adaptability makes them ideal for developing AI agents capable of handling diverse tasks across varied domains.\\n\\n**Real-world Applications and Impact**\\n\\nThe synergy between LangChain and LangGraph holds immense potential across industries. In customer service, AI agents equipped with these tools can offer nuanced, contextually relevant responses, enhancing user satisfaction. In content generation, such agents can produce more coherent and contextually accurate text. Furthermore, in knowledge management sectors, LangChain and LangGraph can empower AI agents to efficiently extract, synthesize, and communicate critical information.\\n\\n**Conclusion**\\n\\nLangChain and LangGraph are transformative tools that significantly bolster the efficiency of AI agents. By providing robust orchestration, context-aware processing, and exceptional scalability, they unlock new frontiers in AI capability. As research in this space progresses, the seamless integration of these technologies promises even more refined and capable AI agents, further blurring the lines between human-machine interaction.\",\n",
       " 'search_queries': ['LangChain AI agent examples',\n",
       "  'LangGraph use cases',\n",
       "  'Contextual AI agent efficiency benchmarks'],\n",
       " 'reflection': {'missing': 'The blog post lacks real-world case studies or specific examples of AI agents utilizing LangChain and LangGraph, which could better demonstrate their practical application and impact.',\n",
       "  'superfluous': \"The explanation of LangChain and LangGraph's functionalities can be condensed to reduce redundancy and maintain focus on their utility in AI agent development.\"}}"
      ]
     },
     "execution_count": 66,
     "metadata": {},
     "output_type": "execute_result"
    }
   ],
   "source": [
    "import json \n",
    "\n",
    "json.loads(json.dumps(previous_response))"
   ]
  },
  {
   "cell_type": "code",
   "execution_count": 67,
   "id": "882a1d6a",
   "metadata": {},
   "outputs": [],
   "source": [
    "response = revisor_chain.invoke(\n",
    "    {\n",
    "        \"messages\":  [\n",
    "            HumanMessage(content = \"Write me a blog post on how LangChain and LangGraph extremly helps to build efficient AI Agents.\"),\n",
    "            AIMessage(content = json.dumps(previous_response)), # Change the dictonary or json like object into json like string to work with LLM.\n",
    "        ]\n",
    "    }\n",
    ")"
   ]
  },
  {
   "cell_type": "code",
   "execution_count": 68,
   "id": "28136bd8",
   "metadata": {},
   "outputs": [
    {
     "data": {
      "text/plain": [
       "AIMessage(content='', additional_kwargs={'tool_calls': [{'id': 'chatcmpl-tool-b8c9e4988fb940deb61a3de245b54ecc', 'type': 'function', 'function': {'name': 'ReviseAnswer', 'arguments': '{\"answer\": \"Title: Elevating AI Agent Capabilities with LangChain and LangGraph\\\\n\\\\nIn the dynamic landscape of artificial intelligence (AI), the development of efficient AI agents is paramount. Two key tools that are catalyzing this progress are LangChain and LangGraph. This article elucidates how these technologies bolster AI agents\\' efficiency, scalability, and contextual understanding.\\\\n\\\\n**LangChain and LangGraph: An Overview**\\\\n\\\\nLangChain is an advanced framework designed for orchestrating machine learning (ML) models, with a special emphasis on natural language processing (NLP). It excels in managing complex workflows that involve multiple NLP models, ensuring smooth interaction and data exchange. Meanwhile, LangGraph represents a novel approach to language representation through graph models, offering a more intuitive way to capture contextual and syntactic relationships within text data.\\\\n\\\\n**Boosting AI Agent Efficiency**\\\\n\\\\n1. *Workflow Orchestration with LangChain*: LangChain\\'s capacity to orchestrate workflows simplifies the handling of intricate NLP tasks, ensuring efficient processing of linguistic data. This results in reduced latency and improved performance of AI agents. Its modular and scalable architecture allows AI agents to grow and adapt as data complexity and model sophistication increase.\\\\n\\\\n2. *Deep Contextual Understanding via LangGraph*: LangGraph’s graph-based language representation empowers AI agents to comprehend context more profoundly. This higher level of contextual awareness leads to more accurate and relevant responses, enhancing the quality of interactions and the utility of AI agents across industries.\\\\n\\\\n3. *Scalability and Flexibility*: The design philosophy of both LangChain and LangGraph prioritizes scalability. As AI agents\\' demands escalate, these tools accommodate additional models or expand existing ones, ensuring performance scalability.\\\\n\\\\n**Applications and Impact**\\\\n\\\\nThe amalgamation of LangChain and LangGraph heralds a new era in AI agent capabilities. In customer service, AI agents utilizing these technologies can furnish users with nuanced, contextually pertinent responses, thus elevating user satisfaction. In content creation, such agents can generate more coherent and contextually precise text. Additionally, in knowledge management sectors, LangChain and LangGraph can empower AI agents to efficiently distill, synthesize, and convey vital information.\\\\n\\\\n**Conclusion**\\\\n\\\\nLangChain and LangGraph are instrumental in elevating AI agents’ efficiency, contextual understanding, and scalability. By streamlining workflows, deepening contextual comprehension, and ensuring scalability, these tools open new horizons in AI agent development. As research matures, their seamless integration is expected to produce even more sophisticated and capable AI agents.\\\\n\\\\n**Citations**:\\\\n1. LangChain official documentation.\\\\n2. Research papers on LangGraph\\'s contextual embeddings.\\\\n3. Case studies on AI agents leveraging LangChain for enhanced efficiency.\", \"citations\": [\"LangChain official documentation\", \"Research papers on LangGraph\\'s contextual embeddings\", \"Case studies on AI agents leveraging LangChain for enhanced efficiency\"], \"reflection\": {\"missing\": \"Concrete examples or case studies illustrating LangChain and LangGraph in practical AI agent applications are absent, which could have solidified the argument with empirical evidence.\", \"superfluous\": \"While the explanation of LangChain and LangGraph\\'s functionalities is comprehensive, some sections could be streamlined for a more focused discussion on their application in AI agent development.\"},\"search_queries\": [\"LangChain for AI agent development\", \"LangGraph\\'s role in contextual AI\", \"Scalable AI agent architectures\"]}'}}]}, response_metadata={'token_usage': {'completion_tokens': 803, 'prompt_tokens': 1189, 'total_tokens': 1992}, 'model_name': 'ibm/granite-3-3-8b-instruct', 'system_fingerprint': '', 'finish_reason': 'stop'}, id='chatcmpl-281f349c-dc2c-4e42-be4b-d12a6ad1eebf---d3e25b5e8d02c39bc7dbf63808e5f9e3---118a4667-fbda-4b8c-84f6-7d4bac9dce06', tool_calls=[{'name': 'ReviseAnswer', 'args': {'answer': \"Title: Elevating AI Agent Capabilities with LangChain and LangGraph\\n\\nIn the dynamic landscape of artificial intelligence (AI), the development of efficient AI agents is paramount. Two key tools that are catalyzing this progress are LangChain and LangGraph. This article elucidates how these technologies bolster AI agents' efficiency, scalability, and contextual understanding.\\n\\n**LangChain and LangGraph: An Overview**\\n\\nLangChain is an advanced framework designed for orchestrating machine learning (ML) models, with a special emphasis on natural language processing (NLP). It excels in managing complex workflows that involve multiple NLP models, ensuring smooth interaction and data exchange. Meanwhile, LangGraph represents a novel approach to language representation through graph models, offering a more intuitive way to capture contextual and syntactic relationships within text data.\\n\\n**Boosting AI Agent Efficiency**\\n\\n1. *Workflow Orchestration with LangChain*: LangChain's capacity to orchestrate workflows simplifies the handling of intricate NLP tasks, ensuring efficient processing of linguistic data. This results in reduced latency and improved performance of AI agents. Its modular and scalable architecture allows AI agents to grow and adapt as data complexity and model sophistication increase.\\n\\n2. *Deep Contextual Understanding via LangGraph*: LangGraph’s graph-based language representation empowers AI agents to comprehend context more profoundly. This higher level of contextual awareness leads to more accurate and relevant responses, enhancing the quality of interactions and the utility of AI agents across industries.\\n\\n3. *Scalability and Flexibility*: The design philosophy of both LangChain and LangGraph prioritizes scalability. As AI agents' demands escalate, these tools accommodate additional models or expand existing ones, ensuring performance scalability.\\n\\n**Applications and Impact**\\n\\nThe amalgamation of LangChain and LangGraph heralds a new era in AI agent capabilities. In customer service, AI agents utilizing these technologies can furnish users with nuanced, contextually pertinent responses, thus elevating user satisfaction. In content creation, such agents can generate more coherent and contextually precise text. Additionally, in knowledge management sectors, LangChain and LangGraph can empower AI agents to efficiently distill, synthesize, and convey vital information.\\n\\n**Conclusion**\\n\\nLangChain and LangGraph are instrumental in elevating AI agents’ efficiency, contextual understanding, and scalability. By streamlining workflows, deepening contextual comprehension, and ensuring scalability, these tools open new horizons in AI agent development. As research matures, their seamless integration is expected to produce even more sophisticated and capable AI agents.\\n\\n**Citations**:\\n1. LangChain official documentation.\\n2. Research papers on LangGraph's contextual embeddings.\\n3. Case studies on AI agents leveraging LangChain for enhanced efficiency.\", 'citations': ['LangChain official documentation', \"Research papers on LangGraph's contextual embeddings\", 'Case studies on AI agents leveraging LangChain for enhanced efficiency'], 'reflection': {'missing': 'Concrete examples or case studies illustrating LangChain and LangGraph in practical AI agent applications are absent, which could have solidified the argument with empirical evidence.', 'superfluous': \"While the explanation of LangChain and LangGraph's functionalities is comprehensive, some sections could be streamlined for a more focused discussion on their application in AI agent development.\"}, 'search_queries': ['LangChain for AI agent development', \"LangGraph's role in contextual AI\", 'Scalable AI agent architectures']}, 'id': 'chatcmpl-tool-b8c9e4988fb940deb61a3de245b54ecc', 'type': 'tool_call'}], usage_metadata={'input_tokens': 1189, 'output_tokens': 803, 'total_tokens': 1992})"
      ]
     },
     "execution_count": 68,
     "metadata": {},
     "output_type": "execute_result"
    }
   ],
   "source": [
    "response"
   ]
  },
  {
   "cell_type": "code",
   "execution_count": 69,
   "id": "2f98a4d3",
   "metadata": {},
   "outputs": [
    {
     "data": {
      "text/plain": [
       "{'lc': 1,\n",
       " 'type': 'constructor',\n",
       " 'id': ['langchain', 'schema', 'messages', 'AIMessage'],\n",
       " 'kwargs': {'content': '',\n",
       "  'additional_kwargs': {'tool_calls': [{'id': 'chatcmpl-tool-b8c9e4988fb940deb61a3de245b54ecc',\n",
       "     'type': 'function',\n",
       "     'function': {'name': 'ReviseAnswer',\n",
       "      'arguments': '{\"answer\": \"Title: Elevating AI Agent Capabilities with LangChain and LangGraph\\\\n\\\\nIn the dynamic landscape of artificial intelligence (AI), the development of efficient AI agents is paramount. Two key tools that are catalyzing this progress are LangChain and LangGraph. This article elucidates how these technologies bolster AI agents\\' efficiency, scalability, and contextual understanding.\\\\n\\\\n**LangChain and LangGraph: An Overview**\\\\n\\\\nLangChain is an advanced framework designed for orchestrating machine learning (ML) models, with a special emphasis on natural language processing (NLP). It excels in managing complex workflows that involve multiple NLP models, ensuring smooth interaction and data exchange. Meanwhile, LangGraph represents a novel approach to language representation through graph models, offering a more intuitive way to capture contextual and syntactic relationships within text data.\\\\n\\\\n**Boosting AI Agent Efficiency**\\\\n\\\\n1. *Workflow Orchestration with LangChain*: LangChain\\'s capacity to orchestrate workflows simplifies the handling of intricate NLP tasks, ensuring efficient processing of linguistic data. This results in reduced latency and improved performance of AI agents. Its modular and scalable architecture allows AI agents to grow and adapt as data complexity and model sophistication increase.\\\\n\\\\n2. *Deep Contextual Understanding via LangGraph*: LangGraph’s graph-based language representation empowers AI agents to comprehend context more profoundly. This higher level of contextual awareness leads to more accurate and relevant responses, enhancing the quality of interactions and the utility of AI agents across industries.\\\\n\\\\n3. *Scalability and Flexibility*: The design philosophy of both LangChain and LangGraph prioritizes scalability. As AI agents\\' demands escalate, these tools accommodate additional models or expand existing ones, ensuring performance scalability.\\\\n\\\\n**Applications and Impact**\\\\n\\\\nThe amalgamation of LangChain and LangGraph heralds a new era in AI agent capabilities. In customer service, AI agents utilizing these technologies can furnish users with nuanced, contextually pertinent responses, thus elevating user satisfaction. In content creation, such agents can generate more coherent and contextually precise text. Additionally, in knowledge management sectors, LangChain and LangGraph can empower AI agents to efficiently distill, synthesize, and convey vital information.\\\\n\\\\n**Conclusion**\\\\n\\\\nLangChain and LangGraph are instrumental in elevating AI agents’ efficiency, contextual understanding, and scalability. By streamlining workflows, deepening contextual comprehension, and ensuring scalability, these tools open new horizons in AI agent development. As research matures, their seamless integration is expected to produce even more sophisticated and capable AI agents.\\\\n\\\\n**Citations**:\\\\n1. LangChain official documentation.\\\\n2. Research papers on LangGraph\\'s contextual embeddings.\\\\n3. Case studies on AI agents leveraging LangChain for enhanced efficiency.\", \"citations\": [\"LangChain official documentation\", \"Research papers on LangGraph\\'s contextual embeddings\", \"Case studies on AI agents leveraging LangChain for enhanced efficiency\"], \"reflection\": {\"missing\": \"Concrete examples or case studies illustrating LangChain and LangGraph in practical AI agent applications are absent, which could have solidified the argument with empirical evidence.\", \"superfluous\": \"While the explanation of LangChain and LangGraph\\'s functionalities is comprehensive, some sections could be streamlined for a more focused discussion on their application in AI agent development.\"},\"search_queries\": [\"LangChain for AI agent development\", \"LangGraph\\'s role in contextual AI\", \"Scalable AI agent architectures\"]}'}}]},\n",
       "  'response_metadata': {'token_usage': {'completion_tokens': 803,\n",
       "    'prompt_tokens': 1189,\n",
       "    'total_tokens': 1992},\n",
       "   'model_name': 'ibm/granite-3-3-8b-instruct',\n",
       "   'system_fingerprint': '',\n",
       "   'finish_reason': 'stop'},\n",
       "  'type': 'ai',\n",
       "  'id': 'chatcmpl-281f349c-dc2c-4e42-be4b-d12a6ad1eebf---d3e25b5e8d02c39bc7dbf63808e5f9e3---118a4667-fbda-4b8c-84f6-7d4bac9dce06',\n",
       "  'tool_calls': [{'name': 'ReviseAnswer',\n",
       "    'args': {'answer': \"Title: Elevating AI Agent Capabilities with LangChain and LangGraph\\n\\nIn the dynamic landscape of artificial intelligence (AI), the development of efficient AI agents is paramount. Two key tools that are catalyzing this progress are LangChain and LangGraph. This article elucidates how these technologies bolster AI agents' efficiency, scalability, and contextual understanding.\\n\\n**LangChain and LangGraph: An Overview**\\n\\nLangChain is an advanced framework designed for orchestrating machine learning (ML) models, with a special emphasis on natural language processing (NLP). It excels in managing complex workflows that involve multiple NLP models, ensuring smooth interaction and data exchange. Meanwhile, LangGraph represents a novel approach to language representation through graph models, offering a more intuitive way to capture contextual and syntactic relationships within text data.\\n\\n**Boosting AI Agent Efficiency**\\n\\n1. *Workflow Orchestration with LangChain*: LangChain's capacity to orchestrate workflows simplifies the handling of intricate NLP tasks, ensuring efficient processing of linguistic data. This results in reduced latency and improved performance of AI agents. Its modular and scalable architecture allows AI agents to grow and adapt as data complexity and model sophistication increase.\\n\\n2. *Deep Contextual Understanding via LangGraph*: LangGraph’s graph-based language representation empowers AI agents to comprehend context more profoundly. This higher level of contextual awareness leads to more accurate and relevant responses, enhancing the quality of interactions and the utility of AI agents across industries.\\n\\n3. *Scalability and Flexibility*: The design philosophy of both LangChain and LangGraph prioritizes scalability. As AI agents' demands escalate, these tools accommodate additional models or expand existing ones, ensuring performance scalability.\\n\\n**Applications and Impact**\\n\\nThe amalgamation of LangChain and LangGraph heralds a new era in AI agent capabilities. In customer service, AI agents utilizing these technologies can furnish users with nuanced, contextually pertinent responses, thus elevating user satisfaction. In content creation, such agents can generate more coherent and contextually precise text. Additionally, in knowledge management sectors, LangChain and LangGraph can empower AI agents to efficiently distill, synthesize, and convey vital information.\\n\\n**Conclusion**\\n\\nLangChain and LangGraph are instrumental in elevating AI agents’ efficiency, contextual understanding, and scalability. By streamlining workflows, deepening contextual comprehension, and ensuring scalability, these tools open new horizons in AI agent development. As research matures, their seamless integration is expected to produce even more sophisticated and capable AI agents.\\n\\n**Citations**:\\n1. LangChain official documentation.\\n2. Research papers on LangGraph's contextual embeddings.\\n3. Case studies on AI agents leveraging LangChain for enhanced efficiency.\",\n",
       "     'citations': ['LangChain official documentation',\n",
       "      \"Research papers on LangGraph's contextual embeddings\",\n",
       "      'Case studies on AI agents leveraging LangChain for enhanced efficiency'],\n",
       "     'reflection': {'missing': 'Concrete examples or case studies illustrating LangChain and LangGraph in practical AI agent applications are absent, which could have solidified the argument with empirical evidence.',\n",
       "      'superfluous': \"While the explanation of LangChain and LangGraph's functionalities is comprehensive, some sections could be streamlined for a more focused discussion on their application in AI agent development.\"},\n",
       "     'search_queries': ['LangChain for AI agent development',\n",
       "      \"LangGraph's role in contextual AI\",\n",
       "      'Scalable AI agent architectures']},\n",
       "    'id': 'chatcmpl-tool-b8c9e4988fb940deb61a3de245b54ecc',\n",
       "    'type': 'tool_call'}],\n",
       "  'usage_metadata': {'input_tokens': 1189,\n",
       "   'output_tokens': 803,\n",
       "   'total_tokens': 1992},\n",
       "  'invalid_tool_calls': []}}"
      ]
     },
     "execution_count": 69,
     "metadata": {},
     "output_type": "execute_result"
    }
   ],
   "source": [
    "response.to_json()"
   ]
  },
  {
   "cell_type": "code",
   "execution_count": 71,
   "id": "7ba9036b",
   "metadata": {},
   "outputs": [
    {
     "data": {
      "text/plain": [
       "[{'name': 'ReviseAnswer',\n",
       "  'args': {'answer': \"Title: Elevating AI Agent Capabilities with LangChain and LangGraph\\n\\nIn the dynamic landscape of artificial intelligence (AI), the development of efficient AI agents is paramount. Two key tools that are catalyzing this progress are LangChain and LangGraph. This article elucidates how these technologies bolster AI agents' efficiency, scalability, and contextual understanding.\\n\\n**LangChain and LangGraph: An Overview**\\n\\nLangChain is an advanced framework designed for orchestrating machine learning (ML) models, with a special emphasis on natural language processing (NLP). It excels in managing complex workflows that involve multiple NLP models, ensuring smooth interaction and data exchange. Meanwhile, LangGraph represents a novel approach to language representation through graph models, offering a more intuitive way to capture contextual and syntactic relationships within text data.\\n\\n**Boosting AI Agent Efficiency**\\n\\n1. *Workflow Orchestration with LangChain*: LangChain's capacity to orchestrate workflows simplifies the handling of intricate NLP tasks, ensuring efficient processing of linguistic data. This results in reduced latency and improved performance of AI agents. Its modular and scalable architecture allows AI agents to grow and adapt as data complexity and model sophistication increase.\\n\\n2. *Deep Contextual Understanding via LangGraph*: LangGraph’s graph-based language representation empowers AI agents to comprehend context more profoundly. This higher level of contextual awareness leads to more accurate and relevant responses, enhancing the quality of interactions and the utility of AI agents across industries.\\n\\n3. *Scalability and Flexibility*: The design philosophy of both LangChain and LangGraph prioritizes scalability. As AI agents' demands escalate, these tools accommodate additional models or expand existing ones, ensuring performance scalability.\\n\\n**Applications and Impact**\\n\\nThe amalgamation of LangChain and LangGraph heralds a new era in AI agent capabilities. In customer service, AI agents utilizing these technologies can furnish users with nuanced, contextually pertinent responses, thus elevating user satisfaction. In content creation, such agents can generate more coherent and contextually precise text. Additionally, in knowledge management sectors, LangChain and LangGraph can empower AI agents to efficiently distill, synthesize, and convey vital information.\\n\\n**Conclusion**\\n\\nLangChain and LangGraph are instrumental in elevating AI agents’ efficiency, contextual understanding, and scalability. By streamlining workflows, deepening contextual comprehension, and ensuring scalability, these tools open new horizons in AI agent development. As research matures, their seamless integration is expected to produce even more sophisticated and capable AI agents.\\n\\n**Citations**:\\n1. LangChain official documentation.\\n2. Research papers on LangGraph's contextual embeddings.\\n3. Case studies on AI agents leveraging LangChain for enhanced efficiency.\",\n",
       "   'citations': ['LangChain official documentation',\n",
       "    \"Research papers on LangGraph's contextual embeddings\",\n",
       "    'Case studies on AI agents leveraging LangChain for enhanced efficiency'],\n",
       "   'reflection': {'missing': 'Concrete examples or case studies illustrating LangChain and LangGraph in practical AI agent applications are absent, which could have solidified the argument with empirical evidence.',\n",
       "    'superfluous': \"While the explanation of LangChain and LangGraph's functionalities is comprehensive, some sections could be streamlined for a more focused discussion on their application in AI agent development.\"},\n",
       "   'search_queries': ['LangChain for AI agent development',\n",
       "    \"LangGraph's role in contextual AI\",\n",
       "    'Scalable AI agent architectures']},\n",
       "  'id': 'chatcmpl-tool-b8c9e4988fb940deb61a3de245b54ecc',\n",
       "  'type': 'tool_call'}]"
      ]
     },
     "execution_count": 71,
     "metadata": {},
     "output_type": "execute_result"
    }
   ],
   "source": [
    "response.tool_calls"
   ]
  },
  {
   "cell_type": "markdown",
   "id": "90a9a17d",
   "metadata": {},
   "source": [
    "### Tool Execution"
   ]
  },
  {
   "cell_type": "code",
   "execution_count": 35,
   "id": "e746bafd",
   "metadata": {},
   "outputs": [],
   "source": [
    "from langchain_tavily import TavilySearch\n",
    "import json \n",
    "from langchain_core.messages import HumanMessage, AIMessage, ToolMessage, BaseMessage\n",
    "from typing import Any"
   ]
  },
  {
   "cell_type": "code",
   "execution_count": 36,
   "id": "9b79c261",
   "metadata": {},
   "outputs": [],
   "source": [
    "tavily_tool = TavilySearch(\n",
    "    max_results = 3,\n",
    "    tavily_api_key = settings.tavily_api_key\n",
    ")"
   ]
  },
  {
   "cell_type": "code",
   "execution_count": 37,
   "id": "bed1bd6d",
   "metadata": {},
   "outputs": [],
   "source": [
    "search_result = tavily_tool.invoke(\"langgraph\")"
   ]
  },
  {
   "cell_type": "code",
   "execution_count": 38,
   "id": "ef47c6fe",
   "metadata": {},
   "outputs": [
    {
     "data": {
      "text/plain": [
       "{'query': 'langgraph',\n",
       " 'follow_up_questions': None,\n",
       " 'answer': None,\n",
       " 'images': [],\n",
       " 'results': [{'url': 'https://github.com/langchain-ai/langgraph',\n",
       "   'title': 'langchain-ai/langgraph: Build resilient language agents as graphs.',\n",
       "   'content': 'GitHub - langchain-ai/langgraph: Build resilient language agents as graphs. langchain-ai.github.io/langgraph/ Trusted by companies shaping the future of agents – including Klarna, Replit, Elastic, and more – LangGraph is a low-level orchestration framework for building, managing, and deploying long-running, stateful agents. Or, to learn how to build an agent workflow with a customizable architecture, long-term memory, and other complex task handling, see the LangGraph basics tutorials. LangGraph provides low-level supporting infrastructure for _any_ long-running, stateful workflow or agent. While LangGraph can be used standalone, it also integrates seamlessly with any LangChain product, giving developers a full suite of tools for building agents. *   LangGraph Platform — Deploy and scale agents effortlessly with a purpose-built deployment platform for long running, stateful workflows. langchain-ai.github.io/langgraph/',\n",
       "   'score': 0.90869105,\n",
       "   'raw_content': None},\n",
       "  {'url': 'https://www.langchain.com/langgraph',\n",
       "   'title': 'LangGraph - LangChain',\n",
       "   'content': \"Design agent-driven user experiences with LangGraph Platform's APIs. Quickly deploy and scale your application with infrastructure built for agents. LangGraph sets the foundation for how we can build and scale AI workloads — from conversational agents, complex task automation, to custom LLM-backed experiences that 'just work'. The next chapter in building complex production-ready features with LLMs is agentic, and with LangGraph and LangSmith, LangChain delivers an out-of-the-box solution to iterate quickly, debug immediately, and scale effortlessly.” LangGraph sets the foundation for how we can build and scale AI workloads — from conversational agents, complex task automation, to custom LLM-backed experiences that 'just work'. LangGraph Platform is a service for deploying and scaling LangGraph applications, with an opinionated API for building agent UXs, plus an integrated developer studio.\",\n",
       "   'score': 0.8405867,\n",
       "   'raw_content': None}],\n",
       " 'response_time': 0.96}"
      ]
     },
     "execution_count": 38,
     "metadata": {},
     "output_type": "execute_result"
    }
   ],
   "source": [
    "search_result"
   ]
  },
  {
   "cell_type": "code",
   "execution_count": 39,
   "id": "5e4e6a7a",
   "metadata": {},
   "outputs": [
    {
     "data": {
      "text/plain": [
       "dict"
      ]
     },
     "execution_count": 39,
     "metadata": {},
     "output_type": "execute_result"
    }
   ],
   "source": [
    "type(search_result)"
   ]
  },
  {
   "cell_type": "code",
   "execution_count": 40,
   "id": "25b41cb9",
   "metadata": {},
   "outputs": [
    {
     "data": {
      "text/plain": [
       "[{'url': 'https://github.com/langchain-ai/langgraph',\n",
       "  'title': 'langchain-ai/langgraph: Build resilient language agents as graphs.',\n",
       "  'content': 'GitHub - langchain-ai/langgraph: Build resilient language agents as graphs. langchain-ai.github.io/langgraph/ Trusted by companies shaping the future of agents – including Klarna, Replit, Elastic, and more – LangGraph is a low-level orchestration framework for building, managing, and deploying long-running, stateful agents. Or, to learn how to build an agent workflow with a customizable architecture, long-term memory, and other complex task handling, see the LangGraph basics tutorials. LangGraph provides low-level supporting infrastructure for _any_ long-running, stateful workflow or agent. While LangGraph can be used standalone, it also integrates seamlessly with any LangChain product, giving developers a full suite of tools for building agents. *   LangGraph Platform — Deploy and scale agents effortlessly with a purpose-built deployment platform for long running, stateful workflows. langchain-ai.github.io/langgraph/',\n",
       "  'score': 0.90869105,\n",
       "  'raw_content': None},\n",
       " {'url': 'https://www.langchain.com/langgraph',\n",
       "  'title': 'LangGraph - LangChain',\n",
       "  'content': \"Design agent-driven user experiences with LangGraph Platform's APIs. Quickly deploy and scale your application with infrastructure built for agents. LangGraph sets the foundation for how we can build and scale AI workloads — from conversational agents, complex task automation, to custom LLM-backed experiences that 'just work'. The next chapter in building complex production-ready features with LLMs is agentic, and with LangGraph and LangSmith, LangChain delivers an out-of-the-box solution to iterate quickly, debug immediately, and scale effortlessly.” LangGraph sets the foundation for how we can build and scale AI workloads — from conversational agents, complex task automation, to custom LLM-backed experiences that 'just work'. LangGraph Platform is a service for deploying and scaling LangGraph applications, with an opinionated API for building agent UXs, plus an integrated developer studio.\",\n",
       "  'score': 0.8405867,\n",
       "  'raw_content': None}]"
      ]
     },
     "execution_count": 40,
     "metadata": {},
     "output_type": "execute_result"
    }
   ],
   "source": [
    "search_result[\"results\"]"
   ]
  },
  {
   "cell_type": "code",
   "execution_count": 44,
   "id": "93bd14c5",
   "metadata": {},
   "outputs": [
    {
     "name": "stdout",
     "output_type": "stream",
     "text": [
      "GitHub - langchain-ai/langgraph: Build resilient language agents as graphs. langchain-ai.github.io/langgraph/ Trusted by companies shaping the future of agents – including Klarna, Replit, Elastic, and more – LangGraph is a low-level orchestration framework for building, managing, and deploying long-running, stateful agents. Or, to learn how to build an agent workflow with a customizable architecture, long-term memory, and other complex task handling, see the LangGraph basics tutorials. LangGraph provides low-level supporting infrastructure for _any_ long-running, stateful workflow or agent. While LangGraph can be used standalone, it also integrates seamlessly with any LangChain product, giving developers a full suite of tools for building agents. *   LangGraph Platform — Deploy and scale agents effortlessly with a purpose-built deployment platform for long running, stateful workflows. langchain-ai.github.io/langgraph/\n"
     ]
    }
   ],
   "source": [
    "print(search_result[\"results\"][0][\"content\"])"
   ]
  },
  {
   "cell_type": "code",
   "execution_count": 111,
   "id": "447f0349",
   "metadata": {},
   "outputs": [],
   "source": [
    "# Function to extract search queries from AnswerQuestion tool calls.\n",
    "def execute_tools(state: list[BaseMessage]) -> list[BaseMessage]:\n",
    "\n",
    "    last_ai_message: AIMessage = state[-1]\n",
    "\n",
    "    # Extract tool calls from AI Message\n",
    "    if not hasattr(last_ai_message, \"tool_calls\") or not last_ai_message.tool_calls:\n",
    "        return []\n",
    "    \n",
    "    tool_messages = []\n",
    "\n",
    "    for tool_call in last_ai_message.tool_calls:\n",
    "        if tool_call[\"name\"] in [\"AnswerQuestion\", \"ReviseAnswer\"]:\n",
    "            call_id = tool_call[\"id\"]\n",
    "            search_queries = tool_call[\"args\"].get(\"search_queries\", [])\n",
    "\n",
    "            # EXECUTE EACH SEARCH QUERY USING TAVILY.\n",
    "            query_results = {}\n",
    "            for query in search_queries:\n",
    "                query_result: dict = tavily_tool.invoke(query)\n",
    "                query_results[query] = query_result\n",
    "\n",
    "            # Create a tool message with the results.\n",
    "            tool_messages.append(\n",
    "                ToolMessage(\n",
    "                    content = json.dumps(query_results),\n",
    "                    tool_call_id = call_id\n",
    "                )\n",
    "            )\n",
    "\n",
    "    return tool_messages\n",
    "            \n",
    "                 "
   ]
  },
  {
   "cell_type": "markdown",
   "id": "a2002843",
   "metadata": {},
   "source": [
    "### Creating chain again without Parsers, since we use the AIMessage instead of Pydantic Model output. "
   ]
  },
  {
   "cell_type": "code",
   "execution_count": 123,
   "id": "bd377cb2",
   "metadata": {},
   "outputs": [],
   "source": [
    "responder_chain = (\n",
    "    actor_prompt_template.partial(current_time = datetime.now().isoformat(), initial_instruction = \"Provide a details 250 words of answer. \") \n",
    "    | llm.bind_tools(tools = [AnswerQuestion], tool_choice = \"AnswerQuestion\")\n",
    ")\n",
    "\n",
    "revisor_chain = (\n",
    "    actor_prompt_template.partial(current_time = datetime.now().isoformat(), initial_instruction = revise_instructions)\n",
    "    | llm.bind_tools(tools = [ReviseAnswer], tool_choice = \"ReviseAnswer\")\n",
    ")"
   ]
  },
  {
   "cell_type": "code",
   "execution_count": 75,
   "id": "21f22451",
   "metadata": {},
   "outputs": [
    {
     "data": {
      "text/plain": [
       "ChatPromptTemplate(input_variables=['messages'], input_types={'messages': list[typing.Annotated[typing.Union[typing.Annotated[langchain_core.messages.ai.AIMessage, Tag(tag='ai')], typing.Annotated[langchain_core.messages.human.HumanMessage, Tag(tag='human')], typing.Annotated[langchain_core.messages.chat.ChatMessage, Tag(tag='chat')], typing.Annotated[langchain_core.messages.system.SystemMessage, Tag(tag='system')], typing.Annotated[langchain_core.messages.function.FunctionMessage, Tag(tag='function')], typing.Annotated[langchain_core.messages.tool.ToolMessage, Tag(tag='tool')], typing.Annotated[langchain_core.messages.ai.AIMessageChunk, Tag(tag='AIMessageChunk')], typing.Annotated[langchain_core.messages.human.HumanMessageChunk, Tag(tag='HumanMessageChunk')], typing.Annotated[langchain_core.messages.chat.ChatMessageChunk, Tag(tag='ChatMessageChunk')], typing.Annotated[langchain_core.messages.system.SystemMessageChunk, Tag(tag='SystemMessageChunk')], typing.Annotated[langchain_core.messages.function.FunctionMessageChunk, Tag(tag='FunctionMessageChunk')], typing.Annotated[langchain_core.messages.tool.ToolMessageChunk, Tag(tag='ToolMessageChunk')]], FieldInfo(annotation=NoneType, required=True, discriminator=Discriminator(discriminator=<function _get_type at 0x000002092A1ADF80>, custom_error_type=None, custom_error_message=None, custom_error_context=None))]]}, partial_variables={'current_time': '2025-07-18T11:04:41.208759', 'initial_instruction': 'Provide a details 250 words of answer. '}, messages=[SystemMessagePromptTemplate(prompt=PromptTemplate(input_variables=['current_time', 'initial_instruction'], input_types={}, partial_variables={}, template='You are an expert AI Researcher. Current Time {current_time} 1, {initial_instruction} 2, Reflect and critique your answer. Be serve to maximize improvement. 3, After the reflection, **list 1-3 search queries separately** for researching improvements. Do not include them inside the reflection. '), additional_kwargs={}), SystemMessagePromptTemplate(prompt=PromptTemplate(input_variables=[], input_types={}, partial_variables={}, template=\"Answer the user's question above usin the required format. You must always return valid JSON fenced by a markdown code block. Do not return any additional text.\"), additional_kwargs={}), MessagesPlaceholder(variable_name='messages')])\n",
       "| RunnableBinding(bound=ChatWatsonx(model_id='ibm/granite-3-3-8b-instruct', project_id='25fa768b-a90b-433c-b4a4-66bb407af16b', url=SecretStr('**********'), apikey=SecretStr('**********'), params={'temperature': 0.9}, temperature=0.9, watsonx_model=<ibm_watsonx_ai.foundation_models.inference.model_inference.ModelInference object at 0x000002093C75DFD0>), kwargs={'tools': [{'type': 'function', 'function': {'name': 'AnswerQuestion', 'description': 'Represents the Answer', 'parameters': {'properties': {'answer': {'description': '250 words of detailed answer to this question.', 'type': 'string'}, 'search_queries': {'description': '1-3 search queries for researching improvements to address the citique of your current answer.', 'items': {'type': 'string'}, 'type': 'array'}, 'reflection': {'description': 'Represents the Reflection', 'properties': {'missing': {'description': 'Critique of what is missing.', 'type': 'string'}, 'superfluous': {'description': 'Critique of what is superfluous.', 'type': 'string'}}, 'required': ['missing', 'superfluous'], 'type': 'object'}}, 'required': ['answer', 'search_queries', 'reflection'], 'type': 'object'}}}], 'tool_choice': {'type': 'function', 'function': {'name': 'AnswerQuestion'}}}, config={}, config_factories=[])"
      ]
     },
     "execution_count": 75,
     "metadata": {},
     "output_type": "execute_result"
    }
   ],
   "source": [
    "responder_chain"
   ]
  },
  {
   "cell_type": "code",
   "execution_count": 76,
   "id": "5e5357bf",
   "metadata": {},
   "outputs": [
    {
     "data": {
      "text/plain": [
       "ChatPromptTemplate(input_variables=['messages'], input_types={'messages': list[typing.Annotated[typing.Union[typing.Annotated[langchain_core.messages.ai.AIMessage, Tag(tag='ai')], typing.Annotated[langchain_core.messages.human.HumanMessage, Tag(tag='human')], typing.Annotated[langchain_core.messages.chat.ChatMessage, Tag(tag='chat')], typing.Annotated[langchain_core.messages.system.SystemMessage, Tag(tag='system')], typing.Annotated[langchain_core.messages.function.FunctionMessage, Tag(tag='function')], typing.Annotated[langchain_core.messages.tool.ToolMessage, Tag(tag='tool')], typing.Annotated[langchain_core.messages.ai.AIMessageChunk, Tag(tag='AIMessageChunk')], typing.Annotated[langchain_core.messages.human.HumanMessageChunk, Tag(tag='HumanMessageChunk')], typing.Annotated[langchain_core.messages.chat.ChatMessageChunk, Tag(tag='ChatMessageChunk')], typing.Annotated[langchain_core.messages.system.SystemMessageChunk, Tag(tag='SystemMessageChunk')], typing.Annotated[langchain_core.messages.function.FunctionMessageChunk, Tag(tag='FunctionMessageChunk')], typing.Annotated[langchain_core.messages.tool.ToolMessageChunk, Tag(tag='ToolMessageChunk')]], FieldInfo(annotation=NoneType, required=True, discriminator=Discriminator(discriminator=<function _get_type at 0x000002092A1ADF80>, custom_error_type=None, custom_error_message=None, custom_error_context=None))]]}, partial_variables={'current_time': '2025-07-18T11:04:41.210735', 'initial_instruction': '\\n    Revise your previous answer using the new information.\\n    - You should use the previous critique to add important information to your answer.\\n    - Your MUST include numerical citations in your revised answer to measure it can be verified.\\n    - Add a \"References\" section to the bottom of your answer(which does not count towards the word limit). In form of\\n        - [1] https://example1.com\\n        - [2] https://example2.com\\n    -You should use the previous critique to remove superfluous information from your answer and make SURE it is not more than 250 words.\\n\\n'}, messages=[SystemMessagePromptTemplate(prompt=PromptTemplate(input_variables=['current_time', 'initial_instruction'], input_types={}, partial_variables={}, template='You are an expert AI Researcher. Current Time {current_time} 1, {initial_instruction} 2, Reflect and critique your answer. Be serve to maximize improvement. 3, After the reflection, **list 1-3 search queries separately** for researching improvements. Do not include them inside the reflection. '), additional_kwargs={}), SystemMessagePromptTemplate(prompt=PromptTemplate(input_variables=[], input_types={}, partial_variables={}, template=\"Answer the user's question above usin the required format. You must always return valid JSON fenced by a markdown code block. Do not return any additional text.\"), additional_kwargs={}), MessagesPlaceholder(variable_name='messages')])\n",
       "| RunnableBinding(bound=ChatWatsonx(model_id='ibm/granite-3-3-8b-instruct', project_id='25fa768b-a90b-433c-b4a4-66bb407af16b', url=SecretStr('**********'), apikey=SecretStr('**********'), params={'temperature': 0.9}, temperature=0.9, watsonx_model=<ibm_watsonx_ai.foundation_models.inference.model_inference.ModelInference object at 0x000002093C75DFD0>), kwargs={'tools': [{'type': 'function', 'function': {'name': 'ReviseAnswer', 'description': 'Represents the ReviseAnswer schema.', 'parameters': {'properties': {'answer': {'description': '250 words of detailed answer to this question.', 'type': 'string'}, 'search_queries': {'description': '1-3 search queries for researching improvements to address the citique of your current answer.', 'items': {'type': 'string'}, 'type': 'array'}, 'reflection': {'description': 'Represents the Reflection', 'properties': {'missing': {'description': 'Critique of what is missing.', 'type': 'string'}, 'superfluous': {'description': 'Critique of what is superfluous.', 'type': 'string'}}, 'required': ['missing', 'superfluous'], 'type': 'object'}, 'citations': {'description': 'Citations motivating your updated answer.', 'items': {'type': 'string'}, 'type': 'array'}}, 'required': ['answer', 'search_queries', 'reflection', 'citations'], 'type': 'object'}}}], 'tool_choice': {'type': 'function', 'function': {'name': 'ReviseAnswer'}}}, config={}, config_factories=[])"
      ]
     },
     "execution_count": 76,
     "metadata": {},
     "output_type": "execute_result"
    }
   ],
   "source": [
    "revisor_chain"
   ]
  },
  {
   "cell_type": "code",
   "execution_count": 87,
   "id": "61a270ff",
   "metadata": {},
   "outputs": [],
   "source": [
    "response = responder_chain.invoke(\n",
    "    {\n",
    "        \"messages\": [HumanMessage(\"Write a linkedin blog in the topic of **LangGraph the Game Changer**\")]\n",
    "    }\n",
    ")"
   ]
  },
  {
   "cell_type": "code",
   "execution_count": 105,
   "id": "56e23348",
   "metadata": {},
   "outputs": [
    {
     "data": {
      "text/plain": [
       "AIMessage(content='', additional_kwargs={'tool_calls': [{'id': 'chatcmpl-tool-d20b54da35fa40d598bd167c77dac474', 'type': 'function', 'function': {'name': 'AnswerQuestion', 'arguments': '{\\n    \"answer\": \"## Title: LangGraph - Revolutionizing Language Learning as a Game Changer ### Introduction In the ever-evolving landscape of technology, innovation often stems from creatively blending disparate fields to tackle age-old challenges. One such groundbreaking convergence is found in LangGraph, a novel game-based platform designed to transform language acquisition into an engaging and efficient experience. This blog post explores LangGraph\\'s unique features, its impact on language learning, and why it stands out as a game changer in education.\\\\n\\\\n### Unconventional Approach - Combining Gaming with Linguistics\\\\nLangGraph distinguishes itself by integrating the compelling elements of video games with the structured demands of language learning. Traditional methods often face challenges with maintaining learner motivation and engagement. LangGraph addresses these issues through an interactive schema that rewards progress and encourages continuous learning.\\\\n\\\\n#### Features of LangGraph\\\\n1. **Adaptive Learning Paths:** LangGraph tailors learning modules to individual users\\' needs, adapting to their proficiency levels and interests, ensuring optimized learning.\\\\n2. **Gamified Progression:** Users advance through levels, unlock content, and earn points by completing exercises, integrating the satisfaction of achievement derived from gaming.\\\\n3. **Social Interaction:** A built-in community enables peer-to-peer learning and friendly competition, motivating users to practice and refine their language skills in a supportive environment.\\\\n4. **Multilingual Support:** LangGraph caters to a diverse user base by supporting multiple languages, breaking down barriers and fostering global linguistic fluency.\\\\n\\\\n### A Scientific Leap in Cognitive Development and Memory Retention\\\\nResearch indicates that gamification significantly enhances cognitive functions, particularly memory retention and critical thinking. LangGraph\\'s mechanisms, such as spaced repetition, flashcards, and interactive puzzles, align with these findings, facilitating deeper language absorption and recall.\\\\n\\\\n### Transforming Education and Career Prospects\\\\nLanguage skills are a pivotal asset in an increasingly interconnected world. LangGraph not only democratizes access to quality language education but also equips learners with essential 21st-century competencies, enhancing employability across sectors.\\\\n\\\\n### Conclusion - LangGraph: The Future of Language Acquisition\\\\nLangGraph stands out as a pioneering platform that synergistically merges gaming and linguistics, offering a dynamic, adaptive, and fruitful learning experience. Its commitment to engaging users through game mechanics while harnessing the power of technology positions it uniquely as a game changer in the realm of language education.\\\\n\\\\n### Reflection\\\\n**Missing:** While the blog outlines LangGraph\\'s benefits, it lacks concrete examples of its real-world impact and user testimonials to bolster credibility.\\\\n**Superfluous:** The introduction could be more engaging by starting with a captivating anecdote illustrating the challenges of traditional language learning.\\\\n\\\\n### Search Queries\\\\n1. \\'LangGraph case studies\\' \\\\n2. \\'User reviews of LangGraph as a language learning tool\\'\\\\n3. \\'LangGraph success stories\\'\"\\n    ,\\n    \"reflection\": {\\n        \"missing\": \"The blog lacks real-world examples, case studies, and direct user testimonials which could substantially enhance its credibility and demonstrate LangGraph\\'s tangible impact on learners\\' lives.\",\\n        \"superfluous\": \"The current introduction doesn\\'t immediately grab attention with a compelling narrative or hook. Tweaking the opening to include an engaging personal anecdote or a bold statement about language learning challenges could make the post more captivating from the start.\"\\n    },\\n    \"search_queries\": [\\n        \"LangGraph case studies\",\\n        \"User reviews of LangGraph as a language learning tool\",\\n        \"LangGraph success stories\"\\n    ]\\n}'}}]}, response_metadata={'token_usage': {'completion_tokens': 862, 'prompt_tokens': 339, 'total_tokens': 1201}, 'model_name': 'ibm/granite-3-3-8b-instruct', 'system_fingerprint': '', 'finish_reason': 'stop'}, id='chatcmpl-c550e11f-1f86-40fc-bd94-811c0c5569e9---6866f7f19fee071ec64ca71bcdedb388---b7102a58-ec4b-4d6e-ae1f-76a5285c1a79', tool_calls=[{'name': 'AnswerQuestion', 'args': {'answer': \"## Title: LangGraph - Revolutionizing Language Learning as a Game Changer ### Introduction In the ever-evolving landscape of technology, innovation often stems from creatively blending disparate fields to tackle age-old challenges. One such groundbreaking convergence is found in LangGraph, a novel game-based platform designed to transform language acquisition into an engaging and efficient experience. This blog post explores LangGraph's unique features, its impact on language learning, and why it stands out as a game changer in education.\\n\\n### Unconventional Approach - Combining Gaming with Linguistics\\nLangGraph distinguishes itself by integrating the compelling elements of video games with the structured demands of language learning. Traditional methods often face challenges with maintaining learner motivation and engagement. LangGraph addresses these issues through an interactive schema that rewards progress and encourages continuous learning.\\n\\n#### Features of LangGraph\\n1. **Adaptive Learning Paths:** LangGraph tailors learning modules to individual users' needs, adapting to their proficiency levels and interests, ensuring optimized learning.\\n2. **Gamified Progression:** Users advance through levels, unlock content, and earn points by completing exercises, integrating the satisfaction of achievement derived from gaming.\\n3. **Social Interaction:** A built-in community enables peer-to-peer learning and friendly competition, motivating users to practice and refine their language skills in a supportive environment.\\n4. **Multilingual Support:** LangGraph caters to a diverse user base by supporting multiple languages, breaking down barriers and fostering global linguistic fluency.\\n\\n### A Scientific Leap in Cognitive Development and Memory Retention\\nResearch indicates that gamification significantly enhances cognitive functions, particularly memory retention and critical thinking. LangGraph's mechanisms, such as spaced repetition, flashcards, and interactive puzzles, align with these findings, facilitating deeper language absorption and recall.\\n\\n### Transforming Education and Career Prospects\\nLanguage skills are a pivotal asset in an increasingly interconnected world. LangGraph not only democratizes access to quality language education but also equips learners with essential 21st-century competencies, enhancing employability across sectors.\\n\\n### Conclusion - LangGraph: The Future of Language Acquisition\\nLangGraph stands out as a pioneering platform that synergistically merges gaming and linguistics, offering a dynamic, adaptive, and fruitful learning experience. Its commitment to engaging users through game mechanics while harnessing the power of technology positions it uniquely as a game changer in the realm of language education.\\n\\n### Reflection\\n**Missing:** While the blog outlines LangGraph's benefits, it lacks concrete examples of its real-world impact and user testimonials to bolster credibility.\\n**Superfluous:** The introduction could be more engaging by starting with a captivating anecdote illustrating the challenges of traditional language learning.\\n\\n### Search Queries\\n1. 'LangGraph case studies' \\n2. 'User reviews of LangGraph as a language learning tool'\\n3. 'LangGraph success stories'\", 'reflection': {'missing': \"The blog lacks real-world examples, case studies, and direct user testimonials which could substantially enhance its credibility and demonstrate LangGraph's tangible impact on learners' lives.\", 'superfluous': \"The current introduction doesn't immediately grab attention with a compelling narrative or hook. Tweaking the opening to include an engaging personal anecdote or a bold statement about language learning challenges could make the post more captivating from the start.\"}, 'search_queries': ['LangGraph case studies', 'User reviews of LangGraph as a language learning tool', 'LangGraph success stories']}, 'id': 'chatcmpl-tool-d20b54da35fa40d598bd167c77dac474', 'type': 'tool_call'}], usage_metadata={'input_tokens': 339, 'output_tokens': 862, 'total_tokens': 1201})"
      ]
     },
     "execution_count": 105,
     "metadata": {},
     "output_type": "execute_result"
    }
   ],
   "source": [
    "response"
   ]
  },
  {
   "cell_type": "code",
   "execution_count": 88,
   "id": "1d90ad71",
   "metadata": {},
   "outputs": [
    {
     "data": {
      "text/plain": [
       "[{'name': 'AnswerQuestion',\n",
       "  'args': {'answer': \"## Title: LangGraph - Revolutionizing Language Learning as a Game Changer ### Introduction In the ever-evolving landscape of technology, innovation often stems from creatively blending disparate fields to tackle age-old challenges. One such groundbreaking convergence is found in LangGraph, a novel game-based platform designed to transform language acquisition into an engaging and efficient experience. This blog post explores LangGraph's unique features, its impact on language learning, and why it stands out as a game changer in education.\\n\\n### Unconventional Approach - Combining Gaming with Linguistics\\nLangGraph distinguishes itself by integrating the compelling elements of video games with the structured demands of language learning. Traditional methods often face challenges with maintaining learner motivation and engagement. LangGraph addresses these issues through an interactive schema that rewards progress and encourages continuous learning.\\n\\n#### Features of LangGraph\\n1. **Adaptive Learning Paths:** LangGraph tailors learning modules to individual users' needs, adapting to their proficiency levels and interests, ensuring optimized learning.\\n2. **Gamified Progression:** Users advance through levels, unlock content, and earn points by completing exercises, integrating the satisfaction of achievement derived from gaming.\\n3. **Social Interaction:** A built-in community enables peer-to-peer learning and friendly competition, motivating users to practice and refine their language skills in a supportive environment.\\n4. **Multilingual Support:** LangGraph caters to a diverse user base by supporting multiple languages, breaking down barriers and fostering global linguistic fluency.\\n\\n### A Scientific Leap in Cognitive Development and Memory Retention\\nResearch indicates that gamification significantly enhances cognitive functions, particularly memory retention and critical thinking. LangGraph's mechanisms, such as spaced repetition, flashcards, and interactive puzzles, align with these findings, facilitating deeper language absorption and recall.\\n\\n### Transforming Education and Career Prospects\\nLanguage skills are a pivotal asset in an increasingly interconnected world. LangGraph not only democratizes access to quality language education but also equips learners with essential 21st-century competencies, enhancing employability across sectors.\\n\\n### Conclusion - LangGraph: The Future of Language Acquisition\\nLangGraph stands out as a pioneering platform that synergistically merges gaming and linguistics, offering a dynamic, adaptive, and fruitful learning experience. Its commitment to engaging users through game mechanics while harnessing the power of technology positions it uniquely as a game changer in the realm of language education.\\n\\n### Reflection\\n**Missing:** While the blog outlines LangGraph's benefits, it lacks concrete examples of its real-world impact and user testimonials to bolster credibility.\\n**Superfluous:** The introduction could be more engaging by starting with a captivating anecdote illustrating the challenges of traditional language learning.\\n\\n### Search Queries\\n1. 'LangGraph case studies' \\n2. 'User reviews of LangGraph as a language learning tool'\\n3. 'LangGraph success stories'\",\n",
       "   'reflection': {'missing': \"The blog lacks real-world examples, case studies, and direct user testimonials which could substantially enhance its credibility and demonstrate LangGraph's tangible impact on learners' lives.\",\n",
       "    'superfluous': \"The current introduction doesn't immediately grab attention with a compelling narrative or hook. Tweaking the opening to include an engaging personal anecdote or a bold statement about language learning challenges could make the post more captivating from the start.\"},\n",
       "   'search_queries': ['LangGraph case studies',\n",
       "    'User reviews of LangGraph as a language learning tool',\n",
       "    'LangGraph success stories']},\n",
       "  'id': 'chatcmpl-tool-d20b54da35fa40d598bd167c77dac474',\n",
       "  'type': 'tool_call'}]"
      ]
     },
     "execution_count": 88,
     "metadata": {},
     "output_type": "execute_result"
    }
   ],
   "source": [
    "response.tool_calls"
   ]
  },
  {
   "cell_type": "code",
   "execution_count": 106,
   "id": "1bacd4b2",
   "metadata": {},
   "outputs": [
    {
     "data": {
      "text/plain": [
       "[{'id': 'chatcmpl-tool-d20b54da35fa40d598bd167c77dac474',\n",
       "  'type': 'function',\n",
       "  'function': {'name': 'AnswerQuestion',\n",
       "   'arguments': '{\\n    \"answer\": \"## Title: LangGraph - Revolutionizing Language Learning as a Game Changer ### Introduction In the ever-evolving landscape of technology, innovation often stems from creatively blending disparate fields to tackle age-old challenges. One such groundbreaking convergence is found in LangGraph, a novel game-based platform designed to transform language acquisition into an engaging and efficient experience. This blog post explores LangGraph\\'s unique features, its impact on language learning, and why it stands out as a game changer in education.\\\\n\\\\n### Unconventional Approach - Combining Gaming with Linguistics\\\\nLangGraph distinguishes itself by integrating the compelling elements of video games with the structured demands of language learning. Traditional methods often face challenges with maintaining learner motivation and engagement. LangGraph addresses these issues through an interactive schema that rewards progress and encourages continuous learning.\\\\n\\\\n#### Features of LangGraph\\\\n1. **Adaptive Learning Paths:** LangGraph tailors learning modules to individual users\\' needs, adapting to their proficiency levels and interests, ensuring optimized learning.\\\\n2. **Gamified Progression:** Users advance through levels, unlock content, and earn points by completing exercises, integrating the satisfaction of achievement derived from gaming.\\\\n3. **Social Interaction:** A built-in community enables peer-to-peer learning and friendly competition, motivating users to practice and refine their language skills in a supportive environment.\\\\n4. **Multilingual Support:** LangGraph caters to a diverse user base by supporting multiple languages, breaking down barriers and fostering global linguistic fluency.\\\\n\\\\n### A Scientific Leap in Cognitive Development and Memory Retention\\\\nResearch indicates that gamification significantly enhances cognitive functions, particularly memory retention and critical thinking. LangGraph\\'s mechanisms, such as spaced repetition, flashcards, and interactive puzzles, align with these findings, facilitating deeper language absorption and recall.\\\\n\\\\n### Transforming Education and Career Prospects\\\\nLanguage skills are a pivotal asset in an increasingly interconnected world. LangGraph not only democratizes access to quality language education but also equips learners with essential 21st-century competencies, enhancing employability across sectors.\\\\n\\\\n### Conclusion - LangGraph: The Future of Language Acquisition\\\\nLangGraph stands out as a pioneering platform that synergistically merges gaming and linguistics, offering a dynamic, adaptive, and fruitful learning experience. Its commitment to engaging users through game mechanics while harnessing the power of technology positions it uniquely as a game changer in the realm of language education.\\\\n\\\\n### Reflection\\\\n**Missing:** While the blog outlines LangGraph\\'s benefits, it lacks concrete examples of its real-world impact and user testimonials to bolster credibility.\\\\n**Superfluous:** The introduction could be more engaging by starting with a captivating anecdote illustrating the challenges of traditional language learning.\\\\n\\\\n### Search Queries\\\\n1. \\'LangGraph case studies\\' \\\\n2. \\'User reviews of LangGraph as a language learning tool\\'\\\\n3. \\'LangGraph success stories\\'\"\\n    ,\\n    \"reflection\": {\\n        \"missing\": \"The blog lacks real-world examples, case studies, and direct user testimonials which could substantially enhance its credibility and demonstrate LangGraph\\'s tangible impact on learners\\' lives.\",\\n        \"superfluous\": \"The current introduction doesn\\'t immediately grab attention with a compelling narrative or hook. Tweaking the opening to include an engaging personal anecdote or a bold statement about language learning challenges could make the post more captivating from the start.\"\\n    },\\n    \"search_queries\": [\\n        \"LangGraph case studies\",\\n        \"User reviews of LangGraph as a language learning tool\",\\n        \"LangGraph success stories\"\\n    ]\\n}'}}]"
      ]
     },
     "execution_count": 106,
     "metadata": {},
     "output_type": "execute_result"
    }
   ],
   "source": [
    "response.additional_kwargs[\"tool_calls\"]"
   ]
  },
  {
   "cell_type": "code",
   "execution_count": 90,
   "id": "eb31bd5e",
   "metadata": {},
   "outputs": [
    {
     "data": {
      "text/plain": [
       "PydanticToolsParser(tools=[<class '__main__.AnswerQuestion'>])"
      ]
     },
     "execution_count": 90,
     "metadata": {},
     "output_type": "execute_result"
    }
   ],
   "source": [
    "parser = PydanticToolsParser(tools = [AnswerQuestion])\n",
    "parser"
   ]
  },
  {
   "cell_type": "code",
   "execution_count": 91,
   "id": "a41148cb",
   "metadata": {},
   "outputs": [
    {
     "data": {
      "text/plain": [
       "[AnswerQuestion(answer=\"## Title: LangGraph - Revolutionizing Language Learning as a Game Changer ### Introduction In the ever-evolving landscape of technology, innovation often stems from creatively blending disparate fields to tackle age-old challenges. One such groundbreaking convergence is found in LangGraph, a novel game-based platform designed to transform language acquisition into an engaging and efficient experience. This blog post explores LangGraph's unique features, its impact on language learning, and why it stands out as a game changer in education.\\n\\n### Unconventional Approach - Combining Gaming with Linguistics\\nLangGraph distinguishes itself by integrating the compelling elements of video games with the structured demands of language learning. Traditional methods often face challenges with maintaining learner motivation and engagement. LangGraph addresses these issues through an interactive schema that rewards progress and encourages continuous learning.\\n\\n#### Features of LangGraph\\n1. **Adaptive Learning Paths:** LangGraph tailors learning modules to individual users' needs, adapting to their proficiency levels and interests, ensuring optimized learning.\\n2. **Gamified Progression:** Users advance through levels, unlock content, and earn points by completing exercises, integrating the satisfaction of achievement derived from gaming.\\n3. **Social Interaction:** A built-in community enables peer-to-peer learning and friendly competition, motivating users to practice and refine their language skills in a supportive environment.\\n4. **Multilingual Support:** LangGraph caters to a diverse user base by supporting multiple languages, breaking down barriers and fostering global linguistic fluency.\\n\\n### A Scientific Leap in Cognitive Development and Memory Retention\\nResearch indicates that gamification significantly enhances cognitive functions, particularly memory retention and critical thinking. LangGraph's mechanisms, such as spaced repetition, flashcards, and interactive puzzles, align with these findings, facilitating deeper language absorption and recall.\\n\\n### Transforming Education and Career Prospects\\nLanguage skills are a pivotal asset in an increasingly interconnected world. LangGraph not only democratizes access to quality language education but also equips learners with essential 21st-century competencies, enhancing employability across sectors.\\n\\n### Conclusion - LangGraph: The Future of Language Acquisition\\nLangGraph stands out as a pioneering platform that synergistically merges gaming and linguistics, offering a dynamic, adaptive, and fruitful learning experience. Its commitment to engaging users through game mechanics while harnessing the power of technology positions it uniquely as a game changer in the realm of language education.\\n\\n### Reflection\\n**Missing:** While the blog outlines LangGraph's benefits, it lacks concrete examples of its real-world impact and user testimonials to bolster credibility.\\n**Superfluous:** The introduction could be more engaging by starting with a captivating anecdote illustrating the challenges of traditional language learning.\\n\\n### Search Queries\\n1. 'LangGraph case studies' \\n2. 'User reviews of LangGraph as a language learning tool'\\n3. 'LangGraph success stories'\", search_queries=['LangGraph case studies', 'User reviews of LangGraph as a language learning tool', 'LangGraph success stories'], reflection=Reflection(missing=\"The blog lacks real-world examples, case studies, and direct user testimonials which could substantially enhance its credibility and demonstrate LangGraph's tangible impact on learners' lives.\", superfluous=\"The current introduction doesn't immediately grab attention with a compelling narrative or hook. Tweaking the opening to include an engaging personal anecdote or a bold statement about language learning challenges could make the post more captivating from the start.\"))]"
      ]
     },
     "execution_count": 91,
     "metadata": {},
     "output_type": "execute_result"
    }
   ],
   "source": [
    "parser.invoke(response)"
   ]
  },
  {
   "cell_type": "code",
   "execution_count": 92,
   "id": "cf9c0d4a",
   "metadata": {},
   "outputs": [
    {
     "data": {
      "text/plain": [
       "[{'name': 'AnswerQuestion',\n",
       "  'args': {'answer': \"## Title: LangGraph - Revolutionizing Language Learning as a Game Changer ### Introduction In the ever-evolving landscape of technology, innovation often stems from creatively blending disparate fields to tackle age-old challenges. One such groundbreaking convergence is found in LangGraph, a novel game-based platform designed to transform language acquisition into an engaging and efficient experience. This blog post explores LangGraph's unique features, its impact on language learning, and why it stands out as a game changer in education.\\n\\n### Unconventional Approach - Combining Gaming with Linguistics\\nLangGraph distinguishes itself by integrating the compelling elements of video games with the structured demands of language learning. Traditional methods often face challenges with maintaining learner motivation and engagement. LangGraph addresses these issues through an interactive schema that rewards progress and encourages continuous learning.\\n\\n#### Features of LangGraph\\n1. **Adaptive Learning Paths:** LangGraph tailors learning modules to individual users' needs, adapting to their proficiency levels and interests, ensuring optimized learning.\\n2. **Gamified Progression:** Users advance through levels, unlock content, and earn points by completing exercises, integrating the satisfaction of achievement derived from gaming.\\n3. **Social Interaction:** A built-in community enables peer-to-peer learning and friendly competition, motivating users to practice and refine their language skills in a supportive environment.\\n4. **Multilingual Support:** LangGraph caters to a diverse user base by supporting multiple languages, breaking down barriers and fostering global linguistic fluency.\\n\\n### A Scientific Leap in Cognitive Development and Memory Retention\\nResearch indicates that gamification significantly enhances cognitive functions, particularly memory retention and critical thinking. LangGraph's mechanisms, such as spaced repetition, flashcards, and interactive puzzles, align with these findings, facilitating deeper language absorption and recall.\\n\\n### Transforming Education and Career Prospects\\nLanguage skills are a pivotal asset in an increasingly interconnected world. LangGraph not only democratizes access to quality language education but also equips learners with essential 21st-century competencies, enhancing employability across sectors.\\n\\n### Conclusion - LangGraph: The Future of Language Acquisition\\nLangGraph stands out as a pioneering platform that synergistically merges gaming and linguistics, offering a dynamic, adaptive, and fruitful learning experience. Its commitment to engaging users through game mechanics while harnessing the power of technology positions it uniquely as a game changer in the realm of language education.\\n\\n### Reflection\\n**Missing:** While the blog outlines LangGraph's benefits, it lacks concrete examples of its real-world impact and user testimonials to bolster credibility.\\n**Superfluous:** The introduction could be more engaging by starting with a captivating anecdote illustrating the challenges of traditional language learning.\\n\\n### Search Queries\\n1. 'LangGraph case studies' \\n2. 'User reviews of LangGraph as a language learning tool'\\n3. 'LangGraph success stories'\",\n",
       "   'reflection': {'missing': \"The blog lacks real-world examples, case studies, and direct user testimonials which could substantially enhance its credibility and demonstrate LangGraph's tangible impact on learners' lives.\",\n",
       "    'superfluous': \"The current introduction doesn't immediately grab attention with a compelling narrative or hook. Tweaking the opening to include an engaging personal anecdote or a bold statement about language learning challenges could make the post more captivating from the start.\"},\n",
       "   'search_queries': ['LangGraph case studies',\n",
       "    'User reviews of LangGraph as a language learning tool',\n",
       "    'LangGraph success stories']},\n",
       "  'id': 'chatcmpl-tool-d20b54da35fa40d598bd167c77dac474',\n",
       "  'type': 'tool_call'}]"
      ]
     },
     "execution_count": 92,
     "metadata": {},
     "output_type": "execute_result"
    }
   ],
   "source": [
    "response.tool_calls"
   ]
  },
  {
   "cell_type": "code",
   "execution_count": 110,
   "id": "8706767e",
   "metadata": {},
   "outputs": [
    {
     "data": {
      "text/plain": [
       "[HumanMessage(content='Write a linkedin blog in the topic of **LangGraph the Game Changer**', additional_kwargs={}, response_metadata={}),\n",
       " AIMessage(content='', additional_kwargs={}, response_metadata={}, tool_calls=[{'name': 'AnswerQuestion', 'args': {'answer': \"## Title: LangGraph - Revolutionizing Language Learning as a Game Changer ### Introduction In the ever-evolving landscape of technology, innovation often stems from creatively blending disparate fields to tackle age-old challenges. One such groundbreaking convergence is found in LangGraph, a novel game-based platform designed to transform language acquisition into an engaging and efficient experience. This blog post explores LangGraph's unique features, its impact on language learning, and why it stands out as a game changer in education.\\n\\n### Unconventional Approach - Combining Gaming with Linguistics\\nLangGraph distinguishes itself by integrating the compelling elements of video games with the structured demands of language learning. Traditional methods often face challenges with maintaining learner motivation and engagement. LangGraph addresses these issues through an interactive schema that rewards progress and encourages continuous learning.\\n\\n#### Features of LangGraph\\n1. **Adaptive Learning Paths:** LangGraph tailors learning modules to individual users' needs, adapting to their proficiency levels and interests, ensuring optimized learning.\\n2. **Gamified Progression:** Users advance through levels, unlock content, and earn points by completing exercises, integrating the satisfaction of achievement derived from gaming.\\n3. **Social Interaction:** A built-in community enables peer-to-peer learning and friendly competition, motivating users to practice and refine their language skills in a supportive environment.\\n4. **Multilingual Support:** LangGraph caters to a diverse user base by supporting multiple languages, breaking down barriers and fostering global linguistic fluency.\\n\\n### A Scientific Leap in Cognitive Development and Memory Retention\\nResearch indicates that gamification significantly enhances cognitive functions, particularly memory retention and critical thinking. LangGraph's mechanisms, such as spaced repetition, flashcards, and interactive puzzles, align with these findings, facilitating deeper language absorption and recall.\\n\\n### Transforming Education and Career Prospects\\nLanguage skills are a pivotal asset in an increasingly interconnected world. LangGraph not only democratizes access to quality language education but also equips learners with essential 21st-century competencies, enhancing employability across sectors.\\n\\n### Conclusion - LangGraph: The Future of Language Acquisition\\nLangGraph stands out as a pioneering platform that synergistically merges gaming and linguistics, offering a dynamic, adaptive, and fruitful learning experience. Its commitment to engaging users through game mechanics while harnessing the power of technology positions it uniquely as a game changer in the realm of language education.\\n\\n### Reflection\\n**Missing:** While the blog outlines LangGraph's benefits, it lacks concrete examples of its real-world impact and user testimonials to bolster credibility.\\n**Superfluous:** The introduction could be more engaging by starting with a captivating anecdote illustrating the challenges of traditional language learning.\\n\\n### Search Queries\\n1. 'LangGraph case studies' \\n2. 'User reviews of LangGraph as a language learning tool'\\n3. 'LangGraph success stories'\", 'reflection': {'missing': \"The blog lacks real-world examples, case studies, and direct user testimonials which could substantially enhance its credibility and demonstrate LangGraph's tangible impact on learners' lives.\", 'superfluous': \"The current introduction doesn't immediately grab attention with a compelling narrative or hook. Tweaking the opening to include an engaging personal anecdote or a bold statement about language learning challenges could make the post more captivating from the start.\"}, 'search_queries': ['LangGraph case studies', 'User reviews of LangGraph as a language learning tool', 'LangGraph success stories']}, 'id': 'chatcmpl-tool-d20b54da35fa40d598bd167c77dac474', 'type': 'tool_call'}])]"
      ]
     },
     "execution_count": 110,
     "metadata": {},
     "output_type": "execute_result"
    }
   ],
   "source": [
    "test_state: list[BaseMessage] = [\n",
    "\n",
    "    HumanMessage(content = \"Write a linkedin blog in the topic of **LangGraph the Game Changer**\"),\n",
    "    AIMessage(\n",
    "        content = \"\",\n",
    "        tool_calls = [\n",
    "            {\n",
    "                'name': 'AnswerQuestion',\n",
    "                'args': {\n",
    "                    'answer': \"## Title: LangGraph - Revolutionizing Language Learning as a Game Changer ### Introduction In the ever-evolving landscape of technology, innovation often stems from creatively blending disparate fields to tackle age-old challenges. One such groundbreaking convergence is found in LangGraph, a novel game-based platform designed to transform language acquisition into an engaging and efficient experience. This blog post explores LangGraph's unique features, its impact on language learning, and why it stands out as a game changer in education.\\n\\n### Unconventional Approach - Combining Gaming with Linguistics\\nLangGraph distinguishes itself by integrating the compelling elements of video games with the structured demands of language learning. Traditional methods often face challenges with maintaining learner motivation and engagement. LangGraph addresses these issues through an interactive schema that rewards progress and encourages continuous learning.\\n\\n#### Features of LangGraph\\n1. **Adaptive Learning Paths:** LangGraph tailors learning modules to individual users' needs, adapting to their proficiency levels and interests, ensuring optimized learning.\\n2. **Gamified Progression:** Users advance through levels, unlock content, and earn points by completing exercises, integrating the satisfaction of achievement derived from gaming.\\n3. **Social Interaction:** A built-in community enables peer-to-peer learning and friendly competition, motivating users to practice and refine their language skills in a supportive environment.\\n4. **Multilingual Support:** LangGraph caters to a diverse user base by supporting multiple languages, breaking down barriers and fostering global linguistic fluency.\\n\\n### A Scientific Leap in Cognitive Development and Memory Retention\\nResearch indicates that gamification significantly enhances cognitive functions, particularly memory retention and critical thinking. LangGraph's mechanisms, such as spaced repetition, flashcards, and interactive puzzles, align with these findings, facilitating deeper language absorption and recall.\\n\\n### Transforming Education and Career Prospects\\nLanguage skills are a pivotal asset in an increasingly interconnected world. LangGraph not only democratizes access to quality language education but also equips learners with essential 21st-century competencies, enhancing employability across sectors.\\n\\n### Conclusion - LangGraph: The Future of Language Acquisition\\nLangGraph stands out as a pioneering platform that synergistically merges gaming and linguistics, offering a dynamic, adaptive, and fruitful learning experience. Its commitment to engaging users through game mechanics while harnessing the power of technology positions it uniquely as a game changer in the realm of language education.\\n\\n### Reflection\\n**Missing:** While the blog outlines LangGraph's benefits, it lacks concrete examples of its real-world impact and user testimonials to bolster credibility.\\n**Superfluous:** The introduction could be more engaging by starting with a captivating anecdote illustrating the challenges of traditional language learning.\\n\\n### Search Queries\\n1. 'LangGraph case studies' \\n2. 'User reviews of LangGraph as a language learning tool'\\n3. 'LangGraph success stories'\",\n",
    "                    'reflection': {\n",
    "                        'missing': \"The blog lacks real-world examples, case studies, and direct user testimonials which could substantially enhance its credibility and demonstrate LangGraph's tangible impact on learners' lives.\",\n",
    "                        'superfluous': \"The current introduction doesn't immediately grab attention with a compelling narrative or hook. Tweaking the opening to include an engaging personal anecdote or a bold statement about language learning challenges could make the post more captivating from the start.\"\n",
    "                    },\n",
    "                    'search_queries': [\n",
    "                        'LangGraph case studies',\n",
    "                        'User reviews of LangGraph as a language learning tool',\n",
    "                        'LangGraph success stories'\n",
    "                    ]\n",
    "                },\n",
    "                'id': 'chatcmpl-tool-d20b54da35fa40d598bd167c77dac474',\n",
    "                'type': 'tool_call'\n",
    "            }\n",
    "        ]\n",
    ")\n",
    "]\n",
    "test_state"
   ]
  },
  {
   "cell_type": "code",
   "execution_count": 112,
   "id": "c7c9300f",
   "metadata": {},
   "outputs": [],
   "source": [
    "tool_response = execute_tools(test_state)"
   ]
  },
  {
   "cell_type": "code",
   "execution_count": 113,
   "id": "f267fc1f",
   "metadata": {},
   "outputs": [
    {
     "data": {
      "text/plain": [
       "[ToolMessage(content='{\"LangGraph case studies\": {\"query\": \"LangGraph case studies\", \"follow_up_questions\": null, \"answer\": null, \"images\": [], \"results\": [{\"url\": \"https://blog.langchain.com/tag/case-studies/\", \"title\": \"Case Studies - LangChain Blog\", \"content\": \"How Captide agents running on LangGraph Platform compress investment research from days to seconds. See how Captide is using LangGraph Platform and LangSmith\", \"score\": 0.5683445, \"raw_content\": null}, {\"url\": \"https://www.langchain.com/customers\", \"title\": \"Customer Stories - LangChain\", \"content\": \"Thousands of companies build AI apps better with LangChain products. ### How Replit redefined their AI agent workflows with LangGraph and LangSmith ### How Dun & Bradstreet\\'s ChatD&B\\\\u2122 uses LangChain and LangSmith to deliver trusted, data-driven AI insights Adyen decided to use LangChain to build a smart ticket routing system and support agent copilot because they could rely on a single, easy-to-customize framework to get from... \\\\u201cWorking with LangChain and LangSmith on the Elastic AI Assistant had a significant positive impact on the overall pace and quality of the development and shipping experience. We couldn\\\\u2019t have achieved the product experience delivered to our customers without LangChain, and we couldn\\\\u2019t have done it at the same pace without LangSmith.\\\\u201d\", \"score\": 0.31700373, \"raw_content\": null}, {\"url\": \"https://langchain-ai.github.io/langgraph/adopters/\", \"title\": \"Case studies - GitHub Pages\", \"content\": \"[x] Case studies | Elastic | Software & Technology | Copilot for domain-specific task | Blog post, 2025 | | Inconvo | Software & Technology | Code generation | Case study, 2025 | | OpenRecovery | Healthcare | Copilot for domain-specific task | Case study, 2024 | | Rexera | Real Estate (GenAI Native) | Copilot for domain-specific task | Case study, 2024 | | Tradestack | Software & Technology (GenAI Native) | Copilot for domain-specific task | Case study, 2024 | | Unify | Software & Technology (GenAI Native) | Copilot for domain-specific task | Blog post, 2024 | | Vizient | Healthcare | Copilot for domain-specific task | Case study, 2025 |\", \"score\": 0.06104804, \"raw_content\": null}], \"response_time\": 0.8}, \"User reviews of LangGraph as a language learning tool\": {\"query\": \"User reviews of LangGraph as a language learning tool\", \"follow_up_questions\": null, \"answer\": null, \"images\": [], \"results\": [{\"url\": \"https://langgraph.tenereteam.com/\", \"title\": \"LangGraph Reviews - Read Customer Reviews of Langchain ...\", \"content\": \"LangChain is preferable when quick prototyping or building straightforward language model applications is needed. In contrast, LangGraph shines when managing\", \"score\": 0.64639384, \"raw_content\": null}, {\"url\": \"https://www.reddit.com/r/LangChain/comments/1d4lwt0/am_i_the_only_one_who_feels_langgraph/\", \"title\": \"Am I the only one who feels LangGraph documentation and tutorials ...\", \"content\": \": r/LangChain : r/LangChain Go to LangChain r/LangChain r/LangChain I find langchain interesting to use as I\\\\u2019ve build some initial small pet projects off it but a lot of learning has been done by reading articles and watching some videos. r/LangChain r/LangChain Should I learn LangGraph instead of LangChain? r/LangChain ### Should I learn LangGraph instead of LangChain? r/LangChain r/LangChain Can I use LangGraph without LangChain? r/LangChain ### Can I use LangGraph without LangChain? r/LangChain We are making Open Tutorial for LangChain/LangGraph/LangSmith! r/LangChain ### We are making Open Tutorial for LangChain/LangGraph/LangSmith! What is the best alternative to LangChain/LangGraph for experimentation and production r/LangChain ### What is the best alternative to LangChain/LangGraph for experimentation and production r/LangChain r/LangChain r/LangChain r/LangChain r/LangChain r/LangChain r/LangChain r/LangChain\", \"score\": 0.34826875, \"raw_content\": null}, {\"url\": \"https://news.ycombinator.com/item?id=41203639\", \"title\": \"I don\\'t really understand why an engineer would use langraph. If a ...\", \"content\": \"IMO it is a lot better than langchain; its abstractions are lower level and more appropriate at least for the projects I\\'ve taken on. I think\", \"score\": 0.3324843, \"raw_content\": null}], \"response_time\": 0.99}, \"LangGraph success stories\": {\"query\": \"LangGraph success stories\", \"follow_up_questions\": null, \"answer\": null, \"images\": [], \"results\": [{\"url\": \"https://www.reddit.com/r/LangGraph/comments/1iate1y/successful_langgraph_saas/\", \"title\": \"Successful langgraph SaaS - Reddit\", \"content\": \"AMA - I started my first SaaS on January 1st, 2024. Today, I reached my first $650 revenue month . r/buildinpublic icon.\", \"score\": 0.5780915, \"raw_content\": null}, {\"url\": \"https://www.langchain.com/customers\", \"title\": \"Customer Stories - LangChain\", \"content\": \"Thousands of companies build AI apps better with LangChain products. ### How Replit redefined their AI agent workflows with LangGraph and LangSmith ### How Dun & Bradstreet\\'s ChatD&B\\\\u2122 uses LangChain and LangSmith to deliver trusted, data-driven AI insights Adyen decided to use LangChain to build a smart ticket routing system and support agent copilot because they could rely on a single, easy-to-customize framework to get from... \\\\u201cWorking with LangChain and LangSmith on the Elastic AI Assistant had a significant positive impact on the overall pace and quality of the development and shipping experience. We couldn\\\\u2019t have achieved the product experience delivered to our customers without LangChain, and we couldn\\\\u2019t have done it at the same pace without LangSmith.\\\\u201d\", \"score\": 0.39627898, \"raw_content\": null}, {\"url\": \"https://langchain-ai.github.io/langgraph/adopters/\", \"title\": \"Case studies - GitHub Pages\", \"content\": \"[x] Case studies | Elastic | Software & Technology | Copilot for domain-specific task | Blog post, 2025 | | Inconvo | Software & Technology | Code generation | Case study, 2025 | | OpenRecovery | Healthcare | Copilot for domain-specific task | Case study, 2024 | | Rexera | Real Estate (GenAI Native) | Copilot for domain-specific task | Case study, 2024 | | Tradestack | Software & Technology (GenAI Native) | Copilot for domain-specific task | Case study, 2024 | | Unify | Software & Technology (GenAI Native) | Copilot for domain-specific task | Blog post, 2024 | | Vizient | Healthcare | Copilot for domain-specific task | Case study, 2025 |\", \"score\": 0.033264585, \"raw_content\": null}], \"response_time\": 1.14}}', tool_call_id='chatcmpl-tool-d20b54da35fa40d598bd167c77dac474')]"
      ]
     },
     "execution_count": 113,
     "metadata": {},
     "output_type": "execute_result"
    }
   ],
   "source": [
    "tool_response"
   ]
  },
  {
   "cell_type": "code",
   "execution_count": 114,
   "id": "4e0bed5c",
   "metadata": {},
   "outputs": [
    {
     "data": {
      "text/plain": [
       "1"
      ]
     },
     "execution_count": 114,
     "metadata": {},
     "output_type": "execute_result"
    }
   ],
   "source": [
    "len(tool_response)"
   ]
  },
  {
   "cell_type": "code",
   "execution_count": 118,
   "id": "9dea0d75",
   "metadata": {},
   "outputs": [
    {
     "data": {
      "text/plain": [
       "{'lc': 1,\n",
       " 'type': 'constructor',\n",
       " 'id': ['langchain', 'schema', 'messages', 'ToolMessage'],\n",
       " 'kwargs': {'content': '{\"LangGraph case studies\": {\"query\": \"LangGraph case studies\", \"follow_up_questions\": null, \"answer\": null, \"images\": [], \"results\": [{\"url\": \"https://blog.langchain.com/tag/case-studies/\", \"title\": \"Case Studies - LangChain Blog\", \"content\": \"How Captide agents running on LangGraph Platform compress investment research from days to seconds. See how Captide is using LangGraph Platform and LangSmith\", \"score\": 0.5683445, \"raw_content\": null}, {\"url\": \"https://www.langchain.com/customers\", \"title\": \"Customer Stories - LangChain\", \"content\": \"Thousands of companies build AI apps better with LangChain products. ### How Replit redefined their AI agent workflows with LangGraph and LangSmith ### How Dun & Bradstreet\\'s ChatD&B\\\\u2122 uses LangChain and LangSmith to deliver trusted, data-driven AI insights Adyen decided to use LangChain to build a smart ticket routing system and support agent copilot because they could rely on a single, easy-to-customize framework to get from... \\\\u201cWorking with LangChain and LangSmith on the Elastic AI Assistant had a significant positive impact on the overall pace and quality of the development and shipping experience. We couldn\\\\u2019t have achieved the product experience delivered to our customers without LangChain, and we couldn\\\\u2019t have done it at the same pace without LangSmith.\\\\u201d\", \"score\": 0.31700373, \"raw_content\": null}, {\"url\": \"https://langchain-ai.github.io/langgraph/adopters/\", \"title\": \"Case studies - GitHub Pages\", \"content\": \"[x] Case studies | Elastic | Software & Technology | Copilot for domain-specific task | Blog post, 2025 | | Inconvo | Software & Technology | Code generation | Case study, 2025 | | OpenRecovery | Healthcare | Copilot for domain-specific task | Case study, 2024 | | Rexera | Real Estate (GenAI Native) | Copilot for domain-specific task | Case study, 2024 | | Tradestack | Software & Technology (GenAI Native) | Copilot for domain-specific task | Case study, 2024 | | Unify | Software & Technology (GenAI Native) | Copilot for domain-specific task | Blog post, 2024 | | Vizient | Healthcare | Copilot for domain-specific task | Case study, 2025 |\", \"score\": 0.06104804, \"raw_content\": null}], \"response_time\": 0.8}, \"User reviews of LangGraph as a language learning tool\": {\"query\": \"User reviews of LangGraph as a language learning tool\", \"follow_up_questions\": null, \"answer\": null, \"images\": [], \"results\": [{\"url\": \"https://langgraph.tenereteam.com/\", \"title\": \"LangGraph Reviews - Read Customer Reviews of Langchain ...\", \"content\": \"LangChain is preferable when quick prototyping or building straightforward language model applications is needed. In contrast, LangGraph shines when managing\", \"score\": 0.64639384, \"raw_content\": null}, {\"url\": \"https://www.reddit.com/r/LangChain/comments/1d4lwt0/am_i_the_only_one_who_feels_langgraph/\", \"title\": \"Am I the only one who feels LangGraph documentation and tutorials ...\", \"content\": \": r/LangChain : r/LangChain Go to LangChain r/LangChain r/LangChain I find langchain interesting to use as I\\\\u2019ve build some initial small pet projects off it but a lot of learning has been done by reading articles and watching some videos. r/LangChain r/LangChain Should I learn LangGraph instead of LangChain? r/LangChain ### Should I learn LangGraph instead of LangChain? r/LangChain r/LangChain Can I use LangGraph without LangChain? r/LangChain ### Can I use LangGraph without LangChain? r/LangChain We are making Open Tutorial for LangChain/LangGraph/LangSmith! r/LangChain ### We are making Open Tutorial for LangChain/LangGraph/LangSmith! What is the best alternative to LangChain/LangGraph for experimentation and production r/LangChain ### What is the best alternative to LangChain/LangGraph for experimentation and production r/LangChain r/LangChain r/LangChain r/LangChain r/LangChain r/LangChain r/LangChain r/LangChain\", \"score\": 0.34826875, \"raw_content\": null}, {\"url\": \"https://news.ycombinator.com/item?id=41203639\", \"title\": \"I don\\'t really understand why an engineer would use langraph. If a ...\", \"content\": \"IMO it is a lot better than langchain; its abstractions are lower level and more appropriate at least for the projects I\\'ve taken on. I think\", \"score\": 0.3324843, \"raw_content\": null}], \"response_time\": 0.99}, \"LangGraph success stories\": {\"query\": \"LangGraph success stories\", \"follow_up_questions\": null, \"answer\": null, \"images\": [], \"results\": [{\"url\": \"https://www.reddit.com/r/LangGraph/comments/1iate1y/successful_langgraph_saas/\", \"title\": \"Successful langgraph SaaS - Reddit\", \"content\": \"AMA - I started my first SaaS on January 1st, 2024. Today, I reached my first $650 revenue month . r/buildinpublic icon.\", \"score\": 0.5780915, \"raw_content\": null}, {\"url\": \"https://www.langchain.com/customers\", \"title\": \"Customer Stories - LangChain\", \"content\": \"Thousands of companies build AI apps better with LangChain products. ### How Replit redefined their AI agent workflows with LangGraph and LangSmith ### How Dun & Bradstreet\\'s ChatD&B\\\\u2122 uses LangChain and LangSmith to deliver trusted, data-driven AI insights Adyen decided to use LangChain to build a smart ticket routing system and support agent copilot because they could rely on a single, easy-to-customize framework to get from... \\\\u201cWorking with LangChain and LangSmith on the Elastic AI Assistant had a significant positive impact on the overall pace and quality of the development and shipping experience. We couldn\\\\u2019t have achieved the product experience delivered to our customers without LangChain, and we couldn\\\\u2019t have done it at the same pace without LangSmith.\\\\u201d\", \"score\": 0.39627898, \"raw_content\": null}, {\"url\": \"https://langchain-ai.github.io/langgraph/adopters/\", \"title\": \"Case studies - GitHub Pages\", \"content\": \"[x] Case studies | Elastic | Software & Technology | Copilot for domain-specific task | Blog post, 2025 | | Inconvo | Software & Technology | Code generation | Case study, 2025 | | OpenRecovery | Healthcare | Copilot for domain-specific task | Case study, 2024 | | Rexera | Real Estate (GenAI Native) | Copilot for domain-specific task | Case study, 2024 | | Tradestack | Software & Technology (GenAI Native) | Copilot for domain-specific task | Case study, 2024 | | Unify | Software & Technology (GenAI Native) | Copilot for domain-specific task | Blog post, 2024 | | Vizient | Healthcare | Copilot for domain-specific task | Case study, 2025 |\", \"score\": 0.033264585, \"raw_content\": null}], \"response_time\": 1.14}}',\n",
       "  'type': 'tool',\n",
       "  'tool_call_id': 'chatcmpl-tool-d20b54da35fa40d598bd167c77dac474',\n",
       "  'status': 'success'}}"
      ]
     },
     "execution_count": 118,
     "metadata": {},
     "output_type": "execute_result"
    }
   ],
   "source": [
    "tool_response[0].to_json()"
   ]
  },
  {
   "cell_type": "code",
   "execution_count": 101,
   "id": "32a5c552",
   "metadata": {},
   "outputs": [
    {
     "data": {
      "text/plain": [
       "AIMessage(content='', additional_kwargs={'tool_calls': [{'id': 'chatcmpl-tool-d20b54da35fa40d598bd167c77dac474', 'type': 'function', 'function': {'name': 'AnswerQuestion', 'arguments': '{\\n    \"answer\": \"## Title: LangGraph - Revolutionizing Language Learning as a Game Changer ### Introduction In the ever-evolving landscape of technology, innovation often stems from creatively blending disparate fields to tackle age-old challenges. One such groundbreaking convergence is found in LangGraph, a novel game-based platform designed to transform language acquisition into an engaging and efficient experience. This blog post explores LangGraph\\'s unique features, its impact on language learning, and why it stands out as a game changer in education.\\\\n\\\\n### Unconventional Approach - Combining Gaming with Linguistics\\\\nLangGraph distinguishes itself by integrating the compelling elements of video games with the structured demands of language learning. Traditional methods often face challenges with maintaining learner motivation and engagement. LangGraph addresses these issues through an interactive schema that rewards progress and encourages continuous learning.\\\\n\\\\n#### Features of LangGraph\\\\n1. **Adaptive Learning Paths:** LangGraph tailors learning modules to individual users\\' needs, adapting to their proficiency levels and interests, ensuring optimized learning.\\\\n2. **Gamified Progression:** Users advance through levels, unlock content, and earn points by completing exercises, integrating the satisfaction of achievement derived from gaming.\\\\n3. **Social Interaction:** A built-in community enables peer-to-peer learning and friendly competition, motivating users to practice and refine their language skills in a supportive environment.\\\\n4. **Multilingual Support:** LangGraph caters to a diverse user base by supporting multiple languages, breaking down barriers and fostering global linguistic fluency.\\\\n\\\\n### A Scientific Leap in Cognitive Development and Memory Retention\\\\nResearch indicates that gamification significantly enhances cognitive functions, particularly memory retention and critical thinking. LangGraph\\'s mechanisms, such as spaced repetition, flashcards, and interactive puzzles, align with these findings, facilitating deeper language absorption and recall.\\\\n\\\\n### Transforming Education and Career Prospects\\\\nLanguage skills are a pivotal asset in an increasingly interconnected world. LangGraph not only democratizes access to quality language education but also equips learners with essential 21st-century competencies, enhancing employability across sectors.\\\\n\\\\n### Conclusion - LangGraph: The Future of Language Acquisition\\\\nLangGraph stands out as a pioneering platform that synergistically merges gaming and linguistics, offering a dynamic, adaptive, and fruitful learning experience. Its commitment to engaging users through game mechanics while harnessing the power of technology positions it uniquely as a game changer in the realm of language education.\\\\n\\\\n### Reflection\\\\n**Missing:** While the blog outlines LangGraph\\'s benefits, it lacks concrete examples of its real-world impact and user testimonials to bolster credibility.\\\\n**Superfluous:** The introduction could be more engaging by starting with a captivating anecdote illustrating the challenges of traditional language learning.\\\\n\\\\n### Search Queries\\\\n1. \\'LangGraph case studies\\' \\\\n2. \\'User reviews of LangGraph as a language learning tool\\'\\\\n3. \\'LangGraph success stories\\'\"\\n    ,\\n    \"reflection\": {\\n        \"missing\": \"The blog lacks real-world examples, case studies, and direct user testimonials which could substantially enhance its credibility and demonstrate LangGraph\\'s tangible impact on learners\\' lives.\",\\n        \"superfluous\": \"The current introduction doesn\\'t immediately grab attention with a compelling narrative or hook. Tweaking the opening to include an engaging personal anecdote or a bold statement about language learning challenges could make the post more captivating from the start.\"\\n    },\\n    \"search_queries\": [\\n        \"LangGraph case studies\",\\n        \"User reviews of LangGraph as a language learning tool\",\\n        \"LangGraph success stories\"\\n    ]\\n}'}}]}, response_metadata={'token_usage': {'completion_tokens': 862, 'prompt_tokens': 339, 'total_tokens': 1201}, 'model_name': 'ibm/granite-3-3-8b-instruct', 'system_fingerprint': '', 'finish_reason': 'stop'}, id='chatcmpl-c550e11f-1f86-40fc-bd94-811c0c5569e9---6866f7f19fee071ec64ca71bcdedb388---b7102a58-ec4b-4d6e-ae1f-76a5285c1a79', tool_calls=[{'name': 'AnswerQuestion', 'args': {'answer': \"## Title: LangGraph - Revolutionizing Language Learning as a Game Changer ### Introduction In the ever-evolving landscape of technology, innovation often stems from creatively blending disparate fields to tackle age-old challenges. One such groundbreaking convergence is found in LangGraph, a novel game-based platform designed to transform language acquisition into an engaging and efficient experience. This blog post explores LangGraph's unique features, its impact on language learning, and why it stands out as a game changer in education.\\n\\n### Unconventional Approach - Combining Gaming with Linguistics\\nLangGraph distinguishes itself by integrating the compelling elements of video games with the structured demands of language learning. Traditional methods often face challenges with maintaining learner motivation and engagement. LangGraph addresses these issues through an interactive schema that rewards progress and encourages continuous learning.\\n\\n#### Features of LangGraph\\n1. **Adaptive Learning Paths:** LangGraph tailors learning modules to individual users' needs, adapting to their proficiency levels and interests, ensuring optimized learning.\\n2. **Gamified Progression:** Users advance through levels, unlock content, and earn points by completing exercises, integrating the satisfaction of achievement derived from gaming.\\n3. **Social Interaction:** A built-in community enables peer-to-peer learning and friendly competition, motivating users to practice and refine their language skills in a supportive environment.\\n4. **Multilingual Support:** LangGraph caters to a diverse user base by supporting multiple languages, breaking down barriers and fostering global linguistic fluency.\\n\\n### A Scientific Leap in Cognitive Development and Memory Retention\\nResearch indicates that gamification significantly enhances cognitive functions, particularly memory retention and critical thinking. LangGraph's mechanisms, such as spaced repetition, flashcards, and interactive puzzles, align with these findings, facilitating deeper language absorption and recall.\\n\\n### Transforming Education and Career Prospects\\nLanguage skills are a pivotal asset in an increasingly interconnected world. LangGraph not only democratizes access to quality language education but also equips learners with essential 21st-century competencies, enhancing employability across sectors.\\n\\n### Conclusion - LangGraph: The Future of Language Acquisition\\nLangGraph stands out as a pioneering platform that synergistically merges gaming and linguistics, offering a dynamic, adaptive, and fruitful learning experience. Its commitment to engaging users through game mechanics while harnessing the power of technology positions it uniquely as a game changer in the realm of language education.\\n\\n### Reflection\\n**Missing:** While the blog outlines LangGraph's benefits, it lacks concrete examples of its real-world impact and user testimonials to bolster credibility.\\n**Superfluous:** The introduction could be more engaging by starting with a captivating anecdote illustrating the challenges of traditional language learning.\\n\\n### Search Queries\\n1. 'LangGraph case studies' \\n2. 'User reviews of LangGraph as a language learning tool'\\n3. 'LangGraph success stories'\", 'reflection': {'missing': \"The blog lacks real-world examples, case studies, and direct user testimonials which could substantially enhance its credibility and demonstrate LangGraph's tangible impact on learners' lives.\", 'superfluous': \"The current introduction doesn't immediately grab attention with a compelling narrative or hook. Tweaking the opening to include an engaging personal anecdote or a bold statement about language learning challenges could make the post more captivating from the start.\"}, 'search_queries': ['LangGraph case studies', 'User reviews of LangGraph as a language learning tool', 'LangGraph success stories']}, 'id': 'chatcmpl-tool-d20b54da35fa40d598bd167c77dac474', 'type': 'tool_call'}], usage_metadata={'input_tokens': 339, 'output_tokens': 862, 'total_tokens': 1201})"
      ]
     },
     "execution_count": 101,
     "metadata": {},
     "output_type": "execute_result"
    }
   ],
   "source": [
    "response"
   ]
  },
  {
   "cell_type": "code",
   "execution_count": 104,
   "id": "8b6e0118",
   "metadata": {},
   "outputs": [
    {
     "data": {
      "text/plain": [
       "[AnswerQuestion(answer=\"## Title: LangGraph - Revolutionizing Language Learning as a Game Changer ### Introduction In the ever-evolving landscape of technology, innovation often stems from creatively blending disparate fields to tackle age-old challenges. One such groundbreaking convergence is found in LangGraph, a novel game-based platform designed to transform language acquisition into an engaging and efficient experience. This blog post explores LangGraph's unique features, its impact on language learning, and why it stands out as a game changer in education.\\n\\n### Unconventional Approach - Combining Gaming with Linguistics\\nLangGraph distinguishes itself by integrating the compelling elements of video games with the structured demands of language learning. Traditional methods often face challenges with maintaining learner motivation and engagement. LangGraph addresses these issues through an interactive schema that rewards progress and encourages continuous learning.\\n\\n#### Features of LangGraph\\n1. **Adaptive Learning Paths:** LangGraph tailors learning modules to individual users' needs, adapting to their proficiency levels and interests, ensuring optimized learning.\\n2. **Gamified Progression:** Users advance through levels, unlock content, and earn points by completing exercises, integrating the satisfaction of achievement derived from gaming.\\n3. **Social Interaction:** A built-in community enables peer-to-peer learning and friendly competition, motivating users to practice and refine their language skills in a supportive environment.\\n4. **Multilingual Support:** LangGraph caters to a diverse user base by supporting multiple languages, breaking down barriers and fostering global linguistic fluency.\\n\\n### A Scientific Leap in Cognitive Development and Memory Retention\\nResearch indicates that gamification significantly enhances cognitive functions, particularly memory retention and critical thinking. LangGraph's mechanisms, such as spaced repetition, flashcards, and interactive puzzles, align with these findings, facilitating deeper language absorption and recall.\\n\\n### Transforming Education and Career Prospects\\nLanguage skills are a pivotal asset in an increasingly interconnected world. LangGraph not only democratizes access to quality language education but also equips learners with essential 21st-century competencies, enhancing employability across sectors.\\n\\n### Conclusion - LangGraph: The Future of Language Acquisition\\nLangGraph stands out as a pioneering platform that synergistically merges gaming and linguistics, offering a dynamic, adaptive, and fruitful learning experience. Its commitment to engaging users through game mechanics while harnessing the power of technology positions it uniquely as a game changer in the realm of language education.\\n\\n### Reflection\\n**Missing:** While the blog outlines LangGraph's benefits, it lacks concrete examples of its real-world impact and user testimonials to bolster credibility.\\n**Superfluous:** The introduction could be more engaging by starting with a captivating anecdote illustrating the challenges of traditional language learning.\\n\\n### Search Queries\\n1. 'LangGraph case studies' \\n2. 'User reviews of LangGraph as a language learning tool'\\n3. 'LangGraph success stories'\", search_queries=['LangGraph case studies', 'User reviews of LangGraph as a language learning tool', 'LangGraph success stories'], reflection=Reflection(missing=\"The blog lacks real-world examples, case studies, and direct user testimonials which could substantially enhance its credibility and demonstrate LangGraph's tangible impact on learners' lives.\", superfluous=\"The current introduction doesn't immediately grab attention with a compelling narrative or hook. Tweaking the opening to include an engaging personal anecdote or a bold statement about language learning challenges could make the post more captivating from the start.\"))]"
      ]
     },
     "execution_count": 104,
     "metadata": {},
     "output_type": "execute_result"
    }
   ],
   "source": [
    "parser.invoke(response)"
   ]
  },
  {
   "cell_type": "code",
   "execution_count": null,
   "id": "3f94f986",
   "metadata": {},
   "outputs": [],
   "source": []
  },
  {
   "cell_type": "markdown",
   "id": "69b3b087",
   "metadata": {},
   "source": [
    "# Graph implementations."
   ]
  },
  {
   "cell_type": "code",
   "execution_count": 124,
   "id": "099f92c0",
   "metadata": {},
   "outputs": [],
   "source": [
    "from langgraph.graph import MessageGraph, END\n",
    "from typing import List, Dict, Any\n",
    "\n",
    "RESPONDER = \"responder\"\n",
    "REVISOR =  \"revisor\"\n",
    "TOOLS_EXECUTOR = \"tools_executor\"\n",
    "\n",
    "def responder_node(state: List[BaseMessage]) -> List[BaseMessage]:\n",
    "    return responder_chain.invoke({\"messages\": state})\n",
    "\n",
    "\n",
    "def revisor_node(state: List[BaseMessage]) -> List[BaseMessage]:\n",
    "    return revisor_chain.invoke({\"messages\": state})\n",
    "\n",
    "\n",
    "def should_continue(state: List[BaseMessage]) -> str:\n",
    "    if len(state) > 3:\n",
    "        return END\n",
    "    return REVISOR\n",
    "\n",
    "# Function to extract search queries from AnswerQuestion tool calls.\n",
    "def execute_tools(state: list[BaseMessage]) -> list[BaseMessage]:\n",
    "\n",
    "    last_ai_message: AIMessage = state[-1]\n",
    "\n",
    "    # Extract tool calls from AI Message\n",
    "    if not hasattr(last_ai_message, \"tool_calls\") or not last_ai_message.tool_calls:\n",
    "        return []\n",
    "    \n",
    "    tool_messages = []\n",
    "\n",
    "    for tool_call in last_ai_message.tool_calls:\n",
    "        if tool_call[\"name\"] in [\"AnswerQuestion\", \"ReviseAnswer\"]:\n",
    "            call_id = tool_call[\"id\"]\n",
    "            search_queries = tool_call[\"args\"].get(\"search_queries\", [])\n",
    "\n",
    "            # EXECUTE EACH SEARCH QUERY USING TAVILY.\n",
    "            query_results = {}\n",
    "            for query in search_queries:\n",
    "                query_result: dict = tavily_tool.invoke(query)\n",
    "                query_results[query] = query_result\n",
    "\n",
    "            # Create a tool message with the results.\n",
    "            tool_messages.append(\n",
    "                ToolMessage(\n",
    "                    content = json.dumps(query_results),\n",
    "                    tool_call_id = call_id\n",
    "                )\n",
    "            )\n",
    "\n",
    "    return tool_messages\n"
   ]
  },
  {
   "cell_type": "code",
   "execution_count": 126,
   "id": "ed621687",
   "metadata": {},
   "outputs": [
    {
     "data": {
      "image/png": "[encoded data removed]",
      "text/plain": [
       "<langgraph.graph.state.CompiledStateGraph object at 0x0000020941AA87D0>"
      ]
     },
     "execution_count": 126,
     "metadata": {},
     "output_type": "execute_result"
    }
   ],
   "source": [
    "graph_builder = MessageGraph()\n",
    "\n",
    "graph_builder.add_node(RESPONDER, responder_node)\n",
    "graph_builder.add_node(TOOLS_EXECUTOR, execute_tools)\n",
    "graph_builder.add_node(REVISOR, revisor_node)\n",
    "\n",
    "graph_builder.set_entry_point(RESPONDER)\n",
    "graph_builder.add_edge(RESPONDER, TOOLS_EXECUTOR)\n",
    "graph_builder.add_edge(TOOLS_EXECUTOR, REVISOR)\n",
    "graph_builder.add_conditional_edges(REVISOR, should_continue, path_map = {RESPONDER: RESPONDER, END: END})\n",
    "\n",
    "graph = graph_builder.compile()\n",
    "graph\n"
   ]
  },
  {
   "cell_type": "code",
   "execution_count": 130,
   "id": "20e45d49",
   "metadata": {},
   "outputs": [
    {
     "name": "stderr",
     "output_type": "stream",
     "text": [
      "Failure during chat. (POST https://us-south.ml.cloud.ibm.com/ml/v1/text/chat?version=2025-06-11)\n",
      "Status code: 429, body: {\"errors\":[{\"code\":\"consumption_limit_reached\",\"message\":\"The usage limit for the current plan has been reached: the total number of free concurrent requests for model ibm/granite-3-3-8b-instruct has reached its limit 10. Please try again later\",\"more_info\":\"https://cloud.ibm.com/apidocs/watsonx-ai#text-chat\"}],\"trace\":\"e1c7adffe99190722458253bb8c354bc\",\"status_code\":429}\n"
     ]
    },
    {
     "ename": "ApiRequestFailure",
     "evalue": "Failure during chat. (POST https://us-south.ml.cloud.ibm.com/ml/v1/text/chat?version=2025-06-11)\nStatus code: 429, body: {\"errors\":[{\"code\":\"consumption_limit_reached\",\"message\":\"The usage limit for the current plan has been reached: the total number of free concurrent requests for model ibm/granite-3-3-8b-instruct has reached its limit 10. Please try again later\",\"more_info\":\"https://cloud.ibm.com/apidocs/watsonx-ai#text-chat\"}],\"trace\":\"e1c7adffe99190722458253bb8c354bc\",\"status_code\":429}",
     "output_type": "error",
     "traceback": [
      "\u001b[31m---------------------------------------------------------------------------\u001b[39m",
      "\u001b[31mApiRequestFailure\u001b[39m                         Traceback (most recent call last)",
      "\u001b[36mCell\u001b[39m\u001b[36m \u001b[39m\u001b[32mIn[130]\u001b[39m\u001b[32m, line 1\u001b[39m\n\u001b[32m----> \u001b[39m\u001b[32m1\u001b[39m blog_post = \u001b[43mgraph\u001b[49m\u001b[43m.\u001b[49m\u001b[43minvoke\u001b[49m\u001b[43m(\u001b[49m\u001b[33;43m\"\u001b[39;49m\u001b[33;43mWrite a Twitter blog post in the topic of **LangGraph - The Game changer in Agentic AI World**.\u001b[39;49m\u001b[33;43m\"\u001b[39;49m\u001b[43m)\u001b[49m\n",
      "\u001b[36mFile \u001b[39m\u001b[32mc:\\Users\\user\\Desktop\\AIWorkspace\\my_ai_env\\Lib\\site-packages\\langgraph\\pregel\\__init__.py:2719\u001b[39m, in \u001b[36mPregel.invoke\u001b[39m\u001b[34m(self, input, config, stream_mode, output_keys, interrupt_before, interrupt_after, checkpoint_during, debug, **kwargs)\u001b[39m\n\u001b[32m   2716\u001b[39m chunks: \u001b[38;5;28mlist\u001b[39m[Union[\u001b[38;5;28mdict\u001b[39m[\u001b[38;5;28mstr\u001b[39m, Any], Any]] = []\n\u001b[32m   2717\u001b[39m interrupts: \u001b[38;5;28mlist\u001b[39m[Interrupt] = []\n\u001b[32m-> \u001b[39m\u001b[32m2719\u001b[39m \u001b[43m\u001b[49m\u001b[38;5;28;43;01mfor\u001b[39;49;00m\u001b[43m \u001b[49m\u001b[43mchunk\u001b[49m\u001b[43m \u001b[49m\u001b[38;5;129;43;01min\u001b[39;49;00m\u001b[43m \u001b[49m\u001b[38;5;28;43mself\u001b[39;49m\u001b[43m.\u001b[49m\u001b[43mstream\u001b[49m\u001b[43m(\u001b[49m\n\u001b[32m   2720\u001b[39m \u001b[43m    \u001b[49m\u001b[38;5;28;43minput\u001b[39;49m\u001b[43m,\u001b[49m\n\u001b[32m   2721\u001b[39m \u001b[43m    \u001b[49m\u001b[43mconfig\u001b[49m\u001b[43m,\u001b[49m\n\u001b[32m   2722\u001b[39m \u001b[43m    \u001b[49m\u001b[43mstream_mode\u001b[49m\u001b[43m=\u001b[49m\u001b[43mstream_mode\u001b[49m\u001b[43m,\u001b[49m\n\u001b[32m   2723\u001b[39m \u001b[43m    \u001b[49m\u001b[43moutput_keys\u001b[49m\u001b[43m=\u001b[49m\u001b[43moutput_keys\u001b[49m\u001b[43m,\u001b[49m\n\u001b[32m   2724\u001b[39m \u001b[43m    \u001b[49m\u001b[43minterrupt_before\u001b[49m\u001b[43m=\u001b[49m\u001b[43minterrupt_before\u001b[49m\u001b[43m,\u001b[49m\n\u001b[32m   2725\u001b[39m \u001b[43m    \u001b[49m\u001b[43minterrupt_after\u001b[49m\u001b[43m=\u001b[49m\u001b[43minterrupt_after\u001b[49m\u001b[43m,\u001b[49m\n\u001b[32m   2726\u001b[39m \u001b[43m    \u001b[49m\u001b[43mcheckpoint_during\u001b[49m\u001b[43m=\u001b[49m\u001b[43mcheckpoint_during\u001b[49m\u001b[43m,\u001b[49m\n\u001b[32m   2727\u001b[39m \u001b[43m    \u001b[49m\u001b[43mdebug\u001b[49m\u001b[43m=\u001b[49m\u001b[43mdebug\u001b[49m\u001b[43m,\u001b[49m\n\u001b[32m   2728\u001b[39m \u001b[43m    \u001b[49m\u001b[43m*\u001b[49m\u001b[43m*\u001b[49m\u001b[43mkwargs\u001b[49m\u001b[43m,\u001b[49m\n\u001b[32m   2729\u001b[39m \u001b[43m\u001b[49m\u001b[43m)\u001b[49m\u001b[43m:\u001b[49m\n\u001b[32m   2730\u001b[39m \u001b[43m    \u001b[49m\u001b[38;5;28;43;01mif\u001b[39;49;00m\u001b[43m \u001b[49m\u001b[43mstream_mode\u001b[49m\u001b[43m \u001b[49m\u001b[43m==\u001b[49m\u001b[43m \u001b[49m\u001b[33;43m\"\u001b[39;49m\u001b[33;43mvalues\u001b[39;49m\u001b[33;43m\"\u001b[39;49m\u001b[43m:\u001b[49m\n\u001b[32m   2731\u001b[39m \u001b[43m        \u001b[49m\u001b[38;5;28;43;01mif\u001b[39;49;00m\u001b[43m \u001b[49m\u001b[43m(\u001b[49m\n\u001b[32m   2732\u001b[39m \u001b[43m            \u001b[49m\u001b[38;5;28;43misinstance\u001b[39;49m\u001b[43m(\u001b[49m\u001b[43mchunk\u001b[49m\u001b[43m,\u001b[49m\u001b[43m \u001b[49m\u001b[38;5;28;43mdict\u001b[39;49m\u001b[43m)\u001b[49m\n\u001b[32m   2733\u001b[39m \u001b[43m            \u001b[49m\u001b[38;5;129;43;01mand\u001b[39;49;00m\u001b[43m \u001b[49m\u001b[43m(\u001b[49m\u001b[43mints\u001b[49m\u001b[43m \u001b[49m\u001b[43m:=\u001b[49m\u001b[43m \u001b[49m\u001b[43mchunk\u001b[49m\u001b[43m.\u001b[49m\u001b[43mget\u001b[49m\u001b[43m(\u001b[49m\u001b[43mINTERRUPT\u001b[49m\u001b[43m)\u001b[49m\u001b[43m)\u001b[49m\u001b[43m \u001b[49m\u001b[38;5;129;43;01mis\u001b[39;49;00m\u001b[43m \u001b[49m\u001b[38;5;129;43;01mnot\u001b[39;49;00m\u001b[43m \u001b[49m\u001b[38;5;28;43;01mNone\u001b[39;49;00m\n\u001b[32m   2734\u001b[39m \u001b[43m        \u001b[49m\u001b[43m)\u001b[49m\u001b[43m:\u001b[49m\n",
      "\u001b[36mFile \u001b[39m\u001b[32mc:\\Users\\user\\Desktop\\AIWorkspace\\my_ai_env\\Lib\\site-packages\\langgraph\\pregel\\__init__.py:2436\u001b[39m, in \u001b[36mPregel.stream\u001b[39m\u001b[34m(self, input, config, stream_mode, output_keys, interrupt_before, interrupt_after, checkpoint_during, debug, subgraphs)\u001b[39m\n\u001b[32m   2434\u001b[39m         \u001b[38;5;28;01mfor\u001b[39;00m task \u001b[38;5;129;01min\u001b[39;00m loop.match_cached_writes():\n\u001b[32m   2435\u001b[39m             loop.output_writes(task.id, task.writes, cached=\u001b[38;5;28;01mTrue\u001b[39;00m)\n\u001b[32m-> \u001b[39m\u001b[32m2436\u001b[39m \u001b[43m        \u001b[49m\u001b[38;5;28;43;01mfor\u001b[39;49;00m\u001b[43m \u001b[49m\u001b[43m_\u001b[49m\u001b[43m \u001b[49m\u001b[38;5;129;43;01min\u001b[39;49;00m\u001b[43m \u001b[49m\u001b[43mrunner\u001b[49m\u001b[43m.\u001b[49m\u001b[43mtick\u001b[49m\u001b[43m(\u001b[49m\n\u001b[32m   2437\u001b[39m \u001b[43m            \u001b[49m\u001b[43m[\u001b[49m\u001b[43mt\u001b[49m\u001b[43m \u001b[49m\u001b[38;5;28;43;01mfor\u001b[39;49;00m\u001b[43m \u001b[49m\u001b[43mt\u001b[49m\u001b[43m \u001b[49m\u001b[38;5;129;43;01min\u001b[39;49;00m\u001b[43m \u001b[49m\u001b[43mloop\u001b[49m\u001b[43m.\u001b[49m\u001b[43mtasks\u001b[49m\u001b[43m.\u001b[49m\u001b[43mvalues\u001b[49m\u001b[43m(\u001b[49m\u001b[43m)\u001b[49m\u001b[43m \u001b[49m\u001b[38;5;28;43;01mif\u001b[39;49;00m\u001b[43m \u001b[49m\u001b[38;5;129;43;01mnot\u001b[39;49;00m\u001b[43m \u001b[49m\u001b[43mt\u001b[49m\u001b[43m.\u001b[49m\u001b[43mwrites\u001b[49m\u001b[43m]\u001b[49m\u001b[43m,\u001b[49m\n\u001b[32m   2438\u001b[39m \u001b[43m            \u001b[49m\u001b[43mtimeout\u001b[49m\u001b[43m=\u001b[49m\u001b[38;5;28;43mself\u001b[39;49m\u001b[43m.\u001b[49m\u001b[43mstep_timeout\u001b[49m\u001b[43m,\u001b[49m\n\u001b[32m   2439\u001b[39m \u001b[43m            \u001b[49m\u001b[43mget_waiter\u001b[49m\u001b[43m=\u001b[49m\u001b[43mget_waiter\u001b[49m\u001b[43m,\u001b[49m\n\u001b[32m   2440\u001b[39m \u001b[43m            \u001b[49m\u001b[43mschedule_task\u001b[49m\u001b[43m=\u001b[49m\u001b[43mloop\u001b[49m\u001b[43m.\u001b[49m\u001b[43maccept_push\u001b[49m\u001b[43m,\u001b[49m\n\u001b[32m   2441\u001b[39m \u001b[43m        \u001b[49m\u001b[43m)\u001b[49m\u001b[43m:\u001b[49m\n\u001b[32m   2442\u001b[39m \u001b[43m            \u001b[49m\u001b[38;5;66;43;03m# emit output\u001b[39;49;00m\n\u001b[32m   2443\u001b[39m \u001b[43m            \u001b[49m\u001b[38;5;28;43;01myield from\u001b[39;49;00m\u001b[43m \u001b[49m\u001b[43moutput\u001b[49m\u001b[43m(\u001b[49m\u001b[43m)\u001b[49m\n\u001b[32m   2444\u001b[39m \u001b[38;5;66;03m# emit output\u001b[39;00m\n",
      "\u001b[36mFile \u001b[39m\u001b[32mc:\\Users\\user\\Desktop\\AIWorkspace\\my_ai_env\\Lib\\site-packages\\langgraph\\pregel\\runner.py:161\u001b[39m, in \u001b[36mPregelRunner.tick\u001b[39m\u001b[34m(self, tasks, reraise, timeout, retry_policy, get_waiter, schedule_task)\u001b[39m\n\u001b[32m    159\u001b[39m t = tasks[\u001b[32m0\u001b[39m]\n\u001b[32m    160\u001b[39m \u001b[38;5;28;01mtry\u001b[39;00m:\n\u001b[32m--> \u001b[39m\u001b[32m161\u001b[39m     \u001b[43mrun_with_retry\u001b[49m\u001b[43m(\u001b[49m\n\u001b[32m    162\u001b[39m \u001b[43m        \u001b[49m\u001b[43mt\u001b[49m\u001b[43m,\u001b[49m\n\u001b[32m    163\u001b[39m \u001b[43m        \u001b[49m\u001b[43mretry_policy\u001b[49m\u001b[43m,\u001b[49m\n\u001b[32m    164\u001b[39m \u001b[43m        \u001b[49m\u001b[43mconfigurable\u001b[49m\u001b[43m=\u001b[49m\u001b[43m{\u001b[49m\n\u001b[32m    165\u001b[39m \u001b[43m            \u001b[49m\u001b[43mCONFIG_KEY_CALL\u001b[49m\u001b[43m:\u001b[49m\u001b[43m \u001b[49m\u001b[43mpartial\u001b[49m\u001b[43m(\u001b[49m\n\u001b[32m    166\u001b[39m \u001b[43m                \u001b[49m\u001b[43m_call\u001b[49m\u001b[43m,\u001b[49m\n\u001b[32m    167\u001b[39m \u001b[43m                \u001b[49m\u001b[43mweakref\u001b[49m\u001b[43m.\u001b[49m\u001b[43mref\u001b[49m\u001b[43m(\u001b[49m\u001b[43mt\u001b[49m\u001b[43m)\u001b[49m\u001b[43m,\u001b[49m\n\u001b[32m    168\u001b[39m \u001b[43m                \u001b[49m\u001b[43mretry\u001b[49m\u001b[43m=\u001b[49m\u001b[43mretry_policy\u001b[49m\u001b[43m,\u001b[49m\n\u001b[32m    169\u001b[39m \u001b[43m                \u001b[49m\u001b[43mfutures\u001b[49m\u001b[43m=\u001b[49m\u001b[43mweakref\u001b[49m\u001b[43m.\u001b[49m\u001b[43mref\u001b[49m\u001b[43m(\u001b[49m\u001b[43mfutures\u001b[49m\u001b[43m)\u001b[49m\u001b[43m,\u001b[49m\n\u001b[32m    170\u001b[39m \u001b[43m                \u001b[49m\u001b[43mschedule_task\u001b[49m\u001b[43m=\u001b[49m\u001b[43mschedule_task\u001b[49m\u001b[43m,\u001b[49m\n\u001b[32m    171\u001b[39m \u001b[43m                \u001b[49m\u001b[43msubmit\u001b[49m\u001b[43m=\u001b[49m\u001b[38;5;28;43mself\u001b[39;49m\u001b[43m.\u001b[49m\u001b[43msubmit\u001b[49m\u001b[43m,\u001b[49m\n\u001b[32m    172\u001b[39m \u001b[43m            \u001b[49m\u001b[43m)\u001b[49m\u001b[43m,\u001b[49m\n\u001b[32m    173\u001b[39m \u001b[43m        \u001b[49m\u001b[43m}\u001b[49m\u001b[43m,\u001b[49m\n\u001b[32m    174\u001b[39m \u001b[43m    \u001b[49m\u001b[43m)\u001b[49m\n\u001b[32m    175\u001b[39m     \u001b[38;5;28mself\u001b[39m.commit(t, \u001b[38;5;28;01mNone\u001b[39;00m)\n\u001b[32m    176\u001b[39m \u001b[38;5;28;01mexcept\u001b[39;00m \u001b[38;5;167;01mException\u001b[39;00m \u001b[38;5;28;01mas\u001b[39;00m exc:\n",
      "\u001b[36mFile \u001b[39m\u001b[32mc:\\Users\\user\\Desktop\\AIWorkspace\\my_ai_env\\Lib\\site-packages\\langgraph\\pregel\\retry.py:40\u001b[39m, in \u001b[36mrun_with_retry\u001b[39m\u001b[34m(task, retry_policy, configurable)\u001b[39m\n\u001b[32m     38\u001b[39m     task.writes.clear()\n\u001b[32m     39\u001b[39m     \u001b[38;5;66;03m# run the task\u001b[39;00m\n\u001b[32m---> \u001b[39m\u001b[32m40\u001b[39m     \u001b[38;5;28;01mreturn\u001b[39;00m \u001b[43mtask\u001b[49m\u001b[43m.\u001b[49m\u001b[43mproc\u001b[49m\u001b[43m.\u001b[49m\u001b[43minvoke\u001b[49m\u001b[43m(\u001b[49m\u001b[43mtask\u001b[49m\u001b[43m.\u001b[49m\u001b[43minput\u001b[49m\u001b[43m,\u001b[49m\u001b[43m \u001b[49m\u001b[43mconfig\u001b[49m\u001b[43m)\u001b[49m\n\u001b[32m     41\u001b[39m \u001b[38;5;28;01mexcept\u001b[39;00m ParentCommand \u001b[38;5;28;01mas\u001b[39;00m exc:\n\u001b[32m     42\u001b[39m     ns: \u001b[38;5;28mstr\u001b[39m = config[CONF][CONFIG_KEY_CHECKPOINT_NS]\n",
      "\u001b[36mFile \u001b[39m\u001b[32mc:\\Users\\user\\Desktop\\AIWorkspace\\my_ai_env\\Lib\\site-packages\\langgraph\\utils\\runnable.py:623\u001b[39m, in \u001b[36mRunnableSeq.invoke\u001b[39m\u001b[34m(self, input, config, **kwargs)\u001b[39m\n\u001b[32m    621\u001b[39m     \u001b[38;5;66;03m# run in context\u001b[39;00m\n\u001b[32m    622\u001b[39m     \u001b[38;5;28;01mwith\u001b[39;00m set_config_context(config, run) \u001b[38;5;28;01mas\u001b[39;00m context:\n\u001b[32m--> \u001b[39m\u001b[32m623\u001b[39m         \u001b[38;5;28minput\u001b[39m = \u001b[43mcontext\u001b[49m\u001b[43m.\u001b[49m\u001b[43mrun\u001b[49m\u001b[43m(\u001b[49m\u001b[43mstep\u001b[49m\u001b[43m.\u001b[49m\u001b[43minvoke\u001b[49m\u001b[43m,\u001b[49m\u001b[43m \u001b[49m\u001b[38;5;28;43minput\u001b[39;49m\u001b[43m,\u001b[49m\u001b[43m \u001b[49m\u001b[43mconfig\u001b[49m\u001b[43m,\u001b[49m\u001b[43m \u001b[49m\u001b[43m*\u001b[49m\u001b[43m*\u001b[49m\u001b[43mkwargs\u001b[49m\u001b[43m)\u001b[49m\n\u001b[32m    624\u001b[39m \u001b[38;5;28;01melse\u001b[39;00m:\n\u001b[32m    625\u001b[39m     \u001b[38;5;28minput\u001b[39m = step.invoke(\u001b[38;5;28minput\u001b[39m, config)\n",
      "\u001b[36mFile \u001b[39m\u001b[32mc:\\Users\\user\\Desktop\\AIWorkspace\\my_ai_env\\Lib\\site-packages\\langgraph\\utils\\runnable.py:377\u001b[39m, in \u001b[36mRunnableCallable.invoke\u001b[39m\u001b[34m(self, input, config, **kwargs)\u001b[39m\n\u001b[32m    375\u001b[39m         run_manager.on_chain_end(ret)\n\u001b[32m    376\u001b[39m \u001b[38;5;28;01melse\u001b[39;00m:\n\u001b[32m--> \u001b[39m\u001b[32m377\u001b[39m     ret = \u001b[38;5;28;43mself\u001b[39;49m\u001b[43m.\u001b[49m\u001b[43mfunc\u001b[49m\u001b[43m(\u001b[49m\u001b[43m*\u001b[49m\u001b[43margs\u001b[49m\u001b[43m,\u001b[49m\u001b[43m \u001b[49m\u001b[43m*\u001b[49m\u001b[43m*\u001b[49m\u001b[43mkwargs\u001b[49m\u001b[43m)\u001b[49m\n\u001b[32m    378\u001b[39m \u001b[38;5;28;01mif\u001b[39;00m \u001b[38;5;28mself\u001b[39m.recurse \u001b[38;5;129;01mand\u001b[39;00m \u001b[38;5;28misinstance\u001b[39m(ret, Runnable):\n\u001b[32m    379\u001b[39m     \u001b[38;5;28;01mreturn\u001b[39;00m ret.invoke(\u001b[38;5;28minput\u001b[39m, config)\n",
      "\u001b[36mCell\u001b[39m\u001b[36m \u001b[39m\u001b[32mIn[124]\u001b[39m\u001b[32m, line 9\u001b[39m, in \u001b[36mresponder_node\u001b[39m\u001b[34m(state)\u001b[39m\n\u001b[32m      8\u001b[39m \u001b[38;5;28;01mdef\u001b[39;00m\u001b[38;5;250m \u001b[39m\u001b[34mresponder_node\u001b[39m(state: List[BaseMessage]) -> List[BaseMessage]:\n\u001b[32m----> \u001b[39m\u001b[32m9\u001b[39m     \u001b[38;5;28;01mreturn\u001b[39;00m \u001b[43mresponder_chain\u001b[49m\u001b[43m.\u001b[49m\u001b[43minvoke\u001b[49m\u001b[43m(\u001b[49m\u001b[43m{\u001b[49m\u001b[33;43m\"\u001b[39;49m\u001b[33;43mmessages\u001b[39;49m\u001b[33;43m\"\u001b[39;49m\u001b[43m:\u001b[49m\u001b[43m \u001b[49m\u001b[43mstate\u001b[49m\u001b[43m}\u001b[49m\u001b[43m)\u001b[49m\n",
      "\u001b[36mFile \u001b[39m\u001b[32mc:\\Users\\user\\Desktop\\AIWorkspace\\my_ai_env\\Lib\\site-packages\\langchain_core\\runnables\\base.py:3047\u001b[39m, in \u001b[36mRunnableSequence.invoke\u001b[39m\u001b[34m(self, input, config, **kwargs)\u001b[39m\n\u001b[32m   3045\u001b[39m                 input_ = context.run(step.invoke, input_, config, **kwargs)\n\u001b[32m   3046\u001b[39m             \u001b[38;5;28;01melse\u001b[39;00m:\n\u001b[32m-> \u001b[39m\u001b[32m3047\u001b[39m                 input_ = \u001b[43mcontext\u001b[49m\u001b[43m.\u001b[49m\u001b[43mrun\u001b[49m\u001b[43m(\u001b[49m\u001b[43mstep\u001b[49m\u001b[43m.\u001b[49m\u001b[43minvoke\u001b[49m\u001b[43m,\u001b[49m\u001b[43m \u001b[49m\u001b[43minput_\u001b[49m\u001b[43m,\u001b[49m\u001b[43m \u001b[49m\u001b[43mconfig\u001b[49m\u001b[43m)\u001b[49m\n\u001b[32m   3048\u001b[39m \u001b[38;5;66;03m# finish the root run\u001b[39;00m\n\u001b[32m   3049\u001b[39m \u001b[38;5;28;01mexcept\u001b[39;00m \u001b[38;5;167;01mBaseException\u001b[39;00m \u001b[38;5;28;01mas\u001b[39;00m e:\n",
      "\u001b[36mFile \u001b[39m\u001b[32mc:\\Users\\user\\Desktop\\AIWorkspace\\my_ai_env\\Lib\\site-packages\\langchain_core\\runnables\\base.py:5431\u001b[39m, in \u001b[36mRunnableBindingBase.invoke\u001b[39m\u001b[34m(self, input, config, **kwargs)\u001b[39m\n\u001b[32m   5424\u001b[39m \u001b[38;5;129m@override\u001b[39m\n\u001b[32m   5425\u001b[39m \u001b[38;5;28;01mdef\u001b[39;00m\u001b[38;5;250m \u001b[39m\u001b[34minvoke\u001b[39m(\n\u001b[32m   5426\u001b[39m     \u001b[38;5;28mself\u001b[39m,\n\u001b[32m   (...)\u001b[39m\u001b[32m   5429\u001b[39m     **kwargs: Optional[Any],\n\u001b[32m   5430\u001b[39m ) -> Output:\n\u001b[32m-> \u001b[39m\u001b[32m5431\u001b[39m     \u001b[38;5;28;01mreturn\u001b[39;00m \u001b[38;5;28;43mself\u001b[39;49m\u001b[43m.\u001b[49m\u001b[43mbound\u001b[49m\u001b[43m.\u001b[49m\u001b[43minvoke\u001b[49m\u001b[43m(\u001b[49m\n\u001b[32m   5432\u001b[39m \u001b[43m        \u001b[49m\u001b[38;5;28;43minput\u001b[39;49m\u001b[43m,\u001b[49m\n\u001b[32m   5433\u001b[39m \u001b[43m        \u001b[49m\u001b[38;5;28;43mself\u001b[39;49m\u001b[43m.\u001b[49m\u001b[43m_merge_configs\u001b[49m\u001b[43m(\u001b[49m\u001b[43mconfig\u001b[49m\u001b[43m)\u001b[49m\u001b[43m,\u001b[49m\n\u001b[32m   5434\u001b[39m \u001b[43m        \u001b[49m\u001b[43m*\u001b[49m\u001b[43m*\u001b[49m\u001b[43m{\u001b[49m\u001b[43m*\u001b[49m\u001b[43m*\u001b[49m\u001b[38;5;28;43mself\u001b[39;49m\u001b[43m.\u001b[49m\u001b[43mkwargs\u001b[49m\u001b[43m,\u001b[49m\u001b[43m \u001b[49m\u001b[43m*\u001b[49m\u001b[43m*\u001b[49m\u001b[43mkwargs\u001b[49m\u001b[43m}\u001b[49m\u001b[43m,\u001b[49m\n\u001b[32m   5435\u001b[39m \u001b[43m    \u001b[49m\u001b[43m)\u001b[49m\n",
      "\u001b[36mFile \u001b[39m\u001b[32mc:\\Users\\user\\Desktop\\AIWorkspace\\my_ai_env\\Lib\\site-packages\\langchain_core\\language_models\\chat_models.py:378\u001b[39m, in \u001b[36mBaseChatModel.invoke\u001b[39m\u001b[34m(self, input, config, stop, **kwargs)\u001b[39m\n\u001b[32m    366\u001b[39m \u001b[38;5;129m@override\u001b[39m\n\u001b[32m    367\u001b[39m \u001b[38;5;28;01mdef\u001b[39;00m\u001b[38;5;250m \u001b[39m\u001b[34minvoke\u001b[39m(\n\u001b[32m    368\u001b[39m     \u001b[38;5;28mself\u001b[39m,\n\u001b[32m   (...)\u001b[39m\u001b[32m    373\u001b[39m     **kwargs: Any,\n\u001b[32m    374\u001b[39m ) -> BaseMessage:\n\u001b[32m    375\u001b[39m     config = ensure_config(config)\n\u001b[32m    376\u001b[39m     \u001b[38;5;28;01mreturn\u001b[39;00m cast(\n\u001b[32m    377\u001b[39m         \u001b[33m\"\u001b[39m\u001b[33mChatGeneration\u001b[39m\u001b[33m\"\u001b[39m,\n\u001b[32m--> \u001b[39m\u001b[32m378\u001b[39m         \u001b[38;5;28;43mself\u001b[39;49m\u001b[43m.\u001b[49m\u001b[43mgenerate_prompt\u001b[49m\u001b[43m(\u001b[49m\n\u001b[32m    379\u001b[39m \u001b[43m            \u001b[49m\u001b[43m[\u001b[49m\u001b[38;5;28;43mself\u001b[39;49m\u001b[43m.\u001b[49m\u001b[43m_convert_input\u001b[49m\u001b[43m(\u001b[49m\u001b[38;5;28;43minput\u001b[39;49m\u001b[43m)\u001b[49m\u001b[43m]\u001b[49m\u001b[43m,\u001b[49m\n\u001b[32m    380\u001b[39m \u001b[43m            \u001b[49m\u001b[43mstop\u001b[49m\u001b[43m=\u001b[49m\u001b[43mstop\u001b[49m\u001b[43m,\u001b[49m\n\u001b[32m    381\u001b[39m \u001b[43m            \u001b[49m\u001b[43mcallbacks\u001b[49m\u001b[43m=\u001b[49m\u001b[43mconfig\u001b[49m\u001b[43m.\u001b[49m\u001b[43mget\u001b[49m\u001b[43m(\u001b[49m\u001b[33;43m\"\u001b[39;49m\u001b[33;43mcallbacks\u001b[39;49m\u001b[33;43m\"\u001b[39;49m\u001b[43m)\u001b[49m\u001b[43m,\u001b[49m\n\u001b[32m    382\u001b[39m \u001b[43m            \u001b[49m\u001b[43mtags\u001b[49m\u001b[43m=\u001b[49m\u001b[43mconfig\u001b[49m\u001b[43m.\u001b[49m\u001b[43mget\u001b[49m\u001b[43m(\u001b[49m\u001b[33;43m\"\u001b[39;49m\u001b[33;43mtags\u001b[39;49m\u001b[33;43m\"\u001b[39;49m\u001b[43m)\u001b[49m\u001b[43m,\u001b[49m\n\u001b[32m    383\u001b[39m \u001b[43m            \u001b[49m\u001b[43mmetadata\u001b[49m\u001b[43m=\u001b[49m\u001b[43mconfig\u001b[49m\u001b[43m.\u001b[49m\u001b[43mget\u001b[49m\u001b[43m(\u001b[49m\u001b[33;43m\"\u001b[39;49m\u001b[33;43mmetadata\u001b[39;49m\u001b[33;43m\"\u001b[39;49m\u001b[43m)\u001b[49m\u001b[43m,\u001b[49m\n\u001b[32m    384\u001b[39m \u001b[43m            \u001b[49m\u001b[43mrun_name\u001b[49m\u001b[43m=\u001b[49m\u001b[43mconfig\u001b[49m\u001b[43m.\u001b[49m\u001b[43mget\u001b[49m\u001b[43m(\u001b[49m\u001b[33;43m\"\u001b[39;49m\u001b[33;43mrun_name\u001b[39;49m\u001b[33;43m\"\u001b[39;49m\u001b[43m)\u001b[49m\u001b[43m,\u001b[49m\n\u001b[32m    385\u001b[39m \u001b[43m            \u001b[49m\u001b[43mrun_id\u001b[49m\u001b[43m=\u001b[49m\u001b[43mconfig\u001b[49m\u001b[43m.\u001b[49m\u001b[43mpop\u001b[49m\u001b[43m(\u001b[49m\u001b[33;43m\"\u001b[39;49m\u001b[33;43mrun_id\u001b[39;49m\u001b[33;43m\"\u001b[39;49m\u001b[43m,\u001b[49m\u001b[43m \u001b[49m\u001b[38;5;28;43;01mNone\u001b[39;49;00m\u001b[43m)\u001b[49m\u001b[43m,\u001b[49m\n\u001b[32m    386\u001b[39m \u001b[43m            \u001b[49m\u001b[43m*\u001b[49m\u001b[43m*\u001b[49m\u001b[43mkwargs\u001b[49m\u001b[43m,\u001b[49m\n\u001b[32m    387\u001b[39m \u001b[43m        \u001b[49m\u001b[43m)\u001b[49m.generations[\u001b[32m0\u001b[39m][\u001b[32m0\u001b[39m],\n\u001b[32m    388\u001b[39m     ).message\n",
      "\u001b[36mFile \u001b[39m\u001b[32mc:\\Users\\user\\Desktop\\AIWorkspace\\my_ai_env\\Lib\\site-packages\\langchain_core\\language_models\\chat_models.py:963\u001b[39m, in \u001b[36mBaseChatModel.generate_prompt\u001b[39m\u001b[34m(self, prompts, stop, callbacks, **kwargs)\u001b[39m\n\u001b[32m    954\u001b[39m \u001b[38;5;129m@override\u001b[39m\n\u001b[32m    955\u001b[39m \u001b[38;5;28;01mdef\u001b[39;00m\u001b[38;5;250m \u001b[39m\u001b[34mgenerate_prompt\u001b[39m(\n\u001b[32m    956\u001b[39m     \u001b[38;5;28mself\u001b[39m,\n\u001b[32m   (...)\u001b[39m\u001b[32m    960\u001b[39m     **kwargs: Any,\n\u001b[32m    961\u001b[39m ) -> LLMResult:\n\u001b[32m    962\u001b[39m     prompt_messages = [p.to_messages() \u001b[38;5;28;01mfor\u001b[39;00m p \u001b[38;5;129;01min\u001b[39;00m prompts]\n\u001b[32m--> \u001b[39m\u001b[32m963\u001b[39m     \u001b[38;5;28;01mreturn\u001b[39;00m \u001b[38;5;28;43mself\u001b[39;49m\u001b[43m.\u001b[49m\u001b[43mgenerate\u001b[49m\u001b[43m(\u001b[49m\u001b[43mprompt_messages\u001b[49m\u001b[43m,\u001b[49m\u001b[43m \u001b[49m\u001b[43mstop\u001b[49m\u001b[43m=\u001b[49m\u001b[43mstop\u001b[49m\u001b[43m,\u001b[49m\u001b[43m \u001b[49m\u001b[43mcallbacks\u001b[49m\u001b[43m=\u001b[49m\u001b[43mcallbacks\u001b[49m\u001b[43m,\u001b[49m\u001b[43m \u001b[49m\u001b[43m*\u001b[49m\u001b[43m*\u001b[49m\u001b[43mkwargs\u001b[49m\u001b[43m)\u001b[49m\n",
      "\u001b[36mFile \u001b[39m\u001b[32mc:\\Users\\user\\Desktop\\AIWorkspace\\my_ai_env\\Lib\\site-packages\\langchain_core\\language_models\\chat_models.py:782\u001b[39m, in \u001b[36mBaseChatModel.generate\u001b[39m\u001b[34m(self, messages, stop, callbacks, tags, metadata, run_name, run_id, **kwargs)\u001b[39m\n\u001b[32m    779\u001b[39m \u001b[38;5;28;01mfor\u001b[39;00m i, m \u001b[38;5;129;01min\u001b[39;00m \u001b[38;5;28menumerate\u001b[39m(input_messages):\n\u001b[32m    780\u001b[39m     \u001b[38;5;28;01mtry\u001b[39;00m:\n\u001b[32m    781\u001b[39m         results.append(\n\u001b[32m--> \u001b[39m\u001b[32m782\u001b[39m             \u001b[38;5;28;43mself\u001b[39;49m\u001b[43m.\u001b[49m\u001b[43m_generate_with_cache\u001b[49m\u001b[43m(\u001b[49m\n\u001b[32m    783\u001b[39m \u001b[43m                \u001b[49m\u001b[43mm\u001b[49m\u001b[43m,\u001b[49m\n\u001b[32m    784\u001b[39m \u001b[43m                \u001b[49m\u001b[43mstop\u001b[49m\u001b[43m=\u001b[49m\u001b[43mstop\u001b[49m\u001b[43m,\u001b[49m\n\u001b[32m    785\u001b[39m \u001b[43m                \u001b[49m\u001b[43mrun_manager\u001b[49m\u001b[43m=\u001b[49m\u001b[43mrun_managers\u001b[49m\u001b[43m[\u001b[49m\u001b[43mi\u001b[49m\u001b[43m]\u001b[49m\u001b[43m \u001b[49m\u001b[38;5;28;43;01mif\u001b[39;49;00m\u001b[43m \u001b[49m\u001b[43mrun_managers\u001b[49m\u001b[43m \u001b[49m\u001b[38;5;28;43;01melse\u001b[39;49;00m\u001b[43m \u001b[49m\u001b[38;5;28;43;01mNone\u001b[39;49;00m\u001b[43m,\u001b[49m\n\u001b[32m    786\u001b[39m \u001b[43m                \u001b[49m\u001b[43m*\u001b[49m\u001b[43m*\u001b[49m\u001b[43mkwargs\u001b[49m\u001b[43m,\u001b[49m\n\u001b[32m    787\u001b[39m \u001b[43m            \u001b[49m\u001b[43m)\u001b[49m\n\u001b[32m    788\u001b[39m         )\n\u001b[32m    789\u001b[39m     \u001b[38;5;28;01mexcept\u001b[39;00m \u001b[38;5;167;01mBaseException\u001b[39;00m \u001b[38;5;28;01mas\u001b[39;00m e:\n\u001b[32m    790\u001b[39m         \u001b[38;5;28;01mif\u001b[39;00m run_managers:\n",
      "\u001b[36mFile \u001b[39m\u001b[32mc:\\Users\\user\\Desktop\\AIWorkspace\\my_ai_env\\Lib\\site-packages\\langchain_core\\language_models\\chat_models.py:1028\u001b[39m, in \u001b[36mBaseChatModel._generate_with_cache\u001b[39m\u001b[34m(self, messages, stop, run_manager, **kwargs)\u001b[39m\n\u001b[32m   1026\u001b[39m     result = generate_from_stream(\u001b[38;5;28miter\u001b[39m(chunks))\n\u001b[32m   1027\u001b[39m \u001b[38;5;28;01melif\u001b[39;00m inspect.signature(\u001b[38;5;28mself\u001b[39m._generate).parameters.get(\u001b[33m\"\u001b[39m\u001b[33mrun_manager\u001b[39m\u001b[33m\"\u001b[39m):\n\u001b[32m-> \u001b[39m\u001b[32m1028\u001b[39m     result = \u001b[38;5;28;43mself\u001b[39;49m\u001b[43m.\u001b[49m\u001b[43m_generate\u001b[49m\u001b[43m(\u001b[49m\n\u001b[32m   1029\u001b[39m \u001b[43m        \u001b[49m\u001b[43mmessages\u001b[49m\u001b[43m,\u001b[49m\u001b[43m \u001b[49m\u001b[43mstop\u001b[49m\u001b[43m=\u001b[49m\u001b[43mstop\u001b[49m\u001b[43m,\u001b[49m\u001b[43m \u001b[49m\u001b[43mrun_manager\u001b[49m\u001b[43m=\u001b[49m\u001b[43mrun_manager\u001b[49m\u001b[43m,\u001b[49m\u001b[43m \u001b[49m\u001b[43m*\u001b[49m\u001b[43m*\u001b[49m\u001b[43mkwargs\u001b[49m\n\u001b[32m   1030\u001b[39m \u001b[43m    \u001b[49m\u001b[43m)\u001b[49m\n\u001b[32m   1031\u001b[39m \u001b[38;5;28;01melse\u001b[39;00m:\n\u001b[32m   1032\u001b[39m     result = \u001b[38;5;28mself\u001b[39m._generate(messages, stop=stop, **kwargs)\n",
      "\u001b[36mFile \u001b[39m\u001b[32mc:\\Users\\user\\Desktop\\AIWorkspace\\my_ai_env\\Lib\\site-packages\\langchain_ibm\\chat_models.py:721\u001b[39m, in \u001b[36mChatWatsonx._generate\u001b[39m\u001b[34m(self, messages, stop, run_manager, **kwargs)\u001b[39m\n\u001b[32m    718\u001b[39m message_dicts, params = \u001b[38;5;28mself\u001b[39m._create_message_dicts(messages, stop, **kwargs)\n\u001b[32m    719\u001b[39m updated_params = \u001b[38;5;28mself\u001b[39m._merge_params(params, kwargs)\n\u001b[32m--> \u001b[39m\u001b[32m721\u001b[39m response = \u001b[38;5;28;43mself\u001b[39;49m\u001b[43m.\u001b[49m\u001b[43mwatsonx_model\u001b[49m\u001b[43m.\u001b[49m\u001b[43mchat\u001b[49m\u001b[43m(\u001b[49m\n\u001b[32m    722\u001b[39m \u001b[43m    \u001b[49m\u001b[43mmessages\u001b[49m\u001b[43m=\u001b[49m\u001b[43mmessage_dicts\u001b[49m\u001b[43m,\u001b[49m\u001b[43m \u001b[49m\u001b[43m*\u001b[49m\u001b[43m*\u001b[49m\u001b[43m(\u001b[49m\u001b[43mkwargs\u001b[49m\u001b[43m \u001b[49m\u001b[43m|\u001b[49m\u001b[43m \u001b[49m\u001b[43m{\u001b[49m\u001b[33;43m\"\u001b[39;49m\u001b[33;43mparams\u001b[39;49m\u001b[33;43m\"\u001b[39;49m\u001b[43m:\u001b[49m\u001b[43m \u001b[49m\u001b[43mupdated_params\u001b[49m\u001b[43m}\u001b[49m\u001b[43m)\u001b[49m\n\u001b[32m    723\u001b[39m \u001b[43m\u001b[49m\u001b[43m)\u001b[49m\n\u001b[32m    724\u001b[39m \u001b[38;5;28;01mreturn\u001b[39;00m \u001b[38;5;28mself\u001b[39m._create_chat_result(response)\n",
      "\u001b[36mFile \u001b[39m\u001b[32mc:\\Users\\user\\Desktop\\AIWorkspace\\my_ai_env\\Lib\\site-packages\\ibm_watsonx_ai\\foundation_models\\inference\\model_inference.py:347\u001b[39m, in \u001b[36mModelInference.chat\u001b[39m\u001b[34m(self, messages, params, tools, tool_choice, tool_choice_option, context)\u001b[39m\n\u001b[32m    342\u001b[39m \u001b[38;5;28;01mif\u001b[39;00m context \u001b[38;5;129;01mand\u001b[39;00m \u001b[38;5;28mself\u001b[39m.model_id:\n\u001b[32m    343\u001b[39m     \u001b[38;5;28;01mraise\u001b[39;00m WMLClientError(\n\u001b[32m    344\u001b[39m         \u001b[33m\"\u001b[39m\u001b[33mThe `context` parameter is only supported for inferring a chat prompt deployment.\u001b[39m\u001b[33m\"\u001b[39m\n\u001b[32m    345\u001b[39m     )\n\u001b[32m--> \u001b[39m\u001b[32m347\u001b[39m \u001b[38;5;28;01mreturn\u001b[39;00m \u001b[38;5;28;43mself\u001b[39;49m\u001b[43m.\u001b[49m\u001b[43m_inference\u001b[49m\u001b[43m.\u001b[49m\u001b[43mchat\u001b[49m\u001b[43m(\u001b[49m\n\u001b[32m    348\u001b[39m \u001b[43m    \u001b[49m\u001b[43mmessages\u001b[49m\u001b[43m=\u001b[49m\u001b[43mmessages\u001b[49m\u001b[43m,\u001b[49m\n\u001b[32m    349\u001b[39m \u001b[43m    \u001b[49m\u001b[43mparams\u001b[49m\u001b[43m=\u001b[49m\u001b[43mparams\u001b[49m\u001b[43m,\u001b[49m\n\u001b[32m    350\u001b[39m \u001b[43m    \u001b[49m\u001b[43mtools\u001b[49m\u001b[43m=\u001b[49m\u001b[43mtools\u001b[49m\u001b[43m,\u001b[49m\n\u001b[32m    351\u001b[39m \u001b[43m    \u001b[49m\u001b[43mtool_choice\u001b[49m\u001b[43m=\u001b[49m\u001b[43mtool_choice\u001b[49m\u001b[43m,\u001b[49m\n\u001b[32m    352\u001b[39m \u001b[43m    \u001b[49m\u001b[43mtool_choice_option\u001b[49m\u001b[43m=\u001b[49m\u001b[43mtool_choice_option\u001b[49m\u001b[43m,\u001b[49m\n\u001b[32m    353\u001b[39m \u001b[43m    \u001b[49m\u001b[43mcontext\u001b[49m\u001b[43m=\u001b[49m\u001b[43mcontext\u001b[49m\u001b[43m,\u001b[49m\n\u001b[32m    354\u001b[39m \u001b[43m\u001b[49m\u001b[43m)\u001b[49m\n",
      "\u001b[36mFile \u001b[39m\u001b[32mc:\\Users\\user\\Desktop\\AIWorkspace\\my_ai_env\\Lib\\site-packages\\ibm_watsonx_ai\\foundation_models\\inference\\fm_model_inference.py:153\u001b[39m, in \u001b[36mFMModelInference.chat\u001b[39m\u001b[34m(self, messages, params, tools, tool_choice, tool_choice_option, context)\u001b[39m\n\u001b[32m    141\u001b[39m \u001b[38;5;28;01mdef\u001b[39;00m\u001b[38;5;250m \u001b[39m\u001b[34mchat\u001b[39m(\n\u001b[32m    142\u001b[39m     \u001b[38;5;28mself\u001b[39m,\n\u001b[32m    143\u001b[39m     messages: \u001b[38;5;28mlist\u001b[39m[\u001b[38;5;28mdict\u001b[39m],\n\u001b[32m   (...)\u001b[39m\u001b[32m    148\u001b[39m     context: \u001b[38;5;28mstr\u001b[39m | \u001b[38;5;28;01mNone\u001b[39;00m = \u001b[38;5;28;01mNone\u001b[39;00m,\n\u001b[32m    149\u001b[39m ) -> \u001b[38;5;28mdict\u001b[39m:\n\u001b[32m    151\u001b[39m     text_chat_url = \u001b[38;5;28mself\u001b[39m._client._href_definitions.get_fm_chat_href(\u001b[33m\"\u001b[39m\u001b[33mchat\u001b[39m\u001b[33m\"\u001b[39m)\n\u001b[32m--> \u001b[39m\u001b[32m153\u001b[39m     \u001b[38;5;28;01mreturn\u001b[39;00m \u001b[38;5;28;43mself\u001b[39;49m\u001b[43m.\u001b[49m\u001b[43m_send_chat_payload\u001b[49m\u001b[43m(\u001b[49m\n\u001b[32m    154\u001b[39m \u001b[43m        \u001b[49m\u001b[43mmessages\u001b[49m\u001b[43m=\u001b[49m\u001b[43mmessages\u001b[49m\u001b[43m,\u001b[49m\n\u001b[32m    155\u001b[39m \u001b[43m        \u001b[49m\u001b[43mparams\u001b[49m\u001b[43m=\u001b[49m\u001b[43mparams\u001b[49m\u001b[43m,\u001b[49m\n\u001b[32m    156\u001b[39m \u001b[43m        \u001b[49m\u001b[43mgenerate_url\u001b[49m\u001b[43m=\u001b[49m\u001b[43mtext_chat_url\u001b[49m\u001b[43m,\u001b[49m\n\u001b[32m    157\u001b[39m \u001b[43m        \u001b[49m\u001b[43mtools\u001b[49m\u001b[43m=\u001b[49m\u001b[43mtools\u001b[49m\u001b[43m,\u001b[49m\n\u001b[32m    158\u001b[39m \u001b[43m        \u001b[49m\u001b[43mtool_choice\u001b[49m\u001b[43m=\u001b[49m\u001b[43mtool_choice\u001b[49m\u001b[43m,\u001b[49m\n\u001b[32m    159\u001b[39m \u001b[43m        \u001b[49m\u001b[43mtool_choice_option\u001b[49m\u001b[43m=\u001b[49m\u001b[43mtool_choice_option\u001b[49m\u001b[43m,\u001b[49m\n\u001b[32m    160\u001b[39m \u001b[43m    \u001b[49m\u001b[43m)\u001b[49m\n",
      "\u001b[36mFile \u001b[39m\u001b[32mc:\\Users\\user\\Desktop\\AIWorkspace\\my_ai_env\\Lib\\site-packages\\ibm_watsonx_ai\\foundation_models\\inference\\base_model_inference.py:370\u001b[39m, in \u001b[36mBaseModelInference._send_chat_payload\u001b[39m\u001b[34m(self, messages, params, generate_url, tools, tool_choice, tool_choice_option)\u001b[39m\n\u001b[32m    361\u001b[39m post_params: \u001b[38;5;28mdict\u001b[39m[\u001b[38;5;28mstr\u001b[39m, Any] = \u001b[38;5;28mdict\u001b[39m(\n\u001b[32m    362\u001b[39m     url=generate_url,\n\u001b[32m    363\u001b[39m     json=payload,\n\u001b[32m    364\u001b[39m     params=\u001b[38;5;28mself\u001b[39m._client._params(skip_for_create=\u001b[38;5;28;01mTrue\u001b[39;00m, skip_userfs=\u001b[38;5;28;01mTrue\u001b[39;00m),\n\u001b[32m    365\u001b[39m     headers=\u001b[38;5;28mself\u001b[39m._client._get_headers(),\n\u001b[32m    366\u001b[39m )\n\u001b[32m    368\u001b[39m response_scoring = \u001b[38;5;28mself\u001b[39m._post(\u001b[38;5;28mself\u001b[39m._http_client, **post_params)\n\u001b[32m--> \u001b[39m\u001b[32m370\u001b[39m \u001b[38;5;28;01mreturn\u001b[39;00m \u001b[38;5;28;43mself\u001b[39;49m\u001b[43m.\u001b[49m\u001b[43m_handle_response\u001b[49m\u001b[43m(\u001b[49m\n\u001b[32m    371\u001b[39m \u001b[43m    \u001b[49m\u001b[32;43m200\u001b[39;49m\u001b[43m,\u001b[49m\n\u001b[32m    372\u001b[39m \u001b[43m    \u001b[49m\u001b[33;43m\"\u001b[39;49m\u001b[33;43mchat\u001b[39;49m\u001b[33;43m\"\u001b[39;49m\u001b[43m,\u001b[49m\n\u001b[32m    373\u001b[39m \u001b[43m    \u001b[49m\u001b[43mresponse_scoring\u001b[49m\u001b[43m,\u001b[49m\n\u001b[32m    374\u001b[39m \u001b[43m    \u001b[49m\u001b[43m_field_to_hide\u001b[49m\u001b[43m=\u001b[49m\u001b[33;43m\"\u001b[39;49m\u001b[33;43mchoices\u001b[39;49m\u001b[33;43m\"\u001b[39;49m\u001b[43m,\u001b[49m\n\u001b[32m    375\u001b[39m \u001b[43m\u001b[49m\u001b[43m)\u001b[49m\n",
      "\u001b[36mFile \u001b[39m\u001b[32mc:\\Users\\user\\Desktop\\AIWorkspace\\my_ai_env\\Lib\\site-packages\\ibm_watsonx_ai\\wml_resource.py:167\u001b[39m, in \u001b[36mWMLResource._handle_response\u001b[39m\u001b[34m(self, expected_status_code, operationName, response, json_response, _silent_response_logging, _field_to_hide)\u001b[39m\n\u001b[32m    165\u001b[39m         \u001b[38;5;28;01mreturn\u001b[39;00m response.text\n\u001b[32m    166\u001b[39m \u001b[38;5;28;01melse\u001b[39;00m:\n\u001b[32m--> \u001b[39m\u001b[32m167\u001b[39m     \u001b[38;5;28;01mraise\u001b[39;00m ApiRequestFailure(\n\u001b[32m    168\u001b[39m         \u001b[33m\"\u001b[39m\u001b[33mFailure during \u001b[39m\u001b[38;5;132;01m{}\u001b[39;00m\u001b[33m.\u001b[39m\u001b[33m\"\u001b[39m.format(operationName),\n\u001b[32m    169\u001b[39m         response,\n\u001b[32m    170\u001b[39m     )\n",
      "\u001b[31mApiRequestFailure\u001b[39m: Failure during chat. (POST https://us-south.ml.cloud.ibm.com/ml/v1/text/chat?version=2025-06-11)\nStatus code: 429, body: {\"errors\":[{\"code\":\"consumption_limit_reached\",\"message\":\"The usage limit for the current plan has been reached: the total number of free concurrent requests for model ibm/granite-3-3-8b-instruct has reached its limit 10. Please try again later\",\"more_info\":\"https://cloud.ibm.com/apidocs/watsonx-ai#text-chat\"}],\"trace\":\"e1c7adffe99190722458253bb8c354bc\",\"status_code\":429}",
      "During task with name 'responder' and id '4ac12207-51cb-2255-ab4a-3fcc878a0e1b'"
     ]
    }
   ],
   "source": [
    "blog_post = graph.invoke(\"Write a Twitter blog post in the topic of **LangGraph - The Game changer in Agentic AI World**.\")"
   ]
  },
  {
   "cell_type": "code",
   "execution_count": null,
   "id": "3abb86cd",
   "metadata": {},
   "outputs": [],
   "source": []
  }
 ],
 "metadata": {
  "kernelspec": {
   "display_name": "my_ai_env",
   "language": "python",
   "name": "python3"
  },
  "language_info": {
   "codemirror_mode": {
    "name": "ipython",
    "version": 3
   },
   "file_extension": ".py",
   "mimetype": "text/x-python",
   "name": "python",
   "nbconvert_exporter": "python",
   "pygments_lexer": "ipython3",
   "version": "3.13.4"
  }
 },
 "nbformat": 4,
 "nbformat_minor": 5
}
