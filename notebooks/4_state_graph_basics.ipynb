{
 "cells": [
  {
   "cell_type": "code",
   "execution_count": 1,
   "id": "464ee54e",
   "metadata": {},
   "outputs": [
    {
     "name": "stdout",
     "output_type": "stream",
     "text": [
      "Shivaya Namah\n"
     ]
    }
   ],
   "source": [
    "print(\"Shivaya Namah\")"
   ]
  },
  {
   "cell_type": "code",
   "execution_count": 2,
   "id": "a637ee7f",
   "metadata": {},
   "outputs": [
    {
     "data": {
      "image/png": "[encoded data removed]",
      "text/plain": [
       "<langgraph.graph.state.CompiledStateGraph object at 0x00000206F0F0D6A0>"
      ]
     },
     "execution_count": 2,
     "metadata": {},
     "output_type": "execute_result"
    }
   ],
   "source": [
    "from langgraph.graph import StateGraph, END\n",
    "from typing import TypedDict\n",
    "\n",
    "class SimpleState(TypedDict):\n",
    "    count: int\n",
    "\n",
    "INCREMENT = \"increment\"\n",
    "\n",
    "def increment_node(state: SimpleState) -> SimpleState : # Returns the same SimpleState object but with updated values.\n",
    "    print(f\"Current state's count {state['count']}\")\n",
    "    # Get the current state's count obbject and increment with one value. It automatically update the value.\n",
    "    return {\n",
    "        \"count\": state[\"count\"] + 1\n",
    "    } \n",
    "\n",
    "def should_continue(state: SimpleState) -> str:\n",
    "    if state[\"count\"] > 4:\n",
    "        return END\n",
    "    return INCREMENT\n",
    "\n",
    "# Create a state graph.\n",
    "graph_builder = StateGraph(SimpleState)\n",
    "graph_builder.add_node(INCREMENT, increment_node)\n",
    "graph_builder.set_entry_point(INCREMENT)\n",
    "\n",
    "# Conditional Edge.\n",
    "graph_builder.add_conditional_edges(\n",
    "    INCREMENT,\n",
    "    should_continue,\n",
    "    path_map = {\n",
    "        INCREMENT: INCREMENT,\n",
    "        END: END\n",
    "    } \n",
    ")\n",
    "\n",
    "graph = graph_builder.compile()\n",
    "graph"
   ]
  },
  {
   "cell_type": "code",
   "execution_count": 3,
   "id": "194ee0cf",
   "metadata": {},
   "outputs": [
    {
     "name": "stdout",
     "output_type": "stream",
     "text": [
      "Current state's count 1\n",
      "Current state's count 2\n",
      "Current state's count 3\n",
      "Current state's count 4\n"
     ]
    }
   ],
   "source": [
    "response = graph.invoke(SimpleState(count = 1))"
   ]
  },
  {
   "cell_type": "code",
   "execution_count": 4,
   "id": "9e709fea",
   "metadata": {},
   "outputs": [
    {
     "data": {
      "text/plain": [
       "{'count': 5}"
      ]
     },
     "execution_count": 4,
     "metadata": {},
     "output_type": "execute_result"
    }
   ],
   "source": [
    "response"
   ]
  },
  {
   "cell_type": "code",
   "execution_count": 5,
   "id": "0d88375b",
   "metadata": {},
   "outputs": [
    {
     "data": {
      "text/plain": [
       "langgraph.pregel.io.AddableValuesDict"
      ]
     },
     "execution_count": 5,
     "metadata": {},
     "output_type": "execute_result"
    }
   ],
   "source": [
    "type(response)"
   ]
  },
  {
   "cell_type": "markdown",
   "id": "73087baa",
   "metadata": {},
   "source": [
    "### Manual Transformation of State Values."
   ]
  },
  {
   "cell_type": "markdown",
   "id": "6a891337",
   "metadata": {},
   "source": [
    "- Here we add more than one values in a state dictionary."
   ]
  },
  {
   "cell_type": "code",
   "execution_count": 6,
   "id": "356e7c94",
   "metadata": {},
   "outputs": [
    {
     "data": {
      "image/png": "[encoded data removed]",
      "text/plain": [
       "<langgraph.graph.state.CompiledStateGraph object at 0x00000206F1F91D10>"
      ]
     },
     "execution_count": 6,
     "metadata": {},
     "output_type": "execute_result"
    }
   ],
   "source": [
    "from langgraph.graph import StateGraph, END\n",
    "from typing import TypedDict, List\n",
    "from langgraph.pregel.io import AddableValuesDict\n",
    "\n",
    "class SimpleStateWithMultipleVars(TypedDict):\n",
    "    \n",
    "    count: int\n",
    "    sum: int\n",
    "    count_history: List[int]\n",
    "\n",
    "INCREMENT = \"increment\"\n",
    "\n",
    "def increment_node(state: SimpleStateWithMultipleVars) -> SimpleStateWithMultipleVars : # Returns the same SimpleState object but with updated values.\n",
    "    \n",
    "    print(f\"Current state's count {state[\"count\"]}\", end = \"\\n\")\n",
    "    print(f\"Current state's sum {state[\"sum\"]}\", end = \"\\n\")\n",
    "    print(f\"Current count_history {state[\"count_history\"]}\", end = \"\\n\")\n",
    "    # Get the current state's count obbject and increment with one value. It automatically update the value.\n",
    "    \n",
    "    new_count: int = state[\"count\"] + 1\n",
    "    return {\n",
    "        \"count\": new_count,\n",
    "        \"sum\": new_count + state[\"sum\"],\n",
    "        \"count_history\": state[\"count_history\"] + [new_count]\n",
    "    } \n",
    "\n",
    "def should_continue(state: SimpleStateWithMultipleVars) -> str:\n",
    "    if state[\"count\"] > 4:\n",
    "        return END\n",
    "    return INCREMENT\n",
    "\n",
    "# Create a state graph.\n",
    "graph_builder = StateGraph(SimpleStateWithMultipleVars)\n",
    "graph_builder.add_node(INCREMENT, increment_node)\n",
    "graph_builder.set_entry_point(INCREMENT)\n",
    "\n",
    "# Conditional Edge.\n",
    "graph_builder.add_conditional_edges(\n",
    "    INCREMENT,\n",
    "    should_continue,\n",
    "    path_map = {\n",
    "        INCREMENT: INCREMENT,\n",
    "        END: END\n",
    "    } \n",
    ")\n",
    "\n",
    "graph = graph_builder.compile()\n",
    "graph"
   ]
  },
  {
   "cell_type": "code",
   "execution_count": 7,
   "id": "d9104f0f",
   "metadata": {},
   "outputs": [
    {
     "name": "stdout",
     "output_type": "stream",
     "text": [
      "Current state's count 0\n",
      "Current state's sum 0\n",
      "Current count_history []\n",
      "Current state's count 1\n",
      "Current state's sum 1\n",
      "Current count_history [1]\n",
      "Current state's count 2\n",
      "Current state's sum 3\n",
      "Current count_history [1, 2]\n",
      "Current state's count 3\n",
      "Current state's sum 6\n",
      "Current count_history [1, 2, 3]\n",
      "Current state's count 4\n",
      "Current state's sum 10\n",
      "Current count_history [1, 2, 3, 4]\n"
     ]
    }
   ],
   "source": [
    "response: AddableValuesDict = graph.invoke(\n",
    "    SimpleStateWithMultipleVars(\n",
    "        count = 0,\n",
    "        sum = 0,\n",
    "        count_history = []\n",
    "    )\n",
    ")"
   ]
  },
  {
   "cell_type": "code",
   "execution_count": 8,
   "id": "75d40472",
   "metadata": {},
   "outputs": [
    {
     "data": {
      "text/plain": [
       "{'count': 5, 'sum': 15, 'count_history': [1, 2, 3, 4, 5]}"
      ]
     },
     "execution_count": 8,
     "metadata": {},
     "output_type": "execute_result"
    }
   ],
   "source": [
    "response"
   ]
  },
  {
   "cell_type": "code",
   "execution_count": 9,
   "id": "3e06ccf8",
   "metadata": {},
   "outputs": [
    {
     "data": {
      "text/plain": [
       "langgraph.pregel.io.AddableValuesDict"
      ]
     },
     "execution_count": 9,
     "metadata": {},
     "output_type": "execute_result"
    }
   ],
   "source": [
    "type(response)"
   ]
  },
  {
   "cell_type": "markdown",
   "id": "58380b17",
   "metadata": {},
   "source": [
    "#### Operator Module"
   ]
  },
  {
   "cell_type": "markdown",
   "id": "f02f6a86",
   "metadata": {},
   "source": [
    "The `operator` module in Python is a **built-in standard library** that provides **function equivalents of standard Python operators**.\n",
    "\n",
    "---\n",
    "\n",
    "## ✅ What is the `operator` module?\n",
    "\n",
    "It offers a set of **efficient, readable, and functional-style** tools to perform operations like:\n",
    "\n",
    "* Arithmetic: `+`, `-`, `*`, `/`\n",
    "* Comparison: `==`, `>`, `<`, etc.\n",
    "* Logical: `and`, `or`, `not`\n",
    "* Item and attribute access: `obj.attr`, `dict[key]`\n",
    "\n",
    "Each operator (e.g., `+`) has a **named function** in the `operator` module — e.g., `operator.add(a, b)` is equivalent to `a + b`.\n",
    "\n",
    "---\n",
    "\n",
    "## ✅ Common Use Cases\n",
    "\n",
    "### 1. **Functional programming (with `map`, `reduce`, `sorted`, etc.)**\n",
    "\n",
    "```python\n",
    "from operator import add\n",
    "from functools import reduce\n",
    "\n",
    "nums = [1, 2, 3, 4]\n",
    "total = reduce(add, nums)  # Same as sum(nums)\n",
    "```\n",
    "\n",
    "### 2. **Sorting with `itemgetter` or `attrgetter`**\n",
    "\n",
    "```python\n",
    "from operator import itemgetter\n",
    "\n",
    "data = [\n",
    "    {\"name\": \"Alice\", \"score\": 88},\n",
    "    {\"name\": \"Bob\", \"score\": 72}\n",
    "]\n",
    "\n",
    "sorted_data = sorted(data, key=itemgetter(\"score\"))\n",
    "```\n",
    "\n",
    "### 3. **Readable replacements for lambda**\n",
    "\n",
    "```python\n",
    "from operator import mul\n",
    "\n",
    "# Instead of: lambda x, y: x * y\n",
    "result = mul(4, 5)  # ➝ 20\n",
    "```\n",
    "\n",
    "---\n",
    "\n",
    "## ✅ Most Common Functions in `operator`\n",
    "\n",
    "| Operator Symbol | Function                      | Equivalent |\n",
    "| --------------- | ----------------------------- | ---------- |\n",
    "| `+`             | `operator.add(a, b)`          | `a + b`    |\n",
    "| `-`             | `operator.sub(a, b)`          | `a - b`    |\n",
    "| `*`             | `operator.mul(a, b)`          | `a * b`    |\n",
    "| `/`             | `operator.truediv(a, b)`      | `a / b`    |\n",
    "| `==`            | `operator.eq(a, b)`           | `a == b`   |\n",
    "| `<`             | `operator.lt(a, b)`           | `a < b`    |\n",
    "| `not`           | `operator.not_(a)`            | `not a`    |\n",
    "| `[]` access     | `operator.itemgetter(k)`      | `x[k]`     |\n",
    "| `.attr` access  | `operator.attrgetter('name')` | `obj.name` |\n",
    "\n",
    "---\n",
    "\n",
    "## ✅ Why Use It?\n",
    "\n",
    "* Cleaner code (especially with `sorted`, `map`, `reduce`, etc.)\n",
    "* Avoids verbose `lambda`\n",
    "* Useful in **functional pipelines**, especially in data processing, pandas, etc.\n",
    "* Sometimes faster due to C-level implementation\n",
    "\n",
    "---\n",
    "\n",
    "## 📌 Summary\n",
    "\n",
    "* The `operator` module provides **function versions of Python operators**.\n",
    "* It’s commonly used in **sorting**, **functional programming**, and **lambda replacement**.\n",
    "* Makes code more readable and efficient in certain functional patterns.\n",
    "\n",
    "Would you like a cheat sheet of all common operator functions with examples?\n"
   ]
  },
  {
   "cell_type": "code",
   "execution_count": 10,
   "id": "f07ed621",
   "metadata": {},
   "outputs": [
    {
     "name": "stdout",
     "output_type": "stream",
     "text": [
      "8\n",
      "-2\n",
      "15\n",
      "0.6\n",
      "False\n",
      "True\n",
      "False\n",
      "True\n",
      "56\n"
     ]
    },
    {
     "ename": "TypeError",
     "evalue": "can't multiply sequence by non-int of type 'str'",
     "output_type": "error",
     "traceback": [
      "\u001b[31m---------------------------------------------------------------------------\u001b[39m",
      "\u001b[31mTypeError\u001b[39m                                 Traceback (most recent call last)",
      "\u001b[36mCell\u001b[39m\u001b[36m \u001b[39m\u001b[32mIn[10]\u001b[39m\u001b[32m, line 17\u001b[39m\n\u001b[32m     11\u001b[39m \u001b[38;5;28mprint\u001b[39m(operator.mul(operator.add(\u001b[32m3\u001b[39m, \u001b[32m4\u001b[39m), operator.add(\u001b[32m5\u001b[39m, \u001b[32m3\u001b[39m)))\n\u001b[32m     13\u001b[39m \u001b[38;5;66;03m# We perform this logical and arithemetic operations with integer, we ccan use \u001b[39;00m\n\u001b[32m     14\u001b[39m \u001b[38;5;66;03m# any datatype. But aware of operations, for eg. we cannot perform multiplication\u001b[39;00m\n\u001b[32m     15\u001b[39m \u001b[38;5;66;03m# operations with a string. operator.mul(\"3\",\"3\")\u001b[39;00m\n\u001b[32m---> \u001b[39m\u001b[32m17\u001b[39m \u001b[38;5;28mprint\u001b[39m(\u001b[43moperator\u001b[49m\u001b[43m.\u001b[49m\u001b[43mmul\u001b[49m\u001b[43m(\u001b[49m\u001b[33;43m\"\u001b[39;49m\u001b[33;43m4\u001b[39;49m\u001b[33;43m\"\u001b[39;49m\u001b[43m,\u001b[49m\u001b[43m \u001b[49m\u001b[33;43m\"\u001b[39;49m\u001b[33;43m4\u001b[39;49m\u001b[33;43m\"\u001b[39;49m\u001b[43m)\u001b[49m)\n",
      "\u001b[31mTypeError\u001b[39m: can't multiply sequence by non-int of type 'str'"
     ]
    }
   ],
   "source": [
    "import operator\n",
    "\n",
    "print(operator.add(3, 5))\n",
    "print(operator.sub(3, 5))\n",
    "print(operator.mul(3, 5))\n",
    "print(operator.truediv(3, 5))\n",
    "print(operator.eq(2, 3))\n",
    "print(operator.eq(2, 2))\n",
    "print(operator.not_(2))\n",
    "print(operator.not_(0))\n",
    "print(operator.mul(operator.add(3, 4), operator.add(5, 3)))\n",
    "\n",
    "# We perform this logical and arithemetic operations with integer, we ccan use \n",
    "# any datatype. But aware of operations, for eg. we cannot perform multiplication\n",
    "# operations with a string. operator.mul(\"3\",\"3\")\n",
    "\n",
    "print(operator.mul(\"4\", \"4\"))"
   ]
  },
  {
   "cell_type": "markdown",
   "id": "b246a372",
   "metadata": {},
   "source": [
    "### Declarative Annotated State Transformation."
   ]
  },
  {
   "cell_type": "code",
   "execution_count": 11,
   "id": "afff1c98",
   "metadata": {},
   "outputs": [
    {
     "data": {
      "image/png": "[encoded data removed]",
      "text/plain": [
       "<langgraph.graph.state.CompiledStateGraph object at 0x00000206F1F92990>"
      ]
     },
     "execution_count": 11,
     "metadata": {},
     "output_type": "execute_result"
    }
   ],
   "source": [
    "from langgraph.graph import StateGraph, END\n",
    "from typing import TypedDict, List, Annotated\n",
    "from langgraph.pregel.io import AddableValuesDict\n",
    "import operator\n",
    "\n",
    "class AnnotatedState(TypedDict):\n",
    "    \n",
    "    count: int\n",
    "    sum: Annotated[int, operator.add] \n",
    "    count_history: Annotated[List[int], operator.concat]\n",
    "    # Annotated Keep tracks the existing value and \n",
    "    # add it with a newly returned value from the node.\n",
    "    # operator.add(a: would be previous value, b: currently computed value returned by the particular node)\n",
    "    # The final result would update the actual key.\n",
    "\n",
    "INCREMENT = \"increment\"\n",
    "\n",
    "def increment_node(state: AnnotatedState) -> AnnotatedState : # Returns the same AnnotatedState object but with updated values.\n",
    "    \n",
    "    print(f\"Current state's count {state[\"count\"]}\", end = \"\\n\")\n",
    "    print(f\"Current state's sum {state[\"sum\"]}\", end = \"\\n\")\n",
    "    print(f\"Current count_history {state[\"count_history\"]}\", end = \"\\n\")\n",
    "    # Get the current state's count attribute and increment with one value. It automatically updates the value.\n",
    "    \n",
    "    new_count: int = state[\"count\"] + 1\n",
    "    return {\n",
    "        \"count\": new_count,\n",
    "        \"sum\": new_count,\n",
    "        \"count_history\": [new_count]\n",
    "    } \n",
    "\n",
    "def should_continue(state: AnnotatedState) -> str:\n",
    "    if state[\"count\"] > 4:\n",
    "        return END\n",
    "    return INCREMENT\n",
    "\n",
    "# Create a state graph.\n",
    "graph_builder = StateGraph(AnnotatedState)\n",
    "graph_builder.add_node(INCREMENT, increment_node)\n",
    "graph_builder.set_entry_point(INCREMENT)\n",
    "\n",
    "# Conditional Edge.\n",
    "graph_builder.add_conditional_edges(\n",
    "    INCREMENT,\n",
    "    should_continue,\n",
    "    path_map = {\n",
    "        INCREMENT: INCREMENT,\n",
    "        END: END\n",
    "    } \n",
    ")\n",
    "\n",
    "graph = graph_builder.compile()\n",
    "graph"
   ]
  },
  {
   "cell_type": "code",
   "execution_count": 18,
   "id": "ca8bc2e7",
   "metadata": {},
   "outputs": [
    {
     "data": {
      "image/png": "[encoded data removed]",
      "text/plain": [
       "<langgraph.graph.state.CompiledStateGraph object at 0x00000206F26268D0>"
      ]
     },
     "execution_count": 18,
     "metadata": {},
     "output_type": "execute_result"
    }
   ],
   "source": [
    "# With a proper documentation.\n",
    "# ✅ Imports\n",
    "from langgraph.graph import StateGraph, END\n",
    "from typing import TypedDict, List, Annotated\n",
    "from langgraph.pregel.io import AddableValuesDict\n",
    "import operator\n",
    "\n",
    "# ✅ Define the state structure for the LangGraph using TypedDict\n",
    "class AnnotatedState(TypedDict):\n",
    "    \"\"\"\n",
    "    Defines the structure of the state shared across LangGraph nodes.\n",
    "\n",
    "    Fields:\n",
    "    --------\n",
    "    count : int\n",
    "        A simple counter to control how many times the loop runs.\n",
    "\n",
    "    sum : Annotated[int, operator.add]\n",
    "        An accumulated sum of `count` values. Uses `operator.add` to add the previous value with\n",
    "        the new one returned from the current node.\n",
    "\n",
    "    count_history : Annotated[List[int], operator.concat]\n",
    "        A list of all `count` values over iterations. Uses `operator.concat` to append new values.\n",
    "    \"\"\"\n",
    "    count: int\n",
    "    sum: Annotated[int, operator.add]\n",
    "    count_history: Annotated[List[int], operator.concat]\n",
    "\n",
    "\n",
    "# ✅ Node that will be executed in the graph\n",
    "def increment_node(state: AnnotatedState) -> AnnotatedState:\n",
    "    \"\"\"\n",
    "    Node logic: Increments the count and returns updated values for `sum` and `count_history`.\n",
    "\n",
    "    LangGraph will automatically combine the returned values using the `Annotated` operator:\n",
    "    - `sum`: Uses `operator.add` → adds to previous sum.\n",
    "    - `count_history`: Uses `operator.concat` → appends to the history list.\n",
    "\n",
    "    Parameters:\n",
    "    -----------\n",
    "    state : AnnotatedState\n",
    "        The current state of the graph.\n",
    "\n",
    "    Returns:\n",
    "    --------\n",
    "    AnnotatedState\n",
    "        A partial update that will be combined with the original state.\n",
    "    \"\"\"\n",
    "    print(f\"Current state's count: {state['count']}\")\n",
    "    print(f\"Current state's sum: {state['sum']}\")\n",
    "    print(f\"Current count_history: {state['count_history']}\")\n",
    "\n",
    "    new_count: int = state[\"count\"] + 1\n",
    "\n",
    "    return {\n",
    "        \"count\": new_count,              # Will overwrite\n",
    "        \"sum\": new_count,                # Will be added to previous sum\n",
    "        \"count_history\": [new_count]     # Will be concatenated with previous list\n",
    "    }\n",
    "\n",
    "\n",
    "# ✅ Conditional function to stop or continue the loop\n",
    "def should_continue(state: AnnotatedState) -> str:\n",
    "    \"\"\"\n",
    "    Routing logic to decide if the graph should continue or end.\n",
    "\n",
    "    If count > 4, the graph ends; otherwise, continue incrementing.\n",
    "\n",
    "    Parameters:\n",
    "    -----------\n",
    "    state : AnnotatedState\n",
    "\n",
    "    Returns:\n",
    "    --------\n",
    "    str\n",
    "        \"increment\" (next node) or END (stop graph)\n",
    "    \"\"\"\n",
    "    return END if state[\"count\"] > 4 else INCREMENT\n",
    "\n",
    "\n",
    "# ✅ Build the state graph\n",
    "graph_builder = StateGraph(AnnotatedState)\n",
    "\n",
    "# Add the incrementing node\n",
    "graph_builder.add_node(INCREMENT, increment_node)\n",
    "\n",
    "# Set the first node to run\n",
    "graph_builder.set_entry_point(INCREMENT)\n",
    "\n",
    "# Add routing based on the current state\n",
    "graph_builder.add_conditional_edges(\n",
    "    INCREMENT,\n",
    "    should_continue,\n",
    "    path_map={\n",
    "        INCREMENT: INCREMENT,  # Go back to increment node\n",
    "        END: END               # Stop execution\n",
    "    }\n",
    ")\n",
    "\n",
    "# ✅ Compile the final LangGraph\n",
    "graph = graph_builder.compile()\n",
    "graph\n"
   ]
  },
  {
   "cell_type": "code",
   "execution_count": 21,
   "id": "727c3076",
   "metadata": {},
   "outputs": [
    {
     "name": "stdout",
     "output_type": "stream",
     "text": [
      "Current state's count: 0\n",
      "Current state's sum: 0\n",
      "Current count_history: []\n",
      "Current state's count: 1\n",
      "Current state's sum: 1\n",
      "Current count_history: [1]\n",
      "Current state's count: 2\n",
      "Current state's sum: 3\n",
      "Current count_history: [1, 2]\n",
      "Current state's count: 3\n",
      "Current state's sum: 6\n",
      "Current count_history: [1, 2, 3]\n",
      "Current state's count: 4\n",
      "Current state's sum: 10\n",
      "Current count_history: [1, 2, 3, 4]\n"
     ]
    }
   ],
   "source": [
    "result: AddableValuesDict = graph.invoke(\n",
    "    AnnotatedState(\n",
    "        count = 0,\n",
    "        sum = 0,\n",
    "        count_history = []\n",
    "    )\n",
    ")"
   ]
  },
  {
   "cell_type": "code",
   "execution_count": 15,
   "id": "4bd09e5e",
   "metadata": {},
   "outputs": [
    {
     "data": {
      "text/plain": [
       "{'count': 5, 'sum': 15, 'count_history': [1, 2, 3, 4, 5]}"
      ]
     },
     "execution_count": 15,
     "metadata": {},
     "output_type": "execute_result"
    }
   ],
   "source": [
    "result"
   ]
  },
  {
   "cell_type": "code",
   "execution_count": null,
   "id": "dc52d108",
   "metadata": {},
   "outputs": [],
   "source": []
  }
 ],
 "metadata": {
  "kernelspec": {
   "display_name": "my_ai_env",
   "language": "python",
   "name": "python3"
  },
  "language_info": {
   "codemirror_mode": {
    "name": "ipython",
    "version": 3
   },
   "file_extension": ".py",
   "mimetype": "text/x-python",
   "name": "python",
   "nbconvert_exporter": "python",
   "pygments_lexer": "ipython3",
   "version": "3.13.4"
  }
 },
 "nbformat": 4,
 "nbformat_minor": 5
}
