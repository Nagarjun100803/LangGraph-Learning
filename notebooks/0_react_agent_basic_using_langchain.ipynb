{
 "cells": [
  {
   "cell_type": "code",
   "execution_count": 28,
   "id": "ac1e69ad",
   "metadata": {},
   "outputs": [
    {
     "name": "stdout",
     "output_type": "stream",
     "text": [
      "Shivaya Namah\n"
     ]
    }
   ],
   "source": [
    "print(\"Shivaya Namah\")"
   ]
  },
  {
   "cell_type": "code",
   "execution_count": 1,
   "id": "a3b6bdab",
   "metadata": {},
   "outputs": [
    {
     "name": "stdout",
     "output_type": "stream",
     "text": [
      "API Keys loaded succesfully.\n"
     ]
    }
   ],
   "source": [
    "from pydantic_settings import BaseSettings\n",
    "\n",
    "class Settings(BaseSettings):\n",
    "\n",
    "    pinecone_api_key: str \n",
    "    watsonx_apikey: str  \n",
    "    watsonx_url: str\n",
    "    watsonx_project_id: str\n",
    "    cohere_api_key: str \n",
    "    tavily_api_key: str\n",
    "\n",
    "    class Config:\n",
    "        env_file = \".env\"\n",
    "        extra = \"ignore\"\n",
    "\n",
    "settings = Settings()\n",
    "print(\"API Keys loaded succesfully.\")"
   ]
  },
  {
   "cell_type": "code",
   "execution_count": 30,
   "id": "f31e1e6f",
   "metadata": {},
   "outputs": [],
   "source": [
    "from langchain_cohere import ChatCohere\n",
    "\n",
    "llm = ChatCohere(cohere_api_key = settings.cohere_api_key, temperature = 0.7)"
   ]
  },
  {
   "cell_type": "code",
   "execution_count": 31,
   "id": "2a3dc3f9",
   "metadata": {},
   "outputs": [
    {
     "data": {
      "text/plain": [
       "AIMessage(content=\"Hello Nagarjun! I'm Command, an AI assistant. How can I help you today? Whether it's answering questions, brainstorming ideas, or assisting with a project, I'm here to support you. What do you need?\", additional_kwargs={'id': '4502739d-5fdb-48d2-8bb0-26d7b4dfbd94', 'finish_reason': 'COMPLETE', 'content': \"Hello Nagarjun! I'm Command, an AI assistant. How can I help you today? Whether it's answering questions, brainstorming ideas, or assisting with a project, I'm here to support you. What do you need?\", 'token_count': {'input_tokens': 502.0, 'output_tokens': 48.0}}, response_metadata={'id': '4502739d-5fdb-48d2-8bb0-26d7b4dfbd94', 'finish_reason': 'COMPLETE', 'content': \"Hello Nagarjun! I'm Command, an AI assistant. How can I help you today? Whether it's answering questions, brainstorming ideas, or assisting with a project, I'm here to support you. What do you need?\", 'token_count': {'input_tokens': 502.0, 'output_tokens': 48.0}}, id='run--6495ca37-c79b-4153-963f-4b8e756ebe97-0', usage_metadata={'input_tokens': 502, 'output_tokens': 48, 'total_tokens': 550})"
      ]
     },
     "execution_count": 31,
     "metadata": {},
     "output_type": "execute_result"
    }
   ],
   "source": [
    "llm.invoke(\"Hi this is Nagarjun, you\")"
   ]
  },
  {
   "cell_type": "code",
   "execution_count": 32,
   "id": "73ec8c6e",
   "metadata": {},
   "outputs": [
    {
     "data": {
      "text/plain": [
       "AIMessage(content=\"I'm unable to determine your current location as I don't have access to your device's GPS or location services. My purpose is to provide information and assist with tasks, but I don't have the capability to track or access personal data like your location.\\n\\nIf you'd like to know your current location, I recommend checking your device's settings or using a mapping application like Google Maps or Apple Maps. These tools can provide you with accurate and up-to-date information about your whereabouts.\\n\\nIf you have any other questions or need assistance with something else, feel free to ask!\", additional_kwargs={'id': '5805e5eb-4684-4962-ad5c-23e0a38972e9', 'finish_reason': 'COMPLETE', 'content': \"I'm unable to determine your current location as I don't have access to your device's GPS or location services. My purpose is to provide information and assist with tasks, but I don't have the capability to track or access personal data like your location.\\n\\nIf you'd like to know your current location, I recommend checking your device's settings or using a mapping application like Google Maps or Apple Maps. These tools can provide you with accurate and up-to-date information about your whereabouts.\\n\\nIf you have any other questions or need assistance with something else, feel free to ask!\", 'token_count': {'input_tokens': 501.0, 'output_tokens': 122.0}}, response_metadata={'id': '5805e5eb-4684-4962-ad5c-23e0a38972e9', 'finish_reason': 'COMPLETE', 'content': \"I'm unable to determine your current location as I don't have access to your device's GPS or location services. My purpose is to provide information and assist with tasks, but I don't have the capability to track or access personal data like your location.\\n\\nIf you'd like to know your current location, I recommend checking your device's settings or using a mapping application like Google Maps or Apple Maps. These tools can provide you with accurate and up-to-date information about your whereabouts.\\n\\nIf you have any other questions or need assistance with something else, feel free to ask!\", 'token_count': {'input_tokens': 501.0, 'output_tokens': 122.0}}, id='run--2b09a3a5-8234-49e1-aade-9df258fa0ce1-0', usage_metadata={'input_tokens': 501, 'output_tokens': 122, 'total_tokens': 623})"
      ]
     },
     "execution_count": 32,
     "metadata": {},
     "output_type": "execute_result"
    }
   ],
   "source": [
    "llm.invoke(\"what is my current location?\")"
   ]
  },
  {
   "cell_type": "markdown",
   "id": "d216512f",
   "metadata": {},
   "source": [
    "# Initializing the agent"
   ]
  },
  {
   "cell_type": "code",
   "execution_count": 69,
   "id": "823c0d6a",
   "metadata": {},
   "outputs": [
    {
     "data": {
      "text/plain": [
       "TavilySearchResults(search_depth='basic', api_wrapper=TavilySearchAPIWrapper(tavily_api_key=SecretStr('**********')))"
      ]
     },
     "execution_count": 69,
     "metadata": {},
     "output_type": "execute_result"
    }
   ],
   "source": [
    "from langchain.agents import initialize_agent, AgentType, Tool\n",
    "from langchain_community.tools import TavilySearchResults\n",
    "\n",
    "\n",
    "search_tool = TavilySearchResults(search_depth=\"basic\", tavily_api_key = settings.tavily_api_key)\n",
    "search_tool"
   ]
  },
  {
   "cell_type": "code",
   "execution_count": 77,
   "id": "c85923bb",
   "metadata": {},
   "outputs": [
    {
     "data": {
      "text/plain": [
       "'2025-07-14 03:54:30, PM'"
      ]
     },
     "execution_count": 77,
     "metadata": {},
     "output_type": "execute_result"
    }
   ],
   "source": [
    "def get_current_date(*args, **kwargs):\n",
    "    \"\"\"Returns the current Date.\"\"\"\n",
    "    from datetime import datetime\n",
    "    return datetime.now().strftime(\"%Y-%m-%d %I:%M:%S, %p\")\n",
    "\n",
    "get_current_date()"
   ]
  },
  {
   "cell_type": "code",
   "execution_count": 78,
   "id": "a24545a0",
   "metadata": {},
   "outputs": [
    {
     "data": {
      "text/plain": [
       "[TavilySearchResults(search_depth='basic', api_wrapper=TavilySearchAPIWrapper(tavily_api_key=SecretStr('**********'))),\n",
       " Tool(name='current_datetime', description='Use when you need to know the current date and time.', func=<function get_current_date at 0x0000015568CF2480>)]"
      ]
     },
     "execution_count": 78,
     "metadata": {},
     "output_type": "execute_result"
    }
   ],
   "source": [
    "tools: list[Tool] = [\n",
    "    search_tool,\n",
    "    Tool(\n",
    "        name = \"current_datetime\",\n",
    "        func = get_current_date,\n",
    "        description = \"Use when you need to know the current date and time.\"\n",
    "    )\n",
    "]\n",
    "tools"
   ]
  },
  {
   "cell_type": "code",
   "execution_count": 79,
   "id": "83287441",
   "metadata": {},
   "outputs": [
    {
     "data": {
      "text/plain": [
       "AgentExecutor(verbose=True, tags=['zero-shot-react-description'], agent=ZeroShotAgent(llm_chain=LLMChain(verbose=False, prompt=PromptTemplate(input_variables=['agent_scratchpad', 'input'], input_types={}, partial_variables={}, template='Answer the following questions as best you can. You have access to the following tools:\\n\\ntavily_search_results_json - A search engine optimized for comprehensive, accurate, and trusted results. Useful for when you need to answer questions about current events. Input should be a search query.\\ncurrent_datetime(*args, **kwargs) - Use when you need to know the current date and time.\\n\\nUse the following format:\\n\\nQuestion: the input question you must answer\\nThought: you should always think about what to do\\nAction: the action to take, should be one of [tavily_search_results_json, current_datetime]\\nAction Input: the input to the action\\nObservation: the result of the action\\n... (this Thought/Action/Action Input/Observation can repeat N times)\\nThought: I now know the final answer\\nFinal Answer: the final answer to the original input question\\n\\nBegin!\\n\\nQuestion: {input}\\nThought:{agent_scratchpad}'), llm=ChatCohere(client=<cohere.client.Client object at 0x0000015564277890>, async_client=<cohere.client.AsyncClient object at 0x0000015567592E90>, model='command-a-03-2025', temperature=0.7, cohere_api_key=SecretStr('**********')), output_parser=StrOutputParser(), llm_kwargs={}), output_parser=MRKLOutputParser(), allowed_tools=['tavily_search_results_json', 'current_datetime']), tools=[TavilySearchResults(search_depth='basic', api_wrapper=TavilySearchAPIWrapper(tavily_api_key=SecretStr('**********'))), Tool(name='current_datetime', description='Use when you need to know the current date and time.', func=<function get_current_date at 0x0000015568CF2480>)])"
      ]
     },
     "execution_count": 79,
     "metadata": {},
     "output_type": "execute_result"
    }
   ],
   "source": [
    "agent = initialize_agent(\n",
    "    tools = tools,\n",
    "    llm = llm,\n",
    "    agent = AgentType.ZERO_SHOT_REACT_DESCRIPTION,\n",
    "    verbose = True\n",
    ")\n",
    "agent"
   ]
  },
  {
   "cell_type": "code",
   "execution_count": 75,
   "id": "0b81d256",
   "metadata": {},
   "outputs": [
    {
     "name": "stdout",
     "output_type": "stream",
     "text": [
      "Answer the following questions as best you can. You have access to the following tools:\n",
      "\n",
      "tavily_search_results_json - A search engine optimized for comprehensive, accurate, and trusted results. Useful for when you need to answer questions about current events. Input should be a search query.\n",
      "current_datetime() - Use when you need to know the current date and time.\n",
      "\n",
      "Use the following format:\n",
      "\n",
      "Question: the input question you must answer\n",
      "Thought: you should always think about what to do\n",
      "Action: the action to take, should be one of [tavily_search_results_json, current_datetime]\n",
      "Action Input: the input to the action\n",
      "Observation: the result of the action\n",
      "... (this Thought/Action/Action Input/Observation can repeat N times)\n",
      "Thought: I now know the final answer\n",
      "Final Answer: the final answer to the original input question\n",
      "\n",
      "Begin!\n",
      "\n",
      "Question: {input}\n",
      "Thought:{agent_scratchpad}\n"
     ]
    }
   ],
   "source": [
    "print(agent.agent.llm_chain.prompt.template)"
   ]
  },
  {
   "cell_type": "code",
   "execution_count": 14,
   "id": "ad695625",
   "metadata": {},
   "outputs": [
    {
     "name": "stdout",
     "output_type": "stream",
     "text": [
      "\n",
      "\n",
      "\u001b[1m> Entering new AgentExecutor chain...\u001b[0m\n",
      "\u001b[32;1m\u001b[1;3mThought: To find a funny tweet about today's weather in Chennai, I need to first find out what the weather is like in Chennai today. Then, I can search for tweets related to that weather condition.\n",
      "\n",
      "Action: tavily_search_results_json\n",
      "Action Input: \"Chennai weather today\"O\u001b[0m\n",
      "Observation: \u001b[36;1m\u001b[1;3m[{'title': 'Weather in Chennai', 'url': 'https://www.weatherapi.com/', 'content': \"{'location': {'name': 'Chennai', 'region': 'Tamil Nadu', 'country': 'India', 'lat': 13.0833, 'lon': 80.2833, 'tz_id': 'Asia/Kolkata', 'localtime_epoch': 1752485458, 'localtime': '2025-07-14 15:00'}, 'current': {'last_updated_epoch': 1752485400, 'last_updated': '2025-07-14 15:00', 'temp_c': 33.6, 'temp_f': 92.5, 'is_day': 1, 'condition': {'text': 'Cloudy', 'icon': '//cdn.weatherapi.com/weather/64x64/day/119.png', 'code': 1006}, 'wind_mph': 8.7, 'wind_kph': 14.0, 'wind_degree': 125, 'wind_dir': 'SE', 'pressure_mb': 1002.0, 'pressure_in': 29.58, 'precip_mm': 0.0, 'precip_in': 0.0, 'humidity': 52, 'cloud': 81, 'feelslike_c': 38.6, 'feelslike_f': 101.5, 'windchill_c': 33.6, 'windchill_f': 92.5, 'heatindex_c': 38.6, 'heatindex_f': 101.5, 'dewpoint_c': 22.3, 'dewpoint_f': 72.2, 'vis_km': 10.0, 'vis_miles': 6.0, 'uv': 2.0, 'gust_mph': 12.7, 'gust_kph': 20.4}}\", 'score': 0.9726588}, {'title': 'Chennai Weather Forecast 14 Jul 2025 - The Times of India', 'url': 'https://timesofindia.indiatimes.com/weather/chennai-weather-forecast-today/600017', 'content': \"Today's Weather in Chennai: In Chennai today, the weather is expected to be Mostly Cloudy with a maximum temperature of 37°C and a minimum of 28°C. Sunrise\", 'score': 0.9675364}, {'title': 'Chennai Weather Today (Monday, Jul 14, 2025) - India Today', 'url': 'https://www.indiatoday.in/weather/chennai-weather-forecast-today', 'content': 'The minimum temperature in Chennai today is likely to hover around 28 degrees Celsius, while the maximum temperature might reach 37 degrees Celsius.', 'score': 0.9658771}, {'title': 'Weather in Chennai in July 2025 (State of Tamil Nādu)', 'url': 'https://world-weather.info/forecast/india/chennai_1/july-2025/', 'content': 'Detailed ⚡ Chennai Weather Forecast for July 2025 – day/night 🌡️ ... Monday, 14 July. +81°. Day. +90°. Drizzle. Tuesday, 15 July. +81°. Day. +88°. Drizzle.', 'score': 0.9405774}, {'title': 'Chennai weather in July 2025 - Weather25.com', 'url': 'https://www.weather25.com/asia/india/tamil-nadu/chennai?page=month&month=July', 'content': 'The temperatures in Chennai during July are extremely high, between 82°F and hot as 93°F, drinking water regularly is advisable.', 'score': 0.8763069}]\u001b[0m\n",
      "Thought:\u001b[32;1m\u001b[1;3mThought: The weather in Chennai today is mostly cloudy with a maximum temperature of 37°C and a minimum of 28°C. Now, I need to search for funny tweets related to cloudy weather in Chennai.\n",
      "\n",
      "Action: tavily_search_results_json\n",
      "Action Input: \"funny tweets about cloudy weather in Chennai\"O\u001b[0m\n",
      "Observation: \u001b[36;1m\u001b[1;3m[{'title': 'Weather in Chennai, India', 'url': 'https://www.weatherapi.com/', 'content': \"{'location': {'name': 'Chennai', 'region': 'Tamil Nadu', 'country': 'India', 'lat': 13.0833, 'lon': 80.2833, 'tz_id': 'Asia/Kolkata', 'localtime_epoch': 1752485344, 'localtime': '2025-07-14 14:59'}, 'current': {'last_updated_epoch': 1752484500, 'last_updated': '2025-07-14 14:45', 'temp_c': 35.4, 'temp_f': 95.8, 'is_day': 1, 'condition': {'text': 'Cloudy', 'icon': '//cdn.weatherapi.com/weather/64x64/day/119.png', 'code': 1006}, 'wind_mph': 2.2, 'wind_kph': 3.6, 'wind_degree': 144, 'wind_dir': 'SE', 'pressure_mb': 1002.0, 'pressure_in': 29.59, 'precip_mm': 0.0, 'precip_in': 0.0, 'humidity': 44, 'cloud': 81, 'feelslike_c': 39.9, 'feelslike_f': 103.9, 'windchill_c': 35.4, 'windchill_f': 95.8, 'heatindex_c': 39.9, 'heatindex_f': 103.9, 'dewpoint_c': 21.1, 'dewpoint_f': 70.0, 'vis_km': 10.0, 'vis_miles': 6.0, 'uv': 5.1, 'gust_mph': 3.1, 'gust_kph': 5.0}}\", 'score': 0.890274}, {'title': '️ Chennai Weather Watch – July 13 38°C | 56% Humidity | AQI', 'url': 'https://www.instagram.com/p/DMBySsHNSCa/', 'content': '2 likes, 0 comments - scroll.chennai on July 12, 2025: \"☀️ Chennai Weather Watch – July 13 38°C | 56% Humidity | AQI: 73 ppm Cloudy skies', 'score': 0.7327644}, {'title': 'Whats Hot Chennai | Indian weather has mood swings bigger than ...', 'url': 'https://www.instagram.com/p/DJUCcCeSJ5t/', 'content': ', 2025: \"Indian weather has mood swings bigger than your ex. Sunny ... Photo shared by Whats Hot Chennai on July 12, 2025 tagging @whatshot_goa, @.', 'score': 0.63777614}, {'title': 'The Chennai weather forecast on Monday said that the minimum ...', 'url': 'https://www.facebook.com/indianexpress/videos/why-is-chennaisnow-trending-on-twitter/514403727085267/', 'content': '... hilarious memes online on the unusual weather ... Last viewed on: Jul 11, 2025. More videos you may like. 07:06. This Is', 'score': 0.53415143}, {'title': 'Warm day with patchy rain and humidity on July 13, 2025 | Chennai ...', 'url': 'https://timesofindia.indiatimes.com/city/chennai/chennai-weather-forecast-warm-with-patchy-rain-on-july-13-2025/articleshow/122413357.cms', 'content': 'Chennai weather update: Warm day with patchy rain and humidity on July 13, 2025 | Chennai News - Times of India Image 15: Iran’s Shocking ‘U-turn’ After Putin’s ‘0 Nuclear Enrichment’ Message | FM Araghchi Says ‘Won’t…’ Numerology Predictions Today, July 13, 2025: Read your personalized forecast for numbers 1 to 9 Image 21: Iran’s Shocking ‘U-turn’ After Putin’s ‘0 Nuclear Enrichment’ Message | FM Araghchi Says ‘Won’t…’ Why does FSSAI suggest cleaning and defrosting the fridge every 15 days during the monsoon Image 31: Iran’s Shocking ‘U-turn’ After Putin’s ‘0 Nuclear Enrichment’ Message | FM Araghchi Says ‘Won’t…’ _04:51_ Lavrov Drops WAR Bombshell In Pyongyang; ‘Russia & N.', 'score': 0.50388235}]\u001b[0m\n",
      "Thought:\u001b[32;1m\u001b[1;3mThought: The search results did not provide any funny tweets about cloudy weather in Chennai. I need to refine my search query to specifically look for tweets that are humorous and related to the weather in Chennai.\n",
      "\n",
      "Action: tavily_search_results_json\n",
      "Action Input: \"humorous tweets about Chennai weather today\"O\u001b[0m\n",
      "Observation: \u001b[36;1m\u001b[1;3m[{'title': 'Weather in Chennai', 'url': 'https://www.weatherapi.com/', 'content': \"{'location': {'name': 'Chennai', 'region': 'Tamil Nadu', 'country': 'India', 'lat': 13.0833, 'lon': 80.2833, 'tz_id': 'Asia/Kolkata', 'localtime_epoch': 1752485458, 'localtime': '2025-07-14 15:00'}, 'current': {'last_updated_epoch': 1752485400, 'last_updated': '2025-07-14 15:00', 'temp_c': 33.6, 'temp_f': 92.5, 'is_day': 1, 'condition': {'text': 'Cloudy', 'icon': '//cdn.weatherapi.com/weather/64x64/day/119.png', 'code': 1006}, 'wind_mph': 8.7, 'wind_kph': 14.0, 'wind_degree': 125, 'wind_dir': 'SE', 'pressure_mb': 1002.0, 'pressure_in': 29.58, 'precip_mm': 0.0, 'precip_in': 0.0, 'humidity': 52, 'cloud': 81, 'feelslike_c': 38.6, 'feelslike_f': 101.5, 'windchill_c': 33.6, 'windchill_f': 92.5, 'heatindex_c': 38.6, 'heatindex_f': 101.5, 'dewpoint_c': 22.3, 'dewpoint_f': 72.2, 'vis_km': 10.0, 'vis_miles': 6.0, 'uv': 2.0, 'gust_mph': 12.7, 'gust_kph': 20.4}}\", 'score': 0.8504455}, {'title': 'Chennai weather forecast: Warm and humid with high chance of rain ...', 'url': 'https://timesofindia.indiatimes.com/city/chennai/chennai-weather-forecast-hot-and-humid-with-rain-showers-expected-this-week/articleshow/122426333.cms', 'content': 'Chennai begins the week warm and humid with patchy rain expected today, July 14, reaching 37.5°C. Residents are advised to carry umbrellas', 'score': 0.65173227}, {'title': \"Hungary's oldest library fighting to save 100,000 books from beetle ...\", 'url': 'https://www.thehindu.com/news/international/hungarys-oldest-library-fighting-to-save-100000-books-from-beetle-infestation/article69807634.ece', 'content': 'A medieval abbey in Hungary is battling a beetle infestation threatening its ancient book collection. Published - July 14, 2025 11:03 am IST - PANNONHALMA.', 'score': 0.085870296}, {'title': \"Elmo account hacked: Sesame Street character's X page posts ...\", 'url': 'https://timesofindia.indiatimes.com/world/us/elmo-account-hacked-sesame-street-characters-x-page-posts-offensive-messages-targets-trump-over-epstein-files/articleshow/122432603.cms', 'content': 'The official X account of popular Sesame street character Elmo was hacked on Sunday resulting in a series of offensive and antisemitic', 'score': 0.016366867}, {'title': 'Konkona Sen Sharma opens up on casual sexism in Bollywood', 'url': 'https://www.hindustantimes.com/entertainment/bollywood/konkona-sen-sharma-opens-up-on-casual-sexism-in-bollywood-says-to-call-it-out-even-if-its-just-a-joke-101752479902527.html', 'content': 'Actor-director Konkona Sen Sharma has spoken candidly about navigating casual sexism in the film industry. In a recent interview, she stressed', 'score': 0.009883737}]\u001b[0m\n",
      "Thought:\u001b[32;1m\u001b[1;3mThought: The search results still did not provide any funny tweets about Chennai's weather today. I need to try a different approach, possibly searching for tweets directly on Twitter or a platform that aggregates tweets, using a more specific query related to Chennai's weather and humor. However, since I don't have direct access to Twitter or real-time tweet aggregation, I'll acknowledge the limitation and provide a general humorous take on the weather instead.\n",
      "\n",
      "Final Answer: Unfortunately, I couldn't find a specific funny tweet about today's weather in Chennai. However, given that it's mostly cloudy with temperatures reaching up to 37°C, here’s a humorous take: \"Chennai's weather today is like a bad date – cloudy, hot, and leaving you wondering when it’s going to clear up!\"\u001b[0m\n",
      "\n",
      "\u001b[1m> Finished chain.\u001b[0m\n"
     ]
    },
    {
     "data": {
      "text/plain": [
       "{'input': 'give me the funny tweet about today weather in chennai.',\n",
       " 'output': 'Unfortunately, I couldn\\'t find a specific funny tweet about today\\'s weather in Chennai. However, given that it\\'s mostly cloudy with temperatures reaching up to 37°C, here’s a humorous take: \"Chennai\\'s weather today is like a bad date – cloudy, hot, and leaving you wondering when it’s going to clear up!\"'}"
      ]
     },
     "execution_count": 14,
     "metadata": {},
     "output_type": "execute_result"
    }
   ],
   "source": [
    "agent.invoke(\"give me the funny tweet about today weather in chennai.\")"
   ]
  },
  {
   "cell_type": "code",
   "execution_count": 20,
   "id": "1de8c7d2",
   "metadata": {},
   "outputs": [
    {
     "name": "stdout",
     "output_type": "stream",
     "text": [
      "\n",
      "\n",
      "\u001b[1m> Entering new AgentExecutor chain...\u001b[0m\n",
      "\u001b[32;1m\u001b[1;3mQuestion: Today weather in chennai.  \n",
      "Thought: To answer this question, I need to find the current weather conditions in Chennai. I will use the tavily_search_results_json tool to search for \"today weather in Chennai.\"  \n",
      "Action: tavily_search_results_json  \n",
      "Action Input: today weather in ChennaiO\u001b[0m\n",
      "Observation: \u001b[36;1m\u001b[1;3m[{'title': 'Weather in Chennai', 'url': 'https://www.weatherapi.com/', 'content': \"{'location': {'name': 'Chennai', 'region': 'Tamil Nadu', 'country': 'India', 'lat': 13.0833, 'lon': 80.2833, 'tz_id': 'Asia/Kolkata', 'localtime_epoch': 1752485814, 'localtime': '2025-07-14 15:06'}, 'current': {'last_updated_epoch': 1752485400, 'last_updated': '2025-07-14 15:00', 'temp_c': 33.6, 'temp_f': 92.5, 'is_day': 1, 'condition': {'text': 'Cloudy', 'icon': '//cdn.weatherapi.com/weather/64x64/day/119.png', 'code': 1006}, 'wind_mph': 8.7, 'wind_kph': 14.0, 'wind_degree': 125, 'wind_dir': 'SE', 'pressure_mb': 1002.0, 'pressure_in': 29.58, 'precip_mm': 0.0, 'precip_in': 0.0, 'humidity': 52, 'cloud': 81, 'feelslike_c': 38.6, 'feelslike_f': 101.5, 'windchill_c': 33.6, 'windchill_f': 92.5, 'heatindex_c': 38.6, 'heatindex_f': 101.5, 'dewpoint_c': 22.3, 'dewpoint_f': 72.2, 'vis_km': 10.0, 'vis_miles': 6.0, 'uv': 2.0, 'gust_mph': 12.7, 'gust_kph': 20.4}}\", 'score': 0.9730829}, {'title': 'Chennai weather forecast: Warm and humid with high chance of rain ...', 'url': 'https://www.msn.com/en-in/news/India/chennai-weather-forecast-warm-and-humid-with-high-chance-of-rain-this-week/ar-AA1IxeWi', 'content': \"Chennai's weather forecast for July 14, 2025, indicates a warm and humid day with temperatures ranging between 29.8°C and 37.5°C, accompanied by\", 'score': 0.9581049}, {'title': 'Chennai Weather Forecast 14 Jul 2025 - The Times of India', 'url': 'https://timesofindia.indiatimes.com/weather/chennai-weather-forecast-today/600017', 'content': \"Today's Weather in Chennai: In Chennai today, the weather is expected to be Mostly Cloudy with a maximum temperature of 37°C and a minimum of 28°C. Sunrise\", 'score': 0.95261395}, {'title': 'Chennai weather in July 2025 - Weather25.com', 'url': 'https://www.weather25.com/asia/india/tamil-nadu/chennai?page=month&month=July', 'content': 'The temperatures in Chennai during July are extremely high, between 82°F and hot as 93°F, drinking water regularly is advisable.', 'score': 0.84215075}, {'title': 'Chennai July 2025 Historical Weather Data (Tamil Nadu, India)', 'url': 'https://weatherspark.com/h/m/110123/2025/7/Historical-Weather-in-July-2025-in-Chennai-Tamil-Nadu-India', 'content': 'Chennai Temperature History July 2025 · 75°F · 80°F ; Hourly Temperature in July 2025 in Chennai · 12 AM · 3 AM ; Cloud Cover in July 2025 in Chennai · 12 AM · 3 AM', 'score': 0.7409441}]\u001b[0m\n",
      "Thought:\u001b[32;1m\u001b[1;3mThought: I have found multiple sources providing information about the weather in Chennai today. The most detailed and current information comes from the first source, which provides the current temperature, conditions, and other meteorological data. According to this source, the weather in Chennai is currently cloudy with a temperature of 33.6°C.\n",
      "\n",
      "Final Answer: The weather in Chennai today is cloudy with a temperature of 33.6°C (92.5°F). The conditions include a humidity level of 52%, wind speed of 14.0 kph from the southeast, and no precipitation. It feels like 38.6°C (101.5°F) due to the heat index.\u001b[0m\n",
      "\n",
      "\u001b[1m> Finished chain.\u001b[0m\n"
     ]
    },
    {
     "data": {
      "text/plain": [
       "{'input': 'Today weather in chennai.',\n",
       " 'output': 'The weather in Chennai today is cloudy with a temperature of 33.6°C (92.5°F). The conditions include a humidity level of 52%, wind speed of 14.0 kph from the southeast, and no precipitation. It feels like 38.6°C (101.5°F) due to the heat index.'}"
      ]
     },
     "execution_count": 20,
     "metadata": {},
     "output_type": "execute_result"
    }
   ],
   "source": [
    "agent.invoke(\"Today weather in chennai.\")"
   ]
  },
  {
   "cell_type": "code",
   "execution_count": 36,
   "id": "ba600c96",
   "metadata": {},
   "outputs": [
    {
     "name": "stdout",
     "output_type": "stream",
     "text": [
      "\n",
      "\n",
      "\u001b[1m> Entering new AgentExecutor chain...\u001b[0m\n",
      "\u001b[32;1m\u001b[1;3mQuestion: Write a funny tweet about today's weather in Chennai.  \n",
      "Thought: To write a funny tweet about today's weather in Chennai, I need to first find out what the weather is like there today.  \n",
      "Action: tavily_search_results_json  \n",
      "Action Input: \"Chennai weather today\"O\u001b[0m\n",
      "Observation: \u001b[36;1m\u001b[1;3m[{'title': 'Weather in Chennai', 'url': 'https://www.weatherapi.com/', 'content': \"{'location': {'name': 'Chennai', 'region': 'Tamil Nadu', 'country': 'India', 'lat': 13.0833, 'lon': 80.2833, 'tz_id': 'Asia/Kolkata', 'localtime_epoch': 1752486413, 'localtime': '2025-07-14 15:16'}, 'current': {'last_updated_epoch': 1752486300, 'last_updated': '2025-07-14 15:15', 'temp_c': 33.6, 'temp_f': 92.5, 'is_day': 1, 'condition': {'text': 'Cloudy', 'icon': '//cdn.weatherapi.com/weather/64x64/day/119.png', 'code': 1006}, 'wind_mph': 8.7, 'wind_kph': 14.0, 'wind_degree': 125, 'wind_dir': 'SE', 'pressure_mb': 1002.0, 'pressure_in': 29.58, 'precip_mm': 0.0, 'precip_in': 0.0, 'humidity': 52, 'cloud': 81, 'feelslike_c': 38.6, 'feelslike_f': 101.5, 'windchill_c': 33.6, 'windchill_f': 92.5, 'heatindex_c': 38.6, 'heatindex_f': 101.5, 'dewpoint_c': 22.3, 'dewpoint_f': 72.2, 'vis_km': 10.0, 'vis_miles': 6.0, 'uv': 2.0, 'gust_mph': 12.7, 'gust_kph': 20.4}}\", 'score': 0.9485909}, {'title': 'Weather in Chennai in July 2025 (State of Tamil Nādu)', 'url': 'https://world-weather.info/forecast/india/chennai_1/july-2025/', 'content': 'Detailed ⚡ Chennai Weather Forecast for July 2025 – day/night 🌡 ... Monday, 14 July. +81°. Day. +90°. Drizzle. Tuesday, 15 July. +81°. Day. +88°. Drizzle.', 'score': 0.9414878}, {'title': 'Chennai weather in July 2025 - Weather25.com', 'url': 'https://www.weather25.com/asia/india/tamil-nadu/chennai?page=month&month=July', 'content': 'The temperatures in Chennai during July are extremely high, between 82°F and hot as 93°F, drinking water regularly is advisable.', 'score': 0.8763069}, {'title': 'Chennai weather forecast: Warm and humid with high chance of rain ...', 'url': 'https://timesofindia.indiatimes.com/city/chennai/chennai-weather-forecast-hot-and-humid-with-rain-showers-expected-this-week/articleshow/122426333.cms', 'content': 'Chennai begins the week warm and humid with patchy rain expected today, July 14, reaching 37.5°C. Residents are advised to carry umbrellas', 'score': 0.83093774}, {'title': 'Weather Forecast for Chennai for Monday 14 July - Metcheck.com', 'url': 'https://www.metcheck.com/WEATHER/dayforecast.asp?location=Chennai&locationID=2411041&lat=13.08784&lon=80.27847&dateFor=16/05/2025', 'content': 'Time, Weather, Temp, Feels, RainRisk, Amount, Cloud, Dir, Speed, Gust, RH, UV. 9:00, 31 °c, 34 °c, 10%, 0.0mm, 97%, 15mph, 22mph, 47%, 3.', 'score': 0.74385756}]\u001b[0m\n",
      "Thought:\u001b[32;1m\u001b[1;3mThought: The weather in Chennai today is warm and humid with a high temperature of around 33.6°C to 37.5°C, and it's cloudy with a chance of patchy rain. The humidity is high, making it feel even hotter, around 38.6°C. This information gives me enough context to craft a funny tweet.\n",
      "\n",
      "Final Answer: \"Chennai weather today: 37°C, feels like a sauna with a side of monsoon. Bring your umbrella and a portable AC, because Mother Nature’s got her settings on 'tropical torture' mode. #ChennaiWeather #HotAndBothered\"\u001b[0m\n",
      "\n",
      "\u001b[1m> Finished chain.\u001b[0m\n"
     ]
    },
    {
     "data": {
      "text/plain": [
       "{'input': 'Write a funny tweet about today weather in chennai.',\n",
       " 'output': '\"Chennai weather today: 37°C, feels like a sauna with a side of monsoon. Bring your umbrella and a portable AC, because Mother Nature’s got her settings on \\'tropical torture\\' mode. #ChennaiWeather #HotAndBothered\"'}"
      ]
     },
     "execution_count": 36,
     "metadata": {},
     "output_type": "execute_result"
    }
   ],
   "source": [
    "agent.invoke(\"Write a funny tweet about today weather in chennai.\")"
   ]
  },
  {
   "cell_type": "code",
   "execution_count": 81,
   "id": "7495cffb",
   "metadata": {},
   "outputs": [
    {
     "name": "stdout",
     "output_type": "stream",
     "text": [
      "\n",
      "\n",
      "\u001b[1m> Entering new AgentExecutor chain...\u001b[0m\n",
      "\u001b[32;1m\u001b[1;3mThought: To answer this question, I need to use the current_datetime tool to get the current date and time.\n",
      "\n",
      "Action: current_datetime\n",
      "Action Input: NoneO\u001b[0m\n",
      "Observation: \u001b[33;1m\u001b[1;3m2025-07-14 03:56:26, PM\u001b[0m\n",
      "Thought:\u001b[32;1m\u001b[1;3mThought: I now know the final answer.\n",
      "\n",
      "Final Answer: Today's date and time is 2025-07-14 03:56:26 PM.\u001b[0m\n",
      "\n",
      "\u001b[1m> Finished chain.\u001b[0m\n"
     ]
    },
    {
     "data": {
      "text/plain": [
       "{'input': 'What is the todays date and time?',\n",
       " 'output': \"Today's date and time is 2025-07-14 03:56:26 PM.\"}"
      ]
     },
     "execution_count": 81,
     "metadata": {},
     "output_type": "execute_result"
    }
   ],
   "source": [
    "agent.invoke(\"What is the todays date and time?\")"
   ]
  },
  {
   "cell_type": "code",
   "execution_count": null,
   "id": "242859d7",
   "metadata": {},
   "outputs": [],
   "source": []
  }
 ],
 "metadata": {
  "kernelspec": {
   "display_name": "my_ai_env",
   "language": "python",
   "name": "python3"
  },
  "language_info": {
   "codemirror_mode": {
    "name": "ipython",
    "version": 3
   },
   "file_extension": ".py",
   "mimetype": "text/x-python",
   "name": "python",
   "nbconvert_exporter": "python",
   "pygments_lexer": "ipython3",
   "version": "3.13.4"
  }
 },
 "nbformat": 4,
 "nbformat_minor": 5
}
