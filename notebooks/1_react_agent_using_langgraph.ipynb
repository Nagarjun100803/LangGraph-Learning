{
 "cells": [
  {
   "cell_type": "code",
   "execution_count": 145,
   "id": "4a230399",
   "metadata": {},
   "outputs": [
    {
     "name": "stdout",
     "output_type": "stream",
     "text": [
      "Shivaya Namah\n"
     ]
    }
   ],
   "source": [
    "print(\"Shivaya Namah\")"
   ]
  },
  {
   "cell_type": "code",
   "execution_count": 146,
   "id": "8fd80b07",
   "metadata": {},
   "outputs": [
    {
     "name": "stdout",
     "output_type": "stream",
     "text": [
      "API Keys loaded succesfully.\n"
     ]
    }
   ],
   "source": [
    "from langchain_cohere.chat_models import ChatCohere\n",
    "from langchain_core.messages import HumanMessage, AIMessage, BaseMessage\n",
    "from langchain_core.prompts import ChatPromptTemplate, MessagesPlaceholder\n",
    "from pydantic_settings import BaseSettings\n",
    "from langchain_google_genai.chat_models import ChatGoogleGenerativeAI\n",
    "from typing import Sequence\n",
    "\n",
    "\n",
    "class Settings(BaseSettings): \n",
    "\n",
    "    pinecone_api_key: str \n",
    "    watsonx_apikey: str  \n",
    "    watsonx_url: str\n",
    "    watsonx_project_id: str\n",
    "    cohere_api_key: str \n",
    "    tavily_api_key: str\n",
    "    google_api_key: str\n",
    "\n",
    "    langsmith_api_key: str\n",
    "    langsmith_endpoint: str\n",
    "    langsmith_tracing: bool\n",
    "    langsmith_project: str\n",
    "\n",
    "    class Config:\n",
    "        env_file = \".env\"\n",
    "        extra = \"ignore\"\n",
    "\n",
    "settings = Settings()\n",
    "print(\"API Keys loaded succesfully.\")"
   ]
  },
  {
   "cell_type": "code",
   "execution_count": 147,
   "id": "69cae559",
   "metadata": {},
   "outputs": [
    {
     "data": {
      "text/plain": [
       "True"
      ]
     },
     "execution_count": 147,
     "metadata": {},
     "output_type": "execute_result"
    }
   ],
   "source": [
    "settings.langsmith_tracing"
   ]
  },
  {
   "cell_type": "code",
   "execution_count": 148,
   "id": "68e9db4a",
   "metadata": {},
   "outputs": [
    {
     "data": {
      "text/plain": [
       "ChatPromptTemplate(input_variables=['messages'], input_types={'messages': list[typing.Annotated[typing.Union[typing.Annotated[langchain_core.messages.ai.AIMessage, Tag(tag='ai')], typing.Annotated[langchain_core.messages.human.HumanMessage, Tag(tag='human')], typing.Annotated[langchain_core.messages.chat.ChatMessage, Tag(tag='chat')], typing.Annotated[langchain_core.messages.system.SystemMessage, Tag(tag='system')], typing.Annotated[langchain_core.messages.function.FunctionMessage, Tag(tag='function')], typing.Annotated[langchain_core.messages.tool.ToolMessage, Tag(tag='tool')], typing.Annotated[langchain_core.messages.ai.AIMessageChunk, Tag(tag='AIMessageChunk')], typing.Annotated[langchain_core.messages.human.HumanMessageChunk, Tag(tag='HumanMessageChunk')], typing.Annotated[langchain_core.messages.chat.ChatMessageChunk, Tag(tag='ChatMessageChunk')], typing.Annotated[langchain_core.messages.system.SystemMessageChunk, Tag(tag='SystemMessageChunk')], typing.Annotated[langchain_core.messages.function.FunctionMessageChunk, Tag(tag='FunctionMessageChunk')], typing.Annotated[langchain_core.messages.tool.ToolMessageChunk, Tag(tag='ToolMessageChunk')]], FieldInfo(annotation=NoneType, required=True, discriminator=Discriminator(discriminator=<function _get_type at 0x000002575F1685E0>, custom_error_type=None, custom_error_message=None, custom_error_context=None))]]}, partial_variables={}, messages=[SystemMessagePromptTemplate(prompt=PromptTemplate(input_variables=[], input_types={}, partial_variables={}, template=\"You are a twitter techie influencer assistant tasked with writing excellent twitter posts. Generate the best twitter post possible for user's request. If the user provides critique, respond with your previous version of your attempts.\"), additional_kwargs={}), MessagesPlaceholder(variable_name='messages')])"
      ]
     },
     "execution_count": 148,
     "metadata": {},
     "output_type": "execute_result"
    }
   ],
   "source": [
    "generation_prompt_template = ChatPromptTemplate.from_messages(\n",
    "    [\n",
    "        (\"system\", \n",
    "         \n",
    "            \"You are a twitter techie influencer assistant tasked with writing excellent twitter posts. \"\n",
    "            \"Generate the best twitter post possible for user's request. \"\n",
    "            \"If the user provides critique, respond with your previous version of your attempts.\"         \n",
    "        ),\n",
    "        \n",
    "        MessagesPlaceholder(variable_name = \"messages\") # MessagePlaceholder takes list[BaseMessage]\n",
    "    ]\n",
    ")\n",
    "generation_prompt_template"
   ]
  },
  {
   "cell_type": "code",
   "execution_count": 149,
   "id": "867d2b55",
   "metadata": {},
   "outputs": [
    {
     "data": {
      "text/plain": [
       "[SystemMessagePromptTemplate(prompt=PromptTemplate(input_variables=[], input_types={}, partial_variables={}, template=\"You are a twitter techie influencer assistant tasked with writing excellent twitter posts. Generate the best twitter post possible for user's request. If the user provides critique, respond with your previous version of your attempts.\"), additional_kwargs={}),\n",
       " MessagesPlaceholder(variable_name='messages')]"
      ]
     },
     "execution_count": 149,
     "metadata": {},
     "output_type": "execute_result"
    }
   ],
   "source": [
    "generation_prompt_template.messages"
   ]
  },
  {
   "cell_type": "code",
   "execution_count": 150,
   "id": "40831688",
   "metadata": {},
   "outputs": [
    {
     "name": "stdout",
     "output_type": "stream",
     "text": [
      "You are a twitter techie influencer assistant tasked with writing excellent twitter posts. Generate the best twitter post possible for user's request. If the user provides critique, respond with your previous version of your attempts.\n"
     ]
    }
   ],
   "source": [
    "print(generation_prompt_template.messages[0].prompt.template)"
   ]
  },
  {
   "cell_type": "code",
   "execution_count": 151,
   "id": "412799f7",
   "metadata": {},
   "outputs": [
    {
     "name": "stdout",
     "output_type": "stream",
     "text": [
      "messages=[SystemMessage(content=\"You are a twitter techie influencer assistant tasked with writing excellent twitter posts. Generate the best twitter post possible for user's request. If the user provides critique, respond with your previous version of your attempts.\", additional_kwargs={}, response_metadata={})]\n"
     ]
    }
   ],
   "source": [
    "print(generation_prompt_template.invoke({\"messages\": []}))"
   ]
  },
  {
   "cell_type": "code",
   "execution_count": 152,
   "id": "29370001",
   "metadata": {},
   "outputs": [
    {
     "data": {
      "text/plain": [
       "ChatPromptTemplate(input_variables=['messages'], input_types={'messages': list[typing.Annotated[typing.Union[typing.Annotated[langchain_core.messages.ai.AIMessage, Tag(tag='ai')], typing.Annotated[langchain_core.messages.human.HumanMessage, Tag(tag='human')], typing.Annotated[langchain_core.messages.chat.ChatMessage, Tag(tag='chat')], typing.Annotated[langchain_core.messages.system.SystemMessage, Tag(tag='system')], typing.Annotated[langchain_core.messages.function.FunctionMessage, Tag(tag='function')], typing.Annotated[langchain_core.messages.tool.ToolMessage, Tag(tag='tool')], typing.Annotated[langchain_core.messages.ai.AIMessageChunk, Tag(tag='AIMessageChunk')], typing.Annotated[langchain_core.messages.human.HumanMessageChunk, Tag(tag='HumanMessageChunk')], typing.Annotated[langchain_core.messages.chat.ChatMessageChunk, Tag(tag='ChatMessageChunk')], typing.Annotated[langchain_core.messages.system.SystemMessageChunk, Tag(tag='SystemMessageChunk')], typing.Annotated[langchain_core.messages.function.FunctionMessageChunk, Tag(tag='FunctionMessageChunk')], typing.Annotated[langchain_core.messages.tool.ToolMessageChunk, Tag(tag='ToolMessageChunk')]], FieldInfo(annotation=NoneType, required=True, discriminator=Discriminator(discriminator=<function _get_type at 0x000002575F1685E0>, custom_error_type=None, custom_error_message=None, custom_error_context=None))]]}, partial_variables={}, messages=[SystemMessagePromptTemplate(prompt=PromptTemplate(input_variables=[], input_types={}, partial_variables={}, template=\"You are a viral twitter infulencer grading a tweet. Generate crtique and recommendations for the user's tweet. Always provide detailed recommendations, including request for length, virality, style etc.\"), additional_kwargs={}), MessagesPlaceholder(variable_name='messages')])"
      ]
     },
     "execution_count": 152,
     "metadata": {},
     "output_type": "execute_result"
    }
   ],
   "source": [
    "reflection_prompt_template = ChatPromptTemplate.from_messages(\n",
    "    [\n",
    "        (\n",
    "            \"system\",\n",
    "            \"You are a viral twitter infulencer grading a tweet. Generate crtique and recommendations for the user's tweet. \"\n",
    "            \"Always provide detailed recommendations, including request for length, virality, style etc.\"\n",
    "        ),\n",
    "\n",
    "        MessagesPlaceholder(variable_name = \"messages\")\n",
    "    ]\n",
    ")\n",
    "reflection_prompt_template"
   ]
  },
  {
   "cell_type": "markdown",
   "id": "06a39bed",
   "metadata": {},
   "source": [
    "## Creating chains for these two ChatPromptTemplate"
   ]
  },
  {
   "cell_type": "code",
   "execution_count": 153,
   "id": "b4e01964",
   "metadata": {},
   "outputs": [
    {
     "data": {
      "text/plain": [
       "ChatCohere(client=<cohere.client.Client object at 0x0000025772773100>, async_client=<cohere.client.AsyncClient object at 0x00000257727E49D0>, model='command-a-03-2025', temperature=0.9, cohere_api_key=SecretStr('**********'))"
      ]
     },
     "execution_count": 153,
     "metadata": {},
     "output_type": "execute_result"
    }
   ],
   "source": [
    "llm = ChatCohere(cohere_api_key = settings.cohere_api_key, temperature = 0.9, max_tokens = 400)\n",
    "llm"
   ]
  },
  {
   "cell_type": "code",
   "execution_count": 154,
   "id": "be5e9c00",
   "metadata": {},
   "outputs": [],
   "source": [
    "generation_chain = generation_prompt_template | llm\n",
    "reflection_chain = reflection_prompt_template | llm "
   ]
  },
  {
   "cell_type": "code",
   "execution_count": 155,
   "id": "2e2e59bc",
   "metadata": {},
   "outputs": [
    {
     "data": {
      "text/plain": [
       "ChatPromptTemplate(input_variables=['messages'], input_types={'messages': list[typing.Annotated[typing.Union[typing.Annotated[langchain_core.messages.ai.AIMessage, Tag(tag='ai')], typing.Annotated[langchain_core.messages.human.HumanMessage, Tag(tag='human')], typing.Annotated[langchain_core.messages.chat.ChatMessage, Tag(tag='chat')], typing.Annotated[langchain_core.messages.system.SystemMessage, Tag(tag='system')], typing.Annotated[langchain_core.messages.function.FunctionMessage, Tag(tag='function')], typing.Annotated[langchain_core.messages.tool.ToolMessage, Tag(tag='tool')], typing.Annotated[langchain_core.messages.ai.AIMessageChunk, Tag(tag='AIMessageChunk')], typing.Annotated[langchain_core.messages.human.HumanMessageChunk, Tag(tag='HumanMessageChunk')], typing.Annotated[langchain_core.messages.chat.ChatMessageChunk, Tag(tag='ChatMessageChunk')], typing.Annotated[langchain_core.messages.system.SystemMessageChunk, Tag(tag='SystemMessageChunk')], typing.Annotated[langchain_core.messages.function.FunctionMessageChunk, Tag(tag='FunctionMessageChunk')], typing.Annotated[langchain_core.messages.tool.ToolMessageChunk, Tag(tag='ToolMessageChunk')]], FieldInfo(annotation=NoneType, required=True, discriminator=Discriminator(discriminator=<function _get_type at 0x000002575F1685E0>, custom_error_type=None, custom_error_message=None, custom_error_context=None))]]}, partial_variables={}, messages=[SystemMessagePromptTemplate(prompt=PromptTemplate(input_variables=[], input_types={}, partial_variables={}, template=\"You are a twitter techie influencer assistant tasked with writing excellent twitter posts. Generate the best twitter post possible for user's request. If the user provides critique, respond with your previous version of your attempts.\"), additional_kwargs={}), MessagesPlaceholder(variable_name='messages')])\n",
       "| ChatCohere(client=<cohere.client.Client object at 0x0000025772773100>, async_client=<cohere.client.AsyncClient object at 0x00000257727E49D0>, model='command-a-03-2025', temperature=0.9, cohere_api_key=SecretStr('**********'))"
      ]
     },
     "execution_count": 155,
     "metadata": {},
     "output_type": "execute_result"
    }
   ],
   "source": [
    "generation_chain"
   ]
  },
  {
   "cell_type": "code",
   "execution_count": 156,
   "id": "1b376a9f",
   "metadata": {},
   "outputs": [
    {
     "data": {
      "text/plain": [
       "ChatPromptTemplate(input_variables=['messages'], input_types={'messages': list[typing.Annotated[typing.Union[typing.Annotated[langchain_core.messages.ai.AIMessage, Tag(tag='ai')], typing.Annotated[langchain_core.messages.human.HumanMessage, Tag(tag='human')], typing.Annotated[langchain_core.messages.chat.ChatMessage, Tag(tag='chat')], typing.Annotated[langchain_core.messages.system.SystemMessage, Tag(tag='system')], typing.Annotated[langchain_core.messages.function.FunctionMessage, Tag(tag='function')], typing.Annotated[langchain_core.messages.tool.ToolMessage, Tag(tag='tool')], typing.Annotated[langchain_core.messages.ai.AIMessageChunk, Tag(tag='AIMessageChunk')], typing.Annotated[langchain_core.messages.human.HumanMessageChunk, Tag(tag='HumanMessageChunk')], typing.Annotated[langchain_core.messages.chat.ChatMessageChunk, Tag(tag='ChatMessageChunk')], typing.Annotated[langchain_core.messages.system.SystemMessageChunk, Tag(tag='SystemMessageChunk')], typing.Annotated[langchain_core.messages.function.FunctionMessageChunk, Tag(tag='FunctionMessageChunk')], typing.Annotated[langchain_core.messages.tool.ToolMessageChunk, Tag(tag='ToolMessageChunk')]], FieldInfo(annotation=NoneType, required=True, discriminator=Discriminator(discriminator=<function _get_type at 0x000002575F1685E0>, custom_error_type=None, custom_error_message=None, custom_error_context=None))]]}, partial_variables={}, messages=[SystemMessagePromptTemplate(prompt=PromptTemplate(input_variables=[], input_types={}, partial_variables={}, template=\"You are a viral twitter infulencer grading a tweet. Generate crtique and recommendations for the user's tweet. Always provide detailed recommendations, including request for length, virality, style etc.\"), additional_kwargs={}), MessagesPlaceholder(variable_name='messages')])\n",
       "| ChatCohere(client=<cohere.client.Client object at 0x0000025772773100>, async_client=<cohere.client.AsyncClient object at 0x00000257727E49D0>, model='command-a-03-2025', temperature=0.9, cohere_api_key=SecretStr('**********'))"
      ]
     },
     "execution_count": 156,
     "metadata": {},
     "output_type": "execute_result"
    }
   ],
   "source": [
    "reflection_chain"
   ]
  },
  {
   "cell_type": "code",
   "execution_count": 48,
   "id": "3d24c5a5",
   "metadata": {},
   "outputs": [],
   "source": [
    "response = generation_chain.invoke({\"messages\": [HumanMessage(\"AI Agents taking Jobs\")]})"
   ]
  },
  {
   "cell_type": "code",
   "execution_count": 50,
   "id": "432addf8",
   "metadata": {},
   "outputs": [
    {
     "name": "stdout",
     "output_type": "stream",
     "text": [
      "🚨 **AI Agents Taking Jobs: The Future of Work or a Looming Crisis?** 🚨  \n",
      "\n",
      "AI isn’t just coming—it’s here. From customer service chatbots to automated coding tools, AI agents are quietly reshaping industries. But what does this mean for jobs?  \n",
      "\n",
      "✅ **Opportunities**:  \n",
      "- **New roles**: AI trainers, ethicists, and maintainers are in demand.  \n",
      "- **Efficiency**: Repetitive tasks automated, freeing humans for creative work.  \n",
      "- **Innovation**: AI-driven industries could create jobs we haven’t even imagined yet.  \n",
      "\n",
      "❌ **Challenges**:  \n",
      "- **Displacement**: Millions of jobs at risk, especially in low-skill sectors.  \n",
      "- **Inequality**: Those without access to AI skills could be left behind.  \n",
      "- **Ethical dilemmas**: Who’s accountable when AI makes mistakes?  \n",
      "\n",
      "💡 **The Question**: How do we prepare? Reskilling, policy changes, and ethical AI development are key.  \n",
      "\n",
      "What’s your take? Are AI agents a threat or an opportunity? Let’s discuss! 👇 #AI #FutureOfWork #Automation #TechInnovation\n"
     ]
    }
   ],
   "source": [
    "print(response.content)"
   ]
  },
  {
   "cell_type": "code",
   "execution_count": 51,
   "id": "34e67aae",
   "metadata": {},
   "outputs": [
    {
     "data": {
      "text/plain": [
       "AIMessage(content='🚨 **AI Agents Taking Jobs: The Future of Work or a Looming Crisis?** 🚨  \\n\\nAI isn’t just coming—it’s here. From customer service chatbots to automated coding tools, AI agents are quietly reshaping industries. But what does this mean for jobs?  \\n\\n✅ **Opportunities**:  \\n- **New roles**: AI trainers, ethicists, and maintainers are in demand.  \\n- **Efficiency**: Repetitive tasks automated, freeing humans for creative work.  \\n- **Innovation**: AI-driven industries could create jobs we haven’t even imagined yet.  \\n\\n❌ **Challenges**:  \\n- **Displacement**: Millions of jobs at risk, especially in low-skill sectors.  \\n- **Inequality**: Those without access to AI skills could be left behind.  \\n- **Ethical dilemmas**: Who’s accountable when AI makes mistakes?  \\n\\n💡 **The Question**: How do we prepare? Reskilling, policy changes, and ethical AI development are key.  \\n\\nWhat’s your take? Are AI agents a threat or an opportunity? Let’s discuss! 👇 #AI #FutureOfWork #Automation #TechInnovation', additional_kwargs={'id': 'd6a162d6-aaea-43f9-99b8-d5b03b2669e1', 'finish_reason': 'COMPLETE', 'content': '🚨 **AI Agents Taking Jobs: The Future of Work or a Looming Crisis?** 🚨  \\n\\nAI isn’t just coming—it’s here. From customer service chatbots to automated coding tools, AI agents are quietly reshaping industries. But what does this mean for jobs?  \\n\\n✅ **Opportunities**:  \\n- **New roles**: AI trainers, ethicists, and maintainers are in demand.  \\n- **Efficiency**: Repetitive tasks automated, freeing humans for creative work.  \\n- **Innovation**: AI-driven industries could create jobs we haven’t even imagined yet.  \\n\\n❌ **Challenges**:  \\n- **Displacement**: Millions of jobs at risk, especially in low-skill sectors.  \\n- **Inequality**: Those without access to AI skills could be left behind.  \\n- **Ethical dilemmas**: Who’s accountable when AI makes mistakes?  \\n\\n💡 **The Question**: How do we prepare? Reskilling, policy changes, and ethical AI development are key.  \\n\\nWhat’s your take? Are AI agents a threat or an opportunity? Let’s discuss! 👇 #AI #FutureOfWork #Automation #TechInnovation', 'token_count': {'input_tokens': 574.0, 'output_tokens': 250.0}}, response_metadata={'id': 'd6a162d6-aaea-43f9-99b8-d5b03b2669e1', 'finish_reason': 'COMPLETE', 'content': '🚨 **AI Agents Taking Jobs: The Future of Work or a Looming Crisis?** 🚨  \\n\\nAI isn’t just coming—it’s here. From customer service chatbots to automated coding tools, AI agents are quietly reshaping industries. But what does this mean for jobs?  \\n\\n✅ **Opportunities**:  \\n- **New roles**: AI trainers, ethicists, and maintainers are in demand.  \\n- **Efficiency**: Repetitive tasks automated, freeing humans for creative work.  \\n- **Innovation**: AI-driven industries could create jobs we haven’t even imagined yet.  \\n\\n❌ **Challenges**:  \\n- **Displacement**: Millions of jobs at risk, especially in low-skill sectors.  \\n- **Inequality**: Those without access to AI skills could be left behind.  \\n- **Ethical dilemmas**: Who’s accountable when AI makes mistakes?  \\n\\n💡 **The Question**: How do we prepare? Reskilling, policy changes, and ethical AI development are key.  \\n\\nWhat’s your take? Are AI agents a threat or an opportunity? Let’s discuss! 👇 #AI #FutureOfWork #Automation #TechInnovation', 'token_count': {'input_tokens': 574.0, 'output_tokens': 250.0}}, id='run--8c2e0fe3-7f57-43a6-8c47-cb529087f5a2-0', usage_metadata={'input_tokens': 574, 'output_tokens': 250, 'total_tokens': 824})"
      ]
     },
     "execution_count": 51,
     "metadata": {},
     "output_type": "execute_result"
    }
   ],
   "source": [
    "response"
   ]
  },
  {
   "cell_type": "code",
   "execution_count": 53,
   "id": "9d7aeced",
   "metadata": {},
   "outputs": [],
   "source": [
    "human_message = HumanMessage(content=\"AI Agents taking Jobs\")\n",
    "ai_message = AIMessage(content = response.content)"
   ]
  },
  {
   "cell_type": "code",
   "execution_count": 59,
   "id": "80a1a918",
   "metadata": {},
   "outputs": [
    {
     "ename": "ValueError",
     "evalue": "The last message is not an ToolMessage or HumanMessage",
     "output_type": "error",
     "traceback": [
      "\u001b[31m---------------------------------------------------------------------------\u001b[39m",
      "\u001b[31mValueError\u001b[39m                                Traceback (most recent call last)",
      "\u001b[36mCell\u001b[39m\u001b[36m \u001b[39m\u001b[32mIn[59]\u001b[39m\u001b[32m, line 1\u001b[39m\n\u001b[32m----> \u001b[39m\u001b[32m1\u001b[39m reflection_response = \u001b[43mreflection_chain\u001b[49m\u001b[43m.\u001b[49m\u001b[43minvoke\u001b[49m\u001b[43m(\u001b[49m\u001b[43m{\u001b[49m\u001b[33;43m\"\u001b[39;49m\u001b[33;43mmessages\u001b[39;49m\u001b[33;43m\"\u001b[39;49m\u001b[43m:\u001b[49m\u001b[43m \u001b[49m\u001b[43m[\u001b[49m\u001b[43mhuman_message\u001b[49m\u001b[43m,\u001b[49m\u001b[43m \u001b[49m\u001b[43mai_message\u001b[49m\u001b[43m]\u001b[49m\u001b[43m}\u001b[49m\u001b[43m)\u001b[49m\n",
      "\u001b[36mFile \u001b[39m\u001b[32mc:\\Users\\user\\Desktop\\AIWorkspace\\my_ai_env\\Lib\\site-packages\\langchain_core\\runnables\\base.py:3047\u001b[39m, in \u001b[36mRunnableSequence.invoke\u001b[39m\u001b[34m(self, input, config, **kwargs)\u001b[39m\n\u001b[32m   3045\u001b[39m                 input_ = context.run(step.invoke, input_, config, **kwargs)\n\u001b[32m   3046\u001b[39m             \u001b[38;5;28;01melse\u001b[39;00m:\n\u001b[32m-> \u001b[39m\u001b[32m3047\u001b[39m                 input_ = \u001b[43mcontext\u001b[49m\u001b[43m.\u001b[49m\u001b[43mrun\u001b[49m\u001b[43m(\u001b[49m\u001b[43mstep\u001b[49m\u001b[43m.\u001b[49m\u001b[43minvoke\u001b[49m\u001b[43m,\u001b[49m\u001b[43m \u001b[49m\u001b[43minput_\u001b[49m\u001b[43m,\u001b[49m\u001b[43m \u001b[49m\u001b[43mconfig\u001b[49m\u001b[43m)\u001b[49m\n\u001b[32m   3048\u001b[39m \u001b[38;5;66;03m# finish the root run\u001b[39;00m\n\u001b[32m   3049\u001b[39m \u001b[38;5;28;01mexcept\u001b[39;00m \u001b[38;5;167;01mBaseException\u001b[39;00m \u001b[38;5;28;01mas\u001b[39;00m e:\n",
      "\u001b[36mFile \u001b[39m\u001b[32mc:\\Users\\user\\Desktop\\AIWorkspace\\my_ai_env\\Lib\\site-packages\\langchain_core\\language_models\\chat_models.py:378\u001b[39m, in \u001b[36mBaseChatModel.invoke\u001b[39m\u001b[34m(self, input, config, stop, **kwargs)\u001b[39m\n\u001b[32m    366\u001b[39m \u001b[38;5;129m@override\u001b[39m\n\u001b[32m    367\u001b[39m \u001b[38;5;28;01mdef\u001b[39;00m\u001b[38;5;250m \u001b[39m\u001b[34minvoke\u001b[39m(\n\u001b[32m    368\u001b[39m     \u001b[38;5;28mself\u001b[39m,\n\u001b[32m   (...)\u001b[39m\u001b[32m    373\u001b[39m     **kwargs: Any,\n\u001b[32m    374\u001b[39m ) -> BaseMessage:\n\u001b[32m    375\u001b[39m     config = ensure_config(config)\n\u001b[32m    376\u001b[39m     \u001b[38;5;28;01mreturn\u001b[39;00m cast(\n\u001b[32m    377\u001b[39m         \u001b[33m\"\u001b[39m\u001b[33mChatGeneration\u001b[39m\u001b[33m\"\u001b[39m,\n\u001b[32m--> \u001b[39m\u001b[32m378\u001b[39m         \u001b[38;5;28;43mself\u001b[39;49m\u001b[43m.\u001b[49m\u001b[43mgenerate_prompt\u001b[49m\u001b[43m(\u001b[49m\n\u001b[32m    379\u001b[39m \u001b[43m            \u001b[49m\u001b[43m[\u001b[49m\u001b[38;5;28;43mself\u001b[39;49m\u001b[43m.\u001b[49m\u001b[43m_convert_input\u001b[49m\u001b[43m(\u001b[49m\u001b[38;5;28;43minput\u001b[39;49m\u001b[43m)\u001b[49m\u001b[43m]\u001b[49m\u001b[43m,\u001b[49m\n\u001b[32m    380\u001b[39m \u001b[43m            \u001b[49m\u001b[43mstop\u001b[49m\u001b[43m=\u001b[49m\u001b[43mstop\u001b[49m\u001b[43m,\u001b[49m\n\u001b[32m    381\u001b[39m \u001b[43m            \u001b[49m\u001b[43mcallbacks\u001b[49m\u001b[43m=\u001b[49m\u001b[43mconfig\u001b[49m\u001b[43m.\u001b[49m\u001b[43mget\u001b[49m\u001b[43m(\u001b[49m\u001b[33;43m\"\u001b[39;49m\u001b[33;43mcallbacks\u001b[39;49m\u001b[33;43m\"\u001b[39;49m\u001b[43m)\u001b[49m\u001b[43m,\u001b[49m\n\u001b[32m    382\u001b[39m \u001b[43m            \u001b[49m\u001b[43mtags\u001b[49m\u001b[43m=\u001b[49m\u001b[43mconfig\u001b[49m\u001b[43m.\u001b[49m\u001b[43mget\u001b[49m\u001b[43m(\u001b[49m\u001b[33;43m\"\u001b[39;49m\u001b[33;43mtags\u001b[39;49m\u001b[33;43m\"\u001b[39;49m\u001b[43m)\u001b[49m\u001b[43m,\u001b[49m\n\u001b[32m    383\u001b[39m \u001b[43m            \u001b[49m\u001b[43mmetadata\u001b[49m\u001b[43m=\u001b[49m\u001b[43mconfig\u001b[49m\u001b[43m.\u001b[49m\u001b[43mget\u001b[49m\u001b[43m(\u001b[49m\u001b[33;43m\"\u001b[39;49m\u001b[33;43mmetadata\u001b[39;49m\u001b[33;43m\"\u001b[39;49m\u001b[43m)\u001b[49m\u001b[43m,\u001b[49m\n\u001b[32m    384\u001b[39m \u001b[43m            \u001b[49m\u001b[43mrun_name\u001b[49m\u001b[43m=\u001b[49m\u001b[43mconfig\u001b[49m\u001b[43m.\u001b[49m\u001b[43mget\u001b[49m\u001b[43m(\u001b[49m\u001b[33;43m\"\u001b[39;49m\u001b[33;43mrun_name\u001b[39;49m\u001b[33;43m\"\u001b[39;49m\u001b[43m)\u001b[49m\u001b[43m,\u001b[49m\n\u001b[32m    385\u001b[39m \u001b[43m            \u001b[49m\u001b[43mrun_id\u001b[49m\u001b[43m=\u001b[49m\u001b[43mconfig\u001b[49m\u001b[43m.\u001b[49m\u001b[43mpop\u001b[49m\u001b[43m(\u001b[49m\u001b[33;43m\"\u001b[39;49m\u001b[33;43mrun_id\u001b[39;49m\u001b[33;43m\"\u001b[39;49m\u001b[43m,\u001b[49m\u001b[43m \u001b[49m\u001b[38;5;28;43;01mNone\u001b[39;49;00m\u001b[43m)\u001b[49m\u001b[43m,\u001b[49m\n\u001b[32m    386\u001b[39m \u001b[43m            \u001b[49m\u001b[43m*\u001b[49m\u001b[43m*\u001b[49m\u001b[43mkwargs\u001b[49m\u001b[43m,\u001b[49m\n\u001b[32m    387\u001b[39m \u001b[43m        \u001b[49m\u001b[43m)\u001b[49m.generations[\u001b[32m0\u001b[39m][\u001b[32m0\u001b[39m],\n\u001b[32m    388\u001b[39m     ).message\n",
      "\u001b[36mFile \u001b[39m\u001b[32mc:\\Users\\user\\Desktop\\AIWorkspace\\my_ai_env\\Lib\\site-packages\\langchain_core\\language_models\\chat_models.py:963\u001b[39m, in \u001b[36mBaseChatModel.generate_prompt\u001b[39m\u001b[34m(self, prompts, stop, callbacks, **kwargs)\u001b[39m\n\u001b[32m    954\u001b[39m \u001b[38;5;129m@override\u001b[39m\n\u001b[32m    955\u001b[39m \u001b[38;5;28;01mdef\u001b[39;00m\u001b[38;5;250m \u001b[39m\u001b[34mgenerate_prompt\u001b[39m(\n\u001b[32m    956\u001b[39m     \u001b[38;5;28mself\u001b[39m,\n\u001b[32m   (...)\u001b[39m\u001b[32m    960\u001b[39m     **kwargs: Any,\n\u001b[32m    961\u001b[39m ) -> LLMResult:\n\u001b[32m    962\u001b[39m     prompt_messages = [p.to_messages() \u001b[38;5;28;01mfor\u001b[39;00m p \u001b[38;5;129;01min\u001b[39;00m prompts]\n\u001b[32m--> \u001b[39m\u001b[32m963\u001b[39m     \u001b[38;5;28;01mreturn\u001b[39;00m \u001b[38;5;28;43mself\u001b[39;49m\u001b[43m.\u001b[49m\u001b[43mgenerate\u001b[49m\u001b[43m(\u001b[49m\u001b[43mprompt_messages\u001b[49m\u001b[43m,\u001b[49m\u001b[43m \u001b[49m\u001b[43mstop\u001b[49m\u001b[43m=\u001b[49m\u001b[43mstop\u001b[49m\u001b[43m,\u001b[49m\u001b[43m \u001b[49m\u001b[43mcallbacks\u001b[49m\u001b[43m=\u001b[49m\u001b[43mcallbacks\u001b[49m\u001b[43m,\u001b[49m\u001b[43m \u001b[49m\u001b[43m*\u001b[49m\u001b[43m*\u001b[49m\u001b[43mkwargs\u001b[49m\u001b[43m)\u001b[49m\n",
      "\u001b[36mFile \u001b[39m\u001b[32mc:\\Users\\user\\Desktop\\AIWorkspace\\my_ai_env\\Lib\\site-packages\\langchain_core\\language_models\\chat_models.py:782\u001b[39m, in \u001b[36mBaseChatModel.generate\u001b[39m\u001b[34m(self, messages, stop, callbacks, tags, metadata, run_name, run_id, **kwargs)\u001b[39m\n\u001b[32m    779\u001b[39m \u001b[38;5;28;01mfor\u001b[39;00m i, m \u001b[38;5;129;01min\u001b[39;00m \u001b[38;5;28menumerate\u001b[39m(input_messages):\n\u001b[32m    780\u001b[39m     \u001b[38;5;28;01mtry\u001b[39;00m:\n\u001b[32m    781\u001b[39m         results.append(\n\u001b[32m--> \u001b[39m\u001b[32m782\u001b[39m             \u001b[38;5;28;43mself\u001b[39;49m\u001b[43m.\u001b[49m\u001b[43m_generate_with_cache\u001b[49m\u001b[43m(\u001b[49m\n\u001b[32m    783\u001b[39m \u001b[43m                \u001b[49m\u001b[43mm\u001b[49m\u001b[43m,\u001b[49m\n\u001b[32m    784\u001b[39m \u001b[43m                \u001b[49m\u001b[43mstop\u001b[49m\u001b[43m=\u001b[49m\u001b[43mstop\u001b[49m\u001b[43m,\u001b[49m\n\u001b[32m    785\u001b[39m \u001b[43m                \u001b[49m\u001b[43mrun_manager\u001b[49m\u001b[43m=\u001b[49m\u001b[43mrun_managers\u001b[49m\u001b[43m[\u001b[49m\u001b[43mi\u001b[49m\u001b[43m]\u001b[49m\u001b[43m \u001b[49m\u001b[38;5;28;43;01mif\u001b[39;49;00m\u001b[43m \u001b[49m\u001b[43mrun_managers\u001b[49m\u001b[43m \u001b[49m\u001b[38;5;28;43;01melse\u001b[39;49;00m\u001b[43m \u001b[49m\u001b[38;5;28;43;01mNone\u001b[39;49;00m\u001b[43m,\u001b[49m\n\u001b[32m    786\u001b[39m \u001b[43m                \u001b[49m\u001b[43m*\u001b[49m\u001b[43m*\u001b[49m\u001b[43mkwargs\u001b[49m\u001b[43m,\u001b[49m\n\u001b[32m    787\u001b[39m \u001b[43m            \u001b[49m\u001b[43m)\u001b[49m\n\u001b[32m    788\u001b[39m         )\n\u001b[32m    789\u001b[39m     \u001b[38;5;28;01mexcept\u001b[39;00m \u001b[38;5;167;01mBaseException\u001b[39;00m \u001b[38;5;28;01mas\u001b[39;00m e:\n\u001b[32m    790\u001b[39m         \u001b[38;5;28;01mif\u001b[39;00m run_managers:\n",
      "\u001b[36mFile \u001b[39m\u001b[32mc:\\Users\\user\\Desktop\\AIWorkspace\\my_ai_env\\Lib\\site-packages\\langchain_core\\language_models\\chat_models.py:1028\u001b[39m, in \u001b[36mBaseChatModel._generate_with_cache\u001b[39m\u001b[34m(self, messages, stop, run_manager, **kwargs)\u001b[39m\n\u001b[32m   1026\u001b[39m     result = generate_from_stream(\u001b[38;5;28miter\u001b[39m(chunks))\n\u001b[32m   1027\u001b[39m \u001b[38;5;28;01melif\u001b[39;00m inspect.signature(\u001b[38;5;28mself\u001b[39m._generate).parameters.get(\u001b[33m\"\u001b[39m\u001b[33mrun_manager\u001b[39m\u001b[33m\"\u001b[39m):\n\u001b[32m-> \u001b[39m\u001b[32m1028\u001b[39m     result = \u001b[38;5;28;43mself\u001b[39;49m\u001b[43m.\u001b[49m\u001b[43m_generate\u001b[49m\u001b[43m(\u001b[49m\n\u001b[32m   1029\u001b[39m \u001b[43m        \u001b[49m\u001b[43mmessages\u001b[49m\u001b[43m,\u001b[49m\u001b[43m \u001b[49m\u001b[43mstop\u001b[49m\u001b[43m=\u001b[49m\u001b[43mstop\u001b[49m\u001b[43m,\u001b[49m\u001b[43m \u001b[49m\u001b[43mrun_manager\u001b[49m\u001b[43m=\u001b[49m\u001b[43mrun_manager\u001b[49m\u001b[43m,\u001b[49m\u001b[43m \u001b[49m\u001b[43m*\u001b[49m\u001b[43m*\u001b[49m\u001b[43mkwargs\u001b[49m\n\u001b[32m   1030\u001b[39m \u001b[43m    \u001b[49m\u001b[43m)\u001b[49m\n\u001b[32m   1031\u001b[39m \u001b[38;5;28;01melse\u001b[39;00m:\n\u001b[32m   1032\u001b[39m     result = \u001b[38;5;28mself\u001b[39m._generate(messages, stop=stop, **kwargs)\n",
      "\u001b[36mFile \u001b[39m\u001b[32mc:\\Users\\user\\Desktop\\AIWorkspace\\my_ai_env\\Lib\\site-packages\\langchain_cohere\\chat_models.py:1136\u001b[39m, in \u001b[36mChatCohere._generate\u001b[39m\u001b[34m(self, messages, stop, run_manager, **kwargs)\u001b[39m\n\u001b[32m   1131\u001b[39m     stream_iter = \u001b[38;5;28mself\u001b[39m._stream(\n\u001b[32m   1132\u001b[39m         messages, stop=stop, run_manager=run_manager, **kwargs\n\u001b[32m   1133\u001b[39m     )\n\u001b[32m   1134\u001b[39m     \u001b[38;5;28;01mreturn\u001b[39;00m generate_from_stream(stream_iter)\n\u001b[32m-> \u001b[39m\u001b[32m1136\u001b[39m request = \u001b[43mget_cohere_chat_request_v2\u001b[49m\u001b[43m(\u001b[49m\n\u001b[32m   1137\u001b[39m \u001b[43m    \u001b[49m\u001b[43mmessages\u001b[49m\u001b[43m,\u001b[49m\u001b[43m \u001b[49m\u001b[43mstop_sequences\u001b[49m\u001b[43m=\u001b[49m\u001b[43mstop\u001b[49m\u001b[43m,\u001b[49m\u001b[43m \u001b[49m\u001b[43m*\u001b[49m\u001b[43m*\u001b[49m\u001b[38;5;28;43mself\u001b[39;49m\u001b[43m.\u001b[49m\u001b[43m_default_params\u001b[49m\u001b[43m,\u001b[49m\u001b[43m \u001b[49m\u001b[43m*\u001b[49m\u001b[43m*\u001b[49m\u001b[43mkwargs\u001b[49m\n\u001b[32m   1138\u001b[39m \u001b[43m\u001b[49m\u001b[43m)\u001b[49m\n\u001b[32m   1139\u001b[39m response = \u001b[38;5;28mself\u001b[39m.client.v2.chat(**request)\n\u001b[32m   1141\u001b[39m generation_info = \u001b[38;5;28mself\u001b[39m._get_generation_info_v2(\n\u001b[32m   1142\u001b[39m     response, request.get(\u001b[33m\"\u001b[39m\u001b[33mdocuments\u001b[39m\u001b[33m\"\u001b[39m)\n\u001b[32m   1143\u001b[39m )\n",
      "\u001b[36mFile \u001b[39m\u001b[32mc:\\Users\\user\\Desktop\\AIWorkspace\\my_ai_env\\Lib\\site-packages\\langchain_cohere\\chat_models.py:535\u001b[39m, in \u001b[36mget_cohere_chat_request_v2\u001b[39m\u001b[34m(messages, documents, stop_sequences, **kwargs)\u001b[39m\n\u001b[32m    531\u001b[39m \u001b[38;5;66;03m# check if the last message is a tool message or human message\u001b[39;00m\n\u001b[32m    532\u001b[39m \u001b[38;5;28;01mif\u001b[39;00m \u001b[38;5;129;01mnot\u001b[39;00m (\n\u001b[32m    533\u001b[39m     \u001b[38;5;28misinstance\u001b[39m(messages[-\u001b[32m1\u001b[39m], ToolMessage) \u001b[38;5;129;01mor\u001b[39;00m \u001b[38;5;28misinstance\u001b[39m(messages[-\u001b[32m1\u001b[39m], HumanMessage)\n\u001b[32m    534\u001b[39m ):\n\u001b[32m--> \u001b[39m\u001b[32m535\u001b[39m     \u001b[38;5;28;01mraise\u001b[39;00m \u001b[38;5;167;01mValueError\u001b[39;00m(\u001b[33m\"\u001b[39m\u001b[33mThe last message is not an ToolMessage or HumanMessage\u001b[39m\u001b[33m\"\u001b[39m)\n\u001b[32m    537\u001b[39m \u001b[38;5;28;01mif\u001b[39;00m kwargs.get(\u001b[33m\"\u001b[39m\u001b[33mpreamble\u001b[39m\u001b[33m\"\u001b[39m):\n\u001b[32m    538\u001b[39m     messages = [SystemMessage(content=\u001b[38;5;28mstr\u001b[39m(kwargs.get(\u001b[33m\"\u001b[39m\u001b[33mpreamble\u001b[39m\u001b[33m\"\u001b[39m)))] + messages\n",
      "\u001b[31mValueError\u001b[39m: The last message is not an ToolMessage or HumanMessage"
     ]
    }
   ],
   "source": [
    "reflection_response = reflection_chain.invoke({\"messages\": [human_message, ai_message]})"
   ]
  },
  {
   "cell_type": "markdown",
   "id": "a4ea0b16",
   "metadata": {},
   "source": [
    "The error you're getting:\n",
    "\n",
    "```\n",
    "ValueError: The last message is not a ToolMessage or HumanMessage\n",
    "```\n",
    "\n",
    "is **specific to Cohere's `ChatCohere` model via `langchain_cohere`**. It has a **strict requirement**: the last message in the list passed to the model **must be from the user (HumanMessage) or a tool**, **not** an AIMessage.\n",
    "\n",
    "---\n",
    "\n",
    "## 🧠 Why it failed\n",
    "\n",
    "You're passing:\n",
    "\n",
    "```python\n",
    "reflection_chain.invoke({\"messages\": [human_message, ai_message]})\n",
    "```\n",
    "\n",
    "Where `ai_message` (the AI's response) is **last**, violating Cohere's requirement.\n",
    "\n",
    "---\n",
    "\n",
    "## ✅ Solution\n",
    "\n",
    "**Reverse the message order** so the **last message is a HumanMessage**, as if you're prompting an LLM to critique the AI's response.\n",
    "\n",
    "### 🔁 Corrected version:\n",
    "\n",
    "```python\n",
    "reflection_chain.invoke({\n",
    "    \"messages\": [\n",
    "        HumanMessage(content=\"AI Agents taking Jobs\"),       # user tweet\n",
    "        AIMessage(content=\"AI Generated tweet\"),             # model output to critique\n",
    "        HumanMessage(content=\"Can you critique the above tweet?\")  # NEW human prompt\n",
    "    ]\n",
    "})\n",
    "```\n",
    "\n",
    "This makes it clear to Cohere (and any LLM) that you're:\n",
    "\n",
    "* Presenting a conversation (`human → AI`)\n",
    "* Then asking for a **critique request from a human**\n",
    "\n",
    "---\n",
    "\n",
    "## 🧠 Optional Improvement: Use named roles\n",
    "\n",
    "If you want even more clarity, rename roles using `ChatPromptTemplate.from_messages(...)` like:\n",
    "\n",
    "```python\n",
    "from langchain.prompts import ChatPromptTemplate, MessagesPlaceholder\n",
    "\n",
    "reflection_prompt_template = ChatPromptTemplate.from_messages([\n",
    "    (\"system\", \n",
    "        \"You are a viral Twitter influencer reviewing a tweet. Your job is to critique the AI-generated tweet and suggest improvements. Focus on virality, clarity, tone, and style.\"),\n",
    "    MessagesPlaceholder(variable_name=\"messages\")\n",
    "])\n",
    "```\n",
    "\n",
    "---\n",
    "\n",
    "## ✅ Final working example\n",
    "\n",
    "```python\n",
    "reflection_chain = reflection_prompt_template | llm\n",
    "\n",
    "reflection_response = reflection_chain.invoke({\n",
    "    \"messages\": [\n",
    "        HumanMessage(content=\"AI Agents taking Jobs\"),            # User input\n",
    "        AIMessage(content=\"AI Generated tweet\"),                  # AI response\n",
    "        HumanMessage(content=\"Critique this tweet and improve it\")  # Request for review\n",
    "    ]\n",
    "})\n",
    "```\n",
    "\n",
    "Now it will work perfectly — even with `ChatCohere`, `ChatOpenAI`, or IBM Granite.\n",
    "\n",
    "Let me know if you want this critiquing step wrapped into an automatic evaluation loop!\n"
   ]
  },
  {
   "cell_type": "code",
   "execution_count": 60,
   "id": "be66faca",
   "metadata": {},
   "outputs": [
    {
     "data": {
      "text/plain": [
       "[SystemMessage(content=\"You are a viral twitter infulencer grading a tweet. Generate crtique and recommendations for the user's tweet. Always provide detailed recommendations, including request for length, virality, style etc.\", additional_kwargs={}, response_metadata={}),\n",
       " HumanMessage(content='AI Agents taking Jobs', additional_kwargs={}, response_metadata={}),\n",
       " AIMessage(content='🚨 **AI Agents Taking Jobs: The Future of Work or a Looming Crisis?** 🚨  \\n\\nAI isn’t just coming—it’s here. From customer service chatbots to automated coding tools, AI agents are quietly reshaping industries. But what does this mean for jobs?  \\n\\n✅ **Opportunities**:  \\n- **New roles**: AI trainers, ethicists, and maintainers are in demand.  \\n- **Efficiency**: Repetitive tasks automated, freeing humans for creative work.  \\n- **Innovation**: AI-driven industries could create jobs we haven’t even imagined yet.  \\n\\n❌ **Challenges**:  \\n- **Displacement**: Millions of jobs at risk, especially in low-skill sectors.  \\n- **Inequality**: Those without access to AI skills could be left behind.  \\n- **Ethical dilemmas**: Who’s accountable when AI makes mistakes?  \\n\\n💡 **The Question**: How do we prepare? Reskilling, policy changes, and ethical AI development are key.  \\n\\nWhat’s your take? Are AI agents a threat or an opportunity? Let’s discuss! 👇 #AI #FutureOfWork #Automation #TechInnovation', additional_kwargs={}, response_metadata={}),\n",
       " HumanMessage(content='Critique this twwet and improve it', additional_kwargs={}, response_metadata={})]"
      ]
     },
     "execution_count": 60,
     "metadata": {},
     "output_type": "execute_result"
    }
   ],
   "source": [
    "reflection_prompt_template.invoke({\"messages\": [human_message, ai_message, HumanMessage(\"Critique this twwet and improve it\")]}).to_messages()"
   ]
  },
  {
   "cell_type": "code",
   "execution_count": 61,
   "id": "a8cb1586",
   "metadata": {},
   "outputs": [],
   "source": [
    "reflection_response = reflection_chain.invoke({\"messages\": [human_message, ai_message, HumanMessage(\"Critique this twwet and improve it\")]})"
   ]
  },
  {
   "cell_type": "code",
   "execution_count": 62,
   "id": "2c9f2c27",
   "metadata": {},
   "outputs": [
    {
     "name": "stdout",
     "output_type": "stream",
     "text": [
      "**Critique of the Tweet:**\n",
      "\n",
      "1. **Length**: The tweet is a bit long (280 characters max is ideal for engagement). It reads more like a mini-essay, which might cause readers to lose interest halfway through.  \n",
      "2. **Virality**: While it touches on a hot topic, it lacks a strong hook or polarizing statement to spark immediate engagement.  \n",
      "3. **Style**: The tone is informative but somewhat dry. It could benefit from more personality or a conversational vibe to connect with the audience.  \n",
      "4. **Call-to-Action (CTA)**: The CTA (\"Let’s discuss!\") is generic. A more specific question or prompt could encourage more replies.  \n",
      "5. **Hashtags**: The hashtags are relevant but could be more targeted to increase visibility (e.g., #AITakeover or #JobAutomation).  \n",
      "\n",
      "**Improved Version (Shorter, Punchier, More Engaging):**  \n",
      "\n",
      "🔥 **AI is eating jobs—but is it creating more?** 🔥  \n",
      "From chatbots to coding tools, AI is reshaping work.  \n",
      "✅ New roles emerge.  \n",
      "❌ Millions could be displaced.  \n",
      "The real question: Are we ready?  \n",
      "\n",
      "What’s scarier: AI taking your job or not adapting to the change? Drop your hot take below! 🔥  \n",
      "#AI #FutureOfWork #Automation #TechRevolution  \n",
      "\n",
      "**Recommendations for Improvement:**  \n",
      "\n",
      "1. **Shorten and Simplify**:  \n",
      "   - Keep it under 240 characters to ensure readability and encourage engagement.  \n",
      "   - Use bullet points or emojis to break up text and make it visually appealing.  \n",
      "\n",
      "2. **Add a Hook**:  \n",
      "   - Start with a bold statement or polarizing question to grab attention immediately (e.g., \"AI is eating jobs—but is it creating more?\").  \n",
      "\n",
      "3. **Inject Personality**:  \n",
      "   - Use a more conversational tone (e.g., \"Drop your hot take below!\" instead of \"Let’s discuss!\").  \n",
      "   - Add humor or a relatable analogy if possible.  \n",
      "\n",
      "4. **Strengthen the CTA**:  \n",
      "   - Make the question more specific and engaging (e.g., \"What’s scarier: AI taking your job or not adapting to the change?\").  \n",
      "\n",
      "5. **Optimize Hashtags**:  \n",
      "   - Use trending or niche hashtags like #AITakeover, #JobAutomation, or #TechDisruption to reach a wider audience.  \n",
      "\n",
      "6. **Visual Appeal**:  \n",
      "   - Consider adding a relevant GIF or image to make the tweet stand out (if posting on Twitter directly).  \n",
      "\n",
      "This version is snappier, more engaging, and likely to spark conversation while staying within the character limit.\n"
     ]
    }
   ],
   "source": [
    "print(reflection_response.content)"
   ]
  },
  {
   "cell_type": "markdown",
   "id": "e02cb2ab",
   "metadata": {},
   "source": [
    "## Building Graph using LangGraph to implement Reflection Agent."
   ]
  },
  {
   "cell_type": "code",
   "execution_count": 135,
   "id": "2a144129",
   "metadata": {},
   "outputs": [],
   "source": [
    "from langgraph.graph import END, MessageGraph, START"
   ]
  },
  {
   "cell_type": "markdown",
   "id": "131288fe",
   "metadata": {},
   "source": [
    "#### Create a node name as a CONSTANT to make our life easier."
   ]
  },
  {
   "cell_type": "code",
   "execution_count": 136,
   "id": "ff9455d2",
   "metadata": {},
   "outputs": [],
   "source": [
    "REFLECT = \"reflect\"\n",
    "GENERATE = \"generate\""
   ]
  },
  {
   "cell_type": "code",
   "execution_count": 137,
   "id": "90b2b31b",
   "metadata": {},
   "outputs": [],
   "source": [
    "# Generate Node\n",
    "def generate_node(state: Sequence[BaseMessage]):\n",
    "    response = generation_chain.invoke({\"messages\": state})\n",
    "    return HumanMessage(content = response.content)"
   ]
  },
  {
   "cell_type": "code",
   "execution_count": 138,
   "id": "f8dd85d4",
   "metadata": {},
   "outputs": [],
   "source": [
    "# Reflect Node\n",
    "def reflect_node(state: Sequence[BaseMessage]):\n",
    "    \n",
    "    # We get a response from LLM so obviously it would be AIMessage,\n",
    "    # But for our convenience we change it as HumanMessage. \n",
    "    # Also we cannot pass AIMessage at the end in list LLM.\n",
    "    # LLM expects the last message as a HumanMessage or ToolMessage.\n",
    "\n",
    "    response = reflection_chain.invoke({\"messages\": state})\n",
    "\n",
    "    return [HumanMessage(content = response.content)]\n"
   ]
  },
  {
   "cell_type": "markdown",
   "id": "79e3d1e8",
   "metadata": {},
   "source": [
    "### Create a should continue method, to control the number of iterations for now."
   ]
  },
  {
   "cell_type": "code",
   "execution_count": 139,
   "id": "b260b7ce",
   "metadata": {},
   "outputs": [],
   "source": [
    "def should_continue(state: Sequence[BaseMessage]):\n",
    "    # For we just allow 2 iterations.\n",
    "    if len(state) > 4:\n",
    "        return END \n",
    "    return REFLECT"
   ]
  },
  {
   "cell_type": "code",
   "execution_count": 140,
   "id": "8dc7c2c8",
   "metadata": {},
   "outputs": [
    {
     "data": {
      "image/png": "[encoded data removed]",
      "text/plain": [
       "<langgraph.graph.state.CompiledStateGraph object at 0x000002576D60C5A0>"
      ]
     },
     "execution_count": 140,
     "metadata": {},
     "output_type": "execute_result"
    }
   ],
   "source": [
    "graph_builder = MessageGraph()\n",
    "# Adding Nodes to the MessageGraph.\n",
    "graph_builder.add_node(GENERATE, generate_node)\n",
    "graph_builder.add_node(REFLECT, reflect_node)\n",
    "graph_builder.set_entry_point(GENERATE)\n",
    "\n",
    "# Adding Edges to the MessageGraph.\n",
    "graph_builder.add_conditional_edges(GENERATE, should_continue, path_map = {REFLECT: REFLECT, END: END})\n",
    "# Path Map is really important, it defines where we need to go, based on the value we get from should_continue method.\n",
    "graph_builder.add_edge(REFLECT, GENERATE) \n",
    "\n",
    "graph = graph_builder.compile()\n",
    "graph"
   ]
  },
  {
   "cell_type": "markdown",
   "id": "389b5296",
   "metadata": {},
   "source": [
    "### Execute the Graph"
   ]
  },
  {
   "cell_type": "code",
   "execution_count": 113,
   "id": "e5bfeafd",
   "metadata": {},
   "outputs": [],
   "source": [
    "response = graph.invoke(HumanMessage(\"AI Agents taking over content creation.\"))"
   ]
  },
  {
   "cell_type": "code",
   "execution_count": 117,
   "id": "e3af286e",
   "metadata": {},
   "outputs": [
    {
     "data": {
      "text/plain": [
       "[HumanMessage(content='AI Agents taking over content creation.', additional_kwargs={}, response_metadata={}, id='d88e85fd-d0ab-4f29-9061-b5fada76f127'),\n",
       " HumanMessage(content='🚀 **AI Agents Are Revolutionizing Content Creation – Here’s Why It Matters**  \\n\\nAI isn’t just a tool anymore—it’s becoming the *creator*. From writing blogs to designing graphics, AI agents are stepping into roles once reserved for humans. But is this a threat or an opportunity?  \\n\\n✅ **The Upside:**  \\n- **Speed & Scale:** AI can produce content in minutes, not hours.  \\n- **Personalization:** Tailored content for every audience, effortlessly.  \\n- **Cost-Efficiency:** Less reliance on large teams = more budget for innovation.  \\n\\n❓ **The Debate:**  \\n- **Creativity vs. Automation:** Can AI truly replicate human ingenuity?  \\n- **Ethics:** Who owns AI-generated content? How do we ensure fairness?  \\n- **Jobs:** Will creators be replaced, or will they evolve alongside AI?  \\n\\n💡 **The Future:**  \\nAI won’t replace creators—it’ll *empower* them. Think of it as a co-pilot, not a competitor. The key? Learning to harness its potential while preserving the human touch.  \\n\\nWhat’s your take? Is AI the future of content creation, or just a passing trend? 🤖✨ #AI #ContentCreation #FutureOfWork', additional_kwargs={}, response_metadata={}, id='79fb6c03-f81f-4bd9-bcfb-6f25830c0794'),\n",
       " HumanMessage(content='**Critique of the Tweet:**\\n\\nYour tweet is informative and well-structured, effectively highlighting the impact of AI on content creation. However, it could be optimized for virality, engagement, and clarity. Here’s a detailed critique and recommendations:\\n\\n---\\n\\n### **Strengths:**\\n1. **Clear Structure:** The tweet is organized into sections (Upside, Debate, Future), making it easy to follow.  \\n2. **Balanced Perspective:** You present both the benefits and challenges of AI in content creation, which appeals to a broad audience.  \\n3. **Call to Action:** Ending with a question encourages engagement and discussion.  \\n\\n---\\n\\n### **Areas for Improvement:**\\n\\n1. **Length:**  \\n   - The tweet is slightly too long for optimal engagement. Twitter users prefer concise, scannable content. Aim for 200–240 characters (including spaces) for better readability and shareability.  \\n\\n2. **Hook:**  \\n   - The opening line is good but could be more attention-grabbing. Start with a bold statement or provocative question to stop the scroll.  \\n\\n3. **Tone:**  \\n   - The tone is professional but slightly dry. Inject more personality or excitement to make it more relatable and shareable.  \\n\\n4. **Hashtags:**  \\n   - While the hashtags are relevant, they’re placed at the end, which can feel like an afterthought. Integrate them more naturally or use fewer, more impactful ones.  \\n\\n5. **Visual Appeal:**  \\n   - Twitter is a visual platform. Consider adding emojis or a poll to break up the text and increase engagement.  \\n\\n6. **Virality Potential:**  \\n   - The tweet lacks a memorable phrase or soundbite that people would want to quote or retweet. Include a catchy line or statistic to make it more shareable.  \\n\\n---\\n\\n### **Recommendations:**\\n\\n1. **Shorten and Simplify:**  \\n   - Trim the tweet to focus on the most impactful points. For example:  \\n     *\"AI agents are rewriting the rules of content creation. 🚀 Faster, cheaper, personalized—but at what cost? Creativity? Jobs? The future is here, but are we ready? 🤖✨ #AI #ContentCreation\"*  \\n\\n2. **Add a Hook:**  \\n   - Start with a bold statement or question:  \\n     *\"AI isn’t just a tool—it’s becoming the *creator*. 🚀 But is this a game-changer or a game-ender for human creativity? Let’s debate. 🤖✨ #AI #FutureOfWork\"*  \\n\\n3. **Inject Personality:**  \\n   - Use a more conversational tone:  \\n     *\"AI is taking over content creation, and it’s both exciting and terrifying. 🚀 Faster, cheaper, personalized—but can it replace the human touch? What’s your take? 🤖✨ #AI #ContentCreation\"*  \\n\\n4. **Use Emojis Strategically:**  \\n   - Break up text and add visual appeal:  \\n     *\"AI agents are revolutionizing content creation. 🚀 **Pros:** Speed, personalization, cost-efficiency. ❓ **Cons:** Creativity? Ethics? Jobs? The future is here—are we ready? 🤖✨ #AI #ContentCreation\"*  \\n\\n5. **Include a Poll or Question:**  \\n   - Boost engagement with an interactive element:  \\n     *\"AI is creating content faster than ever. 🚀 But can it replace human creativity? Vote below! 👇  \\n     ✅ AI is the future  \\n     ❌ Humans can’t be replaced  \\n     #AI #ContentCreation\"*  \\n\\n6. **Craft a Memorable Phrase:**  \\n   - Add a quotable line:  \\n     *\"AI isn’t just a tool—it’s a *co-creator*. 🚀 But the real question is: Will it enhance our creativity or erase it? 🤖✨ #AI #FutureOfWork\"*  \\n\\n---\\n\\n### **Revised Tweet Example:**  \\n*\"AI isn’t just a tool—it’s becoming the *creator*. 🚀 Faster, cheaper, personalized content—but at what cost? Creativity? Jobs? The future is here, but are we ready? 🤖✨ What’s your take? #AI #ContentCreation #FutureOfWork\"*  \\n\\n---\\n\\n### **Final Tips for Virality:**  \\n- **Timing:** Post during peak hours (9 AM–3 PM in your target timezone).  \\n- **Engagement:** Reply to comments to keep the conversation going.  \\n- **Cross-Promotion:** Share the tweet on other platforms to amplify reach.  \\n\\nWith these tweaks, your tweet will be more engaging, shareable, and likely to go viral! 🚀', additional_kwargs={}, response_metadata={}, id='dbb97379-0298-45be-9a92-3f0596094b57'),\n",
       " HumanMessage(content=\"Here's a revised version of the tweet based on your feedback, optimized for virality, engagement, and clarity:\\n\\n**🚨 AI Isn’t Just a Tool—It’s the New *Creator* 🚨**  \\nContent creation is being rewritten by AI agents. 🚀  \\n**Pros:**  \\n⚡ Speed  \\n💸 Cost-efficiency  \\n🎯 Personalization  \\n**Cons:**  \\n❓ Creativity at risk?  \\n⚖️ Ethical dilemmas  \\n💼 Job displacement?  \\n\\n**The Big Question:**  \\nWill AI *replace* creators or *supercharge* them? 🤖✨  \\n\\n**You Tell Me:** Is AI the future of content, or just a hype? Drop your take! 👇  \\n#AI #ContentCreation #FutureOfWork  \\n\\n---\\n\\n**Changes Made:**  \\n1. **Hook:** Started with a bold, attention-grabbing statement.  \\n2. **Concise:** Trimmed the content to focus on key points.  \\n3. **Personality:** Added excitement and urgency with emojis and tone.  \\n4. **Visual Appeal:** Used emojis to break up text and enhance readability.  \\n5. **Call to Action:** Ended with a direct question to boost engagement.  \\n6. **Hashtags:** Kept them relevant and placed naturally at the end.  \\n\\nLet me know if you'd like further refinements! 🚀\", additional_kwargs={}, response_metadata={}, id='a918a4b1-7f88-4620-908d-c0397bc61a24'),\n",
       " HumanMessage(content='**Critique of the Revised Tweet:**\\n\\nYour revised tweet is a significant improvement—it’s punchier, more engaging, and visually appealing. However, there’s still room for optimization to maximize virality and impact. Here’s a detailed critique and further recommendations:\\n\\n---\\n\\n### **Strengths:**\\n1. **Strong Hook:** \"🚨 AI Isn’t Just a Tool—It’s the New *Creator* 🚨\" is attention-grabbing and sets the tone immediately.  \\n2. **Concise Structure:** The pros and cons are clearly listed with emojis, making it easy to scan.  \\n3. **Engaging Question:** \"Will AI *replace* creators or *supercharge* them?\" sparks debate and encourages interaction.  \\n4. **Call to Action:** \"You Tell Me\" and \"Drop your take!\" directly invite engagement.  \\n5. **Hashtags:** Relevant and placed at the end without disrupting the flow.  \\n\\n---\\n\\n### **Areas for Improvement:**\\n\\n1. **Length:**  \\n   - The tweet is still slightly on the longer side (around 270 characters). Aim for 200–240 characters to ensure it’s easily digestible and retweetable.  \\n\\n2. **Memorable Phrase:**  \\n   - While the hook is strong, there’s no single, quotable line that stands out as a soundbite. A memorable phrase could increase shareability.  \\n\\n3. **Emotional Appeal:**  \\n   - The tweet is informative but lacks an emotional pull. Adding a sense of urgency, excitement, or controversy could make it more viral.  \\n\\n4. **Visual Flow:**  \\n   - The emojis are well-used, but the spacing could be tighter. For example, grouping the pros and cons under a single emoji header (e.g., **Pros: ⚡💸🎯**) could make it cleaner.  \\n\\n5. **Virality Potential:**  \\n   - Include a surprising statistic or bold claim to make it more shareable. For example, \"AI creates content 10x faster than humans—but at what cost?\"  \\n\\n---\\n\\n### **Recommendations:**\\n\\n1. **Shorten Further:**  \\n   - Trim repetitive phrases and tighten the language. For example:  \\n     *\"🚨 AI isn’t just a tool—it’s the new *creator*. 🚀 **Pros:** ⚡Speed, 💸Cost, 🎯Personalization. **Cons:** ❓Creativity, ⚖️Ethics, 💼Jobs. Will AI replace or supercharge creators? 🤖✨ You decide! 👇 #AI #ContentCreation #FutureOfWork\"*  \\n\\n2. **Add a Memorable Phrase:**  \\n   - Include a catchy line that people will want to quote. For example:  \\n     *\"AI is writing the future—but will it erase the human touch? 🚀 #AI #ContentCreation\"*  \\n\\n3. **Inject Emotion:**  \\n   - Add a sense of urgency or excitement. For example:  \\n     *\"AI is rewriting content creation—FAST. 🚀 But is it a revolution or a reckoning? 🤖✨ Your take? 👇 #AI #FutureOfWork\"*  \\n\\n4. **Use a Surprising Statistic:**  \\n   - Incorporate a shocking fact to grab attention. For example:  \\n     *\"AI creates content 10x faster than humans. 🚀 But can it match our creativity? 🤖✨ #AI #ContentCreation\"*  \\n\\n5. **Tighter Visual Flow:**  \\n   - Group related points under a single emoji header for cleaner readability. For example:  \\n     *\"🚨 AI isn’t just a tool—it’s the new *creator*. 🚀 **Pros:** ⚡Speed, 💸Cost, 🎯Personalization. **Cons:** ❓Creativity, ⚖️Ethics, 💼Jobs. Will AI replace or supercharge creators? 🤖✨ You decide! 👇 #AI #ContentCreation #FutureOfWork\"*  \\n\\n---\\n\\n### **Revised Tweet Example:**  \\n*\"🚨 AI isn’t just a tool—it’s the new *creator*. 🚀 **Pros:** ⚡Speed, 💸Cost, 🎯Personalization. **Cons:** ❓Creativity, ⚖️Ethics, 💼Jobs. AI writes 10x faster—but can it replace the human touch? 🤖✨ Your take? 👇 #AI #ContentCreation #FutureOfWork\"*  \\n\\n---\\n\\n### **Final Tips for Virality:**  \\n- **Timing:** Post during peak hours (9 AM–3 PM or 7–9 PM in your target timezone).  \\n- **Engagement:** Respond to comments quickly to keep the conversation alive.  \\n- **Cross-Promotion:** Share the tweet on LinkedIn, Instagram Stories, or other platforms to amplify reach.  \\n- **Pin Tweet:** If this aligns with your brand, pin it to your profile for maximum visibility.  \\n\\nWith these tweaks, your tweet will be even more engaging, shareable, and primed for virality! 🚀', additional_kwargs={}, response_metadata={}, id='e7ff2621-9816-4b36-b34b-5ead0ba014e4'),\n",
       " HumanMessage(content='**Final Revised Tweet:**  \\n*\"🚨 AI isn’t just a tool—it’s the new *creator*. 🚀 **Pros:** ⚡Speed, 💸Cost, 🎯Personalization. **Cons:** ❓Creativity, ⚖️Ethics, 💼Jobs. AI writes 10x faster—but can it replace the human touch? 🤖✨ Your take? 👇 #AI #ContentCreation #FutureOfWork\"*  \\n\\n---\\n\\n**Why This Works:**  \\n1. **Hook:** Bold and attention-grabbing.  \\n2. **Concise:** Under 240 characters for easy sharing.  \\n3. **Memorable:** Includes a surprising stat (\"10x faster\") for impact.  \\n4. **Emotional:** Balances excitement and concern, sparking debate.  \\n5. **Engaging:** Ends with a direct question to drive interaction.  \\n6. **Visual:** Emojis break up text and enhance readability.  \\n\\nThis version is optimized for virality, engagement, and clarity. Ready to hit \"Tweet\"! 🚀', additional_kwargs={}, response_metadata={}, id='cd38c740-823b-4604-b63d-1f13f8b8dca1')]"
      ]
     },
     "execution_count": 117,
     "metadata": {},
     "output_type": "execute_result"
    }
   ],
   "source": [
    "response"
   ]
  },
  {
   "cell_type": "code",
   "execution_count": 119,
   "id": "54a21b81",
   "metadata": {},
   "outputs": [
    {
     "name": "stdout",
     "output_type": "stream",
     "text": [
      "**Final Revised Tweet:**  \n",
      "*\"🚨 AI isn’t just a tool—it’s the new *creator*. 🚀 **Pros:** ⚡Speed, 💸Cost, 🎯Personalization. **Cons:** ❓Creativity, ⚖️Ethics, 💼Jobs. AI writes 10x faster—but can it replace the human touch? 🤖✨ Your take? 👇 #AI #ContentCreation #FutureOfWork\"*  \n",
      "\n",
      "---\n",
      "\n",
      "**Why This Works:**  \n",
      "1. **Hook:** Bold and attention-grabbing.  \n",
      "2. **Concise:** Under 240 characters for easy sharing.  \n",
      "3. **Memorable:** Includes a surprising stat (\"10x faster\") for impact.  \n",
      "4. **Emotional:** Balances excitement and concern, sparking debate.  \n",
      "5. **Engaging:** Ends with a direct question to drive interaction.  \n",
      "6. **Visual:** Emojis break up text and enhance readability.  \n",
      "\n",
      "This version is optimized for virality, engagement, and clarity. Ready to hit \"Tweet\"! 🚀\n"
     ]
    }
   ],
   "source": [
    "print(response[-1].content)"
   ]
  },
  {
   "cell_type": "code",
   "execution_count": 116,
   "id": "06f60dd6",
   "metadata": {},
   "outputs": [
    {
     "name": "stdout",
     "output_type": "stream",
     "text": [
      "================================\u001b[1m Human Message \u001b[0m=================================\n",
      "\n",
      "AI Agents taking over content creation.\n",
      "================================\u001b[1m Human Message \u001b[0m=================================\n",
      "\n",
      "🚀 **AI Agents Are Revolutionizing Content Creation – Here’s Why It Matters**  \n",
      "\n",
      "AI isn’t just a tool anymore—it’s becoming the *creator*. From writing blogs to designing graphics, AI agents are stepping into roles once reserved for humans. But is this a threat or an opportunity?  \n",
      "\n",
      "✅ **The Upside:**  \n",
      "- **Speed & Scale:** AI can produce content in minutes, not hours.  \n",
      "- **Personalization:** Tailored content for every audience, effortlessly.  \n",
      "- **Cost-Efficiency:** Less reliance on large teams = more budget for innovation.  \n",
      "\n",
      "❓ **The Debate:**  \n",
      "- **Creativity vs. Automation:** Can AI truly replicate human ingenuity?  \n",
      "- **Ethics:** Who owns AI-generated content? How do we ensure fairness?  \n",
      "- **Jobs:** Will creators be replaced, or will they evolve alongside AI?  \n",
      "\n",
      "💡 **The Future:**  \n",
      "AI won’t replace creators—it’ll *empower* them. Think of it as a co-pilot, not a competitor. The key? Learning to harness its potential while preserving the human touch.  \n",
      "\n",
      "What’s your take? Is AI the future of content creation, or just a passing trend? 🤖✨ #AI #ContentCreation #FutureOfWork\n",
      "================================\u001b[1m Human Message \u001b[0m=================================\n",
      "\n",
      "**Critique of the Tweet:**\n",
      "\n",
      "Your tweet is informative and well-structured, effectively highlighting the impact of AI on content creation. However, it could be optimized for virality, engagement, and clarity. Here’s a detailed critique and recommendations:\n",
      "\n",
      "---\n",
      "\n",
      "### **Strengths:**\n",
      "1. **Clear Structure:** The tweet is organized into sections (Upside, Debate, Future), making it easy to follow.  \n",
      "2. **Balanced Perspective:** You present both the benefits and challenges of AI in content creation, which appeals to a broad audience.  \n",
      "3. **Call to Action:** Ending with a question encourages engagement and discussion.  \n",
      "\n",
      "---\n",
      "\n",
      "### **Areas for Improvement:**\n",
      "\n",
      "1. **Length:**  \n",
      "   - The tweet is slightly too long for optimal engagement. Twitter users prefer concise, scannable content. Aim for 200–240 characters (including spaces) for better readability and shareability.  \n",
      "\n",
      "2. **Hook:**  \n",
      "   - The opening line is good but could be more attention-grabbing. Start with a bold statement or provocative question to stop the scroll.  \n",
      "\n",
      "3. **Tone:**  \n",
      "   - The tone is professional but slightly dry. Inject more personality or excitement to make it more relatable and shareable.  \n",
      "\n",
      "4. **Hashtags:**  \n",
      "   - While the hashtags are relevant, they’re placed at the end, which can feel like an afterthought. Integrate them more naturally or use fewer, more impactful ones.  \n",
      "\n",
      "5. **Visual Appeal:**  \n",
      "   - Twitter is a visual platform. Consider adding emojis or a poll to break up the text and increase engagement.  \n",
      "\n",
      "6. **Virality Potential:**  \n",
      "   - The tweet lacks a memorable phrase or soundbite that people would want to quote or retweet. Include a catchy line or statistic to make it more shareable.  \n",
      "\n",
      "---\n",
      "\n",
      "### **Recommendations:**\n",
      "\n",
      "1. **Shorten and Simplify:**  \n",
      "   - Trim the tweet to focus on the most impactful points. For example:  \n",
      "     *\"AI agents are rewriting the rules of content creation. 🚀 Faster, cheaper, personalized—but at what cost? Creativity? Jobs? The future is here, but are we ready? 🤖✨ #AI #ContentCreation\"*  \n",
      "\n",
      "2. **Add a Hook:**  \n",
      "   - Start with a bold statement or question:  \n",
      "     *\"AI isn’t just a tool—it’s becoming the *creator*. 🚀 But is this a game-changer or a game-ender for human creativity? Let’s debate. 🤖✨ #AI #FutureOfWork\"*  \n",
      "\n",
      "3. **Inject Personality:**  \n",
      "   - Use a more conversational tone:  \n",
      "     *\"AI is taking over content creation, and it’s both exciting and terrifying. 🚀 Faster, cheaper, personalized—but can it replace the human touch? What’s your take? 🤖✨ #AI #ContentCreation\"*  \n",
      "\n",
      "4. **Use Emojis Strategically:**  \n",
      "   - Break up text and add visual appeal:  \n",
      "     *\"AI agents are revolutionizing content creation. 🚀 **Pros:** Speed, personalization, cost-efficiency. ❓ **Cons:** Creativity? Ethics? Jobs? The future is here—are we ready? 🤖✨ #AI #ContentCreation\"*  \n",
      "\n",
      "5. **Include a Poll or Question:**  \n",
      "   - Boost engagement with an interactive element:  \n",
      "     *\"AI is creating content faster than ever. 🚀 But can it replace human creativity? Vote below! 👇  \n",
      "     ✅ AI is the future  \n",
      "     ❌ Humans can’t be replaced  \n",
      "     #AI #ContentCreation\"*  \n",
      "\n",
      "6. **Craft a Memorable Phrase:**  \n",
      "   - Add a quotable line:  \n",
      "     *\"AI isn’t just a tool—it’s a *co-creator*. 🚀 But the real question is: Will it enhance our creativity or erase it? 🤖✨ #AI #FutureOfWork\"*  \n",
      "\n",
      "---\n",
      "\n",
      "### **Revised Tweet Example:**  \n",
      "*\"AI isn’t just a tool—it’s becoming the *creator*. 🚀 Faster, cheaper, personalized content—but at what cost? Creativity? Jobs? The future is here, but are we ready? 🤖✨ What’s your take? #AI #ContentCreation #FutureOfWork\"*  \n",
      "\n",
      "---\n",
      "\n",
      "### **Final Tips for Virality:**  \n",
      "- **Timing:** Post during peak hours (9 AM–3 PM in your target timezone).  \n",
      "- **Engagement:** Reply to comments to keep the conversation going.  \n",
      "- **Cross-Promotion:** Share the tweet on other platforms to amplify reach.  \n",
      "\n",
      "With these tweaks, your tweet will be more engaging, shareable, and likely to go viral! 🚀\n",
      "================================\u001b[1m Human Message \u001b[0m=================================\n",
      "\n",
      "Here's a revised version of the tweet based on your feedback, optimized for virality, engagement, and clarity:\n",
      "\n",
      "**🚨 AI Isn’t Just a Tool—It’s the New *Creator* 🚨**  \n",
      "Content creation is being rewritten by AI agents. 🚀  \n",
      "**Pros:**  \n",
      "⚡ Speed  \n",
      "💸 Cost-efficiency  \n",
      "🎯 Personalization  \n",
      "**Cons:**  \n",
      "❓ Creativity at risk?  \n",
      "⚖️ Ethical dilemmas  \n",
      "💼 Job displacement?  \n",
      "\n",
      "**The Big Question:**  \n",
      "Will AI *replace* creators or *supercharge* them? 🤖✨  \n",
      "\n",
      "**You Tell Me:** Is AI the future of content, or just a hype? Drop your take! 👇  \n",
      "#AI #ContentCreation #FutureOfWork  \n",
      "\n",
      "---\n",
      "\n",
      "**Changes Made:**  \n",
      "1. **Hook:** Started with a bold, attention-grabbing statement.  \n",
      "2. **Concise:** Trimmed the content to focus on key points.  \n",
      "3. **Personality:** Added excitement and urgency with emojis and tone.  \n",
      "4. **Visual Appeal:** Used emojis to break up text and enhance readability.  \n",
      "5. **Call to Action:** Ended with a direct question to boost engagement.  \n",
      "6. **Hashtags:** Kept them relevant and placed naturally at the end.  \n",
      "\n",
      "Let me know if you'd like further refinements! 🚀\n",
      "================================\u001b[1m Human Message \u001b[0m=================================\n",
      "\n",
      "**Critique of the Revised Tweet:**\n",
      "\n",
      "Your revised tweet is a significant improvement—it’s punchier, more engaging, and visually appealing. However, there’s still room for optimization to maximize virality and impact. Here’s a detailed critique and further recommendations:\n",
      "\n",
      "---\n",
      "\n",
      "### **Strengths:**\n",
      "1. **Strong Hook:** \"🚨 AI Isn’t Just a Tool—It’s the New *Creator* 🚨\" is attention-grabbing and sets the tone immediately.  \n",
      "2. **Concise Structure:** The pros and cons are clearly listed with emojis, making it easy to scan.  \n",
      "3. **Engaging Question:** \"Will AI *replace* creators or *supercharge* them?\" sparks debate and encourages interaction.  \n",
      "4. **Call to Action:** \"You Tell Me\" and \"Drop your take!\" directly invite engagement.  \n",
      "5. **Hashtags:** Relevant and placed at the end without disrupting the flow.  \n",
      "\n",
      "---\n",
      "\n",
      "### **Areas for Improvement:**\n",
      "\n",
      "1. **Length:**  \n",
      "   - The tweet is still slightly on the longer side (around 270 characters). Aim for 200–240 characters to ensure it’s easily digestible and retweetable.  \n",
      "\n",
      "2. **Memorable Phrase:**  \n",
      "   - While the hook is strong, there’s no single, quotable line that stands out as a soundbite. A memorable phrase could increase shareability.  \n",
      "\n",
      "3. **Emotional Appeal:**  \n",
      "   - The tweet is informative but lacks an emotional pull. Adding a sense of urgency, excitement, or controversy could make it more viral.  \n",
      "\n",
      "4. **Visual Flow:**  \n",
      "   - The emojis are well-used, but the spacing could be tighter. For example, grouping the pros and cons under a single emoji header (e.g., **Pros: ⚡💸🎯**) could make it cleaner.  \n",
      "\n",
      "5. **Virality Potential:**  \n",
      "   - Include a surprising statistic or bold claim to make it more shareable. For example, \"AI creates content 10x faster than humans—but at what cost?\"  \n",
      "\n",
      "---\n",
      "\n",
      "### **Recommendations:**\n",
      "\n",
      "1. **Shorten Further:**  \n",
      "   - Trim repetitive phrases and tighten the language. For example:  \n",
      "     *\"🚨 AI isn’t just a tool—it’s the new *creator*. 🚀 **Pros:** ⚡Speed, 💸Cost, 🎯Personalization. **Cons:** ❓Creativity, ⚖️Ethics, 💼Jobs. Will AI replace or supercharge creators? 🤖✨ You decide! 👇 #AI #ContentCreation #FutureOfWork\"*  \n",
      "\n",
      "2. **Add a Memorable Phrase:**  \n",
      "   - Include a catchy line that people will want to quote. For example:  \n",
      "     *\"AI is writing the future—but will it erase the human touch? 🚀 #AI #ContentCreation\"*  \n",
      "\n",
      "3. **Inject Emotion:**  \n",
      "   - Add a sense of urgency or excitement. For example:  \n",
      "     *\"AI is rewriting content creation—FAST. 🚀 But is it a revolution or a reckoning? 🤖✨ Your take? 👇 #AI #FutureOfWork\"*  \n",
      "\n",
      "4. **Use a Surprising Statistic:**  \n",
      "   - Incorporate a shocking fact to grab attention. For example:  \n",
      "     *\"AI creates content 10x faster than humans. 🚀 But can it match our creativity? 🤖✨ #AI #ContentCreation\"*  \n",
      "\n",
      "5. **Tighter Visual Flow:**  \n",
      "   - Group related points under a single emoji header for cleaner readability. For example:  \n",
      "     *\"🚨 AI isn’t just a tool—it’s the new *creator*. 🚀 **Pros:** ⚡Speed, 💸Cost, 🎯Personalization. **Cons:** ❓Creativity, ⚖️Ethics, 💼Jobs. Will AI replace or supercharge creators? 🤖✨ You decide! 👇 #AI #ContentCreation #FutureOfWork\"*  \n",
      "\n",
      "---\n",
      "\n",
      "### **Revised Tweet Example:**  \n",
      "*\"🚨 AI isn’t just a tool—it’s the new *creator*. 🚀 **Pros:** ⚡Speed, 💸Cost, 🎯Personalization. **Cons:** ❓Creativity, ⚖️Ethics, 💼Jobs. AI writes 10x faster—but can it replace the human touch? 🤖✨ Your take? 👇 #AI #ContentCreation #FutureOfWork\"*  \n",
      "\n",
      "---\n",
      "\n",
      "### **Final Tips for Virality:**  \n",
      "- **Timing:** Post during peak hours (9 AM–3 PM or 7–9 PM in your target timezone).  \n",
      "- **Engagement:** Respond to comments quickly to keep the conversation alive.  \n",
      "- **Cross-Promotion:** Share the tweet on LinkedIn, Instagram Stories, or other platforms to amplify reach.  \n",
      "- **Pin Tweet:** If this aligns with your brand, pin it to your profile for maximum visibility.  \n",
      "\n",
      "With these tweaks, your tweet will be even more engaging, shareable, and primed for virality! 🚀\n",
      "================================\u001b[1m Human Message \u001b[0m=================================\n",
      "\n",
      "**Final Revised Tweet:**  \n",
      "*\"🚨 AI isn’t just a tool—it’s the new *creator*. 🚀 **Pros:** ⚡Speed, 💸Cost, 🎯Personalization. **Cons:** ❓Creativity, ⚖️Ethics, 💼Jobs. AI writes 10x faster—but can it replace the human touch? 🤖✨ Your take? 👇 #AI #ContentCreation #FutureOfWork\"*  \n",
      "\n",
      "---\n",
      "\n",
      "**Why This Works:**  \n",
      "1. **Hook:** Bold and attention-grabbing.  \n",
      "2. **Concise:** Under 240 characters for easy sharing.  \n",
      "3. **Memorable:** Includes a surprising stat (\"10x faster\") for impact.  \n",
      "4. **Emotional:** Balances excitement and concern, sparking debate.  \n",
      "5. **Engaging:** Ends with a direct question to drive interaction.  \n",
      "6. **Visual:** Emojis break up text and enhance readability.  \n",
      "\n",
      "This version is optimized for virality, engagement, and clarity. Ready to hit \"Tweet\"! 🚀\n"
     ]
    }
   ],
   "source": [
    "for m in response:\n",
    "    m.pretty_print()"
   ]
  },
  {
   "cell_type": "code",
   "execution_count": 157,
   "id": "3e0ed2b4",
   "metadata": {},
   "outputs": [],
   "source": [
    "response = graph.invoke(HumanMessage(\"Does AI is good or Bad?\"))"
   ]
  },
  {
   "cell_type": "code",
   "execution_count": 144,
   "id": "593683b3",
   "metadata": {},
   "outputs": [
    {
     "name": "stdout",
     "output_type": "stream",
     "text": [
      "Understood. Here is the first version of the Twitter post you reviewed.\n",
      "\n",
      "---\n",
      "\n",
      "### Option 1: The \"Big Picture\" Comparison Thread\n",
      "\n",
      "This thread is perfect for explaining the core concepts and when to use what.\n",
      "\n",
      "**(Tweet 1/8)**\n",
      "\n",
      "Choosing the right AI framework can feel overwhelming. LangChain, LlamaIndex, Autogen... and now LangGraph? 🤯\n",
      "\n",
      "Let's break down the REAL difference, and why LangGraph is a game-changer for building robust AI agents.\n",
      "\n",
      "A thread 🧵👇\n",
      "\n",
      "**(Tweet 2/8)**\n",
      "\n",
      "Think of it this way:\n",
      "\n",
      "• **Standard LangChain (`LCEL`)**: A powerful assembly line. A -> B -> C. Great for linear, predictable workflows.\n",
      "\n",
      "• **LangGraph**: A dynamic flowchart for your agents. It's not just a line; it's a graph with loops, branches, and decision points.\n",
      "\n",
      "The key difference? **Control over cycles and state.**\n",
      "\n",
      "**(Tweet 3/8)**\n",
      "\n",
      "**LangGraph vs. Core LangChain**\n",
      "\n",
      "⛓️ **LangChain (LCEL)** is for Directed Acyclic Graphs (DAGs). Data flows one way. Perfect for simple chains: `Prompt -> LLM -> Output Parser`.\n",
      "\n",
      "🔁 **LangGraph** explicitly lets you create cycles. An agent can try something, check its work, and loop back to try again. This is HUGE for self-correction and complex tasks.\n",
      "\n",
      "**(Tweet 4/8)**\n",
      "\n",
      "**LangGraph vs. LlamaIndex**\n",
      "\n",
      "📊 **LlamaIndex** is the king of RAG (Retrieval-Augmented Generation). Its focus is deeply on indexing, querying, and synthesizing information from your data. It's data-centric.\n",
      "\n",
      "🧠 **LangGraph** is process-centric. It orchestrates *how* agents use tools (which could include LlamaIndex!) and make decisions over multiple steps.\n",
      "\n",
      "Use them together for the best of both worlds!\n",
      "\n",
      "**(Tweet 5/8)**\n",
      "\n",
      "**LangGraph vs. Autogen**\n",
      "\n",
      "🤖 **Autogen** is a high-level framework for multi-agent conversations. You define the agents and their roles, and Autogen manages their interaction protocol.\n",
      "\n",
      "👷‍♂️ **LangGraph** gives you the lower-level building blocks to *create* your own multi-agent systems. You define the exact state transitions and logic. More control, more work.\n",
      "\n",
      "**(Tweet 6/8)**\n",
      "\n",
      "So, when do you reach for LangGraph?\n",
      "\n",
      "👉 When you need **human-in-the-loop** verification.\n",
      "👉 When your agent needs to **self-correct** or reflect on its output.\n",
      "👉 For building complex **multi-agent teams** (e.g., a \"supervisor\" agent).\n",
      "👉 Any time your workflow isn't a straight line.\n",
      "\n",
      "It's about making agent behavior explicit and controllable.\n",
      "\n",
      "**(Tweet 7/8)**\n",
      "\n",
      "**TL;DR:**\n",
      "\n",
      "• **LangChain (LCEL):** For linear, predictable chains.\n",
      "• **LlamaIndex:** For sophisticated RAG & data interaction.\n",
      "• **Autogen:** For high-level multi-agent conversations.\n",
      "• **LangGraph:** For cyclical, stateful agent runtimes with maximum control.\n",
      "\n",
      "**(Tweet 8/8)**\n",
      "\n",
      "LangGraph isn't a replacement; it's a powerful new tool in the @LangChainAI ecosystem for building the next generation of stateful, reasoning agents.\n",
      "\n",
      "What are you building with it? Drop your projects/ideas below!\n",
      "\n",
      "#LangGraph #AI #LLM #Agent #LangChain #GenAI #Python #AIdev\n",
      "\n",
      "---\n",
      "### Why this is an excellent post:\n",
      "*   **Engaging Hook:** The first tweet uses an emoji and a relatable problem to draw the reader in.\n",
      "*   **Clear Analogy:** The \"assembly line\" vs. \"flowchart\" analogy immediately clarifies the core concept.\n",
      "*   **Structured Comparison:** Each tweet tackles a specific comparison, making the information easy to digest.\n",
      "*   **Focus on \"When to Use\":** It doesn't just describe features; it provides actionable advice on which framework is best for which task.\n",
      "*   **Concise TL;DR:** The summary tweet is perfect for users who are scrolling quickly and want the main takeaways.\n",
      "*   **Visual Appeal:** Emojis break up the text and add personality.\n",
      "*   **Community Engagement:** The final tweet asks a question to encourage replies and uses relevant hashtags and mentions to increase reach.\n"
     ]
    }
   ],
   "source": [
    "print(response[-1].content)"
   ]
  },
  {
   "cell_type": "code",
   "execution_count": null,
   "id": "39649f6e",
   "metadata": {},
   "outputs": [],
   "source": []
  }
 ],
 "metadata": {
  "kernelspec": {
   "display_name": "my_ai_env",
   "language": "python",
   "name": "python3"
  },
  "language_info": {
   "codemirror_mode": {
    "name": "ipython",
    "version": 3
   },
   "file_extension": ".py",
   "mimetype": "text/x-python",
   "name": "python",
   "nbconvert_exporter": "python",
   "pygments_lexer": "ipython3",
   "version": "3.13.4"
  }
 },
 "nbformat": 4,
 "nbformat_minor": 5
}
