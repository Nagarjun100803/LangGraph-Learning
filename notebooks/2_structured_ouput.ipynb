{
 "cells": [
  {
   "cell_type": "code",
   "execution_count": 1,
   "id": "b61be790",
   "metadata": {},
   "outputs": [
    {
     "name": "stdout",
     "output_type": "stream",
     "text": [
      "Shivaya Namah\n"
     ]
    }
   ],
   "source": [
    "print(\"Shivaya Namah\")"
   ]
  },
  {
   "cell_type": "code",
   "execution_count": 7,
   "id": "4dab7334",
   "metadata": {},
   "outputs": [
    {
     "data": {
      "text/plain": [
       "'Hi'"
      ]
     },
     "execution_count": 7,
     "metadata": {},
     "output_type": "execute_result"
    }
   ],
   "source": [
    "name: str = \"Hi\"\n",
    "name\n"
   ]
  },
  {
   "cell_type": "code",
   "execution_count": 24,
   "id": "0674de36",
   "metadata": {},
   "outputs": [
    {
     "name": "stdout",
     "output_type": "stream",
     "text": [
      "API Keys loaded succesfully.\n"
     ]
    }
   ],
   "source": [
    "from langchain_cohere.chat_models import ChatCohere\n",
    "from pydantic_settings import BaseSettings\n",
    "from langchain_google_genai.chat_models import ChatGoogleGenerativeAI\n",
    "from pydantic import BaseModel, Field\n",
    "from langchain_ibm.chat_models import ChatWatsonx\n",
    "\n",
    "\n",
    "class Settings(BaseSettings): \n",
    "\n",
    "    pinecone_api_key: str \n",
    "    watsonx_apikey: str  \n",
    "    watsonx_url: str\n",
    "    watsonx_project_id: str\n",
    "    cohere_api_key: str \n",
    "    tavily_api_key: str\n",
    "    google_api_key: str\n",
    "\n",
    "    langsmith_api_key: str\n",
    "    langsmith_endpoint: str\n",
    "    langsmith_tracing: bool\n",
    "    langsmith_project: str\n",
    "\n",
    "    class Config:\n",
    "        env_file = \".env\"\n",
    "        extra = \"ignore\"\n",
    "\n",
    "settings = Settings()\n",
    "print(\"API Keys loaded succesfully.\")"
   ]
  },
  {
   "cell_type": "code",
   "execution_count": 25,
   "id": "00a17e31",
   "metadata": {},
   "outputs": [],
   "source": [
    "class Country(BaseModel):\n",
    "\n",
    "    \"Represents the Country\"\n",
    "    \n",
    "    name: str = Field(description = \"Name of the country.\")\n",
    "    language: str = Field(description = \"National Language of the country.\")\n",
    "    capital: str = Field(description = \"Captital city of the country.\")\n"
   ]
  },
  {
   "cell_type": "code",
   "execution_count": 30,
   "id": "edb9cc82",
   "metadata": {},
   "outputs": [
    {
     "data": {
      "text/plain": [
       "ChatGoogleGenerativeAI(model='models/gemini-2.5-pro', google_api_key=SecretStr('**********'), temperature=0.0, client=<google.ai.generativelanguage_v1beta.services.generative_service.client.GenerativeServiceClient object at 0x000001FA0DC817F0>, default_metadata=(), model_kwargs={})"
      ]
     },
     "execution_count": 30,
     "metadata": {},
     "output_type": "execute_result"
    }
   ],
   "source": [
    "llm = ChatGoogleGenerativeAI(model=\"gemini-2.5-pro\", api_key = settings.google_api_key, temperature = 0)\n",
    "llm"
   ]
  },
  {
   "cell_type": "code",
   "execution_count": 27,
   "id": "a3b4ec16",
   "metadata": {},
   "outputs": [
    {
     "data": {
      "text/plain": [
       "ChatWatsonx(model_id='ibm/granite-3-3-8b-instruct', project_id='25fa768b-a90b-433c-b4a4-66bb407af16b', url=SecretStr('**********'), apikey=SecretStr('**********'), params={'temperature': 0.7}, temperature=0.7, watsonx_model=<ibm_watsonx_ai.foundation_models.inference.model_inference.ModelInference object at 0x000001FA0C1ADA70>)"
      ]
     },
     "execution_count": 27,
     "metadata": {},
     "output_type": "execute_result"
    }
   ],
   "source": [
    "llm = ChatWatsonx(\n",
    "    apikey = settings.watsonx_apikey,\n",
    "    project_id = settings.watsonx_project_id,\n",
    "    url = settings.watsonx_url,\n",
    "    temperature = 0.7,\n",
    "    model_id = \"ibm/granite-3-3-8b-instruct\"\n",
    ")\n",
    "llm"
   ]
  },
  {
   "cell_type": "code",
   "execution_count": 31,
   "id": "ef233528",
   "metadata": {},
   "outputs": [
    {
     "data": {
      "text/plain": [
       "RunnableBinding(bound=ChatGoogleGenerativeAI(model='models/gemini-2.5-pro', google_api_key=SecretStr('**********'), temperature=0.0, client=<google.ai.generativelanguage_v1beta.services.generative_service.client.GenerativeServiceClient object at 0x000001FA0DC817F0>, default_metadata=(), model_kwargs={}), kwargs={'tools': [{'type': 'function', 'function': {'name': 'Country', 'description': 'Represents the Country', 'parameters': {'properties': {'name': {'description': 'Name of the country.', 'type': 'string'}, 'language': {'description': 'National Language of the country.', 'type': 'string'}, 'capital': {'description': 'Captital city of the country.', 'type': 'string'}}, 'required': ['name', 'language', 'capital'], 'type': 'object'}}}], 'ls_structured_output_format': {'kwargs': {'method': 'function_calling'}, 'schema': {'type': 'function', 'function': {'name': 'Country', 'description': 'Represents the Country', 'parameters': {'properties': {'name': {'description': 'Name of the country.', 'type': 'string'}, 'language': {'description': 'National Language of the country.', 'type': 'string'}, 'capital': {'description': 'Captital city of the country.', 'type': 'string'}}, 'required': ['name', 'language', 'capital'], 'type': 'object'}}}}, 'tool_choice': 'Country'}, config={}, config_factories=[])\n",
       "| PydanticToolsParser(first_tool_only=True, tools=[<class '__main__.Country'>])"
      ]
     },
     "execution_count": 31,
     "metadata": {},
     "output_type": "execute_result"
    }
   ],
   "source": [
    "structured_llm = llm.with_structured_output(schema = Country)\n",
    "structured_llm"
   ]
  },
  {
   "cell_type": "code",
   "execution_count": 32,
   "id": "156a84fe",
   "metadata": {},
   "outputs": [],
   "source": [
    "response = structured_llm.invoke(\"Tell me about India\")"
   ]
  },
  {
   "cell_type": "code",
   "execution_count": null,
   "id": "1f199200",
   "metadata": {},
   "outputs": [
    {
     "data": {
      "text/plain": [
       "Country(name='India', language='Hindi', capital='New Delhi')"
      ]
     },
     "execution_count": 33,
     "metadata": {},
     "output_type": "execute_result"
    }
   ],
   "source": [
    "response"
   ]
  },
  {
   "cell_type": "code",
   "execution_count": null,
   "id": "9a5b625b",
   "metadata": {},
   "outputs": [
    {
     "data": {
      "text/plain": [
       "Country(name='France', language='French', capital='Paris')"
      ]
     },
     "execution_count": 9,
     "metadata": {},
     "output_type": "execute_result"
    }
   ],
   "source": [
    "structured_llm.invoke(\"Tell me about France\")"
   ]
  },
  {
   "cell_type": "markdown",
   "id": "1af34ff6",
   "metadata": {},
   "source": [
    "- The above perform Validation after llm generates the output. \n",
    "- If you don't want that validation we simply go with TypedDict, dict something"
   ]
  },
  {
   "cell_type": "code",
   "execution_count": 10,
   "id": "72cb7fe9",
   "metadata": {},
   "outputs": [],
   "source": [
    "from typing_extensions import TypedDict, Annotated\n",
    "\n",
    "class Country2(TypedDict):\n",
    "\n",
    "    name: Annotated[str, ..., \"Name of the country\"]\n",
    "    language: Annotated[str, ...,  \"Language of the country\"]\n",
    "    capital: Annotated[str, ...,  \"Capital City of the country\"]\n"
   ]
  },
  {
   "cell_type": "code",
   "execution_count": 11,
   "id": "94bb2b28",
   "metadata": {},
   "outputs": [
    {
     "data": {
      "text/plain": [
       "RunnableBinding(bound=ChatWatsonx(model_id='ibm/granite-3-3-8b-instruct', project_id='25fa768b-a90b-433c-b4a4-66bb407af16b', url=SecretStr('**********'), apikey=SecretStr('**********'), params={'temperature': 0.7}, temperature=0.7, watsonx_model=<ibm_watsonx_ai.foundation_models.inference.model_inference.ModelInference object at 0x000001FA0C15E0D0>), kwargs={'tools': [{'type': 'function', 'function': {'name': 'Country2', 'description': \"dict() -> new empty dictionary\\ndict(mapping) -> new dictionary initialized from a mapping object's\\n    (key, value) pairs\\ndict(iterable) -> new dictionary initialized as if via:\\n    d = {}\\n    for k, v in iterable:\\n        d[k] = v\\ndict(**kwargs) -> new dictionary initialized with the name=value pairs\\n    in the keyword argument list.  For example:  dict(one=1, two=2)\", 'parameters': {'type': 'object', 'properties': {'name': {'description': 'Name of the country', 'type': 'string'}, 'language': {'description': 'Language of the country', 'type': 'string'}, 'capital': {'description': 'Capital City of the country', 'type': 'string'}}, 'required': ['name', 'language', 'capital']}}}], 'tool_choice': {'type': 'function', 'function': {'name': 'Country2'}}}, config={}, config_factories=[])\n",
       "| JsonOutputKeyToolsParser(first_tool_only=True, key_name='Country2')"
      ]
     },
     "execution_count": 11,
     "metadata": {},
     "output_type": "execute_result"
    }
   ],
   "source": [
    "structured_llm = llm.with_structured_output(Country2)\n",
    "structured_llm"
   ]
  },
  {
   "cell_type": "code",
   "execution_count": 12,
   "id": "9c60070f",
   "metadata": {},
   "outputs": [
    {
     "data": {
      "text/plain": [
       "{'capital': 'Paris', 'language': 'French', 'name': 'France'}"
      ]
     },
     "execution_count": 12,
     "metadata": {},
     "output_type": "execute_result"
    }
   ],
   "source": [
    "structured_llm.invoke(\"Tell me about France\")"
   ]
  },
  {
   "cell_type": "code",
   "execution_count": 14,
   "id": "a5bc55bd",
   "metadata": {},
   "outputs": [
    {
     "data": {
      "text/plain": [
       "{'capital': 'Beijing', 'language': 'Mandarin', 'name': 'China'}"
      ]
     },
     "execution_count": 14,
     "metadata": {},
     "output_type": "execute_result"
    }
   ],
   "source": [
    "structured_llm.invoke(\"Tell me about China\")"
   ]
  },
  {
   "cell_type": "code",
   "execution_count": 15,
   "id": "02822d5a",
   "metadata": {},
   "outputs": [
    {
     "data": {
      "text/plain": [
       "{'capital': 'New Delhi', 'language': 'Hindi', 'name': 'India'}"
      ]
     },
     "execution_count": 15,
     "metadata": {},
     "output_type": "execute_result"
    }
   ],
   "source": [
    "structured_llm.invoke(\"Tell me about India\")"
   ]
  },
  {
   "cell_type": "markdown",
   "id": "83780f35",
   "metadata": {},
   "source": [
    "#### This is the problem, sometimes llm wont  return the actual output thats why we use, Pydantic"
   ]
  },
  {
   "cell_type": "code",
   "execution_count": null,
   "id": "19d7f6cd",
   "metadata": {},
   "outputs": [],
   "source": []
  }
 ],
 "metadata": {
  "kernelspec": {
   "display_name": "my_ai_env",
   "language": "python",
   "name": "python3"
  },
  "language_info": {
   "codemirror_mode": {
    "name": "ipython",
    "version": 3
   },
   "file_extension": ".py",
   "mimetype": "text/x-python",
   "name": "python",
   "nbconvert_exporter": "python",
   "pygments_lexer": "ipython3",
   "version": "3.13.4"
  }
 },
 "nbformat": 4,
 "nbformat_minor": 5
}
